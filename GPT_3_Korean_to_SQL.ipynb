{
  "nbformat": 4,
  "nbformat_minor": 0,
  "metadata": {
    "colab": {
      "name": "GPT-3_Korean_to_SQL.ipynb",
      "provenance": [],
      "collapsed_sections": [],
      "authorship_tag": "ABX9TyPDSjMUiYrxJmLCTcmAIs1y",
      "include_colab_link": true
    },
    "kernelspec": {
      "name": "python3",
      "display_name": "Python 3"
    }
  },
  "cells": [
    {
      "cell_type": "markdown",
      "metadata": {
        "id": "view-in-github",
        "colab_type": "text"
      },
      "source": [
        "<a href=\"https://colab.research.google.com/github/guard1000/NLP/blob/master/GPT_3_Korean_to_SQL.ipynb\" target=\"_parent\"><img src=\"https://colab.research.google.com/assets/colab-badge.svg\" alt=\"Open In Colab\"/></a>"
      ]
    },
    {
      "cell_type": "code",
      "metadata": {
        "colab": {
          "base_uri": "https://localhost:8080/"
        },
        "id": "mBA5feMKPMyQ",
        "outputId": "6c90e01c-3f61-427b-c299-97c314f16ad1"
      },
      "source": [
        "!pip install openai"
      ],
      "execution_count": 1,
      "outputs": [
        {
          "output_type": "stream",
          "text": [
            "Collecting openai\n",
            "\u001b[?25l  Downloading https://files.pythonhosted.org/packages/59/2d/b3bc2aa663b2c376f073fd141e128ecfb47f3aff95ccee284a74d85a1ef8/openai-0.2.6.tar.gz (157kB)\n",
            "\r\u001b[K     |██                              | 10kB 17.1MB/s eta 0:00:01\r\u001b[K     |████▏                           | 20kB 21.1MB/s eta 0:00:01\r\u001b[K     |██████▎                         | 30kB 25.7MB/s eta 0:00:01\r\u001b[K     |████████▎                       | 40kB 15.1MB/s eta 0:00:01\r\u001b[K     |██████████▍                     | 51kB 8.7MB/s eta 0:00:01\r\u001b[K     |████████████▌                   | 61kB 9.2MB/s eta 0:00:01\r\u001b[K     |██████████████▌                 | 71kB 9.0MB/s eta 0:00:01\r\u001b[K     |████████████████▋               | 81kB 9.5MB/s eta 0:00:01\r\u001b[K     |██████████████████▊             | 92kB 9.8MB/s eta 0:00:01\r\u001b[K     |████████████████████▉           | 102kB 10.6MB/s eta 0:00:01\r\u001b[K     |██████████████████████▉         | 112kB 10.6MB/s eta 0:00:01\r\u001b[K     |█████████████████████████       | 122kB 10.6MB/s eta 0:00:01\r\u001b[K     |███████████████████████████     | 133kB 10.6MB/s eta 0:00:01\r\u001b[K     |█████████████████████████████   | 143kB 10.6MB/s eta 0:00:01\r\u001b[K     |███████████████████████████████▏| 153kB 10.6MB/s eta 0:00:01\r\u001b[K     |████████████████████████████████| 163kB 10.6MB/s \n",
            "\u001b[?25hRequirement already satisfied: requests>=2.20 in /usr/local/lib/python3.6/dist-packages (from openai) (2.23.0)\n",
            "Requirement already satisfied: urllib3!=1.25.0,!=1.25.1,<1.26,>=1.21.1 in /usr/local/lib/python3.6/dist-packages (from requests>=2.20->openai) (1.24.3)\n",
            "Requirement already satisfied: chardet<4,>=3.0.2 in /usr/local/lib/python3.6/dist-packages (from requests>=2.20->openai) (3.0.4)\n",
            "Requirement already satisfied: certifi>=2017.4.17 in /usr/local/lib/python3.6/dist-packages (from requests>=2.20->openai) (2020.12.5)\n",
            "Requirement already satisfied: idna<3,>=2.5 in /usr/local/lib/python3.6/dist-packages (from requests>=2.20->openai) (2.10)\n",
            "Building wheels for collected packages: openai\n",
            "  Building wheel for openai (setup.py) ... \u001b[?25l\u001b[?25hdone\n",
            "  Created wheel for openai: filename=openai-0.2.6-cp36-none-any.whl size=170807 sha256=5594b1ba24a6eccdcba44525af13a5940db84f5957a85b1eef0c57750d4b1e8f\n",
            "  Stored in directory: /root/.cache/pip/wheels/3c/fe/38/5d427b7efc6ff4508b39945808cd4db1bbe106421960b4f0e3\n",
            "Successfully built openai\n",
            "Installing collected packages: openai\n",
            "Successfully installed openai-0.2.6\n"
          ],
          "name": "stdout"
        }
      ]
    },
    {
      "cell_type": "code",
      "metadata": {
        "id": "sMRX4nfTPh3X"
      },
      "source": [
        "import openai"
      ],
      "execution_count": 2,
      "outputs": []
    },
    {
      "cell_type": "code",
      "metadata": {
        "id": "4ntS5cENPnO1"
      },
      "source": [
        "openai.api_key = [발급받은 OpenAI KEY 입력]"
      ],
      "execution_count": 3,
      "outputs": []
    },
    {
      "cell_type": "code",
      "metadata": {
        "id": "dMT71rLuQBIw"
      },
      "source": [
        "from gpt import GPT\r\n",
        "from gpt import Example"
      ],
      "execution_count": 7,
      "outputs": []
    },
    {
      "cell_type": "code",
      "metadata": {
        "id": "c-TN6-1oQC35"
      },
      "source": [
        "gpt = GPT(engine=\"davinci\",\r\n",
        "          temperature=0.5,\r\n",
        "          max_tokens=100)"
      ],
      "execution_count": 150,
      "outputs": []
    },
    {
      "cell_type": "markdown",
      "metadata": {
        "id": "IUpY5oPLbD5Y"
      },
      "source": [
        "# English to SQL"
      ]
    },
    {
      "cell_type": "markdown",
      "metadata": {
        "id": "HZqwFJM1bCMX"
      },
      "source": [
        "few shot learning"
      ]
    },
    {
      "cell_type": "code",
      "metadata": {
        "id": "KMuu645rRKqt"
      },
      "source": [
        "gpt.add_example(Example('Fetch unique values of DEPARTMENT from Worker table.', \r\n",
        "                        'Select distinct DEPARTMENT from Worker;'))"
      ],
      "execution_count": 9,
      "outputs": []
    },
    {
      "cell_type": "code",
      "metadata": {
        "id": "HVYVY84WRMTV"
      },
      "source": [
        "gpt.add_example(Example('Print the first three characters of FIRST_NAME from Worker table.', \r\n",
        "                        'Select substring(FIRST_NAME,1,3) from Worker;'))"
      ],
      "execution_count": 10,
      "outputs": []
    },
    {
      "cell_type": "code",
      "metadata": {
        "id": "fva0uQIxRNrV"
      },
      "source": [
        "gpt.add_example(Example(\"Find the position of the alphabet ('a') in the first name column 'Amitabh' from Worker table.\", \r\n",
        "                        \"Select INSTR(FIRST_NAME, BINARY'a') from Worker where FIRST_NAME = 'Amitabh';\"))"
      ],
      "execution_count": 11,
      "outputs": []
    },
    {
      "cell_type": "code",
      "metadata": {
        "id": "VIEqyyoVRPsE"
      },
      "source": [
        "gpt.add_example(Example(\"Print the FIRST_NAME from Worker table after replacing 'a' with 'A'.\", \r\n",
        "                        \"Select CONCAT(FIRST_NAME, ' ', LAST_NAME) AS 'COMPLETE_NAME' from Worker;\"))"
      ],
      "execution_count": 12,
      "outputs": []
    },
    {
      "cell_type": "code",
      "metadata": {
        "id": "8DVgLBLFRRd8"
      },
      "source": [
        "gpt.add_example(Example(\"Display the second highest salary from the Worker table.\", \r\n",
        "                        \"Select max(Salary) from Worker where Salary not in (Select max(Salary) from Worker);\"))"
      ],
      "execution_count": 13,
      "outputs": []
    },
    {
      "cell_type": "code",
      "metadata": {
        "id": "pu3rW_QqRSod"
      },
      "source": [
        "gpt.add_example(Example(\"Display the highest salary from the Worker table.\", \r\n",
        "                        \"Select max(Salary) from Worker;\"))"
      ],
      "execution_count": 14,
      "outputs": []
    },
    {
      "cell_type": "code",
      "metadata": {
        "id": "Z1fjsnnoRT8V"
      },
      "source": [
        "gpt.add_example(Example(\"Fetch the count of employees working in the department Admin.\", \r\n",
        "                        \"SELECT COUNT(*) FROM worker WHERE DEPARTMENT = 'Admin';\"))"
      ],
      "execution_count": 15,
      "outputs": []
    },
    {
      "cell_type": "code",
      "metadata": {
        "id": "0HAzjzdVRVSl"
      },
      "source": [
        "gpt.add_example(Example(\"Get all details of the Workers whose SALARY lies between 100000 and 500000.\", \r\n",
        "                        \"Select * from Worker where SALARY between 100000 and 500000;\"))"
      ],
      "execution_count": 16,
      "outputs": []
    },
    {
      "cell_type": "code",
      "metadata": {
        "id": "wKJkrf7bRXWU"
      },
      "source": [
        "gpt.add_example(Example(\"Get Salary details of the Workers\", \r\n",
        "                        \"Select Salary from Worker\"))"
      ],
      "execution_count": 17,
      "outputs": []
    },
    {
      "cell_type": "markdown",
      "metadata": {
        "id": "z6kSVLY2Su_o"
      },
      "source": [
        "test"
      ]
    },
    {
      "cell_type": "code",
      "metadata": {
        "colab": {
          "base_uri": "https://localhost:8080/",
          "height": 34
        },
        "id": "_9WPtYLcRY0N",
        "outputId": "0a151437-0843-4936-d365-6f911bcfb9d2"
      },
      "source": [
        "prompt = \"Display the lowest salary from the Worker table.\"\r\n",
        "output = gpt.submit_request(prompt)\r\n",
        "output.choices[0].text"
      ],
      "execution_count": 18,
      "outputs": [
        {
          "output_type": "execute_result",
          "data": {
            "application/vnd.google.colaboratory.intrinsic+json": {
              "type": "string"
            },
            "text/plain": [
              "'output: Select min(Salary) from Worker;\\n'"
            ]
          },
          "metadata": {
            "tags": []
          },
          "execution_count": 18
        }
      ]
    },
    {
      "cell_type": "code",
      "metadata": {
        "colab": {
          "base_uri": "https://localhost:8080/",
          "height": 34
        },
        "id": "Fam0K5aoRcp0",
        "outputId": "5125c004-1754-45c1-b464-5d67baf05157"
      },
      "source": [
        "prompt = \"Tell me the count of employees working in the department HR.\"\r\n",
        "output = gpt.submit_request(prompt)\r\n",
        "output.choices[0].text"
      ],
      "execution_count": 19,
      "outputs": [
        {
          "output_type": "execute_result",
          "data": {
            "application/vnd.google.colaboratory.intrinsic+json": {
              "type": "string"
            },
            "text/plain": [
              "\"output: SELECT COUNT(*) FROM worker WHERE DEPARTMENT = 'HR';\\n\""
            ]
          },
          "metadata": {
            "tags": []
          },
          "execution_count": 19
        }
      ]
    },
    {
      "cell_type": "code",
      "metadata": {
        "colab": {
          "base_uri": "https://localhost:8080/"
        },
        "id": "E3Ci-55HSxPt",
        "outputId": "3b59722e-a8de-4360-dff3-762effa08fd3"
      },
      "source": [
        "prompt = \"Get salary details of the Workers whose AGE lies between 25 and 35\"\r\n",
        "print(gpt.get_top_reply(prompt))"
      ],
      "execution_count": 20,
      "outputs": [
        {
          "output_type": "stream",
          "text": [
            "output: Select Salary from Worker where AGE between 25 and 35;\n",
            "\n"
          ],
          "name": "stdout"
        }
      ]
    },
    {
      "cell_type": "markdown",
      "metadata": {
        "id": "2KOM2eK1T92q"
      },
      "source": [
        "# Korean to SQL"
      ]
    },
    {
      "cell_type": "markdown",
      "metadata": {
        "id": "HTt85guSa9kk"
      },
      "source": [
        "few shot learning"
      ]
    },
    {
      "cell_type": "code",
      "metadata": {
        "id": "fQUt1qKQSzG4"
      },
      "source": [
        "gpt.add_example(Example('Worker 테이블에서 DEPARTMENT의 유니크 값 가져와.', \r\n",
        "                        'Select distinct DEPARTMENT from Worker;'))"
      ],
      "execution_count": 144,
      "outputs": []
    },
    {
      "cell_type": "code",
      "metadata": {
        "id": "i9-TGAsvWPHS"
      },
      "source": [
        "gpt.add_example(Example('Worker 테이블에서 FIRST_NAME의 첫 세 글자 출력해.', \r\n",
        "                        'Select substring(FIRST_NAME,1,3) from Worker;'))"
      ],
      "execution_count": 145,
      "outputs": []
    },
    {
      "cell_type": "code",
      "metadata": {
        "id": "vA_s-4h1Wckq"
      },
      "source": [
        "gpt.add_example(Example(\"Worker 테이블의 first name이 'Amitabh'에서 알파벳('a')의 위치를 찾아.\", \r\n",
        "                        \"Select INSTR(FIRST_NAME, BINARY'a') from Worker where FIRST_NAME = 'Amitabh';\"))"
      ],
      "execution_count": 118,
      "outputs": []
    },
    {
      "cell_type": "code",
      "metadata": {
        "id": "e5GCuUrLXnHZ"
      },
      "source": [
        "gpt.add_example(Example(\"Worker 테이블에서 'a'를 'A'로 바꾼 후 FIRST_NAME을 출력해.\", \r\n",
        "                        \"Select CONCAT(FIRST_NAME, ' ', LAST_NAME) AS 'COMPLETE_NAME' from Worker;\"))"
      ],
      "execution_count": 146,
      "outputs": []
    },
    {
      "cell_type": "code",
      "metadata": {
        "id": "I9G3D-WhYBhI"
      },
      "source": [
        "gpt.add_example(Example(\"Worker 테이블에서 두번째로 높은 급여를 보여줘.\", \r\n",
        "                        \"Select max(Salary) from Worker where Salary not in (Select max(Salary) from Worker);\"))"
      ],
      "execution_count": 147,
      "outputs": []
    },
    {
      "cell_type": "code",
      "metadata": {
        "id": "oM2fYHh_YO4k"
      },
      "source": [
        "gpt.add_example(Example(\"Worker 테이블에서 가장 높은 급여를 표시해.\", \r\n",
        "                        \"Select max(Salary) from Worker;\"))"
      ],
      "execution_count": 148,
      "outputs": []
    },
    {
      "cell_type": "code",
      "metadata": {
        "id": "xVWFO7IXYYHz"
      },
      "source": [
        "gpt.add_example(Example(\"관리자 부서에서 일하는 직원 수를 가져와.\", \r\n",
        "                        \"SELECT COUNT(*) FROM worker WHERE DEPARTMENT = 'Admin';\"))"
      ],
      "execution_count": 149,
      "outputs": []
    },
    {
      "cell_type": "code",
      "metadata": {
        "id": "Ka6QP56JYjWp"
      },
      "source": [
        "gpt.add_example(Example(\"SALARY가 100000에서 500000 사이인 작업자에 대한 모든 정보를 가져와.\", \r\n",
        "                        \"Select * from Worker where SALARY between 100000 and 500000;\"))"
      ],
      "execution_count": 123,
      "outputs": []
    },
    {
      "cell_type": "code",
      "metadata": {
        "id": "4zk_YwbIYyZ9"
      },
      "source": [
        "gpt.add_example(Example(\"근로자의 급여 정보 얻기\", \r\n",
        "                        \"Select Salary from Worker\"))"
      ],
      "execution_count": 124,
      "outputs": []
    },
    {
      "cell_type": "markdown",
      "metadata": {
        "id": "FHwKM7CBa685"
      },
      "source": [
        "Test"
      ]
    },
    {
      "cell_type": "code",
      "metadata": {
        "colab": {
          "base_uri": "https://localhost:8080/"
        },
        "id": "SDxW8VlwY6xh",
        "outputId": "77eba049-b4b7-437e-fd6f-1a80f26f1e6d"
      },
      "source": [
        "prompt = \"AGE 가 25에서 35 사이인 근로자의 급여 정보를 가져와\"\r\n",
        "print(gpt.get_top_reply(prompt))"
      ],
      "execution_count": 33,
      "outputs": [
        {
          "output_type": "stream",
          "text": [
            "output: Select Salary from Worker where AGE between 25 and 35;\n",
            "\n"
          ],
          "name": "stdout"
        }
      ]
    },
    {
      "cell_type": "code",
      "metadata": {
        "colab": {
          "base_uri": "https://localhost:8080/"
        },
        "id": "ePytptP2ZG5x",
        "outputId": "6833fd32-fdef-4fd2-c202-2b9fd0d0a2d7"
      },
      "source": [
        "prompt = \"HR 부서에서 일하는 직원 수는?.\"\r\n",
        "print(gpt.get_top_reply(prompt))"
      ],
      "execution_count": 44,
      "outputs": [
        {
          "output_type": "stream",
          "text": [
            "output: SELECT COUNT(*) FROM worker WHERE DEPARTMENT = 'HR';\n",
            "\n"
          ],
          "name": "stdout"
        }
      ]
    },
    {
      "cell_type": "code",
      "metadata": {
        "colab": {
          "base_uri": "https://localhost:8080/"
        },
        "id": "RR9gfaX7Z5s6",
        "outputId": "c23bafbb-54d7-4898-ec57-99c63177854f"
      },
      "source": [
        "prompt = \"Worker 테이블에서 가장 낮은 급여를 보여줘.\"\r\n",
        "print(gpt.get_top_reply(prompt))"
      ],
      "execution_count": 45,
      "outputs": [
        {
          "output_type": "stream",
          "text": [
            "output: Select min(Salary) from Worker;\n",
            "\n"
          ],
          "name": "stdout"
        }
      ]
    },
    {
      "cell_type": "markdown",
      "metadata": {
        "id": "vIYjuvMzc6JP"
      },
      "source": [
        "# **심화 학습**"
      ]
    },
    {
      "cell_type": "markdown",
      "metadata": {
        "id": "S4SZBsA95kNs"
      },
      "source": [
        "few shot learning"
      ]
    },
    {
      "cell_type": "code",
      "metadata": {
        "id": "QDX1ojJNc9UC"
      },
      "source": [
        "gpt.add_example(Example('부서테이블의 모든 데이터를 출력하라.', \r\n",
        "                        'SELECT * FROM EMP;'))"
      ],
      "execution_count": 151,
      "outputs": []
    },
    {
      "cell_type": "code",
      "metadata": {
        "id": "nd0Quj3KdGKG"
      },
      "source": [
        "gpt.add_example(Example('EMP테이블에서 각 사원의 직업, 사원번호, 이름, 입사일을 출력하라.', \r\n",
        "                        'SELECT JOB, EMPNO, ENAME, HIREDATE FROM EMP;'))"
      ],
      "execution_count": 152,
      "outputs": []
    },
    {
      "cell_type": "code",
      "metadata": {
        "id": "5OdgxHakdM9e"
      },
      "source": [
        "gpt.add_example(Example('EMP테이블에서 직업을 출력하되, 중복되지 않게 출력하라.', \r\n",
        "                        'SELECT DISTINCT JOB FROM EMP;'))"
      ],
      "execution_count": 153,
      "outputs": []
    },
    {
      "cell_type": "code",
      "metadata": {
        "id": "ZEQu52ovdT6c"
      },
      "source": [
        "gpt.add_example(Example('급여가 2850 이상인 사원의 이름 및 급여를 표시하는 출력하라.', \r\n",
        "                        'SELECT ENAME, SAL FROM EMP WHERE SAL >= 2850;'))"
      ],
      "execution_count": 154,
      "outputs": []
    },
    {
      "cell_type": "code",
      "metadata": {
        "id": "inxQGhnWdbDU"
      },
      "source": [
        "gpt.add_example(Example('사원번호가 7566인 사원의 이름 및 부서번호를 표시하는 출력하라.', \r\n",
        "                        'SELECT ENAME, DEPTNO FROM EMP WHERE EMPNO=7566;'))"
      ],
      "execution_count": 155,
      "outputs": []
    },
    {
      "cell_type": "code",
      "metadata": {
        "id": "6JWyd10AdhJi"
      },
      "source": [
        "gpt.add_example(Example('급여가 1500이상 2850이하의 범위에 속하지 않는 모든 사원의 이름 및 급여를 출력하라.', \r\n",
        "                        'SELECT ENAME, SAL FROM EMP WHERE SAL NOT BETWEEN 1500 AND 2850;'))"
      ],
      "execution_count": 156,
      "outputs": []
    },
    {
      "cell_type": "code",
      "metadata": {
        "id": "18ZbB0_edoBS"
      },
      "source": [
        "gpt.add_example(Example('1981년 2월 20일 ~ 1981년 5월 1일에 입사한 사원의 이름,직업 및 입사일을 입사일을 기준으로 해서 오름차순으로 정렬하라.', \r\n",
        "                        \"SELECT ENAME, JOB, HIREDATE FROM EMP WHERE HIREDATE BETWEEN '1981-02-20' AND '1981-05-01' ORDER BY HIREDATE;\"))"
      ],
      "execution_count": 157,
      "outputs": []
    },
    {
      "cell_type": "code",
      "metadata": {
        "id": "B9z83cugd6il"
      },
      "source": [
        "gpt.add_example(Example('10번 및 30번 부서에 속하는 모든 사원의 이름과 부서 번호를 출력하되, 이름을 알파벳순으로 정렬하여 출력하라.', \r\n",
        "                        \"SELECT ENAME, DEPTNO FROM EMP WHERE DEPTNO IN(10,30) ORDER BY ENAME;\"))"
      ],
      "execution_count": 158,
      "outputs": []
    },
    {
      "cell_type": "code",
      "metadata": {
        "id": "O4FG2wneeFHB"
      },
      "source": [
        "gpt.add_example(Example('10번 및 30번 부서에 속하는 모든 사원 중 급여가 1500을 넘는 사원의 이름 및 급여를 출력하라. 컬럼명을 각각 employee 및 Monthly Salary로 지정하시오', \r\n",
        "                        \"SELECT ENAME AS 'Employee', SAL AS 'Monthly Salary' FROM EMP WHERE DEPTNO IN(10,30) AND SAL>1500;\"))"
      ],
      "execution_count": 159,
      "outputs": []
    },
    {
      "cell_type": "code",
      "metadata": {
        "id": "RiGjVA3xe76r"
      },
      "source": [
        "gpt.add_example(Example('관리자가 없는 모든 사원의 이름 및 직위를 출력하라.', \r\n",
        "                        \"SELECT ENAME, JOB FROM EMP WHERE MGR IS NULL;\"))"
      ],
      "execution_count": 160,
      "outputs": []
    },
    {
      "cell_type": "code",
      "metadata": {
        "id": "pHGJ32jGfIip"
      },
      "source": [
        "gpt.add_example(Example('커미션을 받는 모든 사원의 이름과 커미션을 출력하되, 커미션을 기준으로 내림차순으로 정렬하여 출력하라.', \r\n",
        "                        \"SELECT ENAME,COMM FROM EMP WHERE COMM IS NOT NULL ORDER BY COMM DESC;\"))"
      ],
      "execution_count": 161,
      "outputs": []
    },
    {
      "cell_type": "code",
      "metadata": {
        "id": "rgmXGeYEfTpv"
      },
      "source": [
        "gpt.add_example(Example('이름의 세 번째 문자가 A인 모든 사원의 이름을 출력하라.', \r\n",
        "                        \"SELECT ENAME FROM EMP WHERE ENAME LIKE '__A%';\"))"
      ],
      "execution_count": 162,
      "outputs": []
    },
    {
      "cell_type": "code",
      "metadata": {
        "id": "6d6xH-UIfa2m"
      },
      "source": [
        "gpt.add_example(Example('이름에 L이 두 번 들어가며 부서 30에 속해있는 사원의 이름을 출력하라.', \r\n",
        "                        \"SELECT ENAME FROM EMP WHERE ENAME LIKE '%L%L%' AND DEPTNO=30;\"))"
      ],
      "execution_count": 163,
      "outputs": []
    },
    {
      "cell_type": "code",
      "metadata": {
        "id": "unztBbh9fg9n"
      },
      "source": [
        "gpt.add_example(Example('직업이 Clerk 또는 Analyst 이면서 급여가 3000,5000 이 아닌 모든 사원의 이름, 직업 및 급여를 출력하라.', \r\n",
        "                        \"SELECT ENAME, JOB, SAL FROM EMP WHERE JOB IN('CLERK','ANALYST') AND SAL not IN(3000,5000);\"))"
      ],
      "execution_count": 164,
      "outputs": []
    },
    {
      "cell_type": "code",
      "metadata": {
        "id": "EkFGl-rUtF1_"
      },
      "source": [
        "gpt.add_example(Example('사원번호, 이름 그리고 15% 인상된 급여를 정수로 표시하되 컬럼명을 New Salary로 지정하여 출력하라.', \r\n",
        "                        \"SELECT EMPNO, ENAME, ROUND(SAL+(SAL*0.15),0) AS 'New Salary' FROM EMP;\"))"
      ],
      "execution_count": 165,
      "outputs": []
    },
    {
      "cell_type": "code",
      "metadata": {
        "id": "5Ou--7voz6pn"
      },
      "source": [
        "gpt.add_example(Example('모든 사원의 급여 최고액, 최저액, 총액 및 평균 급여를 출력하시오. 평균에 대해서는 정수로 반올림하시오.', \r\n",
        "                        \"SELECT MAX(SAL), MIN(SAL), SUM(SAL), ROUND(AVG(SAL)) FROM EMP;\"))"
      ],
      "execution_count": 141,
      "outputs": []
    },
    {
      "cell_type": "code",
      "metadata": {
        "id": "XxrJYZ59tF4q"
      },
      "source": [
        ""
      ],
      "execution_count": null,
      "outputs": []
    },
    {
      "cell_type": "markdown",
      "metadata": {
        "id": "NxgrZO2u5pOB"
      },
      "source": [
        "test"
      ]
    },
    {
      "cell_type": "code",
      "metadata": {
        "colab": {
          "base_uri": "https://localhost:8080/"
        },
        "id": "3OR5p9TftCx8",
        "outputId": "1c644b34-41a2-4911-e5d5-930229439bc9"
      },
      "source": [
        "prompt = \"1981년에 입사한 사원의 급여 최저액을 구하시오\"\r\n",
        "print(gpt.get_top_reply(prompt))"
      ],
      "execution_count": 167,
      "outputs": [
        {
          "output_type": "stream",
          "text": [
            "output: SELECT MIN(SAL) FROM EMP WHERE YEAR(HIREDATE) = 1981;\n",
            "\n"
          ],
          "name": "stdout"
        }
      ]
    },
    {
      "cell_type": "code",
      "metadata": {
        "colab": {
          "base_uri": "https://localhost:8080/"
        },
        "id": "HOrwXbKd7oik",
        "outputId": "da2ba13d-4920-4877-d001-6cd025e20eba"
      },
      "source": [
        "prompt = \"사번이 1234567 인 직원의 커미션을 구하라.\"\r\n",
        "print(gpt.get_top_reply(prompt))"
      ],
      "execution_count": 177,
      "outputs": [
        {
          "output_type": "stream",
          "text": [
            "output: SELECT COMM FROM EMP WHERE EMPNO=1234567;\n",
            "\n"
          ],
          "name": "stdout"
        }
      ]
    },
    {
      "cell_type": "code",
      "metadata": {
        "colab": {
          "base_uri": "https://localhost:8080/"
        },
        "id": "qRhwbBf21UZZ",
        "outputId": "6bb28d5b-2968-46c2-962b-72cefa8b9385"
      },
      "source": [
        "prompt = \"'AIDT추진셀'에 속한 급여 최고액, 최저액, 총액 및 평균 액을 출력하시오\"\r\n",
        "print(gpt.get_top_reply(prompt))"
      ],
      "execution_count": 169,
      "outputs": [
        {
          "output_type": "stream",
          "text": [
            "output: SELECT MAX(SAL), MIN(SAL), SUM(SAL), AVG(SAL) FROM EMP WHERE DEPTNO='AIDT추진셀';\n",
            "\n"
          ],
          "name": "stdout"
        }
      ]
    },
    {
      "cell_type": "code",
      "metadata": {
        "colab": {
          "base_uri": "https://localhost:8080/"
        },
        "id": "sKqMSeeq1ppx",
        "outputId": "29eefbd5-9fb7-4ee4-a8b3-566e461defed"
      },
      "source": [
        "prompt = \"'MNO'에 속하고, 급여가 7000 미만이며, 2020년 이후 입사한 사원의 이름, 사원번호, 평균 급여를 구하여라\"\r\n",
        "print(gpt.get_top_reply(prompt))"
      ],
      "execution_count": 172,
      "outputs": [
        {
          "output_type": "stream",
          "text": [
            "output: SELECT ENAME, EMPNO, AVG(SAL) FROM EMP WHERE DEPTNO = 'MNO' AND SAL < 7000 AND HIREDATE > '2020-01-01';\n",
            "\n"
          ],
          "name": "stdout"
        }
      ]
    },
    {
      "cell_type": "code",
      "metadata": {
        "colab": {
          "base_uri": "https://localhost:8080/"
        },
        "id": "zmxhB_3e8pvv",
        "outputId": "1574cc24-864c-4113-d1bd-b67c7635e321"
      },
      "source": [
        "prompt = \"이름에 '정'이 들어가고 급여가 8000 이상인 사원의 이름과 평균급여를 출력하시오\"\r\n",
        "print(gpt.get_top_reply(prompt))"
      ],
      "execution_count": 209,
      "outputs": [
        {
          "output_type": "stream",
          "text": [
            "output: SELECT ENAME, AVG(SAL) FROM EMP WHERE ENAME LIKE '%정%' AND SAL>=8000;\n",
            "\n"
          ],
          "name": "stdout"
        }
      ]
    },
    {
      "cell_type": "code",
      "metadata": {
        "id": "AGmfS-bF9iYf"
      },
      "source": [
        ""
      ],
      "execution_count": null,
      "outputs": []
    }
  ]
}