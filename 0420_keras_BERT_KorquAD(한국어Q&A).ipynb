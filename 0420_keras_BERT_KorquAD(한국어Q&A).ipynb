{
  "nbformat": 4,
  "nbformat_minor": 0,
  "metadata": {
    "colab": {
      "name": "0420_keras-BERT_KorquAD(한국어Q&A).ipynb",
      "provenance": [],
      "mount_file_id": "17lcnRv-DSEhmMOKw419Bcq9Mt6H-fYUF",
      "authorship_tag": "ABX9TyOHl5nuLv9dQgh8zKr9yfoF",
      "include_colab_link": true
    },
    "kernelspec": {
      "name": "python3",
      "display_name": "Python 3"
    },
    "accelerator": "GPU"
  },
  "cells": [
    {
      "cell_type": "markdown",
      "metadata": {
        "id": "view-in-github",
        "colab_type": "text"
      },
      "source": [
        "<a href=\"https://colab.research.google.com/github/guard1000/NLP_MCC/blob/master/0420_keras_BERT_KorquAD(%ED%95%9C%EA%B5%AD%EC%96%B4Q%26A).ipynb\" target=\"_parent\"><img src=\"https://colab.research.google.com/assets/colab-badge.svg\" alt=\"Open In Colab\"/></a>"
      ]
    },
    {
      "cell_type": "code",
      "metadata": {
        "id": "Ol_1EvaXeSUF",
        "colab_type": "code",
        "colab": {
          "base_uri": "https://localhost:8080/",
          "height": 1000
        },
        "outputId": "9329591f-f274-4d45-bda7-71f915232349"
      },
      "source": [
        "!pip uninstall tensorflow\n",
        "!pip install tensorflow==1.15"
      ],
      "execution_count": 1,
      "outputs": [
        {
          "output_type": "stream",
          "text": [
            "Uninstalling tensorflow-2.2.0rc3:\n",
            "  Would remove:\n",
            "    /usr/local/bin/estimator_ckpt_converter\n",
            "    /usr/local/bin/saved_model_cli\n",
            "    /usr/local/bin/tensorboard\n",
            "    /usr/local/bin/tf_upgrade_v2\n",
            "    /usr/local/bin/tflite_convert\n",
            "    /usr/local/bin/toco\n",
            "    /usr/local/bin/toco_from_protos\n",
            "    /usr/local/lib/python3.6/dist-packages/tensorflow-2.2.0rc3.dist-info/*\n",
            "    /usr/local/lib/python3.6/dist-packages/tensorflow/*\n",
            "Proceed (y/n)? y\n",
            "  Successfully uninstalled tensorflow-2.2.0rc3\n",
            "Collecting tensorflow==1.15\n",
            "\u001b[?25l  Downloading https://files.pythonhosted.org/packages/3f/98/5a99af92fb911d7a88a0005ad55005f35b4c1ba8d75fba02df726cd936e6/tensorflow-1.15.0-cp36-cp36m-manylinux2010_x86_64.whl (412.3MB)\n",
            "\u001b[K     |████████████████████████████████| 412.3MB 42kB/s \n",
            "\u001b[?25hRequirement already satisfied: keras-preprocessing>=1.0.5 in /usr/local/lib/python3.6/dist-packages (from tensorflow==1.15) (1.1.0)\n",
            "Requirement already satisfied: numpy<2.0,>=1.16.0 in /usr/local/lib/python3.6/dist-packages (from tensorflow==1.15) (1.18.2)\n",
            "Collecting gast==0.2.2\n",
            "  Downloading https://files.pythonhosted.org/packages/4e/35/11749bf99b2d4e3cceb4d55ca22590b0d7c2c62b9de38ac4a4a7f4687421/gast-0.2.2.tar.gz\n",
            "Requirement already satisfied: opt-einsum>=2.3.2 in /usr/local/lib/python3.6/dist-packages (from tensorflow==1.15) (3.2.0)\n",
            "Requirement already satisfied: six>=1.10.0 in /usr/local/lib/python3.6/dist-packages (from tensorflow==1.15) (1.12.0)\n",
            "Requirement already satisfied: wheel>=0.26 in /usr/local/lib/python3.6/dist-packages (from tensorflow==1.15) (0.34.2)\n",
            "Requirement already satisfied: termcolor>=1.1.0 in /usr/local/lib/python3.6/dist-packages (from tensorflow==1.15) (1.1.0)\n",
            "Collecting tensorboard<1.16.0,>=1.15.0\n",
            "\u001b[?25l  Downloading https://files.pythonhosted.org/packages/1e/e9/d3d747a97f7188f48aa5eda486907f3b345cd409f0a0850468ba867db246/tensorboard-1.15.0-py3-none-any.whl (3.8MB)\n",
            "\u001b[K     |████████████████████████████████| 3.8MB 46.2MB/s \n",
            "\u001b[?25hRequirement already satisfied: astor>=0.6.0 in /usr/local/lib/python3.6/dist-packages (from tensorflow==1.15) (0.8.1)\n",
            "Requirement already satisfied: google-pasta>=0.1.6 in /usr/local/lib/python3.6/dist-packages (from tensorflow==1.15) (0.2.0)\n",
            "Requirement already satisfied: grpcio>=1.8.6 in /usr/local/lib/python3.6/dist-packages (from tensorflow==1.15) (1.28.1)\n",
            "Requirement already satisfied: keras-applications>=1.0.8 in /usr/local/lib/python3.6/dist-packages (from tensorflow==1.15) (1.0.8)\n",
            "Requirement already satisfied: wrapt>=1.11.1 in /usr/local/lib/python3.6/dist-packages (from tensorflow==1.15) (1.12.1)\n",
            "Requirement already satisfied: protobuf>=3.6.1 in /usr/local/lib/python3.6/dist-packages (from tensorflow==1.15) (3.10.0)\n",
            "Requirement already satisfied: absl-py>=0.7.0 in /usr/local/lib/python3.6/dist-packages (from tensorflow==1.15) (0.9.0)\n",
            "Collecting tensorflow-estimator==1.15.1\n",
            "\u001b[?25l  Downloading https://files.pythonhosted.org/packages/de/62/2ee9cd74c9fa2fa450877847ba560b260f5d0fb70ee0595203082dafcc9d/tensorflow_estimator-1.15.1-py2.py3-none-any.whl (503kB)\n",
            "\u001b[K     |████████████████████████████████| 512kB 54.3MB/s \n",
            "\u001b[?25hRequirement already satisfied: werkzeug>=0.11.15 in /usr/local/lib/python3.6/dist-packages (from tensorboard<1.16.0,>=1.15.0->tensorflow==1.15) (1.0.1)\n",
            "Requirement already satisfied: markdown>=2.6.8 in /usr/local/lib/python3.6/dist-packages (from tensorboard<1.16.0,>=1.15.0->tensorflow==1.15) (3.2.1)\n",
            "Requirement already satisfied: setuptools>=41.0.0 in /usr/local/lib/python3.6/dist-packages (from tensorboard<1.16.0,>=1.15.0->tensorflow==1.15) (46.1.3)\n",
            "Requirement already satisfied: h5py in /usr/local/lib/python3.6/dist-packages (from keras-applications>=1.0.8->tensorflow==1.15) (2.10.0)\n",
            "Building wheels for collected packages: gast\n",
            "  Building wheel for gast (setup.py) ... \u001b[?25l\u001b[?25hdone\n",
            "  Created wheel for gast: filename=gast-0.2.2-cp36-none-any.whl size=7540 sha256=9878a39c3befeab9123a9ffa5269c2081ed750f400b8e4115aaddedf30cd2181\n",
            "  Stored in directory: /root/.cache/pip/wheels/5c/2e/7e/a1d4d4fcebe6c381f378ce7743a3ced3699feb89bcfbdadadd\n",
            "Successfully built gast\n",
            "Installing collected packages: gast, tensorboard, tensorflow-estimator, tensorflow\n",
            "  Found existing installation: gast 0.3.3\n",
            "    Uninstalling gast-0.3.3:\n",
            "      Successfully uninstalled gast-0.3.3\n",
            "  Found existing installation: tensorboard 2.2.0\n",
            "    Uninstalling tensorboard-2.2.0:\n",
            "      Successfully uninstalled tensorboard-2.2.0\n",
            "  Found existing installation: tensorflow-estimator 2.2.0rc0\n",
            "    Uninstalling tensorflow-estimator-2.2.0rc0:\n",
            "      Successfully uninstalled tensorflow-estimator-2.2.0rc0\n",
            "Successfully installed gast-0.2.2 tensorboard-1.15.0 tensorflow-1.15.0 tensorflow-estimator-1.15.1\n"
          ],
          "name": "stdout"
        }
      ]
    },
    {
      "cell_type": "code",
      "metadata": {
        "id": "hqU7u25Eegq9",
        "colab_type": "code",
        "colab": {
          "base_uri": "https://localhost:8080/",
          "height": 35
        },
        "outputId": "399acaba-61d8-4caf-d39f-31fb120c60c7"
      },
      "source": [
        "import tensorflow as tf \n",
        "print(tf.__version__)"
      ],
      "execution_count": 7,
      "outputs": [
        {
          "output_type": "stream",
          "text": [
            "1.15.0\n"
          ],
          "name": "stdout"
        }
      ]
    },
    {
      "cell_type": "code",
      "metadata": {
        "id": "PJO_hyb3bYL-",
        "colab_type": "code",
        "colab": {}
      },
      "source": [
        "import tensorflow as tf\n",
        "\n",
        "import pandas as pd\n",
        "import numpy as np  \n",
        "import re\n",
        "import pickle\n",
        "\n",
        "import keras as keras\n",
        "from keras.models import load_model\n",
        "from keras import backend as K\n",
        "from keras import Input, Model\n",
        "from keras import optimizers\n",
        "\n",
        "from keras import backend as K\n",
        "from keras.layers import Layer\n",
        "\n",
        "import codecs\n",
        "from tqdm import tqdm\n",
        "import shutil\n",
        "import json"
      ],
      "execution_count": 0,
      "outputs": []
    },
    {
      "cell_type": "code",
      "metadata": {
        "id": "GAgi2xFbeAl6",
        "colab_type": "code",
        "outputId": "0e566221-1913-4d61-ba01-4a6069fcb75c",
        "colab": {
          "base_uri": "https://localhost:8080/",
          "height": 487
        }
      },
      "source": [
        "#오늘의 keras-bert import\n",
        "!pip install keras-bert\n",
        "!pip install keras-radam"
      ],
      "execution_count": 9,
      "outputs": [
        {
          "output_type": "stream",
          "text": [
            "Requirement already satisfied: keras-bert in /usr/local/lib/python3.6/dist-packages (0.81.0)\n",
            "Requirement already satisfied: Keras in /usr/local/lib/python3.6/dist-packages (from keras-bert) (2.3.1)\n",
            "Requirement already satisfied: keras-transformer>=0.30.0 in /usr/local/lib/python3.6/dist-packages (from keras-bert) (0.32.0)\n",
            "Requirement already satisfied: numpy in /usr/local/lib/python3.6/dist-packages (from keras-bert) (1.18.2)\n",
            "Requirement already satisfied: keras-applications>=1.0.6 in /usr/local/lib/python3.6/dist-packages (from Keras->keras-bert) (1.0.8)\n",
            "Requirement already satisfied: keras-preprocessing>=1.0.5 in /usr/local/lib/python3.6/dist-packages (from Keras->keras-bert) (1.1.0)\n",
            "Requirement already satisfied: six>=1.9.0 in /usr/local/lib/python3.6/dist-packages (from Keras->keras-bert) (1.12.0)\n",
            "Requirement already satisfied: pyyaml in /usr/local/lib/python3.6/dist-packages (from Keras->keras-bert) (3.13)\n",
            "Requirement already satisfied: scipy>=0.14 in /usr/local/lib/python3.6/dist-packages (from Keras->keras-bert) (1.4.1)\n",
            "Requirement already satisfied: h5py in /usr/local/lib/python3.6/dist-packages (from Keras->keras-bert) (2.10.0)\n",
            "Requirement already satisfied: keras-embed-sim>=0.7.0 in /usr/local/lib/python3.6/dist-packages (from keras-transformer>=0.30.0->keras-bert) (0.7.0)\n",
            "Requirement already satisfied: keras-pos-embd>=0.10.0 in /usr/local/lib/python3.6/dist-packages (from keras-transformer>=0.30.0->keras-bert) (0.11.0)\n",
            "Requirement already satisfied: keras-multi-head>=0.22.0 in /usr/local/lib/python3.6/dist-packages (from keras-transformer>=0.30.0->keras-bert) (0.22.0)\n",
            "Requirement already satisfied: keras-position-wise-feed-forward>=0.5.0 in /usr/local/lib/python3.6/dist-packages (from keras-transformer>=0.30.0->keras-bert) (0.6.0)\n",
            "Requirement already satisfied: keras-layer-normalization>=0.12.0 in /usr/local/lib/python3.6/dist-packages (from keras-transformer>=0.30.0->keras-bert) (0.14.0)\n",
            "Requirement already satisfied: keras-self-attention==0.41.0 in /usr/local/lib/python3.6/dist-packages (from keras-multi-head>=0.22.0->keras-transformer>=0.30.0->keras-bert) (0.41.0)\n",
            "Requirement already satisfied: keras-radam in /usr/local/lib/python3.6/dist-packages (0.15.0)\n",
            "Requirement already satisfied: numpy in /usr/local/lib/python3.6/dist-packages (from keras-radam) (1.18.2)\n",
            "Requirement already satisfied: Keras in /usr/local/lib/python3.6/dist-packages (from keras-radam) (2.3.1)\n",
            "Requirement already satisfied: pyyaml in /usr/local/lib/python3.6/dist-packages (from Keras->keras-radam) (3.13)\n",
            "Requirement already satisfied: scipy>=0.14 in /usr/local/lib/python3.6/dist-packages (from Keras->keras-radam) (1.4.1)\n",
            "Requirement already satisfied: h5py in /usr/local/lib/python3.6/dist-packages (from Keras->keras-radam) (2.10.0)\n",
            "Requirement already satisfied: six>=1.9.0 in /usr/local/lib/python3.6/dist-packages (from Keras->keras-radam) (1.12.0)\n",
            "Requirement already satisfied: keras-applications>=1.0.6 in /usr/local/lib/python3.6/dist-packages (from Keras->keras-radam) (1.0.8)\n",
            "Requirement already satisfied: keras-preprocessing>=1.0.5 in /usr/local/lib/python3.6/dist-packages (from Keras->keras-radam) (1.1.0)\n"
          ],
          "name": "stdout"
        }
      ]
    },
    {
      "cell_type": "code",
      "metadata": {
        "id": "YDrIi7n-eCp1",
        "colab_type": "code",
        "colab": {}
      },
      "source": [
        "# keras_bert의 모듈들 import\n",
        "\n",
        "from keras_bert import load_trained_model_from_checkpoint, load_vocabulary\n",
        "from keras_bert import Tokenizer\n",
        "from keras_bert import AdamWarmup, calc_train_steps\n",
        "\n",
        "from keras_radam import RAdam"
      ],
      "execution_count": 0,
      "outputs": []
    },
    {
      "cell_type": "code",
      "metadata": {
        "id": "pITRHy6GfwOK",
        "colab_type": "code",
        "colab": {}
      },
      "source": [
        "# SQUAD JSON파일을 PANDAS DATAFRAME으로 만들어주는 함수를 정의\n",
        "\n",
        "def squad_json_to_dataframe_train(input_file_path, record_path = ['data','paragraphs','qas','answers'],\n",
        "                           verbose = 1):\n",
        "    \"\"\"\n",
        "    input_file_path: path to the squad json file.\n",
        "    record_path: path to deepest level in json file default value is\n",
        "    ['data','paragraphs','qas','answers']\n",
        "    verbose: 0 to suppress it default is 1\n",
        "    \"\"\"\n",
        "    if verbose:\n",
        "        print(\"Reading the json file\")    \n",
        "    file = json.loads(open(input_file_path).read())\n",
        "    if verbose:\n",
        "        print(\"processing...\")\n",
        "    # parsing different level's in the json file\n",
        "    js = pd.io.json.json_normalize(file , record_path )\n",
        "    m = pd.io.json.json_normalize(file, record_path[:-1] )\n",
        "    r = pd.io.json.json_normalize(file,record_path[:-2])\n",
        "    \n",
        "    #combining it into single dataframe\n",
        "    idx = np.repeat(r['context'].values, r.qas.str.len())\n",
        "    ndx  = np.repeat(m['id'].values,m['answers'].str.len())\n",
        "    m['context'] = idx\n",
        "    js['q_idx'] = ndx\n",
        "    main = pd.concat([ m[['id','question','context']].set_index('id'),js.set_index('q_idx')],1,sort=False).reset_index()\n",
        "    main['c_id'] = main['context'].factorize()[0]\n",
        "    if verbose:\n",
        "        print(\"shape of the dataframe is {}\".format(main.shape))\n",
        "        print(\"Done\")\n",
        "    return main"
      ],
      "execution_count": 0,
      "outputs": []
    },
    {
      "cell_type": "code",
      "metadata": {
        "id": "vVHW2J_1fwU_",
        "colab_type": "code",
        "colab": {
          "base_uri": "https://localhost:8080/",
          "height": 181
        },
        "outputId": "01b204d7-0a40-473b-95bf-023a6cd5504b"
      },
      "source": [
        "# KorQUAD 데이터를 PANDAS DATAFRAME 형식으로 로드\n",
        "train = squad_json_to_dataframe_train(\"/content/drive/My Drive/data/KorQuAD_v1.0_train.json\")"
      ],
      "execution_count": 12,
      "outputs": [
        {
          "output_type": "stream",
          "text": [
            "Reading the json file\n",
            "processing...\n"
          ],
          "name": "stdout"
        },
        {
          "output_type": "stream",
          "text": [
            "/usr/local/lib/python3.6/dist-packages/ipykernel_launcher.py:16: FutureWarning: pandas.io.json.json_normalize is deprecated, use pandas.json_normalize instead\n",
            "  app.launch_new_instance()\n",
            "/usr/local/lib/python3.6/dist-packages/ipykernel_launcher.py:17: FutureWarning: pandas.io.json.json_normalize is deprecated, use pandas.json_normalize instead\n",
            "/usr/local/lib/python3.6/dist-packages/ipykernel_launcher.py:18: FutureWarning: pandas.io.json.json_normalize is deprecated, use pandas.json_normalize instead\n"
          ],
          "name": "stderr"
        },
        {
          "output_type": "stream",
          "text": [
            "shape of the dataframe is (60407, 6)\n",
            "Done\n"
          ],
          "name": "stdout"
        }
      ]
    },
    {
      "cell_type": "code",
      "metadata": {
        "id": "SgOWDk0jf5rk",
        "colab_type": "code",
        "colab": {
          "base_uri": "https://localhost:8080/",
          "height": 1000
        },
        "outputId": "4fbff87d-f668-45db-afb7-bdc5ff305dc5"
      },
      "source": [
        "train"
      ],
      "execution_count": 13,
      "outputs": [
        {
          "output_type": "execute_result",
          "data": {
            "text/html": [
              "<div>\n",
              "<style scoped>\n",
              "    .dataframe tbody tr th:only-of-type {\n",
              "        vertical-align: middle;\n",
              "    }\n",
              "\n",
              "    .dataframe tbody tr th {\n",
              "        vertical-align: top;\n",
              "    }\n",
              "\n",
              "    .dataframe thead th {\n",
              "        text-align: right;\n",
              "    }\n",
              "</style>\n",
              "<table border=\"1\" class=\"dataframe\">\n",
              "  <thead>\n",
              "    <tr style=\"text-align: right;\">\n",
              "      <th></th>\n",
              "      <th>index</th>\n",
              "      <th>question</th>\n",
              "      <th>context</th>\n",
              "      <th>text</th>\n",
              "      <th>answer_start</th>\n",
              "      <th>c_id</th>\n",
              "    </tr>\n",
              "  </thead>\n",
              "  <tbody>\n",
              "    <tr>\n",
              "      <th>0</th>\n",
              "      <td>6566495-0-0</td>\n",
              "      <td>바그너는 괴테의 파우스트를 읽고 무엇을 쓰고자 했는가?</td>\n",
              "      <td>1839년 바그너는 괴테의 파우스트을 처음 읽고 그 내용에 마음이 끌려 이를 소재로...</td>\n",
              "      <td>교향곡</td>\n",
              "      <td>54</td>\n",
              "      <td>0</td>\n",
              "    </tr>\n",
              "    <tr>\n",
              "      <th>1</th>\n",
              "      <td>6566495-0-1</td>\n",
              "      <td>바그너는 교향곡 작곡을 어디까지 쓴 뒤에 중단했는가?</td>\n",
              "      <td>1839년 바그너는 괴테의 파우스트을 처음 읽고 그 내용에 마음이 끌려 이를 소재로...</td>\n",
              "      <td>1악장</td>\n",
              "      <td>421</td>\n",
              "      <td>0</td>\n",
              "    </tr>\n",
              "    <tr>\n",
              "      <th>2</th>\n",
              "      <td>6566495-0-2</td>\n",
              "      <td>바그너가 파우스트 서곡을 쓸 때 어떤 곡의 영향을 받았는가?</td>\n",
              "      <td>1839년 바그너는 괴테의 파우스트을 처음 읽고 그 내용에 마음이 끌려 이를 소재로...</td>\n",
              "      <td>베토벤의 교향곡 9번</td>\n",
              "      <td>194</td>\n",
              "      <td>0</td>\n",
              "    </tr>\n",
              "    <tr>\n",
              "      <th>3</th>\n",
              "      <td>6566518-0-0</td>\n",
              "      <td>1839년 바그너가 교향곡의 소재로 쓰려고 했던 책은?</td>\n",
              "      <td>1839년 바그너는 괴테의 파우스트을 처음 읽고 그 내용에 마음이 끌려 이를 소재로...</td>\n",
              "      <td>파우스트</td>\n",
              "      <td>15</td>\n",
              "      <td>0</td>\n",
              "    </tr>\n",
              "    <tr>\n",
              "      <th>4</th>\n",
              "      <td>6566518-0-1</td>\n",
              "      <td>파우스트 서곡의 라단조 조성이 영향을 받은 베토벤의 곡은?</td>\n",
              "      <td>1839년 바그너는 괴테의 파우스트을 처음 읽고 그 내용에 마음이 끌려 이를 소재로...</td>\n",
              "      <td>합창교향곡</td>\n",
              "      <td>354</td>\n",
              "      <td>0</td>\n",
              "    </tr>\n",
              "    <tr>\n",
              "      <th>...</th>\n",
              "      <td>...</td>\n",
              "      <td>...</td>\n",
              "      <td>...</td>\n",
              "      <td>...</td>\n",
              "      <td>...</td>\n",
              "      <td>...</td>\n",
              "    </tr>\n",
              "    <tr>\n",
              "      <th>60402</th>\n",
              "      <td>6467478-1-1</td>\n",
              "      <td>뉴델리 메탈로 베타락마제가 처음 감염 된 지역은 어디인가?</td>\n",
              "      <td>유전자의 이름은 인도의 수도 뉴델리의 이름을 따 붙여졌는데, 이는 2009년 용 (...</td>\n",
              "      <td>인도</td>\n",
              "      <td>73</td>\n",
              "      <td>9604</td>\n",
              "    </tr>\n",
              "    <tr>\n",
              "      <th>60403</th>\n",
              "      <td>6467478-2-0</td>\n",
              "      <td>균은 유전자를 균에게 전달 할 수있는데 이러한 현상을 나타낸 용어는 무엇인가?</td>\n",
              "      <td>2010년 8월, 저널 The Lancet Infectious Diseases에 최...</td>\n",
              "      <td>유전자 전달</td>\n",
              "      <td>253</td>\n",
              "      <td>9605</td>\n",
              "    </tr>\n",
              "    <tr>\n",
              "      <th>60404</th>\n",
              "      <td>6467478-2-1</td>\n",
              "      <td>박테리아가 NDM-1 유전자를 가지고 있을때 발생하는 전파를 분석하기위해 사용된 영...</td>\n",
              "      <td>2010년 8월, 저널 The Lancet Infectious Diseases에 최...</td>\n",
              "      <td>37건</td>\n",
              "      <td>129</td>\n",
              "      <td>9605</td>\n",
              "    </tr>\n",
              "    <tr>\n",
              "      <th>60405</th>\n",
              "      <td>6490801-2-0</td>\n",
              "      <td>NDM-1 유전자를 가진 박테리아가 감수성을 보인 폴리믹슨 계열 항생제는?</td>\n",
              "      <td>2010년 8월, 저널 The Lancet Infectious Diseases에 최...</td>\n",
              "      <td>콜리스틴</td>\n",
              "      <td>404</td>\n",
              "      <td>9605</td>\n",
              "    </tr>\n",
              "    <tr>\n",
              "      <th>60406</th>\n",
              "      <td>6490801-2-1</td>\n",
              "      <td>2010년 8월, NDM-1 유전자를 가진 박테리아의 발생과 전파를 분석한 다국적 ...</td>\n",
              "      <td>2010년 8월, 저널 The Lancet Infectious Diseases에 최...</td>\n",
              "      <td>The Lancet Infectious Diseases</td>\n",
              "      <td>13</td>\n",
              "      <td>9605</td>\n",
              "    </tr>\n",
              "  </tbody>\n",
              "</table>\n",
              "<p>60407 rows × 6 columns</p>\n",
              "</div>"
            ],
            "text/plain": [
              "             index  ...  c_id\n",
              "0      6566495-0-0  ...     0\n",
              "1      6566495-0-1  ...     0\n",
              "2      6566495-0-2  ...     0\n",
              "3      6566518-0-0  ...     0\n",
              "4      6566518-0-1  ...     0\n",
              "...            ...  ...   ...\n",
              "60402  6467478-1-1  ...  9604\n",
              "60403  6467478-2-0  ...  9605\n",
              "60404  6467478-2-1  ...  9605\n",
              "60405  6490801-2-0  ...  9605\n",
              "60406  6490801-2-1  ...  9605\n",
              "\n",
              "[60407 rows x 6 columns]"
            ]
          },
          "metadata": {
            "tags": []
          },
          "execution_count": 13
        }
      ]
    },
    {
      "cell_type": "code",
      "metadata": {
        "id": "JTQrEHaqf5ue",
        "colab_type": "code",
        "colab": {}
      },
      "source": [
        "# bert 훈련을 위한 사전 설정\n",
        "\n",
        "# SEQ_LEN 보다 문장의 길이가 작다면 남은 부분은 0 padding\n",
        "# SEQ_LEN보다 문장 길이가 길다면 SEQ_LEN을 초과하는 부분은 잘라줌\n",
        "\n",
        "# BATCH_SIZE는  메모리 초과 같은 문제를 방지하기 위해 작은 수인 10으로\n",
        "# 총 훈련 에포크 수는 1\n",
        "# 학습율(LR;Learning rate)은 3e-5로 작게 설정\n",
        "\n",
        "SEQ_LEN = 384\n",
        "BATCH_SIZE = 10\n",
        "EPOCHS=1\n",
        "LR=3e-5\n",
        "\n",
        "pretrained_path ='/content/drive/My Drive/data/bert3'\n",
        "config_path = '/content/drive/My Drive/data/bert3/bert_config.json'\n",
        "checkpoint_path = '/content/drive/My Drive/data/bert3/bert_model.ckpt'\n",
        "vocab_path = '/content/drive/My Drive/data/bert3/vocab.txt'\n",
        "\n",
        "DATA_COLUMN = \"context\"\n",
        "QUESTION_COLUMN = \"question\"\n",
        "TEXT = \"text\""
      ],
      "execution_count": 0,
      "outputs": []
    },
    {
      "cell_type": "code",
      "metadata": {
        "id": "JbymeLiMjNm8",
        "colab_type": "code",
        "colab": {}
      },
      "source": [
        "# token_dict - voacab.txt 단어에 index 추가하는 딕셔너리\n",
        "token_dict = {}\n",
        "with codecs.open(vocab_path, 'r', 'utf8') as reader:\n",
        "    for line in reader:\n",
        "        token = line.strip()\n",
        "        if \"_\" in token:\n",
        "          token = token.replace(\"_\",\"\")\n",
        "          token = \"##\" + token\n",
        "        token_dict[token] = len(token_dict)"
      ],
      "execution_count": 0,
      "outputs": []
    },
    {
      "cell_type": "code",
      "metadata": {
        "id": "51oJBRWsjUfD",
        "colab_type": "code",
        "colab": {}
      },
      "source": [
        "# inherit_Tokenizer 클래스 - Tokenizer 클래스를 상속 받아옴\n",
        "# _tokenize() 함수 재정의\n",
        "# --원래 클래스를 그대로 사용하면 입력한 문장이 완전 자모분리 되어버림\n",
        "# --완전자모분리 : 인공지능 -> ㅇ ㅣ ㄴ ㄱ ㅗ ㅇ ㅈ ㄴ ㅡ ㅇ\n",
        "\n",
        "class inherit_Tokenizer(Tokenizer):\n",
        "  def _tokenize(self, text):\n",
        "        if not self._cased:\n",
        "            text = text\n",
        "            \n",
        "            text = text.lower()\n",
        "        spaced = ''\n",
        "        for ch in text:\n",
        "            if self._is_punctuation(ch) or self._is_cjk_character(ch):\n",
        "                spaced += ' ' + ch + ' '\n",
        "            elif self._is_space(ch):\n",
        "                spaced += ' '\n",
        "            elif ord(ch) == 0 or ord(ch) == 0xfffd or self._is_control(ch):\n",
        "                continue\n",
        "            else:\n",
        "                spaced += ch\n",
        "        tokens = []\n",
        "        for word in spaced.strip().split():\n",
        "            tokens += self._word_piece_tokenize(word)\n",
        "        return tokens"
      ],
      "execution_count": 0,
      "outputs": []
    },
    {
      "cell_type": "code",
      "metadata": {
        "id": "32lb0FNQjX_a",
        "colab_type": "code",
        "colab": {}
      },
      "source": [
        "tokenizer = inherit_Tokenizer(token_dict)"
      ],
      "execution_count": 0,
      "outputs": []
    },
    {
      "cell_type": "code",
      "metadata": {
        "id": "irXo8W3UjZXb",
        "colab_type": "code",
        "outputId": "0d1585fa-d7a8-4528-c3d7-087a7c9b16b6",
        "colab": {
          "base_uri": "https://localhost:8080/",
          "height": 269
        }
      },
      "source": [
        "# tokenizer 확인\n",
        "# 버트에선 문장 시작에 [CLS],  문장 끝에 [SEP]이 추가됨\n",
        "tokenizer.tokenize(\"SKT Infra AI/DT 추진Cell 최고야\")"
      ],
      "execution_count": 18,
      "outputs": [
        {
          "output_type": "execute_result",
          "data": {
            "text/plain": [
              "['[CLS]',\n",
              " 'sk',\n",
              " '##t',\n",
              " 'in',\n",
              " '##fra',\n",
              " 'ai',\n",
              " '/',\n",
              " 'dt',\n",
              " '추',\n",
              " '##진',\n",
              " '##cell',\n",
              " '최고',\n",
              " '##야',\n",
              " '[SEP]']"
            ]
          },
          "metadata": {
            "tags": []
          },
          "execution_count": 18
        }
      ]
    },
    {
      "cell_type": "code",
      "metadata": {
        "id": "fUkWFQ-shioa",
        "colab_type": "code",
        "colab": {}
      },
      "source": [
        "# token dict의 key 값과 value 값을 바꾼 reverse_token_dict를 정의\n",
        "reverse_token_dict = {v : k for k, v in token_dict.items()}"
      ],
      "execution_count": 0,
      "outputs": []
    },
    {
      "cell_type": "code",
      "metadata": {
        "id": "BxZf45hLh_yA",
        "colab_type": "code",
        "colab": {}
      },
      "source": [
        "question = train['question'][10]\n",
        "context = train['context'][10]\n",
        "text = train['text'][10]"
      ],
      "execution_count": 0,
      "outputs": []
    },
    {
      "cell_type": "code",
      "metadata": {
        "id": "bEojJAH-h__d",
        "colab_type": "code",
        "colab": {
          "base_uri": "https://localhost:8080/",
          "height": 91
        },
        "outputId": "60a4d194-9aae-4dbb-fccf-7eb1ac236f7b"
      },
      "source": [
        "print(question) # 질문\n",
        "print(context)  # 문장\n",
        "print(text)     # 정답"
      ],
      "execution_count": 21,
      "outputs": [
        {
          "output_type": "stream",
          "text": [
            "바그너는 다시 개정된 총보를 얼마를 받고 팔았는가?\n",
            "한편 1840년부터 바그너와 알고 지내던 리스트가 잊혀져 있던 1악장을 부활시켜 1852년에 바이마르에서 연주했다. 이것을 계기로 바그너도 이 작품에 다시 관심을 갖게 되었고, 그 해 9월에는 총보의 반환을 요구하여 이를 서곡으로 간추린 다음 수정을 했고 브라이트코프흐 & 헤르텔 출판사에서 출판할 개정판도 준비했다. 1853년 5월에는 리스트가 이 작품이 수정되었다는 것을 인정했지만, 끝내 바그너의 출판 계획은 무산되고 말았다. 이후 1855년에 리스트가 자신의 작품 파우스트 교향곡을 거의 완성하여 그 사실을 바그너에게 알렸고, 바그너는 다시 개정된 총보를 리스트에게 보내고 브라이트코프흐 & 헤르텔 출판사에는 20루이의 금을 받고 팔았다. 또한 그의 작품을 “하나하나의 음표가 시인의 피로 쓰여졌다”며 극찬했던 한스 폰 뷜로가 그것을 피아노 독주용으로 편곡했는데, 리스트는 그것을 약간 변형되었을 뿐이라고 지적했다. 이 서곡의 총보 첫머리에는 파우스트 1부의 내용 중 한 구절을 인용하고 있다.\n",
            "20루이의 금\n"
          ],
          "name": "stdout"
        }
      ]
    },
    {
      "cell_type": "code",
      "metadata": {
        "id": "hZlqXkzMiIPe",
        "colab_type": "code",
        "colab": {
          "base_uri": "https://localhost:8080/",
          "height": 55
        },
        "outputId": "c235d4b6-0271-4a6c-cd0b-2f729e915e3b"
      },
      "source": [
        "print(tokenizer.tokenize(question, context))"
      ],
      "execution_count": 22,
      "outputs": [
        {
          "output_type": "stream",
          "text": [
            "['[CLS]', '바', '##그', '##너', '##는', '다시', '개', '##정', '##된', '총', '##보를', '얼', '##마', '##를', '받고', '팔', '##았', '##는', '##가', '?', '[SEP]', '한편', '1840', '##년부터', '바', '##그', '##너', '##와', '알', '##고', '지', '##내', '##던', '리', '##스트', '##가', '잊', '##혀', '##져', '있던', '1', '##악', '##장을', '부', '##활', '##시', '##켜', '1852', '##년에', '바', '##이', '##마', '##르', '##에서', '연', '##주', '##했다', '.', '이', '##것을', '계', '##기로', '바', '##그', '##너', '##도', '이', '작', '##품', '##에', '다시', '관', '##심을', '갖', '##게', '되었고', ',', '그', '해', '9월', '##에는', '총', '##보', '##의', '반', '##환', '##을', '요', '##구', '##하여', '이를', '서', '##곡', '##으로', '간', '##추', '##린', '다음', '수', '##정을', '했', '##고', '브', '##라', '##이트', '##코', '##프', '##흐', '&', '헤', '##르', '##텔', '출', '##판', '##사에', '##서', '출', '##판', '##할', '개', '##정', '##판', '##도', '준', '##비', '##했다', '.', '1853', '##년', '5월', '##에는', '리', '##스트', '##가', '이', '작', '##품', '##이', '수', '##정되었다', '##는', '것을', '인', '##정', '##했지만', ',', '끝', '##내', '바', '##그', '##너', '##의', '출', '##판', '계', '##획', '##은', '무', '##산', '##되고', '말', '##았다', '.', '이후', '1855', '##년에', '리', '##스트', '##가', '자신의', '작', '##품', '파', '##우스', '##트', '교', '##향', '##곡', '##을', '거의', '완', '##성', '##하여', '그', '사', '##실을', '바', '##그', '##너', '##에게', '알', '##렸', '##고', ',', '바', '##그', '##너', '##는', '다시', '개', '##정', '##된', '총', '##보를', '리', '##스트', '##에게', '보', '##내', '##고', '브', '##라', '##이트', '##코', '##프', '##흐', '&', '헤', '##르', '##텔', '출', '##판', '##사에', '##는', '20', '##루', '##이의', '금', '##을', '받고', '팔', '##았다', '.', '또한', '그의', '작', '##품을', '“', '하', '##나', '##하', '##나', '##의', '음', '##표', '##가', '시', '##인의', '피', '##로', '쓰', '##여', '##졌다', '”', '며', '극', '##찬', '##했던', '한', '##스', '폰', '뷜', '##로', '##가', '그', '##것을', '피', '##아', '##노', '독', '##주', '##용', '##으로', '편곡', '##했', '##는데', ',', '리', '##스트', '##는', '그', '##것을', '약', '##간', '변', '##형', '##되', '##었', '##을', '뿐', '##이', '##라고', '지', '##적', '##했다', '.', '이', '서', '##곡', '##의', '총', '##보', '첫', '##머', '##리에', '##는', '파', '##우스', '##트', '1', '##부의', '내', '##용', '중', '한', '구', '##절', '##을', '인', '##용', '##하고', '있다', '.', '[SEP]']\n"
          ],
          "name": "stdout"
        }
      ]
    },
    {
      "cell_type": "code",
      "metadata": {
        "id": "78Wyh06FigID",
        "colab_type": "code",
        "colab": {
          "base_uri": "https://localhost:8080/",
          "height": 35
        },
        "outputId": "267f9bd0-b7bd-4eb3-8ccf-bacf57cb3447"
      },
      "source": [
        "print(tokenizer.tokenize(text))"
      ],
      "execution_count": 26,
      "outputs": [
        {
          "output_type": "stream",
          "text": [
            "['[CLS]', '20', '##루', '##이의', '금', '[SEP]']\n"
          ],
          "name": "stdout"
        }
      ]
    },
    {
      "cell_type": "code",
      "metadata": {
        "id": "MQrZEdhOigLZ",
        "colab_type": "code",
        "colab": {}
      },
      "source": [
        "# 목적: 질문(question)과 문장(context)를 받아서, 정답(text)를 맞추는 모델을 만드는 것\n",
        "# 정답을 통째로 맞추는 것이 아니라, 토큰화된 것의 맨 앞 단어와, 맨 뒷 단어\n",
        "# 토큰화된 정답은 ['[CLS]', 'saint', 'bern', '##ade', '##tte', 'sou', '##bir', '##ous', '[SEP]'] 인데,\n",
        "# 여기서 saint에 해당하는 위치와 ##ous에 해당하는 위치를 맞추는 버트 모형을 파인튜닝"
      ],
      "execution_count": 0,
      "outputs": []
    },
    {
      "cell_type": "code",
      "metadata": {
        "id": "hn4ZS4i4igSZ",
        "colab_type": "code",
        "colab": {}
      },
      "source": [
        "# convert_data 함수 \n",
        "# 1) 정답(text) 길이만큼 문장(context)를 슬라이딩 하면서\n",
        "# 2) 만약에 문장이 정답을 포함하는 위치에 도달시\n",
        "# 3) 문장에서 정답의 맨 앞이 우리가 예측할 1번째 정답, 정답의 맨 뒤가 우리가 예측할 2번째 정답\n",
        "\n",
        "def convert_data(data_df):\n",
        "    global tokenizer\n",
        "    indices, segments, target_start, target_end = [], [], [], []\n",
        "    for i in tqdm(range(len(data_df))):\n",
        "        \n",
        "        ids, segment = tokenizer.encode(data_df[QUESTION_COLUMN][i], data_df[DATA_COLUMN][i], max_len=SEQ_LEN)\n",
        "        \n",
        "        text = tokenizer.encode(data_df[TEXT][i])[0]\n",
        "\n",
        "        text_slide_len = len(text[1:-1])\n",
        "        for i in range(1,len(ids)-text_slide_len-1):  \n",
        "            exist_flag = 0\n",
        "            if text[1:-1] == ids[i:i+text_slide_len]:\n",
        "              ans_start = i\n",
        "              ans_end = i + text_slide_len - 1\n",
        "              exist_flag = 1\n",
        "              break\n",
        "        \n",
        "        if exist_flag == 0:\n",
        "          ans_start = SEQ_LEN\n",
        "          ans_end = SEQ_LEN\n",
        "\n",
        "        indices.append(ids)\n",
        "        segments.append(segment)\n",
        "\n",
        "        target_start.append(ans_start)\n",
        "        target_end.append(ans_end)\n",
        "\n",
        "    indices_x = np.array(indices)\n",
        "    segments = np.array(segments)\n",
        "    target_start = np.array(target_start)\n",
        "    target_end = np.array(target_end)\n",
        "    \n",
        "    del_list = np.where(target_start!=SEQ_LEN)[0]\n",
        "\n",
        "    indices_x = indices_x[del_list]\n",
        "    segments = segments[del_list]\n",
        "    target_start = target_start[del_list]\n",
        "    target_end = target_end[del_list]\n",
        "\n",
        "    train_y_0 = keras.utils.to_categorical(target_start, num_classes=SEQ_LEN, dtype='int64')\n",
        "    train_y_1 = keras.utils.to_categorical(target_end, num_classes=SEQ_LEN, dtype='int64')\n",
        "    train_y_cat = [train_y_0, train_y_1]\n",
        "    \n",
        "    return [indices_x, segments], train_y_cat\n",
        "\n",
        "\n",
        "def load_data(pandas_dataframe):\n",
        "    data_df = pandas_dataframe\n",
        "    \n",
        "    \n",
        "    data_df[DATA_COLUMN] = data_df[DATA_COLUMN].astype(str)\n",
        "    data_df[QUESTION_COLUMN] = data_df[QUESTION_COLUMN].astype(str)\n",
        "\n",
        "\n",
        "    data_x, data_y = convert_data(data_df)\n",
        "\n",
        "    return data_x, data_y"
      ],
      "execution_count": 0,
      "outputs": []
    },
    {
      "cell_type": "code",
      "metadata": {
        "id": "KZjnvcRxi_vr",
        "colab_type": "code",
        "colab": {
          "base_uri": "https://localhost:8080/",
          "height": 35
        },
        "outputId": "4b6b53cc-db4b-4445-e689-34827709aef0"
      },
      "source": [
        "train_x, train_y = load_data(train)"
      ],
      "execution_count": 24,
      "outputs": [
        {
          "output_type": "stream",
          "text": [
            "100%|██████████| 60407/60407 [01:27<00:00, 692.90it/s]\n"
          ],
          "name": "stderr"
        }
      ]
    },
    {
      "cell_type": "code",
      "metadata": {
        "id": "_Edkb_oHi_yt",
        "colab_type": "code",
        "colab": {
          "base_uri": "https://localhost:8080/",
          "height": 143
        },
        "outputId": "1fd86984-d95b-4b65-fd1f-0f19377aaa37"
      },
      "source": [
        "train_x[0]"
      ],
      "execution_count": 25,
      "outputs": [
        {
          "output_type": "execute_result",
          "data": {
            "text/plain": [
              "array([[   101,   9318,  78136, ...,  12178,   9011,    102],\n",
              "       [   101,   9318,  78136, ...,   9011, 118783,    102],\n",
              "       [   101,   9318,  78136, ...,   9011, 118783,    102],\n",
              "       ...,\n",
              "       [   101,   9319, 119351, ...,      0,      0,      0],\n",
              "       [   101,    182,  10162, ...,      0,      0,      0],\n",
              "       [   101,  19145,  17289, ...,      0,      0,      0]])"
            ]
          },
          "metadata": {
            "tags": []
          },
          "execution_count": 25
        }
      ]
    },
    {
      "cell_type": "code",
      "metadata": {
        "id": "B-K65E98i_4h",
        "colab_type": "code",
        "colab": {
          "base_uri": "https://localhost:8080/",
          "height": 35
        },
        "outputId": "e1fb2e6e-d77a-46e6-acfd-4add24c6ce1a"
      },
      "source": [
        "train.shape"
      ],
      "execution_count": 26,
      "outputs": [
        {
          "output_type": "execute_result",
          "data": {
            "text/plain": [
              "(60407, 6)"
            ]
          },
          "metadata": {
            "tags": []
          },
          "execution_count": 26
        }
      ]
    },
    {
      "cell_type": "code",
      "metadata": {
        "id": "DsRyl-XakCgd",
        "colab_type": "code",
        "colab": {
          "base_uri": "https://localhost:8080/",
          "height": 35
        },
        "outputId": "2db60c56-a546-4f09-a19c-4516a65b1b85"
      },
      "source": [
        "# 데이터 약 10000개 소실\n",
        "# -- 원인: 길이가 384가 넘는 인풋인 경우에 \n",
        "# -- context 내에 정답을 포함하고 있는 context가 잘려서 정답을 포함하지 않는 경우가 있음\n",
        "# -- 이런 애들을 convert_data()에서 del_list로 지정해서 빼줬기 떄문!\n",
        "train_x[0].shape"
      ],
      "execution_count": 27,
      "outputs": [
        {
          "output_type": "execute_result",
          "data": {
            "text/plain": [
              "(50609, 384)"
            ]
          },
          "metadata": {
            "tags": []
          },
          "execution_count": 27
        }
      ]
    },
    {
      "cell_type": "code",
      "metadata": {
        "id": "a58TVibWkCmx",
        "colab_type": "code",
        "colab": {
          "base_uri": "https://localhost:8080/",
          "height": 1000
        },
        "outputId": "36dc958b-3f2c-4820-dae5-5bcf6252642a"
      },
      "source": [
        "# pretrained model loading\n",
        "\n",
        "layer_num = 12\n",
        "model = load_trained_model_from_checkpoint(\n",
        "    config_path,\n",
        "    checkpoint_path,\n",
        "    training=False,\n",
        "    trainable=True,\n",
        "    seq_len=SEQ_LEN,)\n",
        "model.summary()"
      ],
      "execution_count": 28,
      "outputs": [
        {
          "output_type": "stream",
          "text": [
            "WARNING:tensorflow:From /usr/local/lib/python3.6/dist-packages/tensorflow_core/python/ops/resource_variable_ops.py:1630: calling BaseResourceVariable.__init__ (from tensorflow.python.ops.resource_variable_ops) with constraint is deprecated and will be removed in a future version.\n",
            "Instructions for updating:\n",
            "If using Keras pass *_constraint arguments to layers.\n",
            "Model: \"model_2\"\n",
            "__________________________________________________________________________________________________\n",
            "Layer (type)                    Output Shape         Param #     Connected to                     \n",
            "==================================================================================================\n",
            "Input-Token (InputLayer)        (None, 384)          0                                            \n",
            "__________________________________________________________________________________________________\n",
            "Input-Segment (InputLayer)      (None, 384)          0                                            \n",
            "__________________________________________________________________________________________________\n",
            "Embedding-Token (TokenEmbedding [(None, 384, 768), ( 91812096    Input-Token[0][0]                \n",
            "__________________________________________________________________________________________________\n",
            "Embedding-Segment (Embedding)   (None, 384, 768)     1536        Input-Segment[0][0]              \n",
            "__________________________________________________________________________________________________\n",
            "Embedding-Token-Segment (Add)   (None, 384, 768)     0           Embedding-Token[0][0]            \n",
            "                                                                 Embedding-Segment[0][0]          \n",
            "__________________________________________________________________________________________________\n",
            "Embedding-Position (PositionEmb (None, 384, 768)     294912      Embedding-Token-Segment[0][0]    \n",
            "__________________________________________________________________________________________________\n",
            "Embedding-Dropout (Dropout)     (None, 384, 768)     0           Embedding-Position[0][0]         \n",
            "__________________________________________________________________________________________________\n",
            "Embedding-Norm (LayerNormalizat (None, 384, 768)     1536        Embedding-Dropout[0][0]          \n",
            "__________________________________________________________________________________________________\n",
            "Encoder-1-MultiHeadSelfAttentio (None, 384, 768)     2362368     Embedding-Norm[0][0]             \n",
            "__________________________________________________________________________________________________\n",
            "Encoder-1-MultiHeadSelfAttentio (None, 384, 768)     0           Encoder-1-MultiHeadSelfAttention[\n",
            "__________________________________________________________________________________________________\n",
            "Encoder-1-MultiHeadSelfAttentio (None, 384, 768)     0           Embedding-Norm[0][0]             \n",
            "                                                                 Encoder-1-MultiHeadSelfAttention-\n",
            "__________________________________________________________________________________________________\n",
            "Encoder-1-MultiHeadSelfAttentio (None, 384, 768)     1536        Encoder-1-MultiHeadSelfAttention-\n",
            "__________________________________________________________________________________________________\n",
            "Encoder-1-FeedForward (FeedForw (None, 384, 768)     4722432     Encoder-1-MultiHeadSelfAttention-\n",
            "__________________________________________________________________________________________________\n",
            "Encoder-1-FeedForward-Dropout ( (None, 384, 768)     0           Encoder-1-FeedForward[0][0]      \n",
            "__________________________________________________________________________________________________\n",
            "Encoder-1-FeedForward-Add (Add) (None, 384, 768)     0           Encoder-1-MultiHeadSelfAttention-\n",
            "                                                                 Encoder-1-FeedForward-Dropout[0][\n",
            "__________________________________________________________________________________________________\n",
            "Encoder-1-FeedForward-Norm (Lay (None, 384, 768)     1536        Encoder-1-FeedForward-Add[0][0]  \n",
            "__________________________________________________________________________________________________\n",
            "Encoder-2-MultiHeadSelfAttentio (None, 384, 768)     2362368     Encoder-1-FeedForward-Norm[0][0] \n",
            "__________________________________________________________________________________________________\n",
            "Encoder-2-MultiHeadSelfAttentio (None, 384, 768)     0           Encoder-2-MultiHeadSelfAttention[\n",
            "__________________________________________________________________________________________________\n",
            "Encoder-2-MultiHeadSelfAttentio (None, 384, 768)     0           Encoder-1-FeedForward-Norm[0][0] \n",
            "                                                                 Encoder-2-MultiHeadSelfAttention-\n",
            "__________________________________________________________________________________________________\n",
            "Encoder-2-MultiHeadSelfAttentio (None, 384, 768)     1536        Encoder-2-MultiHeadSelfAttention-\n",
            "__________________________________________________________________________________________________\n",
            "Encoder-2-FeedForward (FeedForw (None, 384, 768)     4722432     Encoder-2-MultiHeadSelfAttention-\n",
            "__________________________________________________________________________________________________\n",
            "Encoder-2-FeedForward-Dropout ( (None, 384, 768)     0           Encoder-2-FeedForward[0][0]      \n",
            "__________________________________________________________________________________________________\n",
            "Encoder-2-FeedForward-Add (Add) (None, 384, 768)     0           Encoder-2-MultiHeadSelfAttention-\n",
            "                                                                 Encoder-2-FeedForward-Dropout[0][\n",
            "__________________________________________________________________________________________________\n",
            "Encoder-2-FeedForward-Norm (Lay (None, 384, 768)     1536        Encoder-2-FeedForward-Add[0][0]  \n",
            "__________________________________________________________________________________________________\n",
            "Encoder-3-MultiHeadSelfAttentio (None, 384, 768)     2362368     Encoder-2-FeedForward-Norm[0][0] \n",
            "__________________________________________________________________________________________________\n",
            "Encoder-3-MultiHeadSelfAttentio (None, 384, 768)     0           Encoder-3-MultiHeadSelfAttention[\n",
            "__________________________________________________________________________________________________\n",
            "Encoder-3-MultiHeadSelfAttentio (None, 384, 768)     0           Encoder-2-FeedForward-Norm[0][0] \n",
            "                                                                 Encoder-3-MultiHeadSelfAttention-\n",
            "__________________________________________________________________________________________________\n",
            "Encoder-3-MultiHeadSelfAttentio (None, 384, 768)     1536        Encoder-3-MultiHeadSelfAttention-\n",
            "__________________________________________________________________________________________________\n",
            "Encoder-3-FeedForward (FeedForw (None, 384, 768)     4722432     Encoder-3-MultiHeadSelfAttention-\n",
            "__________________________________________________________________________________________________\n",
            "Encoder-3-FeedForward-Dropout ( (None, 384, 768)     0           Encoder-3-FeedForward[0][0]      \n",
            "__________________________________________________________________________________________________\n",
            "Encoder-3-FeedForward-Add (Add) (None, 384, 768)     0           Encoder-3-MultiHeadSelfAttention-\n",
            "                                                                 Encoder-3-FeedForward-Dropout[0][\n",
            "__________________________________________________________________________________________________\n",
            "Encoder-3-FeedForward-Norm (Lay (None, 384, 768)     1536        Encoder-3-FeedForward-Add[0][0]  \n",
            "__________________________________________________________________________________________________\n",
            "Encoder-4-MultiHeadSelfAttentio (None, 384, 768)     2362368     Encoder-3-FeedForward-Norm[0][0] \n",
            "__________________________________________________________________________________________________\n",
            "Encoder-4-MultiHeadSelfAttentio (None, 384, 768)     0           Encoder-4-MultiHeadSelfAttention[\n",
            "__________________________________________________________________________________________________\n",
            "Encoder-4-MultiHeadSelfAttentio (None, 384, 768)     0           Encoder-3-FeedForward-Norm[0][0] \n",
            "                                                                 Encoder-4-MultiHeadSelfAttention-\n",
            "__________________________________________________________________________________________________\n",
            "Encoder-4-MultiHeadSelfAttentio (None, 384, 768)     1536        Encoder-4-MultiHeadSelfAttention-\n",
            "__________________________________________________________________________________________________\n",
            "Encoder-4-FeedForward (FeedForw (None, 384, 768)     4722432     Encoder-4-MultiHeadSelfAttention-\n",
            "__________________________________________________________________________________________________\n",
            "Encoder-4-FeedForward-Dropout ( (None, 384, 768)     0           Encoder-4-FeedForward[0][0]      \n",
            "__________________________________________________________________________________________________\n",
            "Encoder-4-FeedForward-Add (Add) (None, 384, 768)     0           Encoder-4-MultiHeadSelfAttention-\n",
            "                                                                 Encoder-4-FeedForward-Dropout[0][\n",
            "__________________________________________________________________________________________________\n",
            "Encoder-4-FeedForward-Norm (Lay (None, 384, 768)     1536        Encoder-4-FeedForward-Add[0][0]  \n",
            "__________________________________________________________________________________________________\n",
            "Encoder-5-MultiHeadSelfAttentio (None, 384, 768)     2362368     Encoder-4-FeedForward-Norm[0][0] \n",
            "__________________________________________________________________________________________________\n",
            "Encoder-5-MultiHeadSelfAttentio (None, 384, 768)     0           Encoder-5-MultiHeadSelfAttention[\n",
            "__________________________________________________________________________________________________\n",
            "Encoder-5-MultiHeadSelfAttentio (None, 384, 768)     0           Encoder-4-FeedForward-Norm[0][0] \n",
            "                                                                 Encoder-5-MultiHeadSelfAttention-\n",
            "__________________________________________________________________________________________________\n",
            "Encoder-5-MultiHeadSelfAttentio (None, 384, 768)     1536        Encoder-5-MultiHeadSelfAttention-\n",
            "__________________________________________________________________________________________________\n",
            "Encoder-5-FeedForward (FeedForw (None, 384, 768)     4722432     Encoder-5-MultiHeadSelfAttention-\n",
            "__________________________________________________________________________________________________\n",
            "Encoder-5-FeedForward-Dropout ( (None, 384, 768)     0           Encoder-5-FeedForward[0][0]      \n",
            "__________________________________________________________________________________________________\n",
            "Encoder-5-FeedForward-Add (Add) (None, 384, 768)     0           Encoder-5-MultiHeadSelfAttention-\n",
            "                                                                 Encoder-5-FeedForward-Dropout[0][\n",
            "__________________________________________________________________________________________________\n",
            "Encoder-5-FeedForward-Norm (Lay (None, 384, 768)     1536        Encoder-5-FeedForward-Add[0][0]  \n",
            "__________________________________________________________________________________________________\n",
            "Encoder-6-MultiHeadSelfAttentio (None, 384, 768)     2362368     Encoder-5-FeedForward-Norm[0][0] \n",
            "__________________________________________________________________________________________________\n",
            "Encoder-6-MultiHeadSelfAttentio (None, 384, 768)     0           Encoder-6-MultiHeadSelfAttention[\n",
            "__________________________________________________________________________________________________\n",
            "Encoder-6-MultiHeadSelfAttentio (None, 384, 768)     0           Encoder-5-FeedForward-Norm[0][0] \n",
            "                                                                 Encoder-6-MultiHeadSelfAttention-\n",
            "__________________________________________________________________________________________________\n",
            "Encoder-6-MultiHeadSelfAttentio (None, 384, 768)     1536        Encoder-6-MultiHeadSelfAttention-\n",
            "__________________________________________________________________________________________________\n",
            "Encoder-6-FeedForward (FeedForw (None, 384, 768)     4722432     Encoder-6-MultiHeadSelfAttention-\n",
            "__________________________________________________________________________________________________\n",
            "Encoder-6-FeedForward-Dropout ( (None, 384, 768)     0           Encoder-6-FeedForward[0][0]      \n",
            "__________________________________________________________________________________________________\n",
            "Encoder-6-FeedForward-Add (Add) (None, 384, 768)     0           Encoder-6-MultiHeadSelfAttention-\n",
            "                                                                 Encoder-6-FeedForward-Dropout[0][\n",
            "__________________________________________________________________________________________________\n",
            "Encoder-6-FeedForward-Norm (Lay (None, 384, 768)     1536        Encoder-6-FeedForward-Add[0][0]  \n",
            "__________________________________________________________________________________________________\n",
            "Encoder-7-MultiHeadSelfAttentio (None, 384, 768)     2362368     Encoder-6-FeedForward-Norm[0][0] \n",
            "__________________________________________________________________________________________________\n",
            "Encoder-7-MultiHeadSelfAttentio (None, 384, 768)     0           Encoder-7-MultiHeadSelfAttention[\n",
            "__________________________________________________________________________________________________\n",
            "Encoder-7-MultiHeadSelfAttentio (None, 384, 768)     0           Encoder-6-FeedForward-Norm[0][0] \n",
            "                                                                 Encoder-7-MultiHeadSelfAttention-\n",
            "__________________________________________________________________________________________________\n",
            "Encoder-7-MultiHeadSelfAttentio (None, 384, 768)     1536        Encoder-7-MultiHeadSelfAttention-\n",
            "__________________________________________________________________________________________________\n",
            "Encoder-7-FeedForward (FeedForw (None, 384, 768)     4722432     Encoder-7-MultiHeadSelfAttention-\n",
            "__________________________________________________________________________________________________\n",
            "Encoder-7-FeedForward-Dropout ( (None, 384, 768)     0           Encoder-7-FeedForward[0][0]      \n",
            "__________________________________________________________________________________________________\n",
            "Encoder-7-FeedForward-Add (Add) (None, 384, 768)     0           Encoder-7-MultiHeadSelfAttention-\n",
            "                                                                 Encoder-7-FeedForward-Dropout[0][\n",
            "__________________________________________________________________________________________________\n",
            "Encoder-7-FeedForward-Norm (Lay (None, 384, 768)     1536        Encoder-7-FeedForward-Add[0][0]  \n",
            "__________________________________________________________________________________________________\n",
            "Encoder-8-MultiHeadSelfAttentio (None, 384, 768)     2362368     Encoder-7-FeedForward-Norm[0][0] \n",
            "__________________________________________________________________________________________________\n",
            "Encoder-8-MultiHeadSelfAttentio (None, 384, 768)     0           Encoder-8-MultiHeadSelfAttention[\n",
            "__________________________________________________________________________________________________\n",
            "Encoder-8-MultiHeadSelfAttentio (None, 384, 768)     0           Encoder-7-FeedForward-Norm[0][0] \n",
            "                                                                 Encoder-8-MultiHeadSelfAttention-\n",
            "__________________________________________________________________________________________________\n",
            "Encoder-8-MultiHeadSelfAttentio (None, 384, 768)     1536        Encoder-8-MultiHeadSelfAttention-\n",
            "__________________________________________________________________________________________________\n",
            "Encoder-8-FeedForward (FeedForw (None, 384, 768)     4722432     Encoder-8-MultiHeadSelfAttention-\n",
            "__________________________________________________________________________________________________\n",
            "Encoder-8-FeedForward-Dropout ( (None, 384, 768)     0           Encoder-8-FeedForward[0][0]      \n",
            "__________________________________________________________________________________________________\n",
            "Encoder-8-FeedForward-Add (Add) (None, 384, 768)     0           Encoder-8-MultiHeadSelfAttention-\n",
            "                                                                 Encoder-8-FeedForward-Dropout[0][\n",
            "__________________________________________________________________________________________________\n",
            "Encoder-8-FeedForward-Norm (Lay (None, 384, 768)     1536        Encoder-8-FeedForward-Add[0][0]  \n",
            "__________________________________________________________________________________________________\n",
            "Encoder-9-MultiHeadSelfAttentio (None, 384, 768)     2362368     Encoder-8-FeedForward-Norm[0][0] \n",
            "__________________________________________________________________________________________________\n",
            "Encoder-9-MultiHeadSelfAttentio (None, 384, 768)     0           Encoder-9-MultiHeadSelfAttention[\n",
            "__________________________________________________________________________________________________\n",
            "Encoder-9-MultiHeadSelfAttentio (None, 384, 768)     0           Encoder-8-FeedForward-Norm[0][0] \n",
            "                                                                 Encoder-9-MultiHeadSelfAttention-\n",
            "__________________________________________________________________________________________________\n",
            "Encoder-9-MultiHeadSelfAttentio (None, 384, 768)     1536        Encoder-9-MultiHeadSelfAttention-\n",
            "__________________________________________________________________________________________________\n",
            "Encoder-9-FeedForward (FeedForw (None, 384, 768)     4722432     Encoder-9-MultiHeadSelfAttention-\n",
            "__________________________________________________________________________________________________\n",
            "Encoder-9-FeedForward-Dropout ( (None, 384, 768)     0           Encoder-9-FeedForward[0][0]      \n",
            "__________________________________________________________________________________________________\n",
            "Encoder-9-FeedForward-Add (Add) (None, 384, 768)     0           Encoder-9-MultiHeadSelfAttention-\n",
            "                                                                 Encoder-9-FeedForward-Dropout[0][\n",
            "__________________________________________________________________________________________________\n",
            "Encoder-9-FeedForward-Norm (Lay (None, 384, 768)     1536        Encoder-9-FeedForward-Add[0][0]  \n",
            "__________________________________________________________________________________________________\n",
            "Encoder-10-MultiHeadSelfAttenti (None, 384, 768)     2362368     Encoder-9-FeedForward-Norm[0][0] \n",
            "__________________________________________________________________________________________________\n",
            "Encoder-10-MultiHeadSelfAttenti (None, 384, 768)     0           Encoder-10-MultiHeadSelfAttention\n",
            "__________________________________________________________________________________________________\n",
            "Encoder-10-MultiHeadSelfAttenti (None, 384, 768)     0           Encoder-9-FeedForward-Norm[0][0] \n",
            "                                                                 Encoder-10-MultiHeadSelfAttention\n",
            "__________________________________________________________________________________________________\n",
            "Encoder-10-MultiHeadSelfAttenti (None, 384, 768)     1536        Encoder-10-MultiHeadSelfAttention\n",
            "__________________________________________________________________________________________________\n",
            "Encoder-10-FeedForward (FeedFor (None, 384, 768)     4722432     Encoder-10-MultiHeadSelfAttention\n",
            "__________________________________________________________________________________________________\n",
            "Encoder-10-FeedForward-Dropout  (None, 384, 768)     0           Encoder-10-FeedForward[0][0]     \n",
            "__________________________________________________________________________________________________\n",
            "Encoder-10-FeedForward-Add (Add (None, 384, 768)     0           Encoder-10-MultiHeadSelfAttention\n",
            "                                                                 Encoder-10-FeedForward-Dropout[0]\n",
            "__________________________________________________________________________________________________\n",
            "Encoder-10-FeedForward-Norm (La (None, 384, 768)     1536        Encoder-10-FeedForward-Add[0][0] \n",
            "__________________________________________________________________________________________________\n",
            "Encoder-11-MultiHeadSelfAttenti (None, 384, 768)     2362368     Encoder-10-FeedForward-Norm[0][0]\n",
            "__________________________________________________________________________________________________\n",
            "Encoder-11-MultiHeadSelfAttenti (None, 384, 768)     0           Encoder-11-MultiHeadSelfAttention\n",
            "__________________________________________________________________________________________________\n",
            "Encoder-11-MultiHeadSelfAttenti (None, 384, 768)     0           Encoder-10-FeedForward-Norm[0][0]\n",
            "                                                                 Encoder-11-MultiHeadSelfAttention\n",
            "__________________________________________________________________________________________________\n",
            "Encoder-11-MultiHeadSelfAttenti (None, 384, 768)     1536        Encoder-11-MultiHeadSelfAttention\n",
            "__________________________________________________________________________________________________\n",
            "Encoder-11-FeedForward (FeedFor (None, 384, 768)     4722432     Encoder-11-MultiHeadSelfAttention\n",
            "__________________________________________________________________________________________________\n",
            "Encoder-11-FeedForward-Dropout  (None, 384, 768)     0           Encoder-11-FeedForward[0][0]     \n",
            "__________________________________________________________________________________________________\n",
            "Encoder-11-FeedForward-Add (Add (None, 384, 768)     0           Encoder-11-MultiHeadSelfAttention\n",
            "                                                                 Encoder-11-FeedForward-Dropout[0]\n",
            "__________________________________________________________________________________________________\n",
            "Encoder-11-FeedForward-Norm (La (None, 384, 768)     1536        Encoder-11-FeedForward-Add[0][0] \n",
            "__________________________________________________________________________________________________\n",
            "Encoder-12-MultiHeadSelfAttenti (None, 384, 768)     2362368     Encoder-11-FeedForward-Norm[0][0]\n",
            "__________________________________________________________________________________________________\n",
            "Encoder-12-MultiHeadSelfAttenti (None, 384, 768)     0           Encoder-12-MultiHeadSelfAttention\n",
            "__________________________________________________________________________________________________\n",
            "Encoder-12-MultiHeadSelfAttenti (None, 384, 768)     0           Encoder-11-FeedForward-Norm[0][0]\n",
            "                                                                 Encoder-12-MultiHeadSelfAttention\n",
            "__________________________________________________________________________________________________\n",
            "Encoder-12-MultiHeadSelfAttenti (None, 384, 768)     1536        Encoder-12-MultiHeadSelfAttention\n",
            "__________________________________________________________________________________________________\n",
            "Encoder-12-FeedForward (FeedFor (None, 384, 768)     4722432     Encoder-12-MultiHeadSelfAttention\n",
            "__________________________________________________________________________________________________\n",
            "Encoder-12-FeedForward-Dropout  (None, 384, 768)     0           Encoder-12-FeedForward[0][0]     \n",
            "__________________________________________________________________________________________________\n",
            "Encoder-12-FeedForward-Add (Add (None, 384, 768)     0           Encoder-12-MultiHeadSelfAttention\n",
            "                                                                 Encoder-12-FeedForward-Dropout[0]\n",
            "__________________________________________________________________________________________________\n",
            "Encoder-12-FeedForward-Norm (La (None, 384, 768)     1536        Encoder-12-FeedForward-Add[0][0] \n",
            "==================================================================================================\n",
            "Total params: 177,164,544\n",
            "Trainable params: 177,164,544\n",
            "Non-trainable params: 0\n",
            "__________________________________________________________________________________________________\n"
          ],
          "name": "stdout"
        }
      ]
    },
    {
      "cell_type": "code",
      "metadata": {
        "id": "mXGPvuYTkCpa",
        "colab_type": "code",
        "colab": {}
      },
      "source": [
        "# Transfer learning을 위해 Custom Layer를 작성\n",
        "# NonMasking 함수를 지정해서, Bert 모형의 자체 Masking 된 텐서들을 풀어줌\n",
        "# 이 문제에서 만약 NonMasking 클래스를 만들지 않는다면, Bert 모형을 훈련할 수 없음\n",
        "\n",
        "class NonMasking(Layer):   \n",
        "    def __init__(self, **kwargs):   \n",
        "        self.supports_masking = True  \n",
        "        super(NonMasking, self).__init__(**kwargs)   \n",
        "  \n",
        "    def build(self, input_shape):   \n",
        "        input_shape = input_shape   \n",
        "  \n",
        "    def compute_mask(self, input, input_mask=None):   \n",
        "        return None   \n",
        "  \n",
        "    def call(self, x, mask=None):   \n",
        "        return x   \n",
        "  \n",
        "    def get_output_shape_for(self, input_shape):   \n",
        "        return input_shape"
      ],
      "execution_count": 0,
      "outputs": []
    },
    {
      "cell_type": "code",
      "metadata": {
        "id": "1evYhOLNkCsO",
        "colab_type": "code",
        "colab": {}
      },
      "source": [
        "# Keras Custom Layer 2개를 생성\n",
        "# --MyLayer_Start는 정답의 첫 번째 단어를 예측하는 것을 담당\n",
        "# --MyLaer_End는 정답의 마지막 단어를 예측하는 것을 담당\n",
        "\n",
        "# 사실 두 레이어는 동일한 역할을 수행\n",
        "# --Bert 모형의 마지막 입력을 받아서, (batch_size, 384, 768)의 텐서 모양을 (batch_size, 384, 2)로 만들어주는 텐서를 곱해줌\n",
        "# --이후 i) (batch_size, 384), ii) (batch_size, 384)의 아웃풋을 출력할 수 있게 하나의 텐서를 두개로 잘라줌\n",
        "\n",
        "# 왜 끝이 384냐면, 384개의 위치를 예측하기 때문 -> 단어의 위치의 최대 개수는 384개로 앞서 지정했음(SEQ_LEN)\n",
        "\n",
        "class MyLayer_Start(Layer):\n",
        "\n",
        "    def __init__(self,seq_len, **kwargs):\n",
        "        \n",
        "        self.seq_len = seq_len\n",
        "        self.supports_masking = True\n",
        "        super(MyLayer_Start, self).__init__(**kwargs)\n",
        "\n",
        "    def build(self, input_shape):\n",
        "        \n",
        "        self.W = self.add_weight(name='kernel', \n",
        "                                 shape=(input_shape[2],2),\n",
        "                                 initializer='uniform',\n",
        "                                 trainable=True)\n",
        "        super(MyLayer_Start, self).build(input_shape)\n",
        "\n",
        "    def call(self, x):\n",
        "        \n",
        "        x = K.reshape(x, shape=(-1,self.seq_len,K.shape(x)[2]))\n",
        "        x = K.dot(x, self.W)\n",
        "        \n",
        "        x = K.permute_dimensions(x, (2,0,1))\n",
        "\n",
        "        self.start_logits, self.end_logits = x[0], x[1]\n",
        "        \n",
        "        self.start_logits = K.softmax(self.start_logits, axis=-1)\n",
        "        \n",
        "        return self.start_logits\n",
        "\n",
        "    def compute_output_shape(self, input_shape):\n",
        "        return (input_shape[0], self.seq_len)\n",
        "\n",
        "\n",
        "class MyLayer_End(Layer):\n",
        "  def __init__(self,seq_len, **kwargs):\n",
        "        \n",
        "        self.seq_len = seq_len\n",
        "        self.supports_masking = True\n",
        "        super(MyLayer_End, self).__init__(**kwargs)\n",
        "  \n",
        "  def build(self, input_shape):\n",
        "        \n",
        "        self.W = self.add_weight(name='kernel', \n",
        "                                 shape=(input_shape[2], 2),\n",
        "                                 initializer='uniform',\n",
        "                                 trainable=True)\n",
        "        super(MyLayer_End, self).build(input_shape)\n",
        "\n",
        "  \n",
        "  def call(self, x):\n",
        "\n",
        "        \n",
        "        x = K.reshape(x, shape=(-1,self.seq_len,K.shape(x)[2]))\n",
        "        x = K.dot(x, self.W)\n",
        "        x = K.permute_dimensions(x, (2,0,1))\n",
        "        \n",
        "        self.start_logits, self.end_logits = x[0], x[1]\n",
        "        \n",
        "        self.end_logits = K.softmax(self.end_logits, axis=-1)\n",
        "        \n",
        "        return self.end_logits\n",
        "\n",
        "  def compute_output_shape(self, input_shape):\n",
        "        return (input_shape[0], self.seq_len)"
      ],
      "execution_count": 0,
      "outputs": []
    },
    {
      "cell_type": "code",
      "metadata": {
        "id": "sUjS_QGAkCvO",
        "colab_type": "code",
        "colab": {}
      },
      "source": [
        "# BERT 모델을 출력하는 함수를 지정\n",
        "# start_answer, end_answer를 예측하게 됨\n",
        "\n",
        "from keras.layers import merge, dot, concatenate\n",
        "from keras import metrics\n",
        "def get_bert_finetuning_model(model):\n",
        "  inputs = model.inputs[:2]\n",
        "  dense = model.output\n",
        "  x = NonMasking()(dense)\n",
        "  outputs_start = MyLayer_Start(SEQ_LEN)(x)\n",
        "  outputs_end = MyLayer_End(SEQ_LEN)(x)\n",
        "  bert_model = keras.models.Model(inputs, [outputs_start, outputs_end])\n",
        "  bert_model.compile(\n",
        "      optimizer=RAdam(learning_rate=LR, decay=0.0001),\n",
        "      loss='categorical_crossentropy',\n",
        "      metrics=['accuracy'])\n",
        "  \n",
        "  return bert_model"
      ],
      "execution_count": 0,
      "outputs": []
    },
    {
      "cell_type": "code",
      "metadata": {
        "id": "b_CH6JiGkCym",
        "colab_type": "code",
        "colab": {
          "base_uri": "https://localhost:8080/",
          "height": 1000
        },
        "outputId": "705e9725-084a-4e6d-8d8f-6e254092d2e3"
      },
      "source": [
        "# 모델의 FLOW 확인\n",
        "\n",
        "from IPython.display import SVG\n",
        "from keras.utils import model_to_dot\n",
        "\n",
        "SVG(model_to_dot(get_bert_finetuning_model(model), dpi=65).create(prog='dot', format='svg'))"
      ],
      "execution_count": 32,
      "outputs": [
        {
          "output_type": "execute_result",
          "data": {
            "text/plain": [
              "<IPython.core.display.SVG object>"
            ],
            "image/svg+xml": "<svg height=\"6829pt\" viewBox=\"0.00 0.00 549.50 7564.00\" width=\"496pt\" xmlns=\"http://www.w3.org/2000/svg\" xmlns:xlink=\"http://www.w3.org/1999/xlink\">\n<g class=\"graph\" id=\"graph0\" transform=\"scale(.9028 .9028) rotate(0) translate(4 7560)\">\n<title>G</title>\n<polygon fill=\"#ffffff\" points=\"-4,4 -4,-7560 545.5,-7560 545.5,4 -4,4\" stroke=\"transparent\"/>\n<!-- 139621340030568 -->\n<g class=\"node\" id=\"node1\">\n<title>139621340030568</title>\n<polygon fill=\"none\" points=\"110.5,-7519.5 110.5,-7555.5 270.5,-7555.5 270.5,-7519.5 110.5,-7519.5\" stroke=\"#000000\"/>\n<text fill=\"#000000\" font-family=\"Times,serif\" font-size=\"14.00\" text-anchor=\"middle\" x=\"190.5\" y=\"-7533.8\">Input-Token: InputLayer</text>\n</g>\n<!-- 139621340032080 -->\n<g class=\"node\" id=\"node3\">\n<title>139621340032080</title>\n<polygon fill=\"none\" points=\"72,-7446.5 72,-7482.5 309,-7482.5 309,-7446.5 72,-7446.5\" stroke=\"#000000\"/>\n<text fill=\"#000000\" font-family=\"Times,serif\" font-size=\"14.00\" text-anchor=\"middle\" x=\"190.5\" y=\"-7460.8\">Embedding-Token: TokenEmbedding</text>\n</g>\n<!-- 139621340030568&#45;&gt;139621340032080 -->\n<g class=\"edge\" id=\"edge1\">\n<title>139621340030568-&gt;139621340032080</title>\n<path d=\"M190.5,-7519.4551C190.5,-7511.3828 190.5,-7501.6764 190.5,-7492.6817\" fill=\"none\" stroke=\"#000000\"/>\n<polygon fill=\"#000000\" points=\"194.0001,-7492.5903 190.5,-7482.5904 187.0001,-7492.5904 194.0001,-7492.5903\" stroke=\"#000000\"/>\n</g>\n<!-- 139621340031800 -->\n<g class=\"node\" id=\"node2\">\n<title>139621340031800</title>\n<polygon fill=\"none\" points=\"348,-7519.5 348,-7555.5 521,-7555.5 521,-7519.5 348,-7519.5\" stroke=\"#000000\"/>\n<text fill=\"#000000\" font-family=\"Times,serif\" font-size=\"14.00\" text-anchor=\"middle\" x=\"434.5\" y=\"-7533.8\">Input-Segment: InputLayer</text>\n</g>\n<!-- 139621340030176 -->\n<g class=\"node\" id=\"node4\">\n<title>139621340030176</title>\n<polygon fill=\"none\" points=\"327.5,-7446.5 327.5,-7482.5 541.5,-7482.5 541.5,-7446.5 327.5,-7446.5\" stroke=\"#000000\"/>\n<text fill=\"#000000\" font-family=\"Times,serif\" font-size=\"14.00\" text-anchor=\"middle\" x=\"434.5\" y=\"-7460.8\">Embedding-Segment: Embedding</text>\n</g>\n<!-- 139621340031800&#45;&gt;139621340030176 -->\n<g class=\"edge\" id=\"edge2\">\n<title>139621340031800-&gt;139621340030176</title>\n<path d=\"M434.5,-7519.4551C434.5,-7511.3828 434.5,-7501.6764 434.5,-7492.6817\" fill=\"none\" stroke=\"#000000\"/>\n<polygon fill=\"#000000\" points=\"438.0001,-7492.5903 434.5,-7482.5904 431.0001,-7492.5904 438.0001,-7492.5903\" stroke=\"#000000\"/>\n</g>\n<!-- 139621340032528 -->\n<g class=\"node\" id=\"node5\">\n<title>139621340032528</title>\n<polygon fill=\"none\" points=\"206.5,-7373.5 206.5,-7409.5 418.5,-7409.5 418.5,-7373.5 206.5,-7373.5\" stroke=\"#000000\"/>\n<text fill=\"#000000\" font-family=\"Times,serif\" font-size=\"14.00\" text-anchor=\"middle\" x=\"312.5\" y=\"-7387.8\">Embedding-Token-Segment: Add</text>\n</g>\n<!-- 139621340032080&#45;&gt;139621340032528 -->\n<g class=\"edge\" id=\"edge3\">\n<title>139621340032080-&gt;139621340032528</title>\n<path d=\"M220.6573,-7446.4551C236.6407,-7436.8912 256.4579,-7425.0334 273.5882,-7414.7833\" fill=\"none\" stroke=\"#000000\"/>\n<polygon fill=\"#000000\" points=\"275.4828,-7417.7284 282.2668,-7409.5904 271.8885,-7411.7216 275.4828,-7417.7284\" stroke=\"#000000\"/>\n</g>\n<!-- 139621340030176&#45;&gt;139621340032528 -->\n<g class=\"edge\" id=\"edge4\">\n<title>139621340030176-&gt;139621340032528</title>\n<path d=\"M404.3427,-7446.4551C388.3593,-7436.8912 368.5421,-7425.0334 351.4118,-7414.7833\" fill=\"none\" stroke=\"#000000\"/>\n<polygon fill=\"#000000\" points=\"353.1115,-7411.7216 342.7332,-7409.5904 349.5172,-7417.7284 353.1115,-7411.7216\" stroke=\"#000000\"/>\n</g>\n<!-- 139621340032360 -->\n<g class=\"node\" id=\"node6\">\n<title>139621340032360</title>\n<polygon fill=\"none\" points=\"183.5,-7300.5 183.5,-7336.5 441.5,-7336.5 441.5,-7300.5 183.5,-7300.5\" stroke=\"#000000\"/>\n<text fill=\"#000000\" font-family=\"Times,serif\" font-size=\"14.00\" text-anchor=\"middle\" x=\"312.5\" y=\"-7314.8\">Embedding-Position: PositionEmbedding</text>\n</g>\n<!-- 139621340032528&#45;&gt;139621340032360 -->\n<g class=\"edge\" id=\"edge5\">\n<title>139621340032528-&gt;139621340032360</title>\n<path d=\"M312.5,-7373.4551C312.5,-7365.3828 312.5,-7355.6764 312.5,-7346.6817\" fill=\"none\" stroke=\"#000000\"/>\n<polygon fill=\"#000000\" points=\"316.0001,-7346.5903 312.5,-7336.5904 309.0001,-7346.5904 316.0001,-7346.5903\" stroke=\"#000000\"/>\n</g>\n<!-- 139621325536056 -->\n<g class=\"node\" id=\"node7\">\n<title>139621325536056</title>\n<polygon fill=\"none\" points=\"215.5,-7227.5 215.5,-7263.5 409.5,-7263.5 409.5,-7227.5 215.5,-7227.5\" stroke=\"#000000\"/>\n<text fill=\"#000000\" font-family=\"Times,serif\" font-size=\"14.00\" text-anchor=\"middle\" x=\"312.5\" y=\"-7241.8\">Embedding-Dropout: Dropout</text>\n</g>\n<!-- 139621340032360&#45;&gt;139621325536056 -->\n<g class=\"edge\" id=\"edge6\">\n<title>139621340032360-&gt;139621325536056</title>\n<path d=\"M312.5,-7300.4551C312.5,-7292.3828 312.5,-7282.6764 312.5,-7273.6817\" fill=\"none\" stroke=\"#000000\"/>\n<polygon fill=\"#000000\" points=\"316.0001,-7273.5903 312.5,-7263.5904 309.0001,-7273.5904 316.0001,-7273.5903\" stroke=\"#000000\"/>\n</g>\n<!-- 139621325536168 -->\n<g class=\"node\" id=\"node8\">\n<title>139621325536168</title>\n<polygon fill=\"none\" points=\"190,-7154.5 190,-7190.5 435,-7190.5 435,-7154.5 190,-7154.5\" stroke=\"#000000\"/>\n<text fill=\"#000000\" font-family=\"Times,serif\" font-size=\"14.00\" text-anchor=\"middle\" x=\"312.5\" y=\"-7168.8\">Embedding-Norm: LayerNormalization</text>\n</g>\n<!-- 139621325536056&#45;&gt;139621325536168 -->\n<g class=\"edge\" id=\"edge7\">\n<title>139621325536056-&gt;139621325536168</title>\n<path d=\"M312.5,-7227.4551C312.5,-7219.3828 312.5,-7209.6764 312.5,-7200.6817\" fill=\"none\" stroke=\"#000000\"/>\n<polygon fill=\"#000000\" points=\"316.0001,-7200.5903 312.5,-7190.5904 309.0001,-7200.5904 316.0001,-7200.5903\" stroke=\"#000000\"/>\n</g>\n<!-- 139621351300568 -->\n<g class=\"node\" id=\"node9\">\n<title>139621351300568</title>\n<polygon fill=\"none\" points=\"42.5,-7081.5 42.5,-7117.5 384.5,-7117.5 384.5,-7081.5 42.5,-7081.5\" stroke=\"#000000\"/>\n<text fill=\"#000000\" font-family=\"Times,serif\" font-size=\"14.00\" text-anchor=\"middle\" x=\"213.5\" y=\"-7095.8\">Encoder-1-MultiHeadSelfAttention: MultiHeadAttention</text>\n</g>\n<!-- 139621325536168&#45;&gt;139621351300568 -->\n<g class=\"edge\" id=\"edge8\">\n<title>139621325536168-&gt;139621351300568</title>\n<path d=\"M288.0281,-7154.4551C275.4149,-7145.1545 259.8597,-7133.6844 246.2286,-7123.6332\" fill=\"none\" stroke=\"#000000\"/>\n<polygon fill=\"#000000\" points=\"248.1592,-7120.7082 238.0335,-7117.5904 244.0049,-7126.3421 248.1592,-7120.7082\" stroke=\"#000000\"/>\n</g>\n<!-- 139621351128984 -->\n<g class=\"node\" id=\"node11\">\n<title>139621351128984</title>\n<polygon fill=\"none\" points=\"173,-6935.5 173,-6971.5 454,-6971.5 454,-6935.5 173,-6935.5\" stroke=\"#000000\"/>\n<text fill=\"#000000\" font-family=\"Times,serif\" font-size=\"14.00\" text-anchor=\"middle\" x=\"313.5\" y=\"-6949.8\">Encoder-1-MultiHeadSelfAttention-Add: Add</text>\n</g>\n<!-- 139621325536168&#45;&gt;139621351128984 -->\n<g class=\"edge\" id=\"edge10\">\n<title>139621325536168-&gt;139621351128984</title>\n<path d=\"M355.0685,-7154.3804C370.0065,-7145.7 385.1359,-7133.7088 393.5,-7118 401.1793,-7103.5774 400.9885,-7027.2923 390.5,-7008 383.7016,-6995.4953 372.6452,-6985.1998 361.0052,-6977.0548\" fill=\"none\" stroke=\"#000000\"/>\n<polygon fill=\"#000000\" points=\"362.7688,-6974.0266 352.4788,-6971.5031 358.9492,-6979.8927 362.7688,-6974.0266\" stroke=\"#000000\"/>\n</g>\n<!-- 139621351464912 -->\n<g class=\"node\" id=\"node10\">\n<title>139621351464912</title>\n<polygon fill=\"none\" points=\"53,-7008.5 53,-7044.5 382,-7044.5 382,-7008.5 53,-7008.5\" stroke=\"#000000\"/>\n<text fill=\"#000000\" font-family=\"Times,serif\" font-size=\"14.00\" text-anchor=\"middle\" x=\"217.5\" y=\"-7022.8\">Encoder-1-MultiHeadSelfAttention-Dropout: Dropout</text>\n</g>\n<!-- 139621351300568&#45;&gt;139621351464912 -->\n<g class=\"edge\" id=\"edge9\">\n<title>139621351300568-&gt;139621351464912</title>\n<path d=\"M214.4888,-7081.4551C214.9311,-7073.3828 215.4629,-7063.6764 215.9558,-7054.6817\" fill=\"none\" stroke=\"#000000\"/>\n<polygon fill=\"#000000\" points=\"219.4563,-7054.7669 216.5087,-7044.5904 212.4668,-7054.3839 219.4563,-7054.7669\" stroke=\"#000000\"/>\n</g>\n<!-- 139621351464912&#45;&gt;139621351128984 -->\n<g class=\"edge\" id=\"edge11\">\n<title>139621351464912-&gt;139621351128984</title>\n<path d=\"M241.2303,-7008.4551C253.3459,-6999.2422 268.2608,-6987.9006 281.3886,-6977.918\" fill=\"none\" stroke=\"#000000\"/>\n<polygon fill=\"#000000\" points=\"283.8684,-6980.4293 289.7099,-6971.5904 279.6314,-6974.8573 283.8684,-6980.4293\" stroke=\"#000000\"/>\n</g>\n<!-- 139621337090256 -->\n<g class=\"node\" id=\"node12\">\n<title>139621337090256</title>\n<polygon fill=\"none\" points=\"123.5,-6862.5 123.5,-6898.5 503.5,-6898.5 503.5,-6862.5 123.5,-6862.5\" stroke=\"#000000\"/>\n<text fill=\"#000000\" font-family=\"Times,serif\" font-size=\"14.00\" text-anchor=\"middle\" x=\"313.5\" y=\"-6876.8\">Encoder-1-MultiHeadSelfAttention-Norm: LayerNormalization</text>\n</g>\n<!-- 139621351128984&#45;&gt;139621337090256 -->\n<g class=\"edge\" id=\"edge12\">\n<title>139621351128984-&gt;139621337090256</title>\n<path d=\"M313.5,-6935.4551C313.5,-6927.3828 313.5,-6917.6764 313.5,-6908.6817\" fill=\"none\" stroke=\"#000000\"/>\n<polygon fill=\"#000000\" points=\"317.0001,-6908.5903 313.5,-6898.5904 310.0001,-6908.5904 317.0001,-6908.5903\" stroke=\"#000000\"/>\n</g>\n<!-- 139621337091432 -->\n<g class=\"node\" id=\"node13\">\n<title>139621337091432</title>\n<polygon fill=\"none\" points=\"118.5,-6789.5 118.5,-6825.5 360.5,-6825.5 360.5,-6789.5 118.5,-6789.5\" stroke=\"#000000\"/>\n<text fill=\"#000000\" font-family=\"Times,serif\" font-size=\"14.00\" text-anchor=\"middle\" x=\"239.5\" y=\"-6803.8\">Encoder-1-FeedForward: FeedForward</text>\n</g>\n<!-- 139621337090256&#45;&gt;139621337091432 -->\n<g class=\"edge\" id=\"edge13\">\n<title>139621337090256-&gt;139621337091432</title>\n<path d=\"M295.2079,-6862.4551C286.1356,-6853.5054 275.0271,-6842.547 265.1232,-6832.7769\" fill=\"none\" stroke=\"#000000\"/>\n<polygon fill=\"#000000\" points=\"267.4152,-6830.1215 257.8382,-6825.5904 262.4992,-6835.1049 267.4152,-6830.1215\" stroke=\"#000000\"/>\n</g>\n<!-- 139621336364256 -->\n<g class=\"node\" id=\"node15\">\n<title>139621336364256</title>\n<polygon fill=\"none\" points=\"203.5,-6643.5 203.5,-6679.5 423.5,-6679.5 423.5,-6643.5 203.5,-6643.5\" stroke=\"#000000\"/>\n<text fill=\"#000000\" font-family=\"Times,serif\" font-size=\"14.00\" text-anchor=\"middle\" x=\"313.5\" y=\"-6657.8\">Encoder-1-FeedForward-Add: Add</text>\n</g>\n<!-- 139621337090256&#45;&gt;139621336364256 -->\n<g class=\"edge\" id=\"edge15\">\n<title>139621337090256-&gt;139621336364256</title>\n<path d=\"M339.1147,-6862.4444C350.4534,-6852.9752 362.7322,-6840.3575 369.5,-6826 390.3764,-6781.7122 395.6809,-6760.609 375.5,-6716 370.2852,-6704.4728 361.2939,-6694.4147 351.751,-6686.1833\" fill=\"none\" stroke=\"#000000\"/>\n<polygon fill=\"#000000\" points=\"353.6666,-6683.2331 343.676,-6679.7064 349.2868,-6688.6936 353.6666,-6683.2331\" stroke=\"#000000\"/>\n</g>\n<!-- 139621337248096 -->\n<g class=\"node\" id=\"node14\">\n<title>139621337248096</title>\n<polygon fill=\"none\" points=\"99,-6716.5 99,-6752.5 366,-6752.5 366,-6716.5 99,-6716.5\" stroke=\"#000000\"/>\n<text fill=\"#000000\" font-family=\"Times,serif\" font-size=\"14.00\" text-anchor=\"middle\" x=\"232.5\" y=\"-6730.8\">Encoder-1-FeedForward-Dropout: Dropout</text>\n</g>\n<!-- 139621337091432&#45;&gt;139621337248096 -->\n<g class=\"edge\" id=\"edge14\">\n<title>139621337091432-&gt;139621337248096</title>\n<path d=\"M237.7697,-6789.4551C236.9956,-6781.3828 236.0649,-6771.6764 235.2024,-6762.6817\" fill=\"none\" stroke=\"#000000\"/>\n<polygon fill=\"#000000\" points=\"238.6733,-6762.2106 234.2347,-6752.5904 231.7053,-6762.8788 238.6733,-6762.2106\" stroke=\"#000000\"/>\n</g>\n<!-- 139621337248096&#45;&gt;139621336364256 -->\n<g class=\"edge\" id=\"edge16\">\n<title>139621337248096-&gt;139621336364256</title>\n<path d=\"M252.5225,-6716.4551C262.5502,-6707.4177 274.8509,-6696.3319 285.7714,-6686.4899\" fill=\"none\" stroke=\"#000000\"/>\n<polygon fill=\"#000000\" points=\"288.3419,-6688.885 293.4271,-6679.5904 283.6556,-6683.6852 288.3419,-6688.885\" stroke=\"#000000\"/>\n</g>\n<!-- 139621332493928 -->\n<g class=\"node\" id=\"node16\">\n<title>139621332493928</title>\n<polygon fill=\"none\" points=\"154.5,-6570.5 154.5,-6606.5 472.5,-6606.5 472.5,-6570.5 154.5,-6570.5\" stroke=\"#000000\"/>\n<text fill=\"#000000\" font-family=\"Times,serif\" font-size=\"14.00\" text-anchor=\"middle\" x=\"313.5\" y=\"-6584.8\">Encoder-1-FeedForward-Norm: LayerNormalization</text>\n</g>\n<!-- 139621336364256&#45;&gt;139621332493928 -->\n<g class=\"edge\" id=\"edge17\">\n<title>139621336364256-&gt;139621332493928</title>\n<path d=\"M313.5,-6643.4551C313.5,-6635.3828 313.5,-6625.6764 313.5,-6616.6817\" fill=\"none\" stroke=\"#000000\"/>\n<polygon fill=\"#000000\" points=\"317.0001,-6616.5903 313.5,-6606.5904 310.0001,-6616.5904 317.0001,-6616.5903\" stroke=\"#000000\"/>\n</g>\n<!-- 139621332565408 -->\n<g class=\"node\" id=\"node17\">\n<title>139621332565408</title>\n<polygon fill=\"none\" points=\"43.5,-6497.5 43.5,-6533.5 385.5,-6533.5 385.5,-6497.5 43.5,-6497.5\" stroke=\"#000000\"/>\n<text fill=\"#000000\" font-family=\"Times,serif\" font-size=\"14.00\" text-anchor=\"middle\" x=\"214.5\" y=\"-6511.8\">Encoder-2-MultiHeadSelfAttention: MultiHeadAttention</text>\n</g>\n<!-- 139621332493928&#45;&gt;139621332565408 -->\n<g class=\"edge\" id=\"edge18\">\n<title>139621332493928-&gt;139621332565408</title>\n<path d=\"M289.0281,-6570.4551C276.4149,-6561.1545 260.8597,-6549.6844 247.2286,-6539.6332\" fill=\"none\" stroke=\"#000000\"/>\n<polygon fill=\"#000000\" points=\"249.1592,-6536.7082 239.0335,-6533.5904 245.0049,-6542.3421 249.1592,-6536.7082\" stroke=\"#000000\"/>\n</g>\n<!-- 139621331181016 -->\n<g class=\"node\" id=\"node19\">\n<title>139621331181016</title>\n<polygon fill=\"none\" points=\"175,-6351.5 175,-6387.5 456,-6387.5 456,-6351.5 175,-6351.5\" stroke=\"#000000\"/>\n<text fill=\"#000000\" font-family=\"Times,serif\" font-size=\"14.00\" text-anchor=\"middle\" x=\"315.5\" y=\"-6365.8\">Encoder-2-MultiHeadSelfAttention-Add: Add</text>\n</g>\n<!-- 139621332493928&#45;&gt;139621331181016 -->\n<g class=\"edge\" id=\"edge20\">\n<title>139621332493928-&gt;139621331181016</title>\n<path d=\"M356.0685,-6570.3804C371.0065,-6561.7 386.1359,-6549.7088 394.5,-6534 402.5894,-6518.8071 400.2511,-6441.9102 390.5,-6424 383.7494,-6411.601 372.8204,-6401.3006 361.3687,-6393.1162\" fill=\"none\" stroke=\"#000000\"/>\n<polygon fill=\"#000000\" points=\"363.2521,-6390.1654 352.99,-6387.531 359.3694,-6395.9899 363.2521,-6390.1654\" stroke=\"#000000\"/>\n</g>\n<!-- 139621332614336 -->\n<g class=\"node\" id=\"node18\">\n<title>139621332614336</title>\n<polygon fill=\"none\" points=\"53,-6424.5 53,-6460.5 382,-6460.5 382,-6424.5 53,-6424.5\" stroke=\"#000000\"/>\n<text fill=\"#000000\" font-family=\"Times,serif\" font-size=\"14.00\" text-anchor=\"middle\" x=\"217.5\" y=\"-6438.8\">Encoder-2-MultiHeadSelfAttention-Dropout: Dropout</text>\n</g>\n<!-- 139621332565408&#45;&gt;139621332614336 -->\n<g class=\"edge\" id=\"edge19\">\n<title>139621332565408-&gt;139621332614336</title>\n<path d=\"M215.2416,-6497.4551C215.5733,-6489.3828 215.9722,-6479.6764 216.3418,-6470.6817\" fill=\"none\" stroke=\"#000000\"/>\n<polygon fill=\"#000000\" points=\"219.8429,-6470.7257 216.7566,-6460.5904 212.8488,-6470.4382 219.8429,-6470.7257\" stroke=\"#000000\"/>\n</g>\n<!-- 139621332614336&#45;&gt;139621331181016 -->\n<g class=\"edge\" id=\"edge21\">\n<title>139621332614336-&gt;139621331181016</title>\n<path d=\"M241.7247,-6424.4551C254.2105,-6415.1545 269.6086,-6403.6844 283.102,-6393.6332\" fill=\"none\" stroke=\"#000000\"/>\n<polygon fill=\"#000000\" points=\"285.2855,-6396.371 291.2143,-6387.5904 281.1039,-6390.7573 285.2855,-6396.371\" stroke=\"#000000\"/>\n</g>\n<!-- 139621328080512 -->\n<g class=\"node\" id=\"node20\">\n<title>139621328080512</title>\n<polygon fill=\"none\" points=\"125.5,-6278.5 125.5,-6314.5 505.5,-6314.5 505.5,-6278.5 125.5,-6278.5\" stroke=\"#000000\"/>\n<text fill=\"#000000\" font-family=\"Times,serif\" font-size=\"14.00\" text-anchor=\"middle\" x=\"315.5\" y=\"-6292.8\">Encoder-2-MultiHeadSelfAttention-Norm: LayerNormalization</text>\n</g>\n<!-- 139621331181016&#45;&gt;139621328080512 -->\n<g class=\"edge\" id=\"edge22\">\n<title>139621331181016-&gt;139621328080512</title>\n<path d=\"M315.5,-6351.4551C315.5,-6343.3828 315.5,-6333.6764 315.5,-6324.6817\" fill=\"none\" stroke=\"#000000\"/>\n<polygon fill=\"#000000\" points=\"319.0001,-6324.5903 315.5,-6314.5904 312.0001,-6324.5904 319.0001,-6324.5903\" stroke=\"#000000\"/>\n</g>\n<!-- 139621328079280 -->\n<g class=\"node\" id=\"node21\">\n<title>139621328079280</title>\n<polygon fill=\"none\" points=\"113.5,-6205.5 113.5,-6241.5 355.5,-6241.5 355.5,-6205.5 113.5,-6205.5\" stroke=\"#000000\"/>\n<text fill=\"#000000\" font-family=\"Times,serif\" font-size=\"14.00\" text-anchor=\"middle\" x=\"234.5\" y=\"-6219.8\">Encoder-2-FeedForward: FeedForward</text>\n</g>\n<!-- 139621328080512&#45;&gt;139621328079280 -->\n<g class=\"edge\" id=\"edge23\">\n<title>139621328080512-&gt;139621328079280</title>\n<path d=\"M295.4775,-6278.4551C285.4498,-6269.4177 273.1491,-6258.3319 262.2286,-6248.4899\" fill=\"none\" stroke=\"#000000\"/>\n<polygon fill=\"#000000\" points=\"264.3444,-6245.6852 254.5729,-6241.5904 259.6581,-6250.885 264.3444,-6245.6852\" stroke=\"#000000\"/>\n</g>\n<!-- 139621327109872 -->\n<g class=\"node\" id=\"node23\">\n<title>139621327109872</title>\n<polygon fill=\"none\" points=\"199.5,-6059.5 199.5,-6095.5 419.5,-6095.5 419.5,-6059.5 199.5,-6059.5\" stroke=\"#000000\"/>\n<text fill=\"#000000\" font-family=\"Times,serif\" font-size=\"14.00\" text-anchor=\"middle\" x=\"309.5\" y=\"-6073.8\">Encoder-2-FeedForward-Add: Add</text>\n</g>\n<!-- 139621328080512&#45;&gt;139621327109872 -->\n<g class=\"edge\" id=\"edge25\">\n<title>139621328080512-&gt;139621327109872</title>\n<path d=\"M337.3471,-6278.291C347.3936,-6268.6134 358.4097,-6255.8624 364.5,-6242 384.2044,-6197.1498 391.6917,-6176.6329 371.5,-6132 366.2852,-6120.4728 357.2939,-6110.4147 347.751,-6102.1833\" fill=\"none\" stroke=\"#000000\"/>\n<polygon fill=\"#000000\" points=\"349.6666,-6099.2331 339.676,-6095.7064 345.2868,-6104.6936 349.6666,-6099.2331\" stroke=\"#000000\"/>\n</g>\n<!-- 139621326960232 -->\n<g class=\"node\" id=\"node22\">\n<title>139621326960232</title>\n<polygon fill=\"none\" points=\"95,-6132.5 95,-6168.5 362,-6168.5 362,-6132.5 95,-6132.5\" stroke=\"#000000\"/>\n<text fill=\"#000000\" font-family=\"Times,serif\" font-size=\"14.00\" text-anchor=\"middle\" x=\"228.5\" y=\"-6146.8\">Encoder-2-FeedForward-Dropout: Dropout</text>\n</g>\n<!-- 139621328079280&#45;&gt;139621326960232 -->\n<g class=\"edge\" id=\"edge24\">\n<title>139621328079280-&gt;139621326960232</title>\n<path d=\"M233.0169,-6205.4551C232.3534,-6197.3828 231.5556,-6187.6764 230.8163,-6178.6817\" fill=\"none\" stroke=\"#000000\"/>\n<polygon fill=\"#000000\" points=\"234.2944,-6178.27 229.9869,-6168.5904 227.3179,-6178.8435 234.2944,-6178.27\" stroke=\"#000000\"/>\n</g>\n<!-- 139621326960232&#45;&gt;139621327109872 -->\n<g class=\"edge\" id=\"edge26\">\n<title>139621326960232-&gt;139621327109872</title>\n<path d=\"M248.5225,-6132.4551C258.5502,-6123.4177 270.8509,-6112.3319 281.7714,-6102.4899\" fill=\"none\" stroke=\"#000000\"/>\n<polygon fill=\"#000000\" points=\"284.3419,-6104.885 289.4271,-6095.5904 279.6556,-6099.6852 284.3419,-6104.885\" stroke=\"#000000\"/>\n</g>\n<!-- 139621323354008 -->\n<g class=\"node\" id=\"node24\">\n<title>139621323354008</title>\n<polygon fill=\"none\" points=\"150.5,-5986.5 150.5,-6022.5 468.5,-6022.5 468.5,-5986.5 150.5,-5986.5\" stroke=\"#000000\"/>\n<text fill=\"#000000\" font-family=\"Times,serif\" font-size=\"14.00\" text-anchor=\"middle\" x=\"309.5\" y=\"-6000.8\">Encoder-2-FeedForward-Norm: LayerNormalization</text>\n</g>\n<!-- 139621327109872&#45;&gt;139621323354008 -->\n<g class=\"edge\" id=\"edge27\">\n<title>139621327109872-&gt;139621323354008</title>\n<path d=\"M309.5,-6059.4551C309.5,-6051.3828 309.5,-6041.6764 309.5,-6032.6817\" fill=\"none\" stroke=\"#000000\"/>\n<polygon fill=\"#000000\" points=\"313.0001,-6032.5903 309.5,-6022.5904 306.0001,-6032.5904 313.0001,-6032.5903\" stroke=\"#000000\"/>\n</g>\n<!-- 139621323353280 -->\n<g class=\"node\" id=\"node25\">\n<title>139621323353280</title>\n<polygon fill=\"none\" points=\"39.5,-5913.5 39.5,-5949.5 381.5,-5949.5 381.5,-5913.5 39.5,-5913.5\" stroke=\"#000000\"/>\n<text fill=\"#000000\" font-family=\"Times,serif\" font-size=\"14.00\" text-anchor=\"middle\" x=\"210.5\" y=\"-5927.8\">Encoder-3-MultiHeadSelfAttention: MultiHeadAttention</text>\n</g>\n<!-- 139621323354008&#45;&gt;139621323353280 -->\n<g class=\"edge\" id=\"edge28\">\n<title>139621323354008-&gt;139621323353280</title>\n<path d=\"M285.0281,-5986.4551C272.4149,-5977.1545 256.8597,-5965.6844 243.2286,-5955.6332\" fill=\"none\" stroke=\"#000000\"/>\n<polygon fill=\"#000000\" points=\"245.1592,-5952.7082 235.0335,-5949.5904 241.0049,-5958.3421 245.1592,-5952.7082\" stroke=\"#000000\"/>\n</g>\n<!-- 139621321575168 -->\n<g class=\"node\" id=\"node27\">\n<title>139621321575168</title>\n<polygon fill=\"none\" points=\"171,-5767.5 171,-5803.5 452,-5803.5 452,-5767.5 171,-5767.5\" stroke=\"#000000\"/>\n<text fill=\"#000000\" font-family=\"Times,serif\" font-size=\"14.00\" text-anchor=\"middle\" x=\"311.5\" y=\"-5781.8\">Encoder-3-MultiHeadSelfAttention-Add: Add</text>\n</g>\n<!-- 139621323354008&#45;&gt;139621321575168 -->\n<g class=\"edge\" id=\"edge30\">\n<title>139621323354008-&gt;139621321575168</title>\n<path d=\"M352.0685,-5986.3804C367.0065,-5977.7 382.1359,-5965.7088 390.5,-5950 398.5894,-5934.8071 396.2511,-5857.9102 386.5,-5840 379.7494,-5827.601 368.8204,-5817.3006 357.3687,-5809.1162\" fill=\"none\" stroke=\"#000000\"/>\n<polygon fill=\"#000000\" points=\"359.2521,-5806.1654 348.99,-5803.531 355.3694,-5811.9899 359.2521,-5806.1654\" stroke=\"#000000\"/>\n</g>\n<!-- 139621321395336 -->\n<g class=\"node\" id=\"node26\">\n<title>139621321395336</title>\n<polygon fill=\"none\" points=\"49,-5840.5 49,-5876.5 378,-5876.5 378,-5840.5 49,-5840.5\" stroke=\"#000000\"/>\n<text fill=\"#000000\" font-family=\"Times,serif\" font-size=\"14.00\" text-anchor=\"middle\" x=\"213.5\" y=\"-5854.8\">Encoder-3-MultiHeadSelfAttention-Dropout: Dropout</text>\n</g>\n<!-- 139621323353280&#45;&gt;139621321395336 -->\n<g class=\"edge\" id=\"edge29\">\n<title>139621323353280-&gt;139621321395336</title>\n<path d=\"M211.2416,-5913.4551C211.5733,-5905.3828 211.9722,-5895.6764 212.3418,-5886.6817\" fill=\"none\" stroke=\"#000000\"/>\n<polygon fill=\"#000000\" points=\"215.8429,-5886.7257 212.7566,-5876.5904 208.8488,-5886.4382 215.8429,-5886.7257\" stroke=\"#000000\"/>\n</g>\n<!-- 139621321395336&#45;&gt;139621321575168 -->\n<g class=\"edge\" id=\"edge31\">\n<title>139621321395336-&gt;139621321575168</title>\n<path d=\"M237.7247,-5840.4551C250.2105,-5831.1545 265.6086,-5819.6844 279.102,-5809.6332\" fill=\"none\" stroke=\"#000000\"/>\n<polygon fill=\"#000000\" points=\"281.2855,-5812.371 287.2143,-5803.5904 277.1039,-5806.7573 281.2855,-5812.371\" stroke=\"#000000\"/>\n</g>\n<!-- 139621374086056 -->\n<g class=\"node\" id=\"node28\">\n<title>139621374086056</title>\n<polygon fill=\"none\" points=\"121.5,-5694.5 121.5,-5730.5 501.5,-5730.5 501.5,-5694.5 121.5,-5694.5\" stroke=\"#000000\"/>\n<text fill=\"#000000\" font-family=\"Times,serif\" font-size=\"14.00\" text-anchor=\"middle\" x=\"311.5\" y=\"-5708.8\">Encoder-3-MultiHeadSelfAttention-Norm: LayerNormalization</text>\n</g>\n<!-- 139621321575168&#45;&gt;139621374086056 -->\n<g class=\"edge\" id=\"edge32\">\n<title>139621321575168-&gt;139621374086056</title>\n<path d=\"M311.5,-5767.4551C311.5,-5759.3828 311.5,-5749.6764 311.5,-5740.6817\" fill=\"none\" stroke=\"#000000\"/>\n<polygon fill=\"#000000\" points=\"315.0001,-5740.5903 311.5,-5730.5904 308.0001,-5740.5904 315.0001,-5740.5903\" stroke=\"#000000\"/>\n</g>\n<!-- 139621374164720 -->\n<g class=\"node\" id=\"node29\">\n<title>139621374164720</title>\n<polygon fill=\"none\" points=\"109.5,-5621.5 109.5,-5657.5 351.5,-5657.5 351.5,-5621.5 109.5,-5621.5\" stroke=\"#000000\"/>\n<text fill=\"#000000\" font-family=\"Times,serif\" font-size=\"14.00\" text-anchor=\"middle\" x=\"230.5\" y=\"-5635.8\">Encoder-3-FeedForward: FeedForward</text>\n</g>\n<!-- 139621374086056&#45;&gt;139621374164720 -->\n<g class=\"edge\" id=\"edge33\">\n<title>139621374086056-&gt;139621374164720</title>\n<path d=\"M291.4775,-5694.4551C281.4498,-5685.4177 269.1491,-5674.3319 258.2286,-5664.4899\" fill=\"none\" stroke=\"#000000\"/>\n<polygon fill=\"#000000\" points=\"260.3444,-5661.6852 250.5729,-5657.5904 255.6581,-5666.885 260.3444,-5661.6852\" stroke=\"#000000\"/>\n</g>\n<!-- 139621366984488 -->\n<g class=\"node\" id=\"node31\">\n<title>139621366984488</title>\n<polygon fill=\"none\" points=\"195.5,-5475.5 195.5,-5511.5 415.5,-5511.5 415.5,-5475.5 195.5,-5475.5\" stroke=\"#000000\"/>\n<text fill=\"#000000\" font-family=\"Times,serif\" font-size=\"14.00\" text-anchor=\"middle\" x=\"305.5\" y=\"-5489.8\">Encoder-3-FeedForward-Add: Add</text>\n</g>\n<!-- 139621374086056&#45;&gt;139621366984488 -->\n<g class=\"edge\" id=\"edge35\">\n<title>139621374086056-&gt;139621366984488</title>\n<path d=\"M333.3471,-5694.291C343.3936,-5684.6134 354.4097,-5671.8624 360.5,-5658 380.2044,-5613.1498 387.6917,-5592.6329 367.5,-5548 362.2852,-5536.4728 353.2939,-5526.4147 343.751,-5518.1833\" fill=\"none\" stroke=\"#000000\"/>\n<polygon fill=\"#000000\" points=\"345.6666,-5515.2331 335.676,-5511.7064 341.2868,-5520.6936 345.6666,-5515.2331\" stroke=\"#000000\"/>\n</g>\n<!-- 139621374248104 -->\n<g class=\"node\" id=\"node30\">\n<title>139621374248104</title>\n<polygon fill=\"none\" points=\"91,-5548.5 91,-5584.5 358,-5584.5 358,-5548.5 91,-5548.5\" stroke=\"#000000\"/>\n<text fill=\"#000000\" font-family=\"Times,serif\" font-size=\"14.00\" text-anchor=\"middle\" x=\"224.5\" y=\"-5562.8\">Encoder-3-FeedForward-Dropout: Dropout</text>\n</g>\n<!-- 139621374164720&#45;&gt;139621374248104 -->\n<g class=\"edge\" id=\"edge34\">\n<title>139621374164720-&gt;139621374248104</title>\n<path d=\"M229.0169,-5621.4551C228.3534,-5613.3828 227.5556,-5603.6764 226.8163,-5594.6817\" fill=\"none\" stroke=\"#000000\"/>\n<polygon fill=\"#000000\" points=\"230.2944,-5594.27 225.9869,-5584.5904 223.3179,-5594.8435 230.2944,-5594.27\" stroke=\"#000000\"/>\n</g>\n<!-- 139621374248104&#45;&gt;139621366984488 -->\n<g class=\"edge\" id=\"edge36\">\n<title>139621374248104-&gt;139621366984488</title>\n<path d=\"M244.5225,-5548.4551C254.5502,-5539.4177 266.8509,-5528.3319 277.7714,-5518.4899\" fill=\"none\" stroke=\"#000000\"/>\n<polygon fill=\"#000000\" points=\"280.3419,-5520.885 285.4271,-5511.5904 275.6556,-5515.6852 280.3419,-5520.885\" stroke=\"#000000\"/>\n</g>\n<!-- 139621364530368 -->\n<g class=\"node\" id=\"node32\">\n<title>139621364530368</title>\n<polygon fill=\"none\" points=\"146.5,-5402.5 146.5,-5438.5 464.5,-5438.5 464.5,-5402.5 146.5,-5402.5\" stroke=\"#000000\"/>\n<text fill=\"#000000\" font-family=\"Times,serif\" font-size=\"14.00\" text-anchor=\"middle\" x=\"305.5\" y=\"-5416.8\">Encoder-3-FeedForward-Norm: LayerNormalization</text>\n</g>\n<!-- 139621366984488&#45;&gt;139621364530368 -->\n<g class=\"edge\" id=\"edge37\">\n<title>139621366984488-&gt;139621364530368</title>\n<path d=\"M305.5,-5475.4551C305.5,-5467.3828 305.5,-5457.6764 305.5,-5448.6817\" fill=\"none\" stroke=\"#000000\"/>\n<polygon fill=\"#000000\" points=\"309.0001,-5448.5903 305.5,-5438.5904 302.0001,-5448.5904 309.0001,-5448.5903\" stroke=\"#000000\"/>\n</g>\n<!-- 139621364529640 -->\n<g class=\"node\" id=\"node33\">\n<title>139621364529640</title>\n<polygon fill=\"none\" points=\"35.5,-5329.5 35.5,-5365.5 377.5,-5365.5 377.5,-5329.5 35.5,-5329.5\" stroke=\"#000000\"/>\n<text fill=\"#000000\" font-family=\"Times,serif\" font-size=\"14.00\" text-anchor=\"middle\" x=\"206.5\" y=\"-5343.8\">Encoder-4-MultiHeadSelfAttention: MultiHeadAttention</text>\n</g>\n<!-- 139621364530368&#45;&gt;139621364529640 -->\n<g class=\"edge\" id=\"edge38\">\n<title>139621364530368-&gt;139621364529640</title>\n<path d=\"M281.0281,-5402.4551C268.4149,-5393.1545 252.8597,-5381.6844 239.2286,-5371.6332\" fill=\"none\" stroke=\"#000000\"/>\n<polygon fill=\"#000000\" points=\"241.1592,-5368.7082 231.0335,-5365.5904 237.0049,-5374.3421 241.1592,-5368.7082\" stroke=\"#000000\"/>\n</g>\n<!-- 139621358848040 -->\n<g class=\"node\" id=\"node35\">\n<title>139621358848040</title>\n<polygon fill=\"none\" points=\"167,-5183.5 167,-5219.5 448,-5219.5 448,-5183.5 167,-5183.5\" stroke=\"#000000\"/>\n<text fill=\"#000000\" font-family=\"Times,serif\" font-size=\"14.00\" text-anchor=\"middle\" x=\"307.5\" y=\"-5197.8\">Encoder-4-MultiHeadSelfAttention-Add: Add</text>\n</g>\n<!-- 139621364530368&#45;&gt;139621358848040 -->\n<g class=\"edge\" id=\"edge40\">\n<title>139621364530368-&gt;139621358848040</title>\n<path d=\"M348.0685,-5402.3804C363.0065,-5393.7 378.1359,-5381.7088 386.5,-5366 394.5894,-5350.8071 392.2511,-5273.9102 382.5,-5256 375.7494,-5243.601 364.8204,-5233.3006 353.3687,-5225.1162\" fill=\"none\" stroke=\"#000000\"/>\n<polygon fill=\"#000000\" points=\"355.2521,-5222.1654 344.99,-5219.531 351.3694,-5227.9899 355.2521,-5222.1654\" stroke=\"#000000\"/>\n</g>\n<!-- 139621364452432 -->\n<g class=\"node\" id=\"node34\">\n<title>139621364452432</title>\n<polygon fill=\"none\" points=\"45,-5256.5 45,-5292.5 374,-5292.5 374,-5256.5 45,-5256.5\" stroke=\"#000000\"/>\n<text fill=\"#000000\" font-family=\"Times,serif\" font-size=\"14.00\" text-anchor=\"middle\" x=\"209.5\" y=\"-5270.8\">Encoder-4-MultiHeadSelfAttention-Dropout: Dropout</text>\n</g>\n<!-- 139621364529640&#45;&gt;139621364452432 -->\n<g class=\"edge\" id=\"edge39\">\n<title>139621364529640-&gt;139621364452432</title>\n<path d=\"M207.2416,-5329.4551C207.5733,-5321.3828 207.9722,-5311.6764 208.3418,-5302.6817\" fill=\"none\" stroke=\"#000000\"/>\n<polygon fill=\"#000000\" points=\"211.8429,-5302.7257 208.7566,-5292.5904 204.8488,-5302.4382 211.8429,-5302.7257\" stroke=\"#000000\"/>\n</g>\n<!-- 139621364452432&#45;&gt;139621358848040 -->\n<g class=\"edge\" id=\"edge41\">\n<title>139621364452432-&gt;139621358848040</title>\n<path d=\"M233.7247,-5256.4551C246.2105,-5247.1545 261.6086,-5235.6844 275.102,-5225.6332\" fill=\"none\" stroke=\"#000000\"/>\n<polygon fill=\"#000000\" points=\"277.2855,-5228.371 283.2143,-5219.5904 273.1039,-5222.7573 277.2855,-5228.371\" stroke=\"#000000\"/>\n</g>\n<!-- 139621353700600 -->\n<g class=\"node\" id=\"node36\">\n<title>139621353700600</title>\n<polygon fill=\"none\" points=\"117.5,-5110.5 117.5,-5146.5 497.5,-5146.5 497.5,-5110.5 117.5,-5110.5\" stroke=\"#000000\"/>\n<text fill=\"#000000\" font-family=\"Times,serif\" font-size=\"14.00\" text-anchor=\"middle\" x=\"307.5\" y=\"-5124.8\">Encoder-4-MultiHeadSelfAttention-Norm: LayerNormalization</text>\n</g>\n<!-- 139621358848040&#45;&gt;139621353700600 -->\n<g class=\"edge\" id=\"edge42\">\n<title>139621358848040-&gt;139621353700600</title>\n<path d=\"M307.5,-5183.4551C307.5,-5175.3828 307.5,-5165.6764 307.5,-5156.6817\" fill=\"none\" stroke=\"#000000\"/>\n<polygon fill=\"#000000\" points=\"311.0001,-5156.5903 307.5,-5146.5904 304.0001,-5156.5904 311.0001,-5156.5903\" stroke=\"#000000\"/>\n</g>\n<!-- 139621353811752 -->\n<g class=\"node\" id=\"node37\">\n<title>139621353811752</title>\n<polygon fill=\"none\" points=\"105.5,-5037.5 105.5,-5073.5 347.5,-5073.5 347.5,-5037.5 105.5,-5037.5\" stroke=\"#000000\"/>\n<text fill=\"#000000\" font-family=\"Times,serif\" font-size=\"14.00\" text-anchor=\"middle\" x=\"226.5\" y=\"-5051.8\">Encoder-4-FeedForward: FeedForward</text>\n</g>\n<!-- 139621353700600&#45;&gt;139621353811752 -->\n<g class=\"edge\" id=\"edge43\">\n<title>139621353700600-&gt;139621353811752</title>\n<path d=\"M287.4775,-5110.4551C277.4498,-5101.4177 265.1491,-5090.3319 254.2286,-5080.4899\" fill=\"none\" stroke=\"#000000\"/>\n<polygon fill=\"#000000\" points=\"256.3444,-5077.6852 246.5729,-5073.5904 251.6581,-5082.885 256.3444,-5077.6852\" stroke=\"#000000\"/>\n</g>\n<!-- 139621353544784 -->\n<g class=\"node\" id=\"node39\">\n<title>139621353544784</title>\n<polygon fill=\"none\" points=\"191.5,-4891.5 191.5,-4927.5 411.5,-4927.5 411.5,-4891.5 191.5,-4891.5\" stroke=\"#000000\"/>\n<text fill=\"#000000\" font-family=\"Times,serif\" font-size=\"14.00\" text-anchor=\"middle\" x=\"301.5\" y=\"-4905.8\">Encoder-4-FeedForward-Add: Add</text>\n</g>\n<!-- 139621353700600&#45;&gt;139621353544784 -->\n<g class=\"edge\" id=\"edge45\">\n<title>139621353700600-&gt;139621353544784</title>\n<path d=\"M329.3471,-5110.291C339.3936,-5100.6134 350.4097,-5087.8624 356.5,-5074 376.2044,-5029.1498 383.6917,-5008.6329 363.5,-4964 358.2852,-4952.4728 349.2939,-4942.4147 339.751,-4934.1833\" fill=\"none\" stroke=\"#000000\"/>\n<polygon fill=\"#000000\" points=\"341.6666,-4931.2331 331.676,-4927.7064 337.2868,-4936.6936 341.6666,-4931.2331\" stroke=\"#000000\"/>\n</g>\n<!-- 139621353363440 -->\n<g class=\"node\" id=\"node38\">\n<title>139621353363440</title>\n<polygon fill=\"none\" points=\"87,-4964.5 87,-5000.5 354,-5000.5 354,-4964.5 87,-4964.5\" stroke=\"#000000\"/>\n<text fill=\"#000000\" font-family=\"Times,serif\" font-size=\"14.00\" text-anchor=\"middle\" x=\"220.5\" y=\"-4978.8\">Encoder-4-FeedForward-Dropout: Dropout</text>\n</g>\n<!-- 139621353811752&#45;&gt;139621353363440 -->\n<g class=\"edge\" id=\"edge44\">\n<title>139621353811752-&gt;139621353363440</title>\n<path d=\"M225.0169,-5037.4551C224.3534,-5029.3828 223.5556,-5019.6764 222.8163,-5010.6817\" fill=\"none\" stroke=\"#000000\"/>\n<polygon fill=\"#000000\" points=\"226.2944,-5010.27 221.9869,-5000.5904 219.3179,-5010.8435 226.2944,-5010.27\" stroke=\"#000000\"/>\n</g>\n<!-- 139621353363440&#45;&gt;139621353544784 -->\n<g class=\"edge\" id=\"edge46\">\n<title>139621353363440-&gt;139621353544784</title>\n<path d=\"M240.5225,-4964.4551C250.5502,-4955.4177 262.8509,-4944.3319 273.7714,-4934.4899\" fill=\"none\" stroke=\"#000000\"/>\n<polygon fill=\"#000000\" points=\"276.3419,-4936.885 281.4271,-4927.5904 271.6556,-4931.6852 276.3419,-4936.885\" stroke=\"#000000\"/>\n</g>\n<!-- 139621352548840 -->\n<g class=\"node\" id=\"node40\">\n<title>139621352548840</title>\n<polygon fill=\"none\" points=\"142.5,-4818.5 142.5,-4854.5 460.5,-4854.5 460.5,-4818.5 142.5,-4818.5\" stroke=\"#000000\"/>\n<text fill=\"#000000\" font-family=\"Times,serif\" font-size=\"14.00\" text-anchor=\"middle\" x=\"301.5\" y=\"-4832.8\">Encoder-4-FeedForward-Norm: LayerNormalization</text>\n</g>\n<!-- 139621353544784&#45;&gt;139621352548840 -->\n<g class=\"edge\" id=\"edge47\">\n<title>139621353544784-&gt;139621352548840</title>\n<path d=\"M301.5,-4891.4551C301.5,-4883.3828 301.5,-4873.6764 301.5,-4864.6817\" fill=\"none\" stroke=\"#000000\"/>\n<polygon fill=\"#000000\" points=\"305.0001,-4864.5903 301.5,-4854.5904 298.0001,-4864.5904 305.0001,-4864.5903\" stroke=\"#000000\"/>\n</g>\n<!-- 139621352548112 -->\n<g class=\"node\" id=\"node41\">\n<title>139621352548112</title>\n<polygon fill=\"none\" points=\"31.5,-4745.5 31.5,-4781.5 373.5,-4781.5 373.5,-4745.5 31.5,-4745.5\" stroke=\"#000000\"/>\n<text fill=\"#000000\" font-family=\"Times,serif\" font-size=\"14.00\" text-anchor=\"middle\" x=\"202.5\" y=\"-4759.8\">Encoder-5-MultiHeadSelfAttention: MultiHeadAttention</text>\n</g>\n<!-- 139621352548840&#45;&gt;139621352548112 -->\n<g class=\"edge\" id=\"edge48\">\n<title>139621352548840-&gt;139621352548112</title>\n<path d=\"M277.0281,-4818.4551C264.4149,-4809.1545 248.8597,-4797.6844 235.2286,-4787.6332\" fill=\"none\" stroke=\"#000000\"/>\n<polygon fill=\"#000000\" points=\"237.1592,-4784.7082 227.0335,-4781.5904 233.0049,-4790.3421 237.1592,-4784.7082\" stroke=\"#000000\"/>\n</g>\n<!-- 139621347947632 -->\n<g class=\"node\" id=\"node43\">\n<title>139621347947632</title>\n<polygon fill=\"none\" points=\"163,-4599.5 163,-4635.5 444,-4635.5 444,-4599.5 163,-4599.5\" stroke=\"#000000\"/>\n<text fill=\"#000000\" font-family=\"Times,serif\" font-size=\"14.00\" text-anchor=\"middle\" x=\"303.5\" y=\"-4613.8\">Encoder-5-MultiHeadSelfAttention-Add: Add</text>\n</g>\n<!-- 139621352548840&#45;&gt;139621347947632 -->\n<g class=\"edge\" id=\"edge50\">\n<title>139621352548840-&gt;139621347947632</title>\n<path d=\"M344.0685,-4818.3804C359.0065,-4809.7 374.1359,-4797.7088 382.5,-4782 390.5894,-4766.8071 388.2511,-4689.9102 378.5,-4672 371.7494,-4659.601 360.8204,-4649.3006 349.3687,-4641.1162\" fill=\"none\" stroke=\"#000000\"/>\n<polygon fill=\"#000000\" points=\"351.2521,-4638.1654 340.99,-4635.531 347.3694,-4643.9899 351.2521,-4638.1654\" stroke=\"#000000\"/>\n</g>\n<!-- 139621352729848 -->\n<g class=\"node\" id=\"node42\">\n<title>139621352729848</title>\n<polygon fill=\"none\" points=\"41,-4672.5 41,-4708.5 370,-4708.5 370,-4672.5 41,-4672.5\" stroke=\"#000000\"/>\n<text fill=\"#000000\" font-family=\"Times,serif\" font-size=\"14.00\" text-anchor=\"middle\" x=\"205.5\" y=\"-4686.8\">Encoder-5-MultiHeadSelfAttention-Dropout: Dropout</text>\n</g>\n<!-- 139621352548112&#45;&gt;139621352729848 -->\n<g class=\"edge\" id=\"edge49\">\n<title>139621352548112-&gt;139621352729848</title>\n<path d=\"M203.2416,-4745.4551C203.5733,-4737.3828 203.9722,-4727.6764 204.3418,-4718.6817\" fill=\"none\" stroke=\"#000000\"/>\n<polygon fill=\"#000000\" points=\"207.8429,-4718.7257 204.7566,-4708.5904 200.8488,-4718.4382 207.8429,-4718.7257\" stroke=\"#000000\"/>\n</g>\n<!-- 139621352729848&#45;&gt;139621347947632 -->\n<g class=\"edge\" id=\"edge51\">\n<title>139621352729848-&gt;139621347947632</title>\n<path d=\"M229.7247,-4672.4551C242.2105,-4663.1545 257.6086,-4651.6844 271.102,-4641.6332\" fill=\"none\" stroke=\"#000000\"/>\n<polygon fill=\"#000000\" points=\"273.2855,-4644.371 279.2143,-4635.5904 269.1039,-4638.7573 273.2855,-4644.371\" stroke=\"#000000\"/>\n</g>\n<!-- 139621333425232 -->\n<g class=\"node\" id=\"node44\">\n<title>139621333425232</title>\n<polygon fill=\"none\" points=\"113.5,-4526.5 113.5,-4562.5 493.5,-4562.5 493.5,-4526.5 113.5,-4526.5\" stroke=\"#000000\"/>\n<text fill=\"#000000\" font-family=\"Times,serif\" font-size=\"14.00\" text-anchor=\"middle\" x=\"303.5\" y=\"-4540.8\">Encoder-5-MultiHeadSelfAttention-Norm: LayerNormalization</text>\n</g>\n<!-- 139621347947632&#45;&gt;139621333425232 -->\n<g class=\"edge\" id=\"edge52\">\n<title>139621347947632-&gt;139621333425232</title>\n<path d=\"M303.5,-4599.4551C303.5,-4591.3828 303.5,-4581.6764 303.5,-4572.6817\" fill=\"none\" stroke=\"#000000\"/>\n<polygon fill=\"#000000\" points=\"307.0001,-4572.5903 303.5,-4562.5904 300.0001,-4572.5904 307.0001,-4572.5903\" stroke=\"#000000\"/>\n</g>\n<!-- 139621333498960 -->\n<g class=\"node\" id=\"node45\">\n<title>139621333498960</title>\n<polygon fill=\"none\" points=\"101.5,-4453.5 101.5,-4489.5 343.5,-4489.5 343.5,-4453.5 101.5,-4453.5\" stroke=\"#000000\"/>\n<text fill=\"#000000\" font-family=\"Times,serif\" font-size=\"14.00\" text-anchor=\"middle\" x=\"222.5\" y=\"-4467.8\">Encoder-5-FeedForward: FeedForward</text>\n</g>\n<!-- 139621333425232&#45;&gt;139621333498960 -->\n<g class=\"edge\" id=\"edge53\">\n<title>139621333425232-&gt;139621333498960</title>\n<path d=\"M283.4775,-4526.4551C273.4498,-4517.4177 261.1491,-4506.3319 250.2286,-4496.4899\" fill=\"none\" stroke=\"#000000\"/>\n<polygon fill=\"#000000\" points=\"252.3444,-4493.6852 242.5729,-4489.5904 247.6581,-4498.885 252.3444,-4493.6852\" stroke=\"#000000\"/>\n</g>\n<!-- 139621332744568 -->\n<g class=\"node\" id=\"node47\">\n<title>139621332744568</title>\n<polygon fill=\"none\" points=\"187.5,-4307.5 187.5,-4343.5 407.5,-4343.5 407.5,-4307.5 187.5,-4307.5\" stroke=\"#000000\"/>\n<text fill=\"#000000\" font-family=\"Times,serif\" font-size=\"14.00\" text-anchor=\"middle\" x=\"297.5\" y=\"-4321.8\">Encoder-5-FeedForward-Add: Add</text>\n</g>\n<!-- 139621333425232&#45;&gt;139621332744568 -->\n<g class=\"edge\" id=\"edge55\">\n<title>139621333425232-&gt;139621332744568</title>\n<path d=\"M325.3471,-4526.291C335.3936,-4516.6134 346.4097,-4503.8624 352.5,-4490 372.2044,-4445.1498 379.6917,-4424.6329 359.5,-4380 354.2852,-4368.4728 345.2939,-4358.4147 335.751,-4350.1833\" fill=\"none\" stroke=\"#000000\"/>\n<polygon fill=\"#000000\" points=\"337.6666,-4347.2331 327.676,-4343.7064 333.2868,-4352.6936 337.6666,-4347.2331\" stroke=\"#000000\"/>\n</g>\n<!-- 139621333515008 -->\n<g class=\"node\" id=\"node46\">\n<title>139621333515008</title>\n<polygon fill=\"none\" points=\"83,-4380.5 83,-4416.5 350,-4416.5 350,-4380.5 83,-4380.5\" stroke=\"#000000\"/>\n<text fill=\"#000000\" font-family=\"Times,serif\" font-size=\"14.00\" text-anchor=\"middle\" x=\"216.5\" y=\"-4394.8\">Encoder-5-FeedForward-Dropout: Dropout</text>\n</g>\n<!-- 139621333498960&#45;&gt;139621333515008 -->\n<g class=\"edge\" id=\"edge54\">\n<title>139621333498960-&gt;139621333515008</title>\n<path d=\"M221.0169,-4453.4551C220.3534,-4445.3828 219.5556,-4435.6764 218.8163,-4426.6817\" fill=\"none\" stroke=\"#000000\"/>\n<polygon fill=\"#000000\" points=\"222.2944,-4426.27 217.9869,-4416.5904 215.3179,-4426.8435 222.2944,-4426.27\" stroke=\"#000000\"/>\n</g>\n<!-- 139621333515008&#45;&gt;139621332744568 -->\n<g class=\"edge\" id=\"edge56\">\n<title>139621333515008-&gt;139621332744568</title>\n<path d=\"M236.5225,-4380.4551C246.5502,-4371.4177 258.8509,-4360.3319 269.7714,-4350.4899\" fill=\"none\" stroke=\"#000000\"/>\n<polygon fill=\"#000000\" points=\"272.3419,-4352.885 277.4271,-4343.5904 267.6556,-4347.6852 272.3419,-4352.885\" stroke=\"#000000\"/>\n</g>\n<!-- 139621331369824 -->\n<g class=\"node\" id=\"node48\">\n<title>139621331369824</title>\n<polygon fill=\"none\" points=\"138.5,-4234.5 138.5,-4270.5 456.5,-4270.5 456.5,-4234.5 138.5,-4234.5\" stroke=\"#000000\"/>\n<text fill=\"#000000\" font-family=\"Times,serif\" font-size=\"14.00\" text-anchor=\"middle\" x=\"297.5\" y=\"-4248.8\">Encoder-5-FeedForward-Norm: LayerNormalization</text>\n</g>\n<!-- 139621332744568&#45;&gt;139621331369824 -->\n<g class=\"edge\" id=\"edge57\">\n<title>139621332744568-&gt;139621331369824</title>\n<path d=\"M297.5,-4307.4551C297.5,-4299.3828 297.5,-4289.6764 297.5,-4280.6817\" fill=\"none\" stroke=\"#000000\"/>\n<polygon fill=\"#000000\" points=\"301.0001,-4280.5903 297.5,-4270.5904 294.0001,-4280.5904 301.0001,-4280.5903\" stroke=\"#000000\"/>\n</g>\n<!-- 139621331369656 -->\n<g class=\"node\" id=\"node49\">\n<title>139621331369656</title>\n<polygon fill=\"none\" points=\"27.5,-4161.5 27.5,-4197.5 369.5,-4197.5 369.5,-4161.5 27.5,-4161.5\" stroke=\"#000000\"/>\n<text fill=\"#000000\" font-family=\"Times,serif\" font-size=\"14.00\" text-anchor=\"middle\" x=\"198.5\" y=\"-4175.8\">Encoder-6-MultiHeadSelfAttention: MultiHeadAttention</text>\n</g>\n<!-- 139621331369824&#45;&gt;139621331369656 -->\n<g class=\"edge\" id=\"edge58\">\n<title>139621331369824-&gt;139621331369656</title>\n<path d=\"M273.0281,-4234.4551C260.4149,-4225.1545 244.8597,-4213.6844 231.2286,-4203.6332\" fill=\"none\" stroke=\"#000000\"/>\n<polygon fill=\"#000000\" points=\"233.1592,-4200.7082 223.0335,-4197.5904 229.0049,-4206.3421 233.1592,-4200.7082\" stroke=\"#000000\"/>\n</g>\n<!-- 139621326757616 -->\n<g class=\"node\" id=\"node51\">\n<title>139621326757616</title>\n<polygon fill=\"none\" points=\"158,-4015.5 158,-4051.5 439,-4051.5 439,-4015.5 158,-4015.5\" stroke=\"#000000\"/>\n<text fill=\"#000000\" font-family=\"Times,serif\" font-size=\"14.00\" text-anchor=\"middle\" x=\"298.5\" y=\"-4029.8\">Encoder-6-MultiHeadSelfAttention-Add: Add</text>\n</g>\n<!-- 139621331369824&#45;&gt;139621326757616 -->\n<g class=\"edge\" id=\"edge60\">\n<title>139621331369824-&gt;139621326757616</title>\n<path d=\"M340.0685,-4234.3804C355.0065,-4225.7 370.1359,-4213.7088 378.5,-4198 386.1793,-4183.5774 385.9885,-4107.2923 375.5,-4088 368.7016,-4075.4953 357.6452,-4065.1998 346.0052,-4057.0548\" fill=\"none\" stroke=\"#000000\"/>\n<polygon fill=\"#000000\" points=\"347.7688,-4054.0266 337.4788,-4051.5031 343.9492,-4059.8927 347.7688,-4054.0266\" stroke=\"#000000\"/>\n</g>\n<!-- 139621326616224 -->\n<g class=\"node\" id=\"node50\">\n<title>139621326616224</title>\n<polygon fill=\"none\" points=\"38,-4088.5 38,-4124.5 367,-4124.5 367,-4088.5 38,-4088.5\" stroke=\"#000000\"/>\n<text fill=\"#000000\" font-family=\"Times,serif\" font-size=\"14.00\" text-anchor=\"middle\" x=\"202.5\" y=\"-4102.8\">Encoder-6-MultiHeadSelfAttention-Dropout: Dropout</text>\n</g>\n<!-- 139621331369656&#45;&gt;139621326616224 -->\n<g class=\"edge\" id=\"edge59\">\n<title>139621331369656-&gt;139621326616224</title>\n<path d=\"M199.4888,-4161.4551C199.9311,-4153.3828 200.4629,-4143.6764 200.9558,-4134.6817\" fill=\"none\" stroke=\"#000000\"/>\n<polygon fill=\"#000000\" points=\"204.4563,-4134.7669 201.5087,-4124.5904 197.4668,-4134.3839 204.4563,-4134.7669\" stroke=\"#000000\"/>\n</g>\n<!-- 139621326616224&#45;&gt;139621326757616 -->\n<g class=\"edge\" id=\"edge61\">\n<title>139621326616224-&gt;139621326757616</title>\n<path d=\"M226.2303,-4088.4551C238.3459,-4079.2422 253.2608,-4067.9006 266.3886,-4057.918\" fill=\"none\" stroke=\"#000000\"/>\n<polygon fill=\"#000000\" points=\"268.8684,-4060.4293 274.7099,-4051.5904 264.6314,-4054.8573 268.8684,-4060.4293\" stroke=\"#000000\"/>\n</g>\n<!-- 139621375236416 -->\n<g class=\"node\" id=\"node52\">\n<title>139621375236416</title>\n<polygon fill=\"none\" points=\"108.5,-3942.5 108.5,-3978.5 488.5,-3978.5 488.5,-3942.5 108.5,-3942.5\" stroke=\"#000000\"/>\n<text fill=\"#000000\" font-family=\"Times,serif\" font-size=\"14.00\" text-anchor=\"middle\" x=\"298.5\" y=\"-3956.8\">Encoder-6-MultiHeadSelfAttention-Norm: LayerNormalization</text>\n</g>\n<!-- 139621326757616&#45;&gt;139621375236416 -->\n<g class=\"edge\" id=\"edge62\">\n<title>139621326757616-&gt;139621375236416</title>\n<path d=\"M298.5,-4015.4551C298.5,-4007.3828 298.5,-3997.6764 298.5,-3988.6817\" fill=\"none\" stroke=\"#000000\"/>\n<polygon fill=\"#000000\" points=\"302.0001,-3988.5903 298.5,-3978.5904 295.0001,-3988.5904 302.0001,-3988.5903\" stroke=\"#000000\"/>\n</g>\n<!-- 139621375237592 -->\n<g class=\"node\" id=\"node53\">\n<title>139621375237592</title>\n<polygon fill=\"none\" points=\"96.5,-3869.5 96.5,-3905.5 338.5,-3905.5 338.5,-3869.5 96.5,-3869.5\" stroke=\"#000000\"/>\n<text fill=\"#000000\" font-family=\"Times,serif\" font-size=\"14.00\" text-anchor=\"middle\" x=\"217.5\" y=\"-3883.8\">Encoder-6-FeedForward: FeedForward</text>\n</g>\n<!-- 139621375236416&#45;&gt;139621375237592 -->\n<g class=\"edge\" id=\"edge63\">\n<title>139621375236416-&gt;139621375237592</title>\n<path d=\"M278.4775,-3942.4551C268.4498,-3933.4177 256.1491,-3922.3319 245.2286,-3912.4899\" fill=\"none\" stroke=\"#000000\"/>\n<polygon fill=\"#000000\" points=\"247.3444,-3909.6852 237.5729,-3905.5904 242.6581,-3914.885 247.3444,-3909.6852\" stroke=\"#000000\"/>\n</g>\n<!-- 139621373687456 -->\n<g class=\"node\" id=\"node55\">\n<title>139621373687456</title>\n<polygon fill=\"none\" points=\"182.5,-3723.5 182.5,-3759.5 402.5,-3759.5 402.5,-3723.5 182.5,-3723.5\" stroke=\"#000000\"/>\n<text fill=\"#000000\" font-family=\"Times,serif\" font-size=\"14.00\" text-anchor=\"middle\" x=\"292.5\" y=\"-3737.8\">Encoder-6-FeedForward-Add: Add</text>\n</g>\n<!-- 139621375236416&#45;&gt;139621373687456 -->\n<g class=\"edge\" id=\"edge65\">\n<title>139621375236416-&gt;139621373687456</title>\n<path d=\"M320.3471,-3942.291C330.3936,-3932.6134 341.4097,-3919.8624 347.5,-3906 367.2044,-3861.1498 374.6917,-3840.6329 354.5,-3796 349.2852,-3784.4728 340.2939,-3774.4147 330.751,-3766.1833\" fill=\"none\" stroke=\"#000000\"/>\n<polygon fill=\"#000000\" points=\"332.6666,-3763.2331 322.676,-3759.7064 328.2868,-3768.6936 332.6666,-3763.2331\" stroke=\"#000000\"/>\n</g>\n<!-- 139621373562384 -->\n<g class=\"node\" id=\"node54\">\n<title>139621373562384</title>\n<polygon fill=\"none\" points=\"78,-3796.5 78,-3832.5 345,-3832.5 345,-3796.5 78,-3796.5\" stroke=\"#000000\"/>\n<text fill=\"#000000\" font-family=\"Times,serif\" font-size=\"14.00\" text-anchor=\"middle\" x=\"211.5\" y=\"-3810.8\">Encoder-6-FeedForward-Dropout: Dropout</text>\n</g>\n<!-- 139621375237592&#45;&gt;139621373562384 -->\n<g class=\"edge\" id=\"edge64\">\n<title>139621375237592-&gt;139621373562384</title>\n<path d=\"M216.0169,-3869.4551C215.3534,-3861.3828 214.5556,-3851.6764 213.8163,-3842.6817\" fill=\"none\" stroke=\"#000000\"/>\n<polygon fill=\"#000000\" points=\"217.2944,-3842.27 212.9869,-3832.5904 210.3179,-3842.8435 217.2944,-3842.27\" stroke=\"#000000\"/>\n</g>\n<!-- 139621373562384&#45;&gt;139621373687456 -->\n<g class=\"edge\" id=\"edge66\">\n<title>139621373562384-&gt;139621373687456</title>\n<path d=\"M231.5225,-3796.4551C241.5502,-3787.4177 253.8509,-3776.3319 264.7714,-3766.4899\" fill=\"none\" stroke=\"#000000\"/>\n<polygon fill=\"#000000\" points=\"267.3419,-3768.885 272.4271,-3759.5904 262.6556,-3763.6852 267.3419,-3768.885\" stroke=\"#000000\"/>\n</g>\n<!-- 139621371908280 -->\n<g class=\"node\" id=\"node56\">\n<title>139621371908280</title>\n<polygon fill=\"none\" points=\"133.5,-3650.5 133.5,-3686.5 451.5,-3686.5 451.5,-3650.5 133.5,-3650.5\" stroke=\"#000000\"/>\n<text fill=\"#000000\" font-family=\"Times,serif\" font-size=\"14.00\" text-anchor=\"middle\" x=\"292.5\" y=\"-3664.8\">Encoder-6-FeedForward-Norm: LayerNormalization</text>\n</g>\n<!-- 139621373687456&#45;&gt;139621371908280 -->\n<g class=\"edge\" id=\"edge67\">\n<title>139621373687456-&gt;139621371908280</title>\n<path d=\"M292.5,-3723.4551C292.5,-3715.3828 292.5,-3705.6764 292.5,-3696.6817\" fill=\"none\" stroke=\"#000000\"/>\n<polygon fill=\"#000000\" points=\"296.0001,-3696.5903 292.5,-3686.5904 289.0001,-3696.5904 296.0001,-3696.5903\" stroke=\"#000000\"/>\n</g>\n<!-- 139621368909552 -->\n<g class=\"node\" id=\"node57\">\n<title>139621368909552</title>\n<polygon fill=\"none\" points=\"22.5,-3577.5 22.5,-3613.5 364.5,-3613.5 364.5,-3577.5 22.5,-3577.5\" stroke=\"#000000\"/>\n<text fill=\"#000000\" font-family=\"Times,serif\" font-size=\"14.00\" text-anchor=\"middle\" x=\"193.5\" y=\"-3591.8\">Encoder-7-MultiHeadSelfAttention: MultiHeadAttention</text>\n</g>\n<!-- 139621371908280&#45;&gt;139621368909552 -->\n<g class=\"edge\" id=\"edge68\">\n<title>139621371908280-&gt;139621368909552</title>\n<path d=\"M268.0281,-3650.4551C255.4149,-3641.1545 239.8597,-3629.6844 226.2286,-3619.6332\" fill=\"none\" stroke=\"#000000\"/>\n<polygon fill=\"#000000\" points=\"228.1592,-3616.7082 218.0335,-3613.5904 224.0049,-3622.3421 228.1592,-3616.7082\" stroke=\"#000000\"/>\n</g>\n<!-- 139621368020832 -->\n<g class=\"node\" id=\"node59\">\n<title>139621368020832</title>\n<polygon fill=\"none\" points=\"153,-3431.5 153,-3467.5 434,-3467.5 434,-3431.5 153,-3431.5\" stroke=\"#000000\"/>\n<text fill=\"#000000\" font-family=\"Times,serif\" font-size=\"14.00\" text-anchor=\"middle\" x=\"293.5\" y=\"-3445.8\">Encoder-7-MultiHeadSelfAttention-Add: Add</text>\n</g>\n<!-- 139621371908280&#45;&gt;139621368020832 -->\n<g class=\"edge\" id=\"edge70\">\n<title>139621371908280-&gt;139621368020832</title>\n<path d=\"M335.0685,-3650.3804C350.0065,-3641.7 365.1359,-3629.7088 373.5,-3614 381.1793,-3599.5774 380.9885,-3523.2923 370.5,-3504 363.7016,-3491.4953 352.6452,-3481.1998 341.0052,-3473.0548\" fill=\"none\" stroke=\"#000000\"/>\n<polygon fill=\"#000000\" points=\"342.7688,-3470.0266 332.4788,-3467.5031 338.9492,-3475.8927 342.7688,-3470.0266\" stroke=\"#000000\"/>\n</g>\n<!-- 139621368935592 -->\n<g class=\"node\" id=\"node58\">\n<title>139621368935592</title>\n<polygon fill=\"none\" points=\"33,-3504.5 33,-3540.5 362,-3540.5 362,-3504.5 33,-3504.5\" stroke=\"#000000\"/>\n<text fill=\"#000000\" font-family=\"Times,serif\" font-size=\"14.00\" text-anchor=\"middle\" x=\"197.5\" y=\"-3518.8\">Encoder-7-MultiHeadSelfAttention-Dropout: Dropout</text>\n</g>\n<!-- 139621368909552&#45;&gt;139621368935592 -->\n<g class=\"edge\" id=\"edge69\">\n<title>139621368909552-&gt;139621368935592</title>\n<path d=\"M194.4888,-3577.4551C194.9311,-3569.3828 195.4629,-3559.6764 195.9558,-3550.6817\" fill=\"none\" stroke=\"#000000\"/>\n<polygon fill=\"#000000\" points=\"199.4563,-3550.7669 196.5087,-3540.5904 192.4668,-3550.3839 199.4563,-3550.7669\" stroke=\"#000000\"/>\n</g>\n<!-- 139621368935592&#45;&gt;139621368020832 -->\n<g class=\"edge\" id=\"edge71\">\n<title>139621368935592-&gt;139621368020832</title>\n<path d=\"M221.2303,-3504.4551C233.3459,-3495.2422 248.2608,-3483.9006 261.3886,-3473.918\" fill=\"none\" stroke=\"#000000\"/>\n<polygon fill=\"#000000\" points=\"263.8684,-3476.4293 269.7099,-3467.5904 259.6314,-3470.8573 263.8684,-3476.4293\" stroke=\"#000000\"/>\n</g>\n<!-- 139621364321920 -->\n<g class=\"node\" id=\"node60\">\n<title>139621364321920</title>\n<polygon fill=\"none\" points=\"103.5,-3358.5 103.5,-3394.5 483.5,-3394.5 483.5,-3358.5 103.5,-3358.5\" stroke=\"#000000\"/>\n<text fill=\"#000000\" font-family=\"Times,serif\" font-size=\"14.00\" text-anchor=\"middle\" x=\"293.5\" y=\"-3372.8\">Encoder-7-MultiHeadSelfAttention-Norm: LayerNormalization</text>\n</g>\n<!-- 139621368020832&#45;&gt;139621364321920 -->\n<g class=\"edge\" id=\"edge72\">\n<title>139621368020832-&gt;139621364321920</title>\n<path d=\"M293.5,-3431.4551C293.5,-3423.3828 293.5,-3413.6764 293.5,-3404.6817\" fill=\"none\" stroke=\"#000000\"/>\n<polygon fill=\"#000000\" points=\"297.0001,-3404.5903 293.5,-3394.5904 290.0001,-3404.5904 297.0001,-3404.5903\" stroke=\"#000000\"/>\n</g>\n<!-- 139621364321024 -->\n<g class=\"node\" id=\"node61\">\n<title>139621364321024</title>\n<polygon fill=\"none\" points=\"91.5,-3285.5 91.5,-3321.5 333.5,-3321.5 333.5,-3285.5 91.5,-3285.5\" stroke=\"#000000\"/>\n<text fill=\"#000000\" font-family=\"Times,serif\" font-size=\"14.00\" text-anchor=\"middle\" x=\"212.5\" y=\"-3299.8\">Encoder-7-FeedForward: FeedForward</text>\n</g>\n<!-- 139621364321920&#45;&gt;139621364321024 -->\n<g class=\"edge\" id=\"edge73\">\n<title>139621364321920-&gt;139621364321024</title>\n<path d=\"M273.4775,-3358.4551C263.4498,-3349.4177 251.1491,-3338.3319 240.2286,-3328.4899\" fill=\"none\" stroke=\"#000000\"/>\n<polygon fill=\"#000000\" points=\"242.3444,-3325.6852 232.5729,-3321.5904 237.6581,-3330.885 242.3444,-3325.6852\" stroke=\"#000000\"/>\n</g>\n<!-- 139621361718048 -->\n<g class=\"node\" id=\"node63\">\n<title>139621361718048</title>\n<polygon fill=\"none\" points=\"177.5,-3139.5 177.5,-3175.5 397.5,-3175.5 397.5,-3139.5 177.5,-3139.5\" stroke=\"#000000\"/>\n<text fill=\"#000000\" font-family=\"Times,serif\" font-size=\"14.00\" text-anchor=\"middle\" x=\"287.5\" y=\"-3153.8\">Encoder-7-FeedForward-Add: Add</text>\n</g>\n<!-- 139621364321920&#45;&gt;139621361718048 -->\n<g class=\"edge\" id=\"edge75\">\n<title>139621364321920-&gt;139621361718048</title>\n<path d=\"M315.3471,-3358.291C325.3936,-3348.6134 336.4097,-3335.8624 342.5,-3322 362.2044,-3277.1498 369.6917,-3256.6329 349.5,-3212 344.2852,-3200.4728 335.2939,-3190.4147 325.751,-3182.1833\" fill=\"none\" stroke=\"#000000\"/>\n<polygon fill=\"#000000\" points=\"327.6666,-3179.2331 317.676,-3175.7064 323.2868,-3184.6936 327.6666,-3179.2331\" stroke=\"#000000\"/>\n</g>\n<!-- 139621363164440 -->\n<g class=\"node\" id=\"node62\">\n<title>139621363164440</title>\n<polygon fill=\"none\" points=\"73,-3212.5 73,-3248.5 340,-3248.5 340,-3212.5 73,-3212.5\" stroke=\"#000000\"/>\n<text fill=\"#000000\" font-family=\"Times,serif\" font-size=\"14.00\" text-anchor=\"middle\" x=\"206.5\" y=\"-3226.8\">Encoder-7-FeedForward-Dropout: Dropout</text>\n</g>\n<!-- 139621364321024&#45;&gt;139621363164440 -->\n<g class=\"edge\" id=\"edge74\">\n<title>139621364321024-&gt;139621363164440</title>\n<path d=\"M211.0169,-3285.4551C210.3534,-3277.3828 209.5556,-3267.6764 208.8163,-3258.6817\" fill=\"none\" stroke=\"#000000\"/>\n<polygon fill=\"#000000\" points=\"212.2944,-3258.27 207.9869,-3248.5904 205.3179,-3258.8435 212.2944,-3258.27\" stroke=\"#000000\"/>\n</g>\n<!-- 139621363164440&#45;&gt;139621361718048 -->\n<g class=\"edge\" id=\"edge76\">\n<title>139621363164440-&gt;139621361718048</title>\n<path d=\"M226.5225,-3212.4551C236.5502,-3203.4177 248.8509,-3192.3319 259.7714,-3182.4899\" fill=\"none\" stroke=\"#000000\"/>\n<polygon fill=\"#000000\" points=\"262.3419,-3184.885 267.4271,-3175.5904 257.6556,-3179.6852 262.3419,-3184.885\" stroke=\"#000000\"/>\n</g>\n<!-- 139621361274440 -->\n<g class=\"node\" id=\"node64\">\n<title>139621361274440</title>\n<polygon fill=\"none\" points=\"128.5,-3066.5 128.5,-3102.5 446.5,-3102.5 446.5,-3066.5 128.5,-3066.5\" stroke=\"#000000\"/>\n<text fill=\"#000000\" font-family=\"Times,serif\" font-size=\"14.00\" text-anchor=\"middle\" x=\"287.5\" y=\"-3080.8\">Encoder-7-FeedForward-Norm: LayerNormalization</text>\n</g>\n<!-- 139621361718048&#45;&gt;139621361274440 -->\n<g class=\"edge\" id=\"edge77\">\n<title>139621361718048-&gt;139621361274440</title>\n<path d=\"M287.5,-3139.4551C287.5,-3131.3828 287.5,-3121.6764 287.5,-3112.6817\" fill=\"none\" stroke=\"#000000\"/>\n<polygon fill=\"#000000\" points=\"291.0001,-3112.5903 287.5,-3102.5904 284.0001,-3112.5904 291.0001,-3112.5903\" stroke=\"#000000\"/>\n</g>\n<!-- 139621361274776 -->\n<g class=\"node\" id=\"node65\">\n<title>139621361274776</title>\n<polygon fill=\"none\" points=\"17.5,-2993.5 17.5,-3029.5 359.5,-3029.5 359.5,-2993.5 17.5,-2993.5\" stroke=\"#000000\"/>\n<text fill=\"#000000\" font-family=\"Times,serif\" font-size=\"14.00\" text-anchor=\"middle\" x=\"188.5\" y=\"-3007.8\">Encoder-8-MultiHeadSelfAttention: MultiHeadAttention</text>\n</g>\n<!-- 139621361274440&#45;&gt;139621361274776 -->\n<g class=\"edge\" id=\"edge78\">\n<title>139621361274440-&gt;139621361274776</title>\n<path d=\"M263.0281,-3066.4551C250.4149,-3057.1545 234.8597,-3045.6844 221.2286,-3035.6332\" fill=\"none\" stroke=\"#000000\"/>\n<polygon fill=\"#000000\" points=\"223.1592,-3032.7082 213.0335,-3029.5904 219.0049,-3038.3421 223.1592,-3032.7082\" stroke=\"#000000\"/>\n</g>\n<!-- 139621360774280 -->\n<g class=\"node\" id=\"node67\">\n<title>139621360774280</title>\n<polygon fill=\"none\" points=\"149,-2847.5 149,-2883.5 430,-2883.5 430,-2847.5 149,-2847.5\" stroke=\"#000000\"/>\n<text fill=\"#000000\" font-family=\"Times,serif\" font-size=\"14.00\" text-anchor=\"middle\" x=\"289.5\" y=\"-2861.8\">Encoder-8-MultiHeadSelfAttention-Add: Add</text>\n</g>\n<!-- 139621361274440&#45;&gt;139621360774280 -->\n<g class=\"edge\" id=\"edge80\">\n<title>139621361274440-&gt;139621360774280</title>\n<path d=\"M330.0685,-3066.3804C345.0065,-3057.7 360.1359,-3045.7088 368.5,-3030 376.5894,-3014.8071 374.2511,-2937.9102 364.5,-2920 357.7494,-2907.601 346.8204,-2897.3006 335.3687,-2889.1162\" fill=\"none\" stroke=\"#000000\"/>\n<polygon fill=\"#000000\" points=\"337.2521,-2886.1654 326.99,-2883.531 333.3694,-2891.9899 337.2521,-2886.1654\" stroke=\"#000000\"/>\n</g>\n<!-- 139621361412584 -->\n<g class=\"node\" id=\"node66\">\n<title>139621361412584</title>\n<polygon fill=\"none\" points=\"27,-2920.5 27,-2956.5 356,-2956.5 356,-2920.5 27,-2920.5\" stroke=\"#000000\"/>\n<text fill=\"#000000\" font-family=\"Times,serif\" font-size=\"14.00\" text-anchor=\"middle\" x=\"191.5\" y=\"-2934.8\">Encoder-8-MultiHeadSelfAttention-Dropout: Dropout</text>\n</g>\n<!-- 139621361274776&#45;&gt;139621361412584 -->\n<g class=\"edge\" id=\"edge79\">\n<title>139621361274776-&gt;139621361412584</title>\n<path d=\"M189.2416,-2993.4551C189.5733,-2985.3828 189.9722,-2975.6764 190.3418,-2966.6817\" fill=\"none\" stroke=\"#000000\"/>\n<polygon fill=\"#000000\" points=\"193.8429,-2966.7257 190.7566,-2956.5904 186.8488,-2966.4382 193.8429,-2966.7257\" stroke=\"#000000\"/>\n</g>\n<!-- 139621361412584&#45;&gt;139621360774280 -->\n<g class=\"edge\" id=\"edge81\">\n<title>139621361412584-&gt;139621360774280</title>\n<path d=\"M215.7247,-2920.4551C228.2105,-2911.1545 243.6086,-2899.6844 257.102,-2889.6332\" fill=\"none\" stroke=\"#000000\"/>\n<polygon fill=\"#000000\" points=\"259.2855,-2892.371 265.2143,-2883.5904 255.1039,-2886.7573 259.2855,-2892.371\" stroke=\"#000000\"/>\n</g>\n<!-- 139621355986224 -->\n<g class=\"node\" id=\"node68\">\n<title>139621355986224</title>\n<polygon fill=\"none\" points=\"99.5,-2774.5 99.5,-2810.5 479.5,-2810.5 479.5,-2774.5 99.5,-2774.5\" stroke=\"#000000\"/>\n<text fill=\"#000000\" font-family=\"Times,serif\" font-size=\"14.00\" text-anchor=\"middle\" x=\"289.5\" y=\"-2788.8\">Encoder-8-MultiHeadSelfAttention-Norm: LayerNormalization</text>\n</g>\n<!-- 139621360774280&#45;&gt;139621355986224 -->\n<g class=\"edge\" id=\"edge82\">\n<title>139621360774280-&gt;139621355986224</title>\n<path d=\"M289.5,-2847.4551C289.5,-2839.3828 289.5,-2829.6764 289.5,-2820.6817\" fill=\"none\" stroke=\"#000000\"/>\n<polygon fill=\"#000000\" points=\"293.0001,-2820.5903 289.5,-2810.5904 286.0001,-2820.5904 293.0001,-2820.5903\" stroke=\"#000000\"/>\n</g>\n<!-- 139621356101584 -->\n<g class=\"node\" id=\"node69\">\n<title>139621356101584</title>\n<polygon fill=\"none\" points=\"87.5,-2701.5 87.5,-2737.5 329.5,-2737.5 329.5,-2701.5 87.5,-2701.5\" stroke=\"#000000\"/>\n<text fill=\"#000000\" font-family=\"Times,serif\" font-size=\"14.00\" text-anchor=\"middle\" x=\"208.5\" y=\"-2715.8\">Encoder-8-FeedForward: FeedForward</text>\n</g>\n<!-- 139621355986224&#45;&gt;139621356101584 -->\n<g class=\"edge\" id=\"edge83\">\n<title>139621355986224-&gt;139621356101584</title>\n<path d=\"M269.4775,-2774.4551C259.4498,-2765.4177 247.1491,-2754.3319 236.2286,-2744.4899\" fill=\"none\" stroke=\"#000000\"/>\n<polygon fill=\"#000000\" points=\"238.3444,-2741.6852 228.5729,-2737.5904 233.6581,-2746.885 238.3444,-2741.6852\" stroke=\"#000000\"/>\n</g>\n<!-- 139621354925416 -->\n<g class=\"node\" id=\"node71\">\n<title>139621354925416</title>\n<polygon fill=\"none\" points=\"173.5,-2555.5 173.5,-2591.5 393.5,-2591.5 393.5,-2555.5 173.5,-2555.5\" stroke=\"#000000\"/>\n<text fill=\"#000000\" font-family=\"Times,serif\" font-size=\"14.00\" text-anchor=\"middle\" x=\"283.5\" y=\"-2569.8\">Encoder-8-FeedForward-Add: Add</text>\n</g>\n<!-- 139621355986224&#45;&gt;139621354925416 -->\n<g class=\"edge\" id=\"edge85\">\n<title>139621355986224-&gt;139621354925416</title>\n<path d=\"M311.3471,-2774.291C321.3936,-2764.6134 332.4097,-2751.8624 338.5,-2738 358.2044,-2693.1498 365.6917,-2672.6329 345.5,-2628 340.2852,-2616.4728 331.2939,-2606.4147 321.751,-2598.1833\" fill=\"none\" stroke=\"#000000\"/>\n<polygon fill=\"#000000\" points=\"323.6666,-2595.2331 313.676,-2591.7064 319.2868,-2600.6936 323.6666,-2595.2331\" stroke=\"#000000\"/>\n</g>\n<!-- 139621356144176 -->\n<g class=\"node\" id=\"node70\">\n<title>139621356144176</title>\n<polygon fill=\"none\" points=\"69,-2628.5 69,-2664.5 336,-2664.5 336,-2628.5 69,-2628.5\" stroke=\"#000000\"/>\n<text fill=\"#000000\" font-family=\"Times,serif\" font-size=\"14.00\" text-anchor=\"middle\" x=\"202.5\" y=\"-2642.8\">Encoder-8-FeedForward-Dropout: Dropout</text>\n</g>\n<!-- 139621356101584&#45;&gt;139621356144176 -->\n<g class=\"edge\" id=\"edge84\">\n<title>139621356101584-&gt;139621356144176</title>\n<path d=\"M207.0169,-2701.4551C206.3534,-2693.3828 205.5556,-2683.6764 204.8163,-2674.6817\" fill=\"none\" stroke=\"#000000\"/>\n<polygon fill=\"#000000\" points=\"208.2944,-2674.27 203.9869,-2664.5904 201.3179,-2674.8435 208.2944,-2674.27\" stroke=\"#000000\"/>\n</g>\n<!-- 139621356144176&#45;&gt;139621354925416 -->\n<g class=\"edge\" id=\"edge86\">\n<title>139621356144176-&gt;139621354925416</title>\n<path d=\"M222.5225,-2628.4551C232.5502,-2619.4177 244.8509,-2608.3319 255.7714,-2598.4899\" fill=\"none\" stroke=\"#000000\"/>\n<polygon fill=\"#000000\" points=\"258.3419,-2600.885 263.4271,-2591.5904 253.6556,-2595.6852 258.3419,-2600.885\" stroke=\"#000000\"/>\n</g>\n<!-- 139621352427080 -->\n<g class=\"node\" id=\"node72\">\n<title>139621352427080</title>\n<polygon fill=\"none\" points=\"124.5,-2482.5 124.5,-2518.5 442.5,-2518.5 442.5,-2482.5 124.5,-2482.5\" stroke=\"#000000\"/>\n<text fill=\"#000000\" font-family=\"Times,serif\" font-size=\"14.00\" text-anchor=\"middle\" x=\"283.5\" y=\"-2496.8\">Encoder-8-FeedForward-Norm: LayerNormalization</text>\n</g>\n<!-- 139621354925416&#45;&gt;139621352427080 -->\n<g class=\"edge\" id=\"edge87\">\n<title>139621354925416-&gt;139621352427080</title>\n<path d=\"M283.5,-2555.4551C283.5,-2547.3828 283.5,-2537.6764 283.5,-2528.6817\" fill=\"none\" stroke=\"#000000\"/>\n<polygon fill=\"#000000\" points=\"287.0001,-2528.5903 283.5,-2518.5904 280.0001,-2528.5904 287.0001,-2528.5903\" stroke=\"#000000\"/>\n</g>\n<!-- 139621352426352 -->\n<g class=\"node\" id=\"node73\">\n<title>139621352426352</title>\n<polygon fill=\"none\" points=\"13.5,-2409.5 13.5,-2445.5 355.5,-2445.5 355.5,-2409.5 13.5,-2409.5\" stroke=\"#000000\"/>\n<text fill=\"#000000\" font-family=\"Times,serif\" font-size=\"14.00\" text-anchor=\"middle\" x=\"184.5\" y=\"-2423.8\">Encoder-9-MultiHeadSelfAttention: MultiHeadAttention</text>\n</g>\n<!-- 139621352427080&#45;&gt;139621352426352 -->\n<g class=\"edge\" id=\"edge88\">\n<title>139621352427080-&gt;139621352426352</title>\n<path d=\"M259.0281,-2482.4551C246.4149,-2473.1545 230.8597,-2461.6844 217.2286,-2451.6332\" fill=\"none\" stroke=\"#000000\"/>\n<polygon fill=\"#000000\" points=\"219.1592,-2448.7082 209.0335,-2445.5904 215.0049,-2454.3421 219.1592,-2448.7082\" stroke=\"#000000\"/>\n</g>\n<!-- 139621347199408 -->\n<g class=\"node\" id=\"node75\">\n<title>139621347199408</title>\n<polygon fill=\"none\" points=\"145,-2263.5 145,-2299.5 426,-2299.5 426,-2263.5 145,-2263.5\" stroke=\"#000000\"/>\n<text fill=\"#000000\" font-family=\"Times,serif\" font-size=\"14.00\" text-anchor=\"middle\" x=\"285.5\" y=\"-2277.8\">Encoder-9-MultiHeadSelfAttention-Add: Add</text>\n</g>\n<!-- 139621352427080&#45;&gt;139621347199408 -->\n<g class=\"edge\" id=\"edge90\">\n<title>139621352427080-&gt;139621347199408</title>\n<path d=\"M326.0685,-2482.3804C341.0065,-2473.7 356.1359,-2461.7088 364.5,-2446 372.5894,-2430.8071 370.2511,-2353.9102 360.5,-2336 353.7494,-2323.601 342.8204,-2313.3006 331.3687,-2305.1162\" fill=\"none\" stroke=\"#000000\"/>\n<polygon fill=\"#000000\" points=\"333.2521,-2302.1654 322.99,-2299.531 329.3694,-2307.9899 333.2521,-2302.1654\" stroke=\"#000000\"/>\n</g>\n<!-- 139621352512312 -->\n<g class=\"node\" id=\"node74\">\n<title>139621352512312</title>\n<polygon fill=\"none\" points=\"23,-2336.5 23,-2372.5 352,-2372.5 352,-2336.5 23,-2336.5\" stroke=\"#000000\"/>\n<text fill=\"#000000\" font-family=\"Times,serif\" font-size=\"14.00\" text-anchor=\"middle\" x=\"187.5\" y=\"-2350.8\">Encoder-9-MultiHeadSelfAttention-Dropout: Dropout</text>\n</g>\n<!-- 139621352426352&#45;&gt;139621352512312 -->\n<g class=\"edge\" id=\"edge89\">\n<title>139621352426352-&gt;139621352512312</title>\n<path d=\"M185.2416,-2409.4551C185.5733,-2401.3828 185.9722,-2391.6764 186.3418,-2382.6817\" fill=\"none\" stroke=\"#000000\"/>\n<polygon fill=\"#000000\" points=\"189.8429,-2382.7257 186.7566,-2372.5904 182.8488,-2382.4382 189.8429,-2382.7257\" stroke=\"#000000\"/>\n</g>\n<!-- 139621352512312&#45;&gt;139621347199408 -->\n<g class=\"edge\" id=\"edge91\">\n<title>139621352512312-&gt;139621347199408</title>\n<path d=\"M211.7247,-2336.4551C224.2105,-2327.1545 239.6086,-2315.6844 253.102,-2305.6332\" fill=\"none\" stroke=\"#000000\"/>\n<polygon fill=\"#000000\" points=\"255.2855,-2308.371 261.2143,-2299.5904 251.1039,-2302.7573 255.2855,-2308.371\" stroke=\"#000000\"/>\n</g>\n<!-- 139621340303144 -->\n<g class=\"node\" id=\"node76\">\n<title>139621340303144</title>\n<polygon fill=\"none\" points=\"95.5,-2190.5 95.5,-2226.5 475.5,-2226.5 475.5,-2190.5 95.5,-2190.5\" stroke=\"#000000\"/>\n<text fill=\"#000000\" font-family=\"Times,serif\" font-size=\"14.00\" text-anchor=\"middle\" x=\"285.5\" y=\"-2204.8\">Encoder-9-MultiHeadSelfAttention-Norm: LayerNormalization</text>\n</g>\n<!-- 139621347199408&#45;&gt;139621340303144 -->\n<g class=\"edge\" id=\"edge92\">\n<title>139621347199408-&gt;139621340303144</title>\n<path d=\"M285.5,-2263.4551C285.5,-2255.3828 285.5,-2245.6764 285.5,-2236.6817\" fill=\"none\" stroke=\"#000000\"/>\n<polygon fill=\"#000000\" points=\"289.0001,-2236.5903 285.5,-2226.5904 282.0001,-2236.5904 289.0001,-2236.5903\" stroke=\"#000000\"/>\n</g>\n<!-- 139621340437864 -->\n<g class=\"node\" id=\"node77\">\n<title>139621340437864</title>\n<polygon fill=\"none\" points=\"83.5,-2117.5 83.5,-2153.5 325.5,-2153.5 325.5,-2117.5 83.5,-2117.5\" stroke=\"#000000\"/>\n<text fill=\"#000000\" font-family=\"Times,serif\" font-size=\"14.00\" text-anchor=\"middle\" x=\"204.5\" y=\"-2131.8\">Encoder-9-FeedForward: FeedForward</text>\n</g>\n<!-- 139621340303144&#45;&gt;139621340437864 -->\n<g class=\"edge\" id=\"edge93\">\n<title>139621340303144-&gt;139621340437864</title>\n<path d=\"M265.4775,-2190.4551C255.4498,-2181.4177 243.1491,-2170.3319 232.2286,-2160.4899\" fill=\"none\" stroke=\"#000000\"/>\n<polygon fill=\"#000000\" points=\"234.3444,-2157.6852 224.5729,-2153.5904 229.6581,-2162.885 234.3444,-2157.6852\" stroke=\"#000000\"/>\n</g>\n<!-- 139621339233752 -->\n<g class=\"node\" id=\"node79\">\n<title>139621339233752</title>\n<polygon fill=\"none\" points=\"169.5,-1971.5 169.5,-2007.5 389.5,-2007.5 389.5,-1971.5 169.5,-1971.5\" stroke=\"#000000\"/>\n<text fill=\"#000000\" font-family=\"Times,serif\" font-size=\"14.00\" text-anchor=\"middle\" x=\"279.5\" y=\"-1985.8\">Encoder-9-FeedForward-Add: Add</text>\n</g>\n<!-- 139621340303144&#45;&gt;139621339233752 -->\n<g class=\"edge\" id=\"edge95\">\n<title>139621340303144-&gt;139621339233752</title>\n<path d=\"M307.3471,-2190.291C317.3936,-2180.6134 328.4097,-2167.8624 334.5,-2154 354.2044,-2109.1498 361.6917,-2088.6329 341.5,-2044 336.2852,-2032.4728 327.2939,-2022.4147 317.751,-2014.1833\" fill=\"none\" stroke=\"#000000\"/>\n<polygon fill=\"#000000\" points=\"319.6666,-2011.2331 309.676,-2007.7064 315.2868,-2016.6936 319.6666,-2011.2331\" stroke=\"#000000\"/>\n</g>\n<!-- 139621339204744 -->\n<g class=\"node\" id=\"node78\">\n<title>139621339204744</title>\n<polygon fill=\"none\" points=\"65,-2044.5 65,-2080.5 332,-2080.5 332,-2044.5 65,-2044.5\" stroke=\"#000000\"/>\n<text fill=\"#000000\" font-family=\"Times,serif\" font-size=\"14.00\" text-anchor=\"middle\" x=\"198.5\" y=\"-2058.8\">Encoder-9-FeedForward-Dropout: Dropout</text>\n</g>\n<!-- 139621340437864&#45;&gt;139621339204744 -->\n<g class=\"edge\" id=\"edge94\">\n<title>139621340437864-&gt;139621339204744</title>\n<path d=\"M203.0169,-2117.4551C202.3534,-2109.3828 201.5556,-2099.6764 200.8163,-2090.6817\" fill=\"none\" stroke=\"#000000\"/>\n<polygon fill=\"#000000\" points=\"204.2944,-2090.27 199.9869,-2080.5904 197.3179,-2090.8435 204.2944,-2090.27\" stroke=\"#000000\"/>\n</g>\n<!-- 139621339204744&#45;&gt;139621339233752 -->\n<g class=\"edge\" id=\"edge96\">\n<title>139621339204744-&gt;139621339233752</title>\n<path d=\"M218.5225,-2044.4551C228.5502,-2035.4177 240.8509,-2024.3319 251.7714,-2014.4899\" fill=\"none\" stroke=\"#000000\"/>\n<polygon fill=\"#000000\" points=\"254.3419,-2016.885 259.4271,-2007.5904 249.6556,-2011.6852 254.3419,-2016.885\" stroke=\"#000000\"/>\n</g>\n<!-- 139621339122544 -->\n<g class=\"node\" id=\"node80\">\n<title>139621339122544</title>\n<polygon fill=\"none\" points=\"120.5,-1898.5 120.5,-1934.5 438.5,-1934.5 438.5,-1898.5 120.5,-1898.5\" stroke=\"#000000\"/>\n<text fill=\"#000000\" font-family=\"Times,serif\" font-size=\"14.00\" text-anchor=\"middle\" x=\"279.5\" y=\"-1912.8\">Encoder-9-FeedForward-Norm: LayerNormalization</text>\n</g>\n<!-- 139621339233752&#45;&gt;139621339122544 -->\n<g class=\"edge\" id=\"edge97\">\n<title>139621339233752-&gt;139621339122544</title>\n<path d=\"M279.5,-1971.4551C279.5,-1963.3828 279.5,-1953.6764 279.5,-1944.6817\" fill=\"none\" stroke=\"#000000\"/>\n<polygon fill=\"#000000\" points=\"283.0001,-1944.5903 279.5,-1934.5904 276.0001,-1944.5904 283.0001,-1944.5903\" stroke=\"#000000\"/>\n</g>\n<!-- 139621339121816 -->\n<g class=\"node\" id=\"node81\">\n<title>139621339121816</title>\n<polygon fill=\"none\" points=\"3.5,-1825.5 3.5,-1861.5 353.5,-1861.5 353.5,-1825.5 3.5,-1825.5\" stroke=\"#000000\"/>\n<text fill=\"#000000\" font-family=\"Times,serif\" font-size=\"14.00\" text-anchor=\"middle\" x=\"178.5\" y=\"-1839.8\">Encoder-10-MultiHeadSelfAttention: MultiHeadAttention</text>\n</g>\n<!-- 139621339122544&#45;&gt;139621339121816 -->\n<g class=\"edge\" id=\"edge98\">\n<title>139621339122544-&gt;139621339121816</title>\n<path d=\"M254.5337,-1898.4551C241.6658,-1889.1545 225.7962,-1877.6844 211.8898,-1867.6332\" fill=\"none\" stroke=\"#000000\"/>\n<polygon fill=\"#000000\" points=\"213.6841,-1864.6116 203.5291,-1861.5904 209.5836,-1870.2849 213.6841,-1864.6116\" stroke=\"#000000\"/>\n</g>\n<!-- 139621337564888 -->\n<g class=\"node\" id=\"node83\">\n<title>139621337564888</title>\n<polygon fill=\"none\" points=\"137,-1679.5 137,-1715.5 426,-1715.5 426,-1679.5 137,-1679.5\" stroke=\"#000000\"/>\n<text fill=\"#000000\" font-family=\"Times,serif\" font-size=\"14.00\" text-anchor=\"middle\" x=\"281.5\" y=\"-1693.8\">Encoder-10-MultiHeadSelfAttention-Add: Add</text>\n</g>\n<!-- 139621339122544&#45;&gt;139621337564888 -->\n<g class=\"edge\" id=\"edge100\">\n<title>139621339122544-&gt;139621337564888</title>\n<path d=\"M323.5299,-1898.3618C338.6906,-1889.7299 353.9854,-1877.7771 362.5,-1862 370.6814,-1846.8405 368.4328,-1769.9762 358.5,-1752 351.6163,-1739.542 340.5325,-1729.2616 328.8935,-1721.116\" fill=\"none\" stroke=\"#000000\"/>\n<polygon fill=\"#000000\" points=\"330.6612,-1718.0903 320.3726,-1715.5614 326.8385,-1723.9544 330.6612,-1718.0903\" stroke=\"#000000\"/>\n</g>\n<!-- 139621337386624 -->\n<g class=\"node\" id=\"node82\">\n<title>139621337386624</title>\n<polygon fill=\"none\" points=\"13.5,-1752.5 13.5,-1788.5 349.5,-1788.5 349.5,-1752.5 13.5,-1752.5\" stroke=\"#000000\"/>\n<text fill=\"#000000\" font-family=\"Times,serif\" font-size=\"14.00\" text-anchor=\"middle\" x=\"181.5\" y=\"-1766.8\">Encoder-10-MultiHeadSelfAttention-Dropout: Dropout</text>\n</g>\n<!-- 139621339121816&#45;&gt;139621337386624 -->\n<g class=\"edge\" id=\"edge99\">\n<title>139621339121816-&gt;139621337386624</title>\n<path d=\"M179.2416,-1825.4551C179.5733,-1817.3828 179.9722,-1807.6764 180.3418,-1798.6817\" fill=\"none\" stroke=\"#000000\"/>\n<polygon fill=\"#000000\" points=\"183.8429,-1798.7257 180.7566,-1788.5904 176.8488,-1798.4382 183.8429,-1798.7257\" stroke=\"#000000\"/>\n</g>\n<!-- 139621337386624&#45;&gt;139621337564888 -->\n<g class=\"edge\" id=\"edge101\">\n<title>139621337386624-&gt;139621337564888</title>\n<path d=\"M206.2191,-1752.4551C218.9597,-1743.1545 234.6721,-1731.6844 248.4408,-1721.6332\" fill=\"none\" stroke=\"#000000\"/>\n<polygon fill=\"#000000\" points=\"250.7055,-1724.3134 256.7187,-1715.5904 246.5781,-1718.6596 250.7055,-1724.3134\" stroke=\"#000000\"/>\n</g>\n<!-- 139621332205464 -->\n<g class=\"node\" id=\"node84\">\n<title>139621332205464</title>\n<polygon fill=\"none\" points=\"88,-1606.5 88,-1642.5 475,-1642.5 475,-1606.5 88,-1606.5\" stroke=\"#000000\"/>\n<text fill=\"#000000\" font-family=\"Times,serif\" font-size=\"14.00\" text-anchor=\"middle\" x=\"281.5\" y=\"-1620.8\">Encoder-10-MultiHeadSelfAttention-Norm: LayerNormalization</text>\n</g>\n<!-- 139621337564888&#45;&gt;139621332205464 -->\n<g class=\"edge\" id=\"edge102\">\n<title>139621337564888-&gt;139621332205464</title>\n<path d=\"M281.5,-1679.4551C281.5,-1671.3828 281.5,-1661.6764 281.5,-1652.6817\" fill=\"none\" stroke=\"#000000\"/>\n<polygon fill=\"#000000\" points=\"285.0001,-1652.5903 281.5,-1642.5904 278.0001,-1652.5904 285.0001,-1652.5903\" stroke=\"#000000\"/>\n</g>\n<!-- 139621332266400 -->\n<g class=\"node\" id=\"node85\">\n<title>139621332266400</title>\n<polygon fill=\"none\" points=\"74,-1533.5 74,-1569.5 323,-1569.5 323,-1533.5 74,-1533.5\" stroke=\"#000000\"/>\n<text fill=\"#000000\" font-family=\"Times,serif\" font-size=\"14.00\" text-anchor=\"middle\" x=\"198.5\" y=\"-1547.8\">Encoder-10-FeedForward: FeedForward</text>\n</g>\n<!-- 139621332205464&#45;&gt;139621332266400 -->\n<g class=\"edge\" id=\"edge103\">\n<title>139621332205464-&gt;139621332266400</title>\n<path d=\"M260.9831,-1606.4551C250.608,-1597.3299 237.8584,-1586.1165 226.5877,-1576.2036\" fill=\"none\" stroke=\"#000000\"/>\n<polygon fill=\"#000000\" points=\"228.8889,-1573.5665 219.0685,-1569.5904 224.2659,-1578.8228 228.8889,-1573.5665\" stroke=\"#000000\"/>\n</g>\n<!-- 139621332015872 -->\n<g class=\"node\" id=\"node87\">\n<title>139621332015872</title>\n<polygon fill=\"none\" points=\"162,-1387.5 162,-1423.5 389,-1423.5 389,-1387.5 162,-1387.5\" stroke=\"#000000\"/>\n<text fill=\"#000000\" font-family=\"Times,serif\" font-size=\"14.00\" text-anchor=\"middle\" x=\"275.5\" y=\"-1401.8\">Encoder-10-FeedForward-Add: Add</text>\n</g>\n<!-- 139621332205464&#45;&gt;139621332015872 -->\n<g class=\"edge\" id=\"edge105\">\n<title>139621332205464-&gt;139621332015872</title>\n<path d=\"M303.7102,-1606.3371C313.9414,-1596.6709 325.1891,-1583.916 331.5,-1570 351.745,-1525.358 360.0543,-1504.5004 339.5,-1460 334.0436,-1448.1867 324.6242,-1437.9911 314.6643,-1429.7193\" fill=\"none\" stroke=\"#000000\"/>\n<polygon fill=\"#000000\" points=\"316.678,-1426.8521 306.6262,-1423.5038 312.396,-1432.3897 316.678,-1426.8521\" stroke=\"#000000\"/>\n</g>\n<!-- 139621331860560 -->\n<g class=\"node\" id=\"node86\">\n<title>139621331860560</title>\n<polygon fill=\"none\" points=\"55,-1460.5 55,-1496.5 330,-1496.5 330,-1460.5 55,-1460.5\" stroke=\"#000000\"/>\n<text fill=\"#000000\" font-family=\"Times,serif\" font-size=\"14.00\" text-anchor=\"middle\" x=\"192.5\" y=\"-1474.8\">Encoder-10-FeedForward-Dropout: Dropout</text>\n</g>\n<!-- 139621332266400&#45;&gt;139621331860560 -->\n<g class=\"edge\" id=\"edge104\">\n<title>139621332266400-&gt;139621331860560</title>\n<path d=\"M197.0169,-1533.4551C196.3534,-1525.3828 195.5556,-1515.6764 194.8163,-1506.6817\" fill=\"none\" stroke=\"#000000\"/>\n<polygon fill=\"#000000\" points=\"198.2944,-1506.27 193.9869,-1496.5904 191.3179,-1506.8435 198.2944,-1506.27\" stroke=\"#000000\"/>\n</g>\n<!-- 139621331860560&#45;&gt;139621332015872 -->\n<g class=\"edge\" id=\"edge106\">\n<title>139621331860560-&gt;139621332015872</title>\n<path d=\"M213.0169,-1460.4551C223.392,-1451.3299 236.1416,-1440.1165 247.4123,-1430.2036\" fill=\"none\" stroke=\"#000000\"/>\n<polygon fill=\"#000000\" points=\"249.7341,-1432.8228 254.9315,-1423.5904 245.1111,-1427.5665 249.7341,-1432.8228\" stroke=\"#000000\"/>\n</g>\n<!-- 139621328701592 -->\n<g class=\"node\" id=\"node88\">\n<title>139621328701592</title>\n<polygon fill=\"none\" points=\"112.5,-1314.5 112.5,-1350.5 438.5,-1350.5 438.5,-1314.5 112.5,-1314.5\" stroke=\"#000000\"/>\n<text fill=\"#000000\" font-family=\"Times,serif\" font-size=\"14.00\" text-anchor=\"middle\" x=\"275.5\" y=\"-1328.8\">Encoder-10-FeedForward-Norm: LayerNormalization</text>\n</g>\n<!-- 139621332015872&#45;&gt;139621328701592 -->\n<g class=\"edge\" id=\"edge107\">\n<title>139621332015872-&gt;139621328701592</title>\n<path d=\"M275.5,-1387.4551C275.5,-1379.3828 275.5,-1369.6764 275.5,-1360.6817\" fill=\"none\" stroke=\"#000000\"/>\n<polygon fill=\"#000000\" points=\"279.0001,-1360.5903 275.5,-1350.5904 272.0001,-1360.5904 279.0001,-1360.5903\" stroke=\"#000000\"/>\n</g>\n<!-- 139621328700864 -->\n<g class=\"node\" id=\"node89\">\n<title>139621328700864</title>\n<polygon fill=\"none\" points=\"0,-1241.5 0,-1277.5 349,-1277.5 349,-1241.5 0,-1241.5\" stroke=\"#000000\"/>\n<text fill=\"#000000\" font-family=\"Times,serif\" font-size=\"14.00\" text-anchor=\"middle\" x=\"174.5\" y=\"-1255.8\">Encoder-11-MultiHeadSelfAttention: MultiHeadAttention</text>\n</g>\n<!-- 139621328701592&#45;&gt;139621328700864 -->\n<g class=\"edge\" id=\"edge108\">\n<title>139621328701592-&gt;139621328700864</title>\n<path d=\"M250.5337,-1314.4551C237.6658,-1305.1545 221.7962,-1293.6844 207.8898,-1283.6332\" fill=\"none\" stroke=\"#000000\"/>\n<polygon fill=\"#000000\" points=\"209.6841,-1280.6116 199.5291,-1277.5904 205.5836,-1286.2849 209.6841,-1280.6116\" stroke=\"#000000\"/>\n</g>\n<!-- 139621327426392 -->\n<g class=\"node\" id=\"node91\">\n<title>139621327426392</title>\n<polygon fill=\"none\" points=\"133.5,-1095.5 133.5,-1131.5 421.5,-1131.5 421.5,-1095.5 133.5,-1095.5\" stroke=\"#000000\"/>\n<text fill=\"#000000\" font-family=\"Times,serif\" font-size=\"14.00\" text-anchor=\"middle\" x=\"277.5\" y=\"-1109.8\">Encoder-11-MultiHeadSelfAttention-Add: Add</text>\n</g>\n<!-- 139621328701592&#45;&gt;139621327426392 -->\n<g class=\"edge\" id=\"edge110\">\n<title>139621328701592-&gt;139621327426392</title>\n<path d=\"M319.5299,-1314.3618C334.6906,-1305.7299 349.9854,-1293.7771 358.5,-1278 366.6814,-1262.8405 364.4328,-1185.9762 354.5,-1168 347.6163,-1155.542 336.5325,-1145.2616 324.8935,-1137.116\" fill=\"none\" stroke=\"#000000\"/>\n<polygon fill=\"#000000\" points=\"326.6612,-1134.0903 316.3726,-1131.5614 322.8385,-1139.9544 326.6612,-1134.0903\" stroke=\"#000000\"/>\n</g>\n<!-- 139621328838104 -->\n<g class=\"node\" id=\"node90\">\n<title>139621328838104</title>\n<polygon fill=\"none\" points=\"10,-1168.5 10,-1204.5 345,-1204.5 345,-1168.5 10,-1168.5\" stroke=\"#000000\"/>\n<text fill=\"#000000\" font-family=\"Times,serif\" font-size=\"14.00\" text-anchor=\"middle\" x=\"177.5\" y=\"-1182.8\">Encoder-11-MultiHeadSelfAttention-Dropout: Dropout</text>\n</g>\n<!-- 139621328700864&#45;&gt;139621328838104 -->\n<g class=\"edge\" id=\"edge109\">\n<title>139621328700864-&gt;139621328838104</title>\n<path d=\"M175.2416,-1241.4551C175.5733,-1233.3828 175.9722,-1223.6764 176.3418,-1214.6817\" fill=\"none\" stroke=\"#000000\"/>\n<polygon fill=\"#000000\" points=\"179.8429,-1214.7257 176.7566,-1204.5904 172.8488,-1214.4382 179.8429,-1214.7257\" stroke=\"#000000\"/>\n</g>\n<!-- 139621328838104&#45;&gt;139621327426392 -->\n<g class=\"edge\" id=\"edge111\">\n<title>139621328838104-&gt;139621327426392</title>\n<path d=\"M202.2191,-1168.4551C214.9597,-1159.1545 230.6721,-1147.6844 244.4408,-1137.6332\" fill=\"none\" stroke=\"#000000\"/>\n<polygon fill=\"#000000\" points=\"246.7055,-1140.3134 252.7187,-1131.5904 242.5781,-1134.6596 246.7055,-1140.3134\" stroke=\"#000000\"/>\n</g>\n<!-- 139621375847168 -->\n<g class=\"node\" id=\"node92\">\n<title>139621375847168</title>\n<polygon fill=\"none\" points=\"84.5,-1022.5 84.5,-1058.5 470.5,-1058.5 470.5,-1022.5 84.5,-1022.5\" stroke=\"#000000\"/>\n<text fill=\"#000000\" font-family=\"Times,serif\" font-size=\"14.00\" text-anchor=\"middle\" x=\"277.5\" y=\"-1036.8\">Encoder-11-MultiHeadSelfAttention-Norm: LayerNormalization</text>\n</g>\n<!-- 139621327426392&#45;&gt;139621375847168 -->\n<g class=\"edge\" id=\"edge112\">\n<title>139621327426392-&gt;139621375847168</title>\n<path d=\"M277.5,-1095.4551C277.5,-1087.3828 277.5,-1077.6764 277.5,-1068.6817\" fill=\"none\" stroke=\"#000000\"/>\n<polygon fill=\"#000000\" points=\"281.0001,-1068.5903 277.5,-1058.5904 274.0001,-1068.5904 281.0001,-1068.5903\" stroke=\"#000000\"/>\n</g>\n<!-- 139621375847336 -->\n<g class=\"node\" id=\"node93\">\n<title>139621375847336</title>\n<polygon fill=\"none\" points=\"77.5,-949.5 77.5,-985.5 325.5,-985.5 325.5,-949.5 77.5,-949.5\" stroke=\"#000000\"/>\n<text fill=\"#000000\" font-family=\"Times,serif\" font-size=\"14.00\" text-anchor=\"middle\" x=\"201.5\" y=\"-963.8\">Encoder-11-FeedForward: FeedForward</text>\n</g>\n<!-- 139621375847168&#45;&gt;139621375847336 -->\n<g class=\"edge\" id=\"edge113\">\n<title>139621375847168-&gt;139621375847336</title>\n<path d=\"M258.7135,-1022.4551C249.3961,-1013.5054 237.9873,-1002.547 227.8157,-992.7769\" fill=\"none\" stroke=\"#000000\"/>\n<polygon fill=\"#000000\" points=\"229.9704,-989.9935 220.3338,-985.5904 225.1212,-995.0419 229.9704,-989.9935\" stroke=\"#000000\"/>\n</g>\n<!-- 139621370722344 -->\n<g class=\"node\" id=\"node95\">\n<title>139621370722344</title>\n<polygon fill=\"none\" points=\"163,-803.5 163,-839.5 390,-839.5 390,-803.5 163,-803.5\" stroke=\"#000000\"/>\n<text fill=\"#000000\" font-family=\"Times,serif\" font-size=\"14.00\" text-anchor=\"middle\" x=\"276.5\" y=\"-817.8\">Encoder-11-FeedForward-Add: Add</text>\n</g>\n<!-- 139621375847168&#45;&gt;139621370722344 -->\n<g class=\"edge\" id=\"edge115\">\n<title>139621375847168-&gt;139621370722344</title>\n<path d=\"M303.8634,-1022.2916C315.3206,-1012.8699 327.6647,-1000.3358 334.5,-986 355.572,-941.8049 361.0306,-920.4492 340.5,-876 335.0436,-864.1867 325.6242,-853.9911 315.6643,-845.7193\" fill=\"none\" stroke=\"#000000\"/>\n<polygon fill=\"#000000\" points=\"317.678,-842.8521 307.6262,-839.5038 313.396,-848.3897 317.678,-842.8521\" stroke=\"#000000\"/>\n</g>\n<!-- 139621373148184 -->\n<g class=\"node\" id=\"node94\">\n<title>139621373148184</title>\n<polygon fill=\"none\" points=\"57.5,-876.5 57.5,-912.5 331.5,-912.5 331.5,-876.5 57.5,-876.5\" stroke=\"#000000\"/>\n<text fill=\"#000000\" font-family=\"Times,serif\" font-size=\"14.00\" text-anchor=\"middle\" x=\"194.5\" y=\"-890.8\">Encoder-11-FeedForward-Dropout: Dropout</text>\n</g>\n<!-- 139621375847336&#45;&gt;139621373148184 -->\n<g class=\"edge\" id=\"edge114\">\n<title>139621375847336-&gt;139621373148184</title>\n<path d=\"M199.7697,-949.4551C198.9956,-941.3828 198.0649,-931.6764 197.2024,-922.6817\" fill=\"none\" stroke=\"#000000\"/>\n<polygon fill=\"#000000\" points=\"200.6733,-922.2106 196.2347,-912.5904 193.7053,-922.8788 200.6733,-922.2106\" stroke=\"#000000\"/>\n</g>\n<!-- 139621373148184&#45;&gt;139621370722344 -->\n<g class=\"edge\" id=\"edge116\">\n<title>139621373148184-&gt;139621370722344</title>\n<path d=\"M214.7697,-876.4551C224.9212,-867.4177 237.3738,-856.3319 248.4291,-846.4899\" fill=\"none\" stroke=\"#000000\"/>\n<polygon fill=\"#000000\" points=\"251.0375,-848.8539 256.1793,-839.5904 246.383,-843.6255 251.0375,-848.8539\" stroke=\"#000000\"/>\n</g>\n<!-- 139621369486976 -->\n<g class=\"node\" id=\"node96\">\n<title>139621369486976</title>\n<polygon fill=\"none\" points=\"114,-730.5 114,-766.5 439,-766.5 439,-730.5 114,-730.5\" stroke=\"#000000\"/>\n<text fill=\"#000000\" font-family=\"Times,serif\" font-size=\"14.00\" text-anchor=\"middle\" x=\"276.5\" y=\"-744.8\">Encoder-11-FeedForward-Norm: LayerNormalization</text>\n</g>\n<!-- 139621370722344&#45;&gt;139621369486976 -->\n<g class=\"edge\" id=\"edge117\">\n<title>139621370722344-&gt;139621369486976</title>\n<path d=\"M276.5,-803.4551C276.5,-795.3828 276.5,-785.6764 276.5,-776.6817\" fill=\"none\" stroke=\"#000000\"/>\n<polygon fill=\"#000000\" points=\"280.0001,-776.5903 276.5,-766.5904 273.0001,-776.5904 280.0001,-776.5903\" stroke=\"#000000\"/>\n</g>\n<!-- 139621369485968 -->\n<g class=\"node\" id=\"node97\">\n<title>139621369485968</title>\n<polygon fill=\"none\" points=\".5,-657.5 .5,-693.5 350.5,-693.5 350.5,-657.5 .5,-657.5\" stroke=\"#000000\"/>\n<text fill=\"#000000\" font-family=\"Times,serif\" font-size=\"14.00\" text-anchor=\"middle\" x=\"175.5\" y=\"-671.8\">Encoder-12-MultiHeadSelfAttention: MultiHeadAttention</text>\n</g>\n<!-- 139621369486976&#45;&gt;139621369485968 -->\n<g class=\"edge\" id=\"edge118\">\n<title>139621369486976-&gt;139621369485968</title>\n<path d=\"M251.5337,-730.4551C238.6658,-721.1545 222.7962,-709.6844 208.8898,-699.6332\" fill=\"none\" stroke=\"#000000\"/>\n<polygon fill=\"#000000\" points=\"210.6841,-696.6116 200.5291,-693.5904 206.5836,-702.2849 210.6841,-696.6116\" stroke=\"#000000\"/>\n</g>\n<!-- 139621367913888 -->\n<g class=\"node\" id=\"node99\">\n<title>139621367913888</title>\n<polygon fill=\"none\" points=\"134,-511.5 134,-547.5 423,-547.5 423,-511.5 134,-511.5\" stroke=\"#000000\"/>\n<text fill=\"#000000\" font-family=\"Times,serif\" font-size=\"14.00\" text-anchor=\"middle\" x=\"278.5\" y=\"-525.8\">Encoder-12-MultiHeadSelfAttention-Add: Add</text>\n</g>\n<!-- 139621369486976&#45;&gt;139621367913888 -->\n<g class=\"edge\" id=\"edge120\">\n<title>139621369486976-&gt;139621367913888</title>\n<path d=\"M320.5299,-730.3618C335.6906,-721.7299 350.9854,-709.7771 359.5,-694 367.6814,-678.8405 365.4328,-601.9762 355.5,-584 348.6163,-571.542 337.5325,-561.2616 325.8935,-553.116\" fill=\"none\" stroke=\"#000000\"/>\n<polygon fill=\"#000000\" points=\"327.6612,-550.0903 317.3726,-547.5614 323.8385,-555.9544 327.6612,-550.0903\" stroke=\"#000000\"/>\n</g>\n<!-- 139621367827592 -->\n<g class=\"node\" id=\"node98\">\n<title>139621367827592</title>\n<polygon fill=\"none\" points=\"10.5,-584.5 10.5,-620.5 346.5,-620.5 346.5,-584.5 10.5,-584.5\" stroke=\"#000000\"/>\n<text fill=\"#000000\" font-family=\"Times,serif\" font-size=\"14.00\" text-anchor=\"middle\" x=\"178.5\" y=\"-598.8\">Encoder-12-MultiHeadSelfAttention-Dropout: Dropout</text>\n</g>\n<!-- 139621369485968&#45;&gt;139621367827592 -->\n<g class=\"edge\" id=\"edge119\">\n<title>139621369485968-&gt;139621367827592</title>\n<path d=\"M176.2416,-657.4551C176.5733,-649.3828 176.9722,-639.6764 177.3418,-630.6817\" fill=\"none\" stroke=\"#000000\"/>\n<polygon fill=\"#000000\" points=\"180.8429,-630.7257 177.7566,-620.5904 173.8488,-630.4382 180.8429,-630.7257\" stroke=\"#000000\"/>\n</g>\n<!-- 139621367827592&#45;&gt;139621367913888 -->\n<g class=\"edge\" id=\"edge121\">\n<title>139621367827592-&gt;139621367913888</title>\n<path d=\"M203.2191,-584.4551C215.9597,-575.1545 231.6721,-563.6844 245.4408,-553.6332\" fill=\"none\" stroke=\"#000000\"/>\n<polygon fill=\"#000000\" points=\"247.7055,-556.3134 253.7187,-547.5904 243.5781,-550.6596 247.7055,-556.3134\" stroke=\"#000000\"/>\n</g>\n<!-- 139621357430768 -->\n<g class=\"node\" id=\"node100\">\n<title>139621357430768</title>\n<polygon fill=\"none\" points=\"85,-438.5 85,-474.5 472,-474.5 472,-438.5 85,-438.5\" stroke=\"#000000\"/>\n<text fill=\"#000000\" font-family=\"Times,serif\" font-size=\"14.00\" text-anchor=\"middle\" x=\"278.5\" y=\"-452.8\">Encoder-12-MultiHeadSelfAttention-Norm: LayerNormalization</text>\n</g>\n<!-- 139621367913888&#45;&gt;139621357430768 -->\n<g class=\"edge\" id=\"edge122\">\n<title>139621367913888-&gt;139621357430768</title>\n<path d=\"M278.5,-511.4551C278.5,-503.3828 278.5,-493.6764 278.5,-484.6817\" fill=\"none\" stroke=\"#000000\"/>\n<polygon fill=\"#000000\" points=\"282.0001,-484.5903 278.5,-474.5904 275.0001,-484.5904 282.0001,-484.5903\" stroke=\"#000000\"/>\n</g>\n<!-- 139621357431944 -->\n<g class=\"node\" id=\"node101\">\n<title>139621357431944</title>\n<polygon fill=\"none\" points=\"71,-365.5 71,-401.5 320,-401.5 320,-365.5 71,-365.5\" stroke=\"#000000\"/>\n<text fill=\"#000000\" font-family=\"Times,serif\" font-size=\"14.00\" text-anchor=\"middle\" x=\"195.5\" y=\"-379.8\">Encoder-12-FeedForward: FeedForward</text>\n</g>\n<!-- 139621357430768&#45;&gt;139621357431944 -->\n<g class=\"edge\" id=\"edge123\">\n<title>139621357430768-&gt;139621357431944</title>\n<path d=\"M257.9831,-438.4551C247.608,-429.3299 234.8584,-418.1165 223.5877,-408.2036\" fill=\"none\" stroke=\"#000000\"/>\n<polygon fill=\"#000000\" points=\"225.8889,-405.5665 216.0685,-401.5904 221.2659,-410.8228 225.8889,-405.5665\" stroke=\"#000000\"/>\n</g>\n<!-- 139621357253800 -->\n<g class=\"node\" id=\"node103\">\n<title>139621357253800</title>\n<polygon fill=\"none\" points=\"159,-219.5 159,-255.5 386,-255.5 386,-219.5 159,-219.5\" stroke=\"#000000\"/>\n<text fill=\"#000000\" font-family=\"Times,serif\" font-size=\"14.00\" text-anchor=\"middle\" x=\"272.5\" y=\"-233.8\">Encoder-12-FeedForward-Add: Add</text>\n</g>\n<!-- 139621357430768&#45;&gt;139621357253800 -->\n<g class=\"edge\" id=\"edge125\">\n<title>139621357430768-&gt;139621357253800</title>\n<path d=\"M300.7102,-438.3371C310.9414,-428.6709 322.1891,-415.916 328.5,-402 348.745,-357.358 357.0543,-336.5004 336.5,-292 331.0436,-280.1867 321.6242,-269.9911 311.6643,-261.7193\" fill=\"none\" stroke=\"#000000\"/>\n<polygon fill=\"#000000\" points=\"313.678,-258.8521 303.6262,-255.5038 309.396,-264.3897 313.678,-258.8521\" stroke=\"#000000\"/>\n</g>\n<!-- 139621357055168 -->\n<g class=\"node\" id=\"node102\">\n<title>139621357055168</title>\n<polygon fill=\"none\" points=\"52,-292.5 52,-328.5 327,-328.5 327,-292.5 52,-292.5\" stroke=\"#000000\"/>\n<text fill=\"#000000\" font-family=\"Times,serif\" font-size=\"14.00\" text-anchor=\"middle\" x=\"189.5\" y=\"-306.8\">Encoder-12-FeedForward-Dropout: Dropout</text>\n</g>\n<!-- 139621357431944&#45;&gt;139621357055168 -->\n<g class=\"edge\" id=\"edge124\">\n<title>139621357431944-&gt;139621357055168</title>\n<path d=\"M194.0169,-365.4551C193.3534,-357.3828 192.5556,-347.6764 191.8163,-338.6817\" fill=\"none\" stroke=\"#000000\"/>\n<polygon fill=\"#000000\" points=\"195.2944,-338.27 190.9869,-328.5904 188.3179,-338.8435 195.2944,-338.27\" stroke=\"#000000\"/>\n</g>\n<!-- 139621357055168&#45;&gt;139621357253800 -->\n<g class=\"edge\" id=\"edge126\">\n<title>139621357055168-&gt;139621357253800</title>\n<path d=\"M210.0169,-292.4551C220.392,-283.3299 233.1416,-272.1165 244.4123,-262.2036\" fill=\"none\" stroke=\"#000000\"/>\n<polygon fill=\"#000000\" points=\"246.7341,-264.8228 251.9315,-255.5904 242.1111,-259.5665 246.7341,-264.8228\" stroke=\"#000000\"/>\n</g>\n<!-- 139621351809600 -->\n<g class=\"node\" id=\"node104\">\n<title>139621351809600</title>\n<polygon fill=\"none\" points=\"109.5,-146.5 109.5,-182.5 435.5,-182.5 435.5,-146.5 109.5,-146.5\" stroke=\"#000000\"/>\n<text fill=\"#000000\" font-family=\"Times,serif\" font-size=\"14.00\" text-anchor=\"middle\" x=\"272.5\" y=\"-160.8\">Encoder-12-FeedForward-Norm: LayerNormalization</text>\n</g>\n<!-- 139621357253800&#45;&gt;139621351809600 -->\n<g class=\"edge\" id=\"edge127\">\n<title>139621357253800-&gt;139621351809600</title>\n<path d=\"M272.5,-219.4551C272.5,-211.3828 272.5,-201.6764 272.5,-192.6817\" fill=\"none\" stroke=\"#000000\"/>\n<polygon fill=\"#000000\" points=\"276.0001,-192.5903 272.5,-182.5904 269.0001,-192.5904 276.0001,-192.5903\" stroke=\"#000000\"/>\n</g>\n<!-- 139621375415968 -->\n<g class=\"node\" id=\"node105\">\n<title>139621375415968</title>\n<polygon fill=\"none\" points=\"175.5,-73.5 175.5,-109.5 369.5,-109.5 369.5,-73.5 175.5,-73.5\" stroke=\"#000000\"/>\n<text fill=\"#000000\" font-family=\"Times,serif\" font-size=\"14.00\" text-anchor=\"middle\" x=\"272.5\" y=\"-87.8\">non_masking_1: NonMasking</text>\n</g>\n<!-- 139621351809600&#45;&gt;139621375415968 -->\n<g class=\"edge\" id=\"edge128\">\n<title>139621351809600-&gt;139621375415968</title>\n<path d=\"M272.5,-146.4551C272.5,-138.3828 272.5,-128.6764 272.5,-119.6817\" fill=\"none\" stroke=\"#000000\"/>\n<polygon fill=\"#000000\" points=\"276.0001,-119.5903 272.5,-109.5904 269.0001,-119.5904 276.0001,-119.5903\" stroke=\"#000000\"/>\n</g>\n<!-- 139621375416304 -->\n<g class=\"node\" id=\"node106\">\n<title>139621375416304</title>\n<polygon fill=\"none\" points=\"46.5,-.5 46.5,-36.5 264.5,-36.5 264.5,-.5 46.5,-.5\" stroke=\"#000000\"/>\n<text fill=\"#000000\" font-family=\"Times,serif\" font-size=\"14.00\" text-anchor=\"middle\" x=\"155.5\" y=\"-14.8\">my_layer__start_1: MyLayer_Start</text>\n</g>\n<!-- 139621375415968&#45;&gt;139621375416304 -->\n<g class=\"edge\" id=\"edge129\">\n<title>139621375415968-&gt;139621375416304</title>\n<path d=\"M243.5786,-73.4551C228.391,-63.979 209.5937,-52.2508 193.2699,-42.0658\" fill=\"none\" stroke=\"#000000\"/>\n<polygon fill=\"#000000\" points=\"194.8309,-38.9145 184.4941,-36.5904 191.1255,-44.8533 194.8309,-38.9145\" stroke=\"#000000\"/>\n</g>\n<!-- 139621375416360 -->\n<g class=\"node\" id=\"node107\">\n<title>139621375416360</title>\n<polygon fill=\"none\" points=\"282.5,-.5 282.5,-36.5 496.5,-36.5 496.5,-.5 282.5,-.5\" stroke=\"#000000\"/>\n<text fill=\"#000000\" font-family=\"Times,serif\" font-size=\"14.00\" text-anchor=\"middle\" x=\"389.5\" y=\"-14.8\">my_layer__end_1: MyLayer_End</text>\n</g>\n<!-- 139621375415968&#45;&gt;139621375416360 -->\n<g class=\"edge\" id=\"edge130\">\n<title>139621375415968-&gt;139621375416360</title>\n<path d=\"M301.4214,-73.4551C316.609,-63.979 335.4063,-52.2508 351.7301,-42.0658\" fill=\"none\" stroke=\"#000000\"/>\n<polygon fill=\"#000000\" points=\"353.8745,-44.8533 360.5059,-36.5904 350.1691,-38.9145 353.8745,-44.8533\" stroke=\"#000000\"/>\n</g>\n</g>\n</svg>"
          },
          "metadata": {
            "tags": []
          },
          "execution_count": 32
        }
      ]
    },
    {
      "cell_type": "code",
      "metadata": {
        "id": "0KlRRQi5kC5U",
        "colab_type": "code",
        "colab": {
          "base_uri": "https://localhost:8080/",
          "height": 1000
        },
        "outputId": "50bfd73d-2217-4b0c-d846-87994df9ec79"
      },
      "source": [
        "# 훈련시작\n",
        "# 1epoch을 훈련하고 결과를 확인한 후 훈련을 다시 시작할 예정\n",
        "\n",
        "sess = K.get_session()\n",
        "uninitialized_variables = set([i.decode('ascii') for i in sess.run(tf.report_uninitialized_variables())])\n",
        "init = tf.variables_initializer([v for v in tf.global_variables() if v.name.split(':')[0] in uninitialized_variables])\n",
        "sess.run(init)\n",
        "\n",
        "bert_model = get_bert_finetuning_model(model)\n",
        "bert_model.summary()\n",
        "history = bert_model.fit(train_x, train_y, batch_size=10, validation_split=0.05, shuffle=False, verbose=1)"
      ],
      "execution_count": 38,
      "outputs": [
        {
          "output_type": "stream",
          "text": [
            "WARNING:tensorflow:From /usr/local/lib/python3.6/dist-packages/tensorflow_core/python/ops/array_ops.py:1475: where (from tensorflow.python.ops.array_ops) is deprecated and will be removed in a future version.\n",
            "Instructions for updating:\n",
            "Use tf.where in 2.0, which has the same broadcast rule as np.where\n",
            "Model: \"model_4\"\n",
            "__________________________________________________________________________________________________\n",
            "Layer (type)                    Output Shape         Param #     Connected to                     \n",
            "==================================================================================================\n",
            "Input-Token (InputLayer)        (None, 384)          0                                            \n",
            "__________________________________________________________________________________________________\n",
            "Input-Segment (InputLayer)      (None, 384)          0                                            \n",
            "__________________________________________________________________________________________________\n",
            "Embedding-Token (TokenEmbedding [(None, 384, 768), ( 91812096    Input-Token[0][0]                \n",
            "__________________________________________________________________________________________________\n",
            "Embedding-Segment (Embedding)   (None, 384, 768)     1536        Input-Segment[0][0]              \n",
            "__________________________________________________________________________________________________\n",
            "Embedding-Token-Segment (Add)   (None, 384, 768)     0           Embedding-Token[0][0]            \n",
            "                                                                 Embedding-Segment[0][0]          \n",
            "__________________________________________________________________________________________________\n",
            "Embedding-Position (PositionEmb (None, 384, 768)     294912      Embedding-Token-Segment[0][0]    \n",
            "__________________________________________________________________________________________________\n",
            "Embedding-Dropout (Dropout)     (None, 384, 768)     0           Embedding-Position[0][0]         \n",
            "__________________________________________________________________________________________________\n",
            "Embedding-Norm (LayerNormalizat (None, 384, 768)     1536        Embedding-Dropout[0][0]          \n",
            "__________________________________________________________________________________________________\n",
            "Encoder-1-MultiHeadSelfAttentio (None, 384, 768)     2362368     Embedding-Norm[0][0]             \n",
            "__________________________________________________________________________________________________\n",
            "Encoder-1-MultiHeadSelfAttentio (None, 384, 768)     0           Encoder-1-MultiHeadSelfAttention[\n",
            "__________________________________________________________________________________________________\n",
            "Encoder-1-MultiHeadSelfAttentio (None, 384, 768)     0           Embedding-Norm[0][0]             \n",
            "                                                                 Encoder-1-MultiHeadSelfAttention-\n",
            "__________________________________________________________________________________________________\n",
            "Encoder-1-MultiHeadSelfAttentio (None, 384, 768)     1536        Encoder-1-MultiHeadSelfAttention-\n",
            "__________________________________________________________________________________________________\n",
            "Encoder-1-FeedForward (FeedForw (None, 384, 768)     4722432     Encoder-1-MultiHeadSelfAttention-\n",
            "__________________________________________________________________________________________________\n",
            "Encoder-1-FeedForward-Dropout ( (None, 384, 768)     0           Encoder-1-FeedForward[0][0]      \n",
            "__________________________________________________________________________________________________\n",
            "Encoder-1-FeedForward-Add (Add) (None, 384, 768)     0           Encoder-1-MultiHeadSelfAttention-\n",
            "                                                                 Encoder-1-FeedForward-Dropout[0][\n",
            "__________________________________________________________________________________________________\n",
            "Encoder-1-FeedForward-Norm (Lay (None, 384, 768)     1536        Encoder-1-FeedForward-Add[0][0]  \n",
            "__________________________________________________________________________________________________\n",
            "Encoder-2-MultiHeadSelfAttentio (None, 384, 768)     2362368     Encoder-1-FeedForward-Norm[0][0] \n",
            "__________________________________________________________________________________________________\n",
            "Encoder-2-MultiHeadSelfAttentio (None, 384, 768)     0           Encoder-2-MultiHeadSelfAttention[\n",
            "__________________________________________________________________________________________________\n",
            "Encoder-2-MultiHeadSelfAttentio (None, 384, 768)     0           Encoder-1-FeedForward-Norm[0][0] \n",
            "                                                                 Encoder-2-MultiHeadSelfAttention-\n",
            "__________________________________________________________________________________________________\n",
            "Encoder-2-MultiHeadSelfAttentio (None, 384, 768)     1536        Encoder-2-MultiHeadSelfAttention-\n",
            "__________________________________________________________________________________________________\n",
            "Encoder-2-FeedForward (FeedForw (None, 384, 768)     4722432     Encoder-2-MultiHeadSelfAttention-\n",
            "__________________________________________________________________________________________________\n",
            "Encoder-2-FeedForward-Dropout ( (None, 384, 768)     0           Encoder-2-FeedForward[0][0]      \n",
            "__________________________________________________________________________________________________\n",
            "Encoder-2-FeedForward-Add (Add) (None, 384, 768)     0           Encoder-2-MultiHeadSelfAttention-\n",
            "                                                                 Encoder-2-FeedForward-Dropout[0][\n",
            "__________________________________________________________________________________________________\n",
            "Encoder-2-FeedForward-Norm (Lay (None, 384, 768)     1536        Encoder-2-FeedForward-Add[0][0]  \n",
            "__________________________________________________________________________________________________\n",
            "Encoder-3-MultiHeadSelfAttentio (None, 384, 768)     2362368     Encoder-2-FeedForward-Norm[0][0] \n",
            "__________________________________________________________________________________________________\n",
            "Encoder-3-MultiHeadSelfAttentio (None, 384, 768)     0           Encoder-3-MultiHeadSelfAttention[\n",
            "__________________________________________________________________________________________________\n",
            "Encoder-3-MultiHeadSelfAttentio (None, 384, 768)     0           Encoder-2-FeedForward-Norm[0][0] \n",
            "                                                                 Encoder-3-MultiHeadSelfAttention-\n",
            "__________________________________________________________________________________________________\n",
            "Encoder-3-MultiHeadSelfAttentio (None, 384, 768)     1536        Encoder-3-MultiHeadSelfAttention-\n",
            "__________________________________________________________________________________________________\n",
            "Encoder-3-FeedForward (FeedForw (None, 384, 768)     4722432     Encoder-3-MultiHeadSelfAttention-\n",
            "__________________________________________________________________________________________________\n",
            "Encoder-3-FeedForward-Dropout ( (None, 384, 768)     0           Encoder-3-FeedForward[0][0]      \n",
            "__________________________________________________________________________________________________\n",
            "Encoder-3-FeedForward-Add (Add) (None, 384, 768)     0           Encoder-3-MultiHeadSelfAttention-\n",
            "                                                                 Encoder-3-FeedForward-Dropout[0][\n",
            "__________________________________________________________________________________________________\n",
            "Encoder-3-FeedForward-Norm (Lay (None, 384, 768)     1536        Encoder-3-FeedForward-Add[0][0]  \n",
            "__________________________________________________________________________________________________\n",
            "Encoder-4-MultiHeadSelfAttentio (None, 384, 768)     2362368     Encoder-3-FeedForward-Norm[0][0] \n",
            "__________________________________________________________________________________________________\n",
            "Encoder-4-MultiHeadSelfAttentio (None, 384, 768)     0           Encoder-4-MultiHeadSelfAttention[\n",
            "__________________________________________________________________________________________________\n",
            "Encoder-4-MultiHeadSelfAttentio (None, 384, 768)     0           Encoder-3-FeedForward-Norm[0][0] \n",
            "                                                                 Encoder-4-MultiHeadSelfAttention-\n",
            "__________________________________________________________________________________________________\n",
            "Encoder-4-MultiHeadSelfAttentio (None, 384, 768)     1536        Encoder-4-MultiHeadSelfAttention-\n",
            "__________________________________________________________________________________________________\n",
            "Encoder-4-FeedForward (FeedForw (None, 384, 768)     4722432     Encoder-4-MultiHeadSelfAttention-\n",
            "__________________________________________________________________________________________________\n",
            "Encoder-4-FeedForward-Dropout ( (None, 384, 768)     0           Encoder-4-FeedForward[0][0]      \n",
            "__________________________________________________________________________________________________\n",
            "Encoder-4-FeedForward-Add (Add) (None, 384, 768)     0           Encoder-4-MultiHeadSelfAttention-\n",
            "                                                                 Encoder-4-FeedForward-Dropout[0][\n",
            "__________________________________________________________________________________________________\n",
            "Encoder-4-FeedForward-Norm (Lay (None, 384, 768)     1536        Encoder-4-FeedForward-Add[0][0]  \n",
            "__________________________________________________________________________________________________\n",
            "Encoder-5-MultiHeadSelfAttentio (None, 384, 768)     2362368     Encoder-4-FeedForward-Norm[0][0] \n",
            "__________________________________________________________________________________________________\n",
            "Encoder-5-MultiHeadSelfAttentio (None, 384, 768)     0           Encoder-5-MultiHeadSelfAttention[\n",
            "__________________________________________________________________________________________________\n",
            "Encoder-5-MultiHeadSelfAttentio (None, 384, 768)     0           Encoder-4-FeedForward-Norm[0][0] \n",
            "                                                                 Encoder-5-MultiHeadSelfAttention-\n",
            "__________________________________________________________________________________________________\n",
            "Encoder-5-MultiHeadSelfAttentio (None, 384, 768)     1536        Encoder-5-MultiHeadSelfAttention-\n",
            "__________________________________________________________________________________________________\n",
            "Encoder-5-FeedForward (FeedForw (None, 384, 768)     4722432     Encoder-5-MultiHeadSelfAttention-\n",
            "__________________________________________________________________________________________________\n",
            "Encoder-5-FeedForward-Dropout ( (None, 384, 768)     0           Encoder-5-FeedForward[0][0]      \n",
            "__________________________________________________________________________________________________\n",
            "Encoder-5-FeedForward-Add (Add) (None, 384, 768)     0           Encoder-5-MultiHeadSelfAttention-\n",
            "                                                                 Encoder-5-FeedForward-Dropout[0][\n",
            "__________________________________________________________________________________________________\n",
            "Encoder-5-FeedForward-Norm (Lay (None, 384, 768)     1536        Encoder-5-FeedForward-Add[0][0]  \n",
            "__________________________________________________________________________________________________\n",
            "Encoder-6-MultiHeadSelfAttentio (None, 384, 768)     2362368     Encoder-5-FeedForward-Norm[0][0] \n",
            "__________________________________________________________________________________________________\n",
            "Encoder-6-MultiHeadSelfAttentio (None, 384, 768)     0           Encoder-6-MultiHeadSelfAttention[\n",
            "__________________________________________________________________________________________________\n",
            "Encoder-6-MultiHeadSelfAttentio (None, 384, 768)     0           Encoder-5-FeedForward-Norm[0][0] \n",
            "                                                                 Encoder-6-MultiHeadSelfAttention-\n",
            "__________________________________________________________________________________________________\n",
            "Encoder-6-MultiHeadSelfAttentio (None, 384, 768)     1536        Encoder-6-MultiHeadSelfAttention-\n",
            "__________________________________________________________________________________________________\n",
            "Encoder-6-FeedForward (FeedForw (None, 384, 768)     4722432     Encoder-6-MultiHeadSelfAttention-\n",
            "__________________________________________________________________________________________________\n",
            "Encoder-6-FeedForward-Dropout ( (None, 384, 768)     0           Encoder-6-FeedForward[0][0]      \n",
            "__________________________________________________________________________________________________\n",
            "Encoder-6-FeedForward-Add (Add) (None, 384, 768)     0           Encoder-6-MultiHeadSelfAttention-\n",
            "                                                                 Encoder-6-FeedForward-Dropout[0][\n",
            "__________________________________________________________________________________________________\n",
            "Encoder-6-FeedForward-Norm (Lay (None, 384, 768)     1536        Encoder-6-FeedForward-Add[0][0]  \n",
            "__________________________________________________________________________________________________\n",
            "Encoder-7-MultiHeadSelfAttentio (None, 384, 768)     2362368     Encoder-6-FeedForward-Norm[0][0] \n",
            "__________________________________________________________________________________________________\n",
            "Encoder-7-MultiHeadSelfAttentio (None, 384, 768)     0           Encoder-7-MultiHeadSelfAttention[\n",
            "__________________________________________________________________________________________________\n",
            "Encoder-7-MultiHeadSelfAttentio (None, 384, 768)     0           Encoder-6-FeedForward-Norm[0][0] \n",
            "                                                                 Encoder-7-MultiHeadSelfAttention-\n",
            "__________________________________________________________________________________________________\n",
            "Encoder-7-MultiHeadSelfAttentio (None, 384, 768)     1536        Encoder-7-MultiHeadSelfAttention-\n",
            "__________________________________________________________________________________________________\n",
            "Encoder-7-FeedForward (FeedForw (None, 384, 768)     4722432     Encoder-7-MultiHeadSelfAttention-\n",
            "__________________________________________________________________________________________________\n",
            "Encoder-7-FeedForward-Dropout ( (None, 384, 768)     0           Encoder-7-FeedForward[0][0]      \n",
            "__________________________________________________________________________________________________\n",
            "Encoder-7-FeedForward-Add (Add) (None, 384, 768)     0           Encoder-7-MultiHeadSelfAttention-\n",
            "                                                                 Encoder-7-FeedForward-Dropout[0][\n",
            "__________________________________________________________________________________________________\n",
            "Encoder-7-FeedForward-Norm (Lay (None, 384, 768)     1536        Encoder-7-FeedForward-Add[0][0]  \n",
            "__________________________________________________________________________________________________\n",
            "Encoder-8-MultiHeadSelfAttentio (None, 384, 768)     2362368     Encoder-7-FeedForward-Norm[0][0] \n",
            "__________________________________________________________________________________________________\n",
            "Encoder-8-MultiHeadSelfAttentio (None, 384, 768)     0           Encoder-8-MultiHeadSelfAttention[\n",
            "__________________________________________________________________________________________________\n",
            "Encoder-8-MultiHeadSelfAttentio (None, 384, 768)     0           Encoder-7-FeedForward-Norm[0][0] \n",
            "                                                                 Encoder-8-MultiHeadSelfAttention-\n",
            "__________________________________________________________________________________________________\n",
            "Encoder-8-MultiHeadSelfAttentio (None, 384, 768)     1536        Encoder-8-MultiHeadSelfAttention-\n",
            "__________________________________________________________________________________________________\n",
            "Encoder-8-FeedForward (FeedForw (None, 384, 768)     4722432     Encoder-8-MultiHeadSelfAttention-\n",
            "__________________________________________________________________________________________________\n",
            "Encoder-8-FeedForward-Dropout ( (None, 384, 768)     0           Encoder-8-FeedForward[0][0]      \n",
            "__________________________________________________________________________________________________\n",
            "Encoder-8-FeedForward-Add (Add) (None, 384, 768)     0           Encoder-8-MultiHeadSelfAttention-\n",
            "                                                                 Encoder-8-FeedForward-Dropout[0][\n",
            "__________________________________________________________________________________________________\n",
            "Encoder-8-FeedForward-Norm (Lay (None, 384, 768)     1536        Encoder-8-FeedForward-Add[0][0]  \n",
            "__________________________________________________________________________________________________\n",
            "Encoder-9-MultiHeadSelfAttentio (None, 384, 768)     2362368     Encoder-8-FeedForward-Norm[0][0] \n",
            "__________________________________________________________________________________________________\n",
            "Encoder-9-MultiHeadSelfAttentio (None, 384, 768)     0           Encoder-9-MultiHeadSelfAttention[\n",
            "__________________________________________________________________________________________________\n",
            "Encoder-9-MultiHeadSelfAttentio (None, 384, 768)     0           Encoder-8-FeedForward-Norm[0][0] \n",
            "                                                                 Encoder-9-MultiHeadSelfAttention-\n",
            "__________________________________________________________________________________________________\n",
            "Encoder-9-MultiHeadSelfAttentio (None, 384, 768)     1536        Encoder-9-MultiHeadSelfAttention-\n",
            "__________________________________________________________________________________________________\n",
            "Encoder-9-FeedForward (FeedForw (None, 384, 768)     4722432     Encoder-9-MultiHeadSelfAttention-\n",
            "__________________________________________________________________________________________________\n",
            "Encoder-9-FeedForward-Dropout ( (None, 384, 768)     0           Encoder-9-FeedForward[0][0]      \n",
            "__________________________________________________________________________________________________\n",
            "Encoder-9-FeedForward-Add (Add) (None, 384, 768)     0           Encoder-9-MultiHeadSelfAttention-\n",
            "                                                                 Encoder-9-FeedForward-Dropout[0][\n",
            "__________________________________________________________________________________________________\n",
            "Encoder-9-FeedForward-Norm (Lay (None, 384, 768)     1536        Encoder-9-FeedForward-Add[0][0]  \n",
            "__________________________________________________________________________________________________\n",
            "Encoder-10-MultiHeadSelfAttenti (None, 384, 768)     2362368     Encoder-9-FeedForward-Norm[0][0] \n",
            "__________________________________________________________________________________________________\n",
            "Encoder-10-MultiHeadSelfAttenti (None, 384, 768)     0           Encoder-10-MultiHeadSelfAttention\n",
            "__________________________________________________________________________________________________\n",
            "Encoder-10-MultiHeadSelfAttenti (None, 384, 768)     0           Encoder-9-FeedForward-Norm[0][0] \n",
            "                                                                 Encoder-10-MultiHeadSelfAttention\n",
            "__________________________________________________________________________________________________\n",
            "Encoder-10-MultiHeadSelfAttenti (None, 384, 768)     1536        Encoder-10-MultiHeadSelfAttention\n",
            "__________________________________________________________________________________________________\n",
            "Encoder-10-FeedForward (FeedFor (None, 384, 768)     4722432     Encoder-10-MultiHeadSelfAttention\n",
            "__________________________________________________________________________________________________\n",
            "Encoder-10-FeedForward-Dropout  (None, 384, 768)     0           Encoder-10-FeedForward[0][0]     \n",
            "__________________________________________________________________________________________________\n",
            "Encoder-10-FeedForward-Add (Add (None, 384, 768)     0           Encoder-10-MultiHeadSelfAttention\n",
            "                                                                 Encoder-10-FeedForward-Dropout[0]\n",
            "__________________________________________________________________________________________________\n",
            "Encoder-10-FeedForward-Norm (La (None, 384, 768)     1536        Encoder-10-FeedForward-Add[0][0] \n",
            "__________________________________________________________________________________________________\n",
            "Encoder-11-MultiHeadSelfAttenti (None, 384, 768)     2362368     Encoder-10-FeedForward-Norm[0][0]\n",
            "__________________________________________________________________________________________________\n",
            "Encoder-11-MultiHeadSelfAttenti (None, 384, 768)     0           Encoder-11-MultiHeadSelfAttention\n",
            "__________________________________________________________________________________________________\n",
            "Encoder-11-MultiHeadSelfAttenti (None, 384, 768)     0           Encoder-10-FeedForward-Norm[0][0]\n",
            "                                                                 Encoder-11-MultiHeadSelfAttention\n",
            "__________________________________________________________________________________________________\n",
            "Encoder-11-MultiHeadSelfAttenti (None, 384, 768)     1536        Encoder-11-MultiHeadSelfAttention\n",
            "__________________________________________________________________________________________________\n",
            "Encoder-11-FeedForward (FeedFor (None, 384, 768)     4722432     Encoder-11-MultiHeadSelfAttention\n",
            "__________________________________________________________________________________________________\n",
            "Encoder-11-FeedForward-Dropout  (None, 384, 768)     0           Encoder-11-FeedForward[0][0]     \n",
            "__________________________________________________________________________________________________\n",
            "Encoder-11-FeedForward-Add (Add (None, 384, 768)     0           Encoder-11-MultiHeadSelfAttention\n",
            "                                                                 Encoder-11-FeedForward-Dropout[0]\n",
            "__________________________________________________________________________________________________\n",
            "Encoder-11-FeedForward-Norm (La (None, 384, 768)     1536        Encoder-11-FeedForward-Add[0][0] \n",
            "__________________________________________________________________________________________________\n",
            "Encoder-12-MultiHeadSelfAttenti (None, 384, 768)     2362368     Encoder-11-FeedForward-Norm[0][0]\n",
            "__________________________________________________________________________________________________\n",
            "Encoder-12-MultiHeadSelfAttenti (None, 384, 768)     0           Encoder-12-MultiHeadSelfAttention\n",
            "__________________________________________________________________________________________________\n",
            "Encoder-12-MultiHeadSelfAttenti (None, 384, 768)     0           Encoder-11-FeedForward-Norm[0][0]\n",
            "                                                                 Encoder-12-MultiHeadSelfAttention\n",
            "__________________________________________________________________________________________________\n",
            "Encoder-12-MultiHeadSelfAttenti (None, 384, 768)     1536        Encoder-12-MultiHeadSelfAttention\n",
            "__________________________________________________________________________________________________\n",
            "Encoder-12-FeedForward (FeedFor (None, 384, 768)     4722432     Encoder-12-MultiHeadSelfAttention\n",
            "__________________________________________________________________________________________________\n",
            "Encoder-12-FeedForward-Dropout  (None, 384, 768)     0           Encoder-12-FeedForward[0][0]     \n",
            "__________________________________________________________________________________________________\n",
            "Encoder-12-FeedForward-Add (Add (None, 384, 768)     0           Encoder-12-MultiHeadSelfAttention\n",
            "                                                                 Encoder-12-FeedForward-Dropout[0]\n",
            "__________________________________________________________________________________________________\n",
            "Encoder-12-FeedForward-Norm (La (None, 384, 768)     1536        Encoder-12-FeedForward-Add[0][0] \n",
            "__________________________________________________________________________________________________\n",
            "non_masking_2 (NonMasking)      (None, 384, 768)     0           Encoder-12-FeedForward-Norm[0][0]\n",
            "__________________________________________________________________________________________________\n",
            "my_layer__start_2 (MyLayer_Star (None, 384)          1536        non_masking_2[0][0]              \n",
            "__________________________________________________________________________________________________\n",
            "my_layer__end_2 (MyLayer_End)   (None, 384)          1536        non_masking_2[0][0]              \n",
            "==================================================================================================\n",
            "Total params: 177,167,616\n",
            "Trainable params: 177,167,616\n",
            "Non-trainable params: 0\n",
            "__________________________________________________________________________________________________\n",
            "Train on 48078 samples, validate on 2531 samples\n",
            "Epoch 1/1\n",
            "48078/48078 [==============================] - 5212s 108ms/step - loss: 1.7929 - my_layer__start_2_loss: 0.8491 - my_layer__end_2_loss: 0.9438 - my_layer__start_2_accuracy: 0.7684 - my_layer__end_2_accuracy: 0.7520 - val_loss: 1.2147 - val_my_layer__start_2_loss: 0.5685 - val_my_layer__end_2_loss: 0.6424 - val_my_layer__start_2_accuracy: 0.8380 - val_my_layer__end_2_accuracy: 0.8226\n"
          ],
          "name": "stdout"
        }
      ]
    },
    {
      "cell_type": "code",
      "metadata": {
        "id": "Z8eyXIMGl0ZJ",
        "colab_type": "code",
        "colab": {
          "base_uri": "https://localhost:8080/",
          "height": 1000
        },
        "outputId": "c34c4c56-1b56-4b10-dbc7-6e1c917775ff"
      },
      "source": [
        "bert_model = get_bert_finetuning_model(model)\n",
        "bert_model.summary()\n"
      ],
      "execution_count": 34,
      "outputs": [
        {
          "output_type": "stream",
          "text": [
            "Model: \"model_5\"\n",
            "__________________________________________________________________________________________________\n",
            "Layer (type)                    Output Shape         Param #     Connected to                     \n",
            "==================================================================================================\n",
            "Input-Token (InputLayer)        (None, 384)          0                                            \n",
            "__________________________________________________________________________________________________\n",
            "Input-Segment (InputLayer)      (None, 384)          0                                            \n",
            "__________________________________________________________________________________________________\n",
            "Embedding-Token (TokenEmbedding [(None, 384, 768), ( 91812096    Input-Token[0][0]                \n",
            "__________________________________________________________________________________________________\n",
            "Embedding-Segment (Embedding)   (None, 384, 768)     1536        Input-Segment[0][0]              \n",
            "__________________________________________________________________________________________________\n",
            "Embedding-Token-Segment (Add)   (None, 384, 768)     0           Embedding-Token[0][0]            \n",
            "                                                                 Embedding-Segment[0][0]          \n",
            "__________________________________________________________________________________________________\n",
            "Embedding-Position (PositionEmb (None, 384, 768)     294912      Embedding-Token-Segment[0][0]    \n",
            "__________________________________________________________________________________________________\n",
            "Embedding-Dropout (Dropout)     (None, 384, 768)     0           Embedding-Position[0][0]         \n",
            "__________________________________________________________________________________________________\n",
            "Embedding-Norm (LayerNormalizat (None, 384, 768)     1536        Embedding-Dropout[0][0]          \n",
            "__________________________________________________________________________________________________\n",
            "Encoder-1-MultiHeadSelfAttentio (None, 384, 768)     2362368     Embedding-Norm[0][0]             \n",
            "__________________________________________________________________________________________________\n",
            "Encoder-1-MultiHeadSelfAttentio (None, 384, 768)     0           Encoder-1-MultiHeadSelfAttention[\n",
            "__________________________________________________________________________________________________\n",
            "Encoder-1-MultiHeadSelfAttentio (None, 384, 768)     0           Embedding-Norm[0][0]             \n",
            "                                                                 Encoder-1-MultiHeadSelfAttention-\n",
            "__________________________________________________________________________________________________\n",
            "Encoder-1-MultiHeadSelfAttentio (None, 384, 768)     1536        Encoder-1-MultiHeadSelfAttention-\n",
            "__________________________________________________________________________________________________\n",
            "Encoder-1-FeedForward (FeedForw (None, 384, 768)     4722432     Encoder-1-MultiHeadSelfAttention-\n",
            "__________________________________________________________________________________________________\n",
            "Encoder-1-FeedForward-Dropout ( (None, 384, 768)     0           Encoder-1-FeedForward[0][0]      \n",
            "__________________________________________________________________________________________________\n",
            "Encoder-1-FeedForward-Add (Add) (None, 384, 768)     0           Encoder-1-MultiHeadSelfAttention-\n",
            "                                                                 Encoder-1-FeedForward-Dropout[0][\n",
            "__________________________________________________________________________________________________\n",
            "Encoder-1-FeedForward-Norm (Lay (None, 384, 768)     1536        Encoder-1-FeedForward-Add[0][0]  \n",
            "__________________________________________________________________________________________________\n",
            "Encoder-2-MultiHeadSelfAttentio (None, 384, 768)     2362368     Encoder-1-FeedForward-Norm[0][0] \n",
            "__________________________________________________________________________________________________\n",
            "Encoder-2-MultiHeadSelfAttentio (None, 384, 768)     0           Encoder-2-MultiHeadSelfAttention[\n",
            "__________________________________________________________________________________________________\n",
            "Encoder-2-MultiHeadSelfAttentio (None, 384, 768)     0           Encoder-1-FeedForward-Norm[0][0] \n",
            "                                                                 Encoder-2-MultiHeadSelfAttention-\n",
            "__________________________________________________________________________________________________\n",
            "Encoder-2-MultiHeadSelfAttentio (None, 384, 768)     1536        Encoder-2-MultiHeadSelfAttention-\n",
            "__________________________________________________________________________________________________\n",
            "Encoder-2-FeedForward (FeedForw (None, 384, 768)     4722432     Encoder-2-MultiHeadSelfAttention-\n",
            "__________________________________________________________________________________________________\n",
            "Encoder-2-FeedForward-Dropout ( (None, 384, 768)     0           Encoder-2-FeedForward[0][0]      \n",
            "__________________________________________________________________________________________________\n",
            "Encoder-2-FeedForward-Add (Add) (None, 384, 768)     0           Encoder-2-MultiHeadSelfAttention-\n",
            "                                                                 Encoder-2-FeedForward-Dropout[0][\n",
            "__________________________________________________________________________________________________\n",
            "Encoder-2-FeedForward-Norm (Lay (None, 384, 768)     1536        Encoder-2-FeedForward-Add[0][0]  \n",
            "__________________________________________________________________________________________________\n",
            "Encoder-3-MultiHeadSelfAttentio (None, 384, 768)     2362368     Encoder-2-FeedForward-Norm[0][0] \n",
            "__________________________________________________________________________________________________\n",
            "Encoder-3-MultiHeadSelfAttentio (None, 384, 768)     0           Encoder-3-MultiHeadSelfAttention[\n",
            "__________________________________________________________________________________________________\n",
            "Encoder-3-MultiHeadSelfAttentio (None, 384, 768)     0           Encoder-2-FeedForward-Norm[0][0] \n",
            "                                                                 Encoder-3-MultiHeadSelfAttention-\n",
            "__________________________________________________________________________________________________\n",
            "Encoder-3-MultiHeadSelfAttentio (None, 384, 768)     1536        Encoder-3-MultiHeadSelfAttention-\n",
            "__________________________________________________________________________________________________\n",
            "Encoder-3-FeedForward (FeedForw (None, 384, 768)     4722432     Encoder-3-MultiHeadSelfAttention-\n",
            "__________________________________________________________________________________________________\n",
            "Encoder-3-FeedForward-Dropout ( (None, 384, 768)     0           Encoder-3-FeedForward[0][0]      \n",
            "__________________________________________________________________________________________________\n",
            "Encoder-3-FeedForward-Add (Add) (None, 384, 768)     0           Encoder-3-MultiHeadSelfAttention-\n",
            "                                                                 Encoder-3-FeedForward-Dropout[0][\n",
            "__________________________________________________________________________________________________\n",
            "Encoder-3-FeedForward-Norm (Lay (None, 384, 768)     1536        Encoder-3-FeedForward-Add[0][0]  \n",
            "__________________________________________________________________________________________________\n",
            "Encoder-4-MultiHeadSelfAttentio (None, 384, 768)     2362368     Encoder-3-FeedForward-Norm[0][0] \n",
            "__________________________________________________________________________________________________\n",
            "Encoder-4-MultiHeadSelfAttentio (None, 384, 768)     0           Encoder-4-MultiHeadSelfAttention[\n",
            "__________________________________________________________________________________________________\n",
            "Encoder-4-MultiHeadSelfAttentio (None, 384, 768)     0           Encoder-3-FeedForward-Norm[0][0] \n",
            "                                                                 Encoder-4-MultiHeadSelfAttention-\n",
            "__________________________________________________________________________________________________\n",
            "Encoder-4-MultiHeadSelfAttentio (None, 384, 768)     1536        Encoder-4-MultiHeadSelfAttention-\n",
            "__________________________________________________________________________________________________\n",
            "Encoder-4-FeedForward (FeedForw (None, 384, 768)     4722432     Encoder-4-MultiHeadSelfAttention-\n",
            "__________________________________________________________________________________________________\n",
            "Encoder-4-FeedForward-Dropout ( (None, 384, 768)     0           Encoder-4-FeedForward[0][0]      \n",
            "__________________________________________________________________________________________________\n",
            "Encoder-4-FeedForward-Add (Add) (None, 384, 768)     0           Encoder-4-MultiHeadSelfAttention-\n",
            "                                                                 Encoder-4-FeedForward-Dropout[0][\n",
            "__________________________________________________________________________________________________\n",
            "Encoder-4-FeedForward-Norm (Lay (None, 384, 768)     1536        Encoder-4-FeedForward-Add[0][0]  \n",
            "__________________________________________________________________________________________________\n",
            "Encoder-5-MultiHeadSelfAttentio (None, 384, 768)     2362368     Encoder-4-FeedForward-Norm[0][0] \n",
            "__________________________________________________________________________________________________\n",
            "Encoder-5-MultiHeadSelfAttentio (None, 384, 768)     0           Encoder-5-MultiHeadSelfAttention[\n",
            "__________________________________________________________________________________________________\n",
            "Encoder-5-MultiHeadSelfAttentio (None, 384, 768)     0           Encoder-4-FeedForward-Norm[0][0] \n",
            "                                                                 Encoder-5-MultiHeadSelfAttention-\n",
            "__________________________________________________________________________________________________\n",
            "Encoder-5-MultiHeadSelfAttentio (None, 384, 768)     1536        Encoder-5-MultiHeadSelfAttention-\n",
            "__________________________________________________________________________________________________\n",
            "Encoder-5-FeedForward (FeedForw (None, 384, 768)     4722432     Encoder-5-MultiHeadSelfAttention-\n",
            "__________________________________________________________________________________________________\n",
            "Encoder-5-FeedForward-Dropout ( (None, 384, 768)     0           Encoder-5-FeedForward[0][0]      \n",
            "__________________________________________________________________________________________________\n",
            "Encoder-5-FeedForward-Add (Add) (None, 384, 768)     0           Encoder-5-MultiHeadSelfAttention-\n",
            "                                                                 Encoder-5-FeedForward-Dropout[0][\n",
            "__________________________________________________________________________________________________\n",
            "Encoder-5-FeedForward-Norm (Lay (None, 384, 768)     1536        Encoder-5-FeedForward-Add[0][0]  \n",
            "__________________________________________________________________________________________________\n",
            "Encoder-6-MultiHeadSelfAttentio (None, 384, 768)     2362368     Encoder-5-FeedForward-Norm[0][0] \n",
            "__________________________________________________________________________________________________\n",
            "Encoder-6-MultiHeadSelfAttentio (None, 384, 768)     0           Encoder-6-MultiHeadSelfAttention[\n",
            "__________________________________________________________________________________________________\n",
            "Encoder-6-MultiHeadSelfAttentio (None, 384, 768)     0           Encoder-5-FeedForward-Norm[0][0] \n",
            "                                                                 Encoder-6-MultiHeadSelfAttention-\n",
            "__________________________________________________________________________________________________\n",
            "Encoder-6-MultiHeadSelfAttentio (None, 384, 768)     1536        Encoder-6-MultiHeadSelfAttention-\n",
            "__________________________________________________________________________________________________\n",
            "Encoder-6-FeedForward (FeedForw (None, 384, 768)     4722432     Encoder-6-MultiHeadSelfAttention-\n",
            "__________________________________________________________________________________________________\n",
            "Encoder-6-FeedForward-Dropout ( (None, 384, 768)     0           Encoder-6-FeedForward[0][0]      \n",
            "__________________________________________________________________________________________________\n",
            "Encoder-6-FeedForward-Add (Add) (None, 384, 768)     0           Encoder-6-MultiHeadSelfAttention-\n",
            "                                                                 Encoder-6-FeedForward-Dropout[0][\n",
            "__________________________________________________________________________________________________\n",
            "Encoder-6-FeedForward-Norm (Lay (None, 384, 768)     1536        Encoder-6-FeedForward-Add[0][0]  \n",
            "__________________________________________________________________________________________________\n",
            "Encoder-7-MultiHeadSelfAttentio (None, 384, 768)     2362368     Encoder-6-FeedForward-Norm[0][0] \n",
            "__________________________________________________________________________________________________\n",
            "Encoder-7-MultiHeadSelfAttentio (None, 384, 768)     0           Encoder-7-MultiHeadSelfAttention[\n",
            "__________________________________________________________________________________________________\n",
            "Encoder-7-MultiHeadSelfAttentio (None, 384, 768)     0           Encoder-6-FeedForward-Norm[0][0] \n",
            "                                                                 Encoder-7-MultiHeadSelfAttention-\n",
            "__________________________________________________________________________________________________\n",
            "Encoder-7-MultiHeadSelfAttentio (None, 384, 768)     1536        Encoder-7-MultiHeadSelfAttention-\n",
            "__________________________________________________________________________________________________\n",
            "Encoder-7-FeedForward (FeedForw (None, 384, 768)     4722432     Encoder-7-MultiHeadSelfAttention-\n",
            "__________________________________________________________________________________________________\n",
            "Encoder-7-FeedForward-Dropout ( (None, 384, 768)     0           Encoder-7-FeedForward[0][0]      \n",
            "__________________________________________________________________________________________________\n",
            "Encoder-7-FeedForward-Add (Add) (None, 384, 768)     0           Encoder-7-MultiHeadSelfAttention-\n",
            "                                                                 Encoder-7-FeedForward-Dropout[0][\n",
            "__________________________________________________________________________________________________\n",
            "Encoder-7-FeedForward-Norm (Lay (None, 384, 768)     1536        Encoder-7-FeedForward-Add[0][0]  \n",
            "__________________________________________________________________________________________________\n",
            "Encoder-8-MultiHeadSelfAttentio (None, 384, 768)     2362368     Encoder-7-FeedForward-Norm[0][0] \n",
            "__________________________________________________________________________________________________\n",
            "Encoder-8-MultiHeadSelfAttentio (None, 384, 768)     0           Encoder-8-MultiHeadSelfAttention[\n",
            "__________________________________________________________________________________________________\n",
            "Encoder-8-MultiHeadSelfAttentio (None, 384, 768)     0           Encoder-7-FeedForward-Norm[0][0] \n",
            "                                                                 Encoder-8-MultiHeadSelfAttention-\n",
            "__________________________________________________________________________________________________\n",
            "Encoder-8-MultiHeadSelfAttentio (None, 384, 768)     1536        Encoder-8-MultiHeadSelfAttention-\n",
            "__________________________________________________________________________________________________\n",
            "Encoder-8-FeedForward (FeedForw (None, 384, 768)     4722432     Encoder-8-MultiHeadSelfAttention-\n",
            "__________________________________________________________________________________________________\n",
            "Encoder-8-FeedForward-Dropout ( (None, 384, 768)     0           Encoder-8-FeedForward[0][0]      \n",
            "__________________________________________________________________________________________________\n",
            "Encoder-8-FeedForward-Add (Add) (None, 384, 768)     0           Encoder-8-MultiHeadSelfAttention-\n",
            "                                                                 Encoder-8-FeedForward-Dropout[0][\n",
            "__________________________________________________________________________________________________\n",
            "Encoder-8-FeedForward-Norm (Lay (None, 384, 768)     1536        Encoder-8-FeedForward-Add[0][0]  \n",
            "__________________________________________________________________________________________________\n",
            "Encoder-9-MultiHeadSelfAttentio (None, 384, 768)     2362368     Encoder-8-FeedForward-Norm[0][0] \n",
            "__________________________________________________________________________________________________\n",
            "Encoder-9-MultiHeadSelfAttentio (None, 384, 768)     0           Encoder-9-MultiHeadSelfAttention[\n",
            "__________________________________________________________________________________________________\n",
            "Encoder-9-MultiHeadSelfAttentio (None, 384, 768)     0           Encoder-8-FeedForward-Norm[0][0] \n",
            "                                                                 Encoder-9-MultiHeadSelfAttention-\n",
            "__________________________________________________________________________________________________\n",
            "Encoder-9-MultiHeadSelfAttentio (None, 384, 768)     1536        Encoder-9-MultiHeadSelfAttention-\n",
            "__________________________________________________________________________________________________\n",
            "Encoder-9-FeedForward (FeedForw (None, 384, 768)     4722432     Encoder-9-MultiHeadSelfAttention-\n",
            "__________________________________________________________________________________________________\n",
            "Encoder-9-FeedForward-Dropout ( (None, 384, 768)     0           Encoder-9-FeedForward[0][0]      \n",
            "__________________________________________________________________________________________________\n",
            "Encoder-9-FeedForward-Add (Add) (None, 384, 768)     0           Encoder-9-MultiHeadSelfAttention-\n",
            "                                                                 Encoder-9-FeedForward-Dropout[0][\n",
            "__________________________________________________________________________________________________\n",
            "Encoder-9-FeedForward-Norm (Lay (None, 384, 768)     1536        Encoder-9-FeedForward-Add[0][0]  \n",
            "__________________________________________________________________________________________________\n",
            "Encoder-10-MultiHeadSelfAttenti (None, 384, 768)     2362368     Encoder-9-FeedForward-Norm[0][0] \n",
            "__________________________________________________________________________________________________\n",
            "Encoder-10-MultiHeadSelfAttenti (None, 384, 768)     0           Encoder-10-MultiHeadSelfAttention\n",
            "__________________________________________________________________________________________________\n",
            "Encoder-10-MultiHeadSelfAttenti (None, 384, 768)     0           Encoder-9-FeedForward-Norm[0][0] \n",
            "                                                                 Encoder-10-MultiHeadSelfAttention\n",
            "__________________________________________________________________________________________________\n",
            "Encoder-10-MultiHeadSelfAttenti (None, 384, 768)     1536        Encoder-10-MultiHeadSelfAttention\n",
            "__________________________________________________________________________________________________\n",
            "Encoder-10-FeedForward (FeedFor (None, 384, 768)     4722432     Encoder-10-MultiHeadSelfAttention\n",
            "__________________________________________________________________________________________________\n",
            "Encoder-10-FeedForward-Dropout  (None, 384, 768)     0           Encoder-10-FeedForward[0][0]     \n",
            "__________________________________________________________________________________________________\n",
            "Encoder-10-FeedForward-Add (Add (None, 384, 768)     0           Encoder-10-MultiHeadSelfAttention\n",
            "                                                                 Encoder-10-FeedForward-Dropout[0]\n",
            "__________________________________________________________________________________________________\n",
            "Encoder-10-FeedForward-Norm (La (None, 384, 768)     1536        Encoder-10-FeedForward-Add[0][0] \n",
            "__________________________________________________________________________________________________\n",
            "Encoder-11-MultiHeadSelfAttenti (None, 384, 768)     2362368     Encoder-10-FeedForward-Norm[0][0]\n",
            "__________________________________________________________________________________________________\n",
            "Encoder-11-MultiHeadSelfAttenti (None, 384, 768)     0           Encoder-11-MultiHeadSelfAttention\n",
            "__________________________________________________________________________________________________\n",
            "Encoder-11-MultiHeadSelfAttenti (None, 384, 768)     0           Encoder-10-FeedForward-Norm[0][0]\n",
            "                                                                 Encoder-11-MultiHeadSelfAttention\n",
            "__________________________________________________________________________________________________\n",
            "Encoder-11-MultiHeadSelfAttenti (None, 384, 768)     1536        Encoder-11-MultiHeadSelfAttention\n",
            "__________________________________________________________________________________________________\n",
            "Encoder-11-FeedForward (FeedFor (None, 384, 768)     4722432     Encoder-11-MultiHeadSelfAttention\n",
            "__________________________________________________________________________________________________\n",
            "Encoder-11-FeedForward-Dropout  (None, 384, 768)     0           Encoder-11-FeedForward[0][0]     \n",
            "__________________________________________________________________________________________________\n",
            "Encoder-11-FeedForward-Add (Add (None, 384, 768)     0           Encoder-11-MultiHeadSelfAttention\n",
            "                                                                 Encoder-11-FeedForward-Dropout[0]\n",
            "__________________________________________________________________________________________________\n",
            "Encoder-11-FeedForward-Norm (La (None, 384, 768)     1536        Encoder-11-FeedForward-Add[0][0] \n",
            "__________________________________________________________________________________________________\n",
            "Encoder-12-MultiHeadSelfAttenti (None, 384, 768)     2362368     Encoder-11-FeedForward-Norm[0][0]\n",
            "__________________________________________________________________________________________________\n",
            "Encoder-12-MultiHeadSelfAttenti (None, 384, 768)     0           Encoder-12-MultiHeadSelfAttention\n",
            "__________________________________________________________________________________________________\n",
            "Encoder-12-MultiHeadSelfAttenti (None, 384, 768)     0           Encoder-11-FeedForward-Norm[0][0]\n",
            "                                                                 Encoder-12-MultiHeadSelfAttention\n",
            "__________________________________________________________________________________________________\n",
            "Encoder-12-MultiHeadSelfAttenti (None, 384, 768)     1536        Encoder-12-MultiHeadSelfAttention\n",
            "__________________________________________________________________________________________________\n",
            "Encoder-12-FeedForward (FeedFor (None, 384, 768)     4722432     Encoder-12-MultiHeadSelfAttention\n",
            "__________________________________________________________________________________________________\n",
            "Encoder-12-FeedForward-Dropout  (None, 384, 768)     0           Encoder-12-FeedForward[0][0]     \n",
            "__________________________________________________________________________________________________\n",
            "Encoder-12-FeedForward-Add (Add (None, 384, 768)     0           Encoder-12-MultiHeadSelfAttention\n",
            "                                                                 Encoder-12-FeedForward-Dropout[0]\n",
            "__________________________________________________________________________________________________\n",
            "Encoder-12-FeedForward-Norm (La (None, 384, 768)     1536        Encoder-12-FeedForward-Add[0][0] \n",
            "__________________________________________________________________________________________________\n",
            "non_masking_3 (NonMasking)      (None, 384, 768)     0           Encoder-12-FeedForward-Norm[0][0]\n",
            "__________________________________________________________________________________________________\n",
            "my_layer__start_3 (MyLayer_Star (None, 384)          1536        non_masking_3[0][0]              \n",
            "__________________________________________________________________________________________________\n",
            "my_layer__end_3 (MyLayer_End)   (None, 384)          1536        non_masking_3[0][0]              \n",
            "==================================================================================================\n",
            "Total params: 177,167,616\n",
            "Trainable params: 177,167,616\n",
            "Non-trainable params: 0\n",
            "__________________________________________________________________________________________________\n"
          ],
          "name": "stdout"
        }
      ]
    },
    {
      "cell_type": "code",
      "metadata": {
        "id": "mhGzZG2al0eg",
        "colab_type": "code",
        "colab": {}
      },
      "source": [
        "# BERT MODEL을 저장\n",
        "bert_model.save_weights(\"/content/drive/My Drive/data/bert3/squad_wordpiece.h5\")\n"
      ],
      "execution_count": 0,
      "outputs": []
    },
    {
      "cell_type": "code",
      "metadata": {
        "id": "XZvfPX4fl0cK",
        "colab_type": "code",
        "colab": {
          "base_uri": "https://localhost:8080/",
          "height": 181
        },
        "outputId": "91d4c0a3-b913-43ad-d76a-c202089d3e43"
      },
      "source": [
        "# 버트 모형을 다시 훈련\n",
        "# 이번에는 validation_split을 입력하지 않아서 전체 데이터가 훈련 되도록 만들어 줌\n",
        "\n",
        "bert_model.compile(optimizer=RAdam(learning_rate=0.00003, decay=0.0001), loss='categorical_crossentropy', metrics=['accuracy'])\n",
        "bert_model.fit(train_x, train_y, batch_size=10, shuffle=False, verbose=1)\n"
      ],
      "execution_count": 35,
      "outputs": [
        {
          "output_type": "stream",
          "text": [
            "WARNING:tensorflow:From /usr/local/lib/python3.6/dist-packages/tensorflow_core/python/ops/math_grad.py:1424: where (from tensorflow.python.ops.array_ops) is deprecated and will be removed in a future version.\n",
            "Instructions for updating:\n",
            "Use tf.where in 2.0, which has the same broadcast rule as np.where\n",
            "WARNING:tensorflow:From /usr/local/lib/python3.6/dist-packages/keras/backend/tensorflow_backend.py:422: The name tf.global_variables is deprecated. Please use tf.compat.v1.global_variables instead.\n",
            "\n",
            "Epoch 1/1\n",
            "50609/50609 [==============================] - 5388s 106ms/step - loss: 0.9474 - my_layer__start_3_loss: 0.4376 - my_layer__end_3_loss: 0.5098 - my_layer__start_3_accuracy: 0.8795 - my_layer__end_3_accuracy: 0.8621\n"
          ],
          "name": "stdout"
        },
        {
          "output_type": "execute_result",
          "data": {
            "text/plain": [
              "<keras.callbacks.callbacks.History at 0x7efc1d9c19b0>"
            ]
          },
          "metadata": {
            "tags": []
          },
          "execution_count": 35
        }
      ]
    },
    {
      "cell_type": "code",
      "metadata": {
        "id": "QC3dN542hir2",
        "colab_type": "code",
        "colab": {}
      },
      "source": [
        "# BERT MODEL을 저장2\n",
        "bert_model.save_weights(\"/content/drive/My Drive/data/bert3/squad_wordpiece2.h5\")\n"
      ],
      "execution_count": 0,
      "outputs": []
    },
    {
      "cell_type": "code",
      "metadata": {
        "id": "sQIXeV3mnFX4",
        "colab_type": "code",
        "colab": {}
      },
      "source": [
        "# 버트 모형을 한번 더 훈련 \n",
        "# 이번에는 learning_rate을 0.00001로 바꿔 줌\n",
        "\n",
        "bert_model.compile(optimizer=RAdam(learning_rate=0.00001, decay=0.0001), loss='categorical_crossentropy', metrics=['accuracy'])"
      ],
      "execution_count": 0,
      "outputs": []
    },
    {
      "cell_type": "code",
      "metadata": {
        "id": "EZsZfpMdnOtR",
        "colab_type": "code",
        "colab": {}
      },
      "source": [
        "# BERT MODEL을 저장3\n",
        "bert_model.save_weights(\"/content/drive/My Drive/data/bert3/squad_wordpiece3.h5\")\n"
      ],
      "execution_count": 0,
      "outputs": []
    },
    {
      "cell_type": "code",
      "metadata": {
        "id": "XEl5BXd6nSiM",
        "colab_type": "code",
        "colab": {}
      },
      "source": [
        "# 버트 모형을 로드하고, 이미 로드하였던 모델에 계수들만 살짝 얹혀 주자\n",
        "\n",
        "bert_model = get_bert_finetuning_model(model)\n",
        "bert_model.load_weights(\"/content/drive/My Drive/data/bert3/squad_wordpiece3.h5\")\n"
      ],
      "execution_count": 0,
      "outputs": []
    },
    {
      "cell_type": "code",
      "metadata": {
        "id": "eJtsGpRxnzRx",
        "colab_type": "code",
        "colab": {}
      },
      "source": [
        "# Test data set에 대한 bert_input을 만들어 줌\n",
        "# Train data set과는 다르게 label을 생성하지 않아도 된다.\n",
        "\n",
        "def convert_pred_data(question, doc):\n",
        "    global tokenizer\n",
        "    indices, segments = [], []\n",
        "    ids, segment = tokenizer.encode(question, doc, max_len=SEQ_LEN)\n",
        "    indices.append(ids)\n",
        "    segments.append(segment)\n",
        "    indices_x = np.array(indices)\n",
        "    segments = np.array(segments)\n",
        "    return [indices_x, segments]\n",
        "\n",
        "def load_pred_data(question, doc):\n",
        "    data_x = convert_pred_data(question, doc)\n",
        "    return data_x"
      ],
      "execution_count": 0,
      "outputs": []
    },
    {
      "cell_type": "code",
      "metadata": {
        "id": "UNIj3PPhnzcv",
        "colab_type": "code",
        "colab": {}
      },
      "source": [
        "# 질문과 문장을 받아 답을 알려주는 함수를 정의\n",
        "\n",
        "def predict_letter(question, doc):\n",
        "  \n",
        "  test_input = load_pred_data(question, doc)\n",
        "  test_start, test_end = bert_model.predict(test_input)\n",
        "  \n",
        "  indexes = tokenizer.encode(question, doc, max_len=SEQ_LEN)[0]\n",
        "  start = np.argmax(test_start, axis=1).item()\n",
        "  end = np.argmax(test_end, axis=1).item()\n",
        "  start_tok = indexes[start]\n",
        "  end_tok = indexes[end]\n",
        "  print(\"Question : \", question)\n",
        "  \n",
        "  print(\"-\"*50)\n",
        "  print(\"Context : \", end = \" \")\n",
        "  \n",
        "  def split_text(text, n):\n",
        "    for line in text.splitlines():\n",
        "        while len(line) > n:\n",
        "           x, line = line[:n], line[n:]\n",
        "           yield x\n",
        "        yield line\n",
        "\n",
        "  \n",
        "  for line in split_text(doc, 150):\n",
        "    print(line)\n",
        "\n",
        "  print(\"-\"*50)\n",
        "  print(\"ANSWER : \", end = \" \")\n",
        "  print(\"\\n\")\n",
        "  sentences = []\n",
        "  \n",
        "  for i in range(start, end+1):\n",
        "    token_based_word = reverse_token_dict[indexes[i]]\n",
        "    sentences.append(token_based_word)\n",
        "    print(token_based_word, end= \" \")\n",
        "  \n",
        "  print(\"\\n\")\n",
        "  print(\"Untokenized Answer : \", end = \"\")\n",
        "  for w in sentences:\n",
        "    if w.startswith(\"##\"):\n",
        "      w = w.replace(\"##\", \"\")\n",
        "    else:\n",
        "      w = \" \" + w\n",
        "    \n",
        "    print(w, end=\"\")\n",
        "  print(\"\")"
      ],
      "execution_count": 0,
      "outputs": []
    },
    {
      "cell_type": "code",
      "metadata": {
        "id": "u4Va2w9jnzfz",
        "colab_type": "code",
        "colab": {}
      },
      "source": [
        "# dev 파일을 PANDAS DATAFRAME 형식으로 불러오는 함수를 정의\n",
        "# train 데이터와 모양이 약간 다르기 때문에, 함수를 새로 정의해야 함\n",
        "\n",
        "def squad_json_to_dataframe_dev(input_file_path, record_path = ['data','paragraphs','qas','answers'],\n",
        "                           verbose = 1):\n",
        "    \"\"\"\n",
        "    input_file_path: path to the squad json file.\n",
        "    record_path: path to deepest level in json file default value is\n",
        "    ['data','paragraphs','qas','answers']\n",
        "    verbose: 0 to suppress it default is 1\n",
        "    \"\"\"\n",
        "    if verbose:\n",
        "        print(\"Reading the json file\")    \n",
        "    file = json.loads(open(input_file_path).read())\n",
        "    if verbose:\n",
        "        print(\"processing...\")\n",
        "    # parsing different level's in the json file\n",
        "    js = pd.io.json.json_normalize(file , record_path )\n",
        "    m = pd.io.json.json_normalize(file, record_path[:-1] )\n",
        "    r = pd.io.json.json_normalize(file,record_path[:-2])\n",
        "    \n",
        "    #combining it into single dataframe\n",
        "    idx = np.repeat(r['context'].values, r.qas.str.len())\n",
        "    m['context'] = idx\n",
        "    main = m[['id','question','context','answers']].set_index('id').reset_index()\n",
        "    main['c_id'] = main['context'].factorize()[0]\n",
        "    if verbose:\n",
        "        print(\"shape of the dataframe is {}\".format(main.shape))\n",
        "        print(\"Done\")\n",
        "    return main"
      ],
      "execution_count": 0,
      "outputs": []
    },
    {
      "cell_type": "code",
      "metadata": {
        "id": "YC9KHFIfnzZ3",
        "colab_type": "code",
        "colab": {
          "base_uri": "https://localhost:8080/",
          "height": 181
        },
        "outputId": "ee286005-7037-43de-bfa2-ad29428f8502"
      },
      "source": [
        "# test용 dev 파일 pandas로 불러오기\n",
        "\n",
        "input_file_path = \"/content/drive/My Drive/data/KorQuAD_v1.0_dev.json\"\n",
        "record_path = ['data','paragraphs','qas','answers']\n",
        "verbose = 0\n",
        "dev = squad_json_to_dataframe_dev(input_file_path=input_file_path,record_path=record_path)"
      ],
      "execution_count": 43,
      "outputs": [
        {
          "output_type": "stream",
          "text": [
            "Reading the json file\n",
            "processing...\n",
            "shape of the dataframe is (5774, 5)\n",
            "Done\n"
          ],
          "name": "stdout"
        },
        {
          "output_type": "stream",
          "text": [
            "/usr/local/lib/python3.6/dist-packages/ipykernel_launcher.py:16: FutureWarning: pandas.io.json.json_normalize is deprecated, use pandas.json_normalize instead\n",
            "  app.launch_new_instance()\n",
            "/usr/local/lib/python3.6/dist-packages/ipykernel_launcher.py:17: FutureWarning: pandas.io.json.json_normalize is deprecated, use pandas.json_normalize instead\n",
            "/usr/local/lib/python3.6/dist-packages/ipykernel_launcher.py:18: FutureWarning: pandas.io.json.json_normalize is deprecated, use pandas.json_normalize instead\n"
          ],
          "name": "stderr"
        }
      ]
    },
    {
      "cell_type": "code",
      "metadata": {
        "id": "KRhf1FiFnzXP",
        "colab_type": "code",
        "colab": {
          "base_uri": "https://localhost:8080/",
          "height": 912
        },
        "outputId": "1ec6fe35-1d3c-4025-8b48-23f9726307fe"
      },
      "source": [
        "# TEST Data 확인\n",
        "dev"
      ],
      "execution_count": 44,
      "outputs": [
        {
          "output_type": "execute_result",
          "data": {
            "text/html": [
              "<div>\n",
              "<style scoped>\n",
              "    .dataframe tbody tr th:only-of-type {\n",
              "        vertical-align: middle;\n",
              "    }\n",
              "\n",
              "    .dataframe tbody tr th {\n",
              "        vertical-align: top;\n",
              "    }\n",
              "\n",
              "    .dataframe thead th {\n",
              "        text-align: right;\n",
              "    }\n",
              "</style>\n",
              "<table border=\"1\" class=\"dataframe\">\n",
              "  <thead>\n",
              "    <tr style=\"text-align: right;\">\n",
              "      <th></th>\n",
              "      <th>id</th>\n",
              "      <th>question</th>\n",
              "      <th>context</th>\n",
              "      <th>answers</th>\n",
              "      <th>c_id</th>\n",
              "    </tr>\n",
              "  </thead>\n",
              "  <tbody>\n",
              "    <tr>\n",
              "      <th>0</th>\n",
              "      <td>6548850-0-0</td>\n",
              "      <td>임종석이 여의도 농민 폭력 시위를 주도한 혐의로 지명수배 된 날은?</td>\n",
              "      <td>1989년 2월 15일 여의도 농민 폭력 시위를 주도한 혐의(폭력행위등처벌에관한법률...</td>\n",
              "      <td>[{'text': '1989년 2월 15일', 'answer_start': 0}]</td>\n",
              "      <td>0</td>\n",
              "    </tr>\n",
              "    <tr>\n",
              "      <th>1</th>\n",
              "      <td>6548850-0-1</td>\n",
              "      <td>1989년 6월 30일 평양축전에 대표로 파견 된 인물은?</td>\n",
              "      <td>1989년 2월 15일 여의도 농민 폭력 시위를 주도한 혐의(폭력행위등처벌에관한법률...</td>\n",
              "      <td>[{'text': '임수경', 'answer_start': 125}]</td>\n",
              "      <td>0</td>\n",
              "    </tr>\n",
              "    <tr>\n",
              "      <th>2</th>\n",
              "      <td>6548853-0-0</td>\n",
              "      <td>임종석이 여의도 농민 폭력 시위를 주도한 혐의로 지명수배된 연도는?</td>\n",
              "      <td>1989년 2월 15일 여의도 농민 폭력 시위를 주도한 혐의(폭력행위등처벌에관한법률...</td>\n",
              "      <td>[{'text': '1989년', 'answer_start': 0}]</td>\n",
              "      <td>0</td>\n",
              "    </tr>\n",
              "    <tr>\n",
              "      <th>3</th>\n",
              "      <td>6548853-0-1</td>\n",
              "      <td>임종석을 검거한 장소는 경희대 내 어디인가?</td>\n",
              "      <td>1989년 2월 15일 여의도 농민 폭력 시위를 주도한 혐의(폭력행위등처벌에관한법률...</td>\n",
              "      <td>[{'text': '학생회관 건물 계단', 'answer_start': 365}]</td>\n",
              "      <td>0</td>\n",
              "    </tr>\n",
              "    <tr>\n",
              "      <th>4</th>\n",
              "      <td>6548853-0-2</td>\n",
              "      <td>임종석이 조사를 받은 뒤 인계된 곳은 어딘가?</td>\n",
              "      <td>1989년 2월 15일 여의도 농민 폭력 시위를 주도한 혐의(폭력행위등처벌에관한법률...</td>\n",
              "      <td>[{'text': '서울지방경찰청 공안분실', 'answer_start': 457}]</td>\n",
              "      <td>0</td>\n",
              "    </tr>\n",
              "    <tr>\n",
              "      <th>...</th>\n",
              "      <td>...</td>\n",
              "      <td>...</td>\n",
              "      <td>...</td>\n",
              "      <td>...</td>\n",
              "      <td>...</td>\n",
              "    </tr>\n",
              "    <tr>\n",
              "      <th>5769</th>\n",
              "      <td>6511152-4-0</td>\n",
              "      <td>중동 지역에서 갤럭시 S7 엣지가 폭발하는 사건이 발생한 년도는?</td>\n",
              "      <td>2016년 9월 4일 중동 지역에서 갤럭시 S7 엣지가 폭발하는 사건이 발생했다. ...</td>\n",
              "      <td>[{'text': '2016년', 'answer_start': 0}]</td>\n",
              "      <td>959</td>\n",
              "    </tr>\n",
              "    <tr>\n",
              "      <th>5770</th>\n",
              "      <td>6511152-4-1</td>\n",
              "      <td>갤럭시 S7엣지를 만든 회사는?</td>\n",
              "      <td>2016년 9월 4일 중동 지역에서 갤럭시 S7 엣지가 폭발하는 사건이 발생했다. ...</td>\n",
              "      <td>[{'text': '삼성전자', 'answer_start': 83}]</td>\n",
              "      <td>959</td>\n",
              "    </tr>\n",
              "    <tr>\n",
              "      <th>5771</th>\n",
              "      <td>6511152-4-2</td>\n",
              "      <td>2016년 9월 4일 갤럭시 S7엣지가 폭발한 사건이 발생한 지역은?</td>\n",
              "      <td>2016년 9월 4일 중동 지역에서 갤럭시 S7 엣지가 폭발하는 사건이 발생했다. ...</td>\n",
              "      <td>[{'text': '중동 지역', 'answer_start': 12}]</td>\n",
              "      <td>959</td>\n",
              "    </tr>\n",
              "    <tr>\n",
              "      <th>5772</th>\n",
              "      <td>6535617-4-0</td>\n",
              "      <td>갤럭시 노트 7은 출시 며칠만에 기기 결함으로 터지기 시작하였나?</td>\n",
              "      <td>2016년 9월 4일 중동 지역에서 갤럭시 S7 엣지가 폭발하는 사건이 발생했다. ...</td>\n",
              "      <td>[{'text': '18일', 'answer_start': 286}]</td>\n",
              "      <td>959</td>\n",
              "    </tr>\n",
              "    <tr>\n",
              "      <th>5773</th>\n",
              "      <td>6535617-4-1</td>\n",
              "      <td>2016년에 갤럭시 S7 엣지가 폭발한 사건은 어느 지역에서 일어났는가?</td>\n",
              "      <td>2016년 9월 4일 중동 지역에서 갤럭시 S7 엣지가 폭발하는 사건이 발생했다. ...</td>\n",
              "      <td>[{'text': '중동 지역', 'answer_start': 12}]</td>\n",
              "      <td>959</td>\n",
              "    </tr>\n",
              "  </tbody>\n",
              "</table>\n",
              "<p>5774 rows × 5 columns</p>\n",
              "</div>"
            ],
            "text/plain": [
              "               id  ... c_id\n",
              "0     6548850-0-0  ...    0\n",
              "1     6548850-0-1  ...    0\n",
              "2     6548853-0-0  ...    0\n",
              "3     6548853-0-1  ...    0\n",
              "4     6548853-0-2  ...    0\n",
              "...           ...  ...  ...\n",
              "5769  6511152-4-0  ...  959\n",
              "5770  6511152-4-1  ...  959\n",
              "5771  6511152-4-2  ...  959\n",
              "5772  6535617-4-0  ...  959\n",
              "5773  6535617-4-1  ...  959\n",
              "\n",
              "[5774 rows x 5 columns]"
            ]
          },
          "metadata": {
            "tags": []
          },
          "execution_count": 44
        }
      ]
    },
    {
      "cell_type": "code",
      "metadata": {
        "id": "Rn8rEDjnnzVf",
        "colab_type": "code",
        "colab": {
          "base_uri": "https://localhost:8080/",
          "height": 1000
        },
        "outputId": "817e62ef-cd63-47ed-ca7e-c48fe585df64"
      },
      "source": [
        "# TEST DATA에 대한 결과 확인\n",
        "\n",
        "import random\n",
        "for i in random.sample(range(10),10):\n",
        "  doc = dev['context'][i]\n",
        "  question = dev['question'][i]\n",
        "  answers = dev['answers'][i]\n",
        "  predict_letter(question, doc)\n",
        "  print(\"\")\n",
        "  print(\"real answer : \", answers)\n",
        "  print(\"\")"
      ],
      "execution_count": 84,
      "outputs": [
        {
          "output_type": "stream",
          "text": [
            "Question :  정부의 헌법개정안 준비 과정에 대해서 청와대 비서실이 아니라 국무회의 중심으로 이뤄졌어야 했다고 지적한 원로 헌법학자는?\n",
            "--------------------------------------------------\n",
            "Context :  \"내각과 장관들이 소외되고 대통령비서실의 권한이 너무 크다\", \"행보가 비서 본연의 역할을 벗어난다\"는 의견이 제기되었다. 대표적인 예가 10차 개헌안 발표이다. 원로 헌법학자인 허영 경희대 석좌교수는 정부의 헌법개정안 준비 과정에 대해 \"청와대 비서실이 아닌 국무회의\n",
            " 중심으로 이뤄졌어야 했다\"고 지적했다. '국무회의의 심의를 거쳐야 한다'(제89조)는 헌법 규정에 충실하지 않았다는 것이다. 그러면서 \"법무부 장관을 제쳐놓고 민정수석이 개정안을 설명하는 게 이해가 안 된다\"고 지적했다. 민정수석은 국회의원에 대해 책임지는 법무부 장\n",
            "관도 아니고, 국민에 대해 책임지는 사람도 아니기 때문에 정당성이 없고, 단지 대통령의 신임이 있을 뿐이라는 것이다. 또한 국무총리 선출 방식에 대한 기자의 질문에 \"문 대통령도 취임 전에 국무총리에게 실질적 권한을 주겠다고 했지만 그러지 못하고 있다. 대통령비서실장만\n",
            "도 못한 권한을 행사하고 있다.\"고 답변했다.\n",
            "--------------------------------------------------\n",
            "ANSWER :  \n",
            "\n",
            "허 ##영 \n",
            "\n",
            "Untokenized Answer :  허영\n",
            "\n",
            "real answer :  [{'text': '허영', 'answer_start': 100}]\n",
            "\n",
            "Question :  '행보가 비서 본연의 역할을 벗어난다', '장관들과 내각이 소외되고 대통령비서실의 권한이 너무 크다'는 의견이 제기된 대표적인 예는?\n",
            "--------------------------------------------------\n",
            "Context :  \"내각과 장관들이 소외되고 대통령비서실의 권한이 너무 크다\", \"행보가 비서 본연의 역할을 벗어난다\"는 의견이 제기되었다. 대표적인 예가 10차 개헌안 발표이다. 원로 헌법학자인 허영 경희대 석좌교수는 정부의 헌법개정안 준비 과정에 대해 \"청와대 비서실이 아닌 국무회의\n",
            " 중심으로 이뤄졌어야 했다\"고 지적했다. '국무회의의 심의를 거쳐야 한다'(제89조)는 헌법 규정에 충실하지 않았다는 것이다. 그러면서 \"법무부 장관을 제쳐놓고 민정수석이 개정안을 설명하는 게 이해가 안 된다\"고 지적했다. 민정수석은 국회의원에 대해 책임지는 법무부 장\n",
            "관도 아니고, 국민에 대해 책임지는 사람도 아니기 때문에 정당성이 없고, 단지 대통령의 신임이 있을 뿐이라는 것이다. 또한 국무총리 선출 방식에 대한 기자의 질문에 \"문 대통령도 취임 전에 국무총리에게 실질적 권한을 주겠다고 했지만 그러지 못하고 있다. 대통령비서실장만\n",
            "도 못한 권한을 행사하고 있다.\"고 답변했다.\n",
            "--------------------------------------------------\n",
            "ANSWER :  \n",
            "\n",
            "10 ##차 개 ##헌 ##안 발 ##표 \n",
            "\n",
            "Untokenized Answer :  10차 개헌안 발표\n",
            "\n",
            "real answer :  [{'text': '10차 개헌안 발표', 'answer_start': 77}]\n",
            "\n",
            "Question :  임종석이 여의도 농민 폭력 시위를 주도한 혐의로 지명수배된 연도는?\n",
            "--------------------------------------------------\n",
            "Context :  1989년 2월 15일 여의도 농민 폭력 시위를 주도한 혐의(폭력행위등처벌에관한법률위반)으로 지명수배되었다. 1989년 3월 12일 서울지방검찰청 공안부는 임종석의 사전구속영장을 발부받았다. 같은 해 6월 30일 평양축전에 임수경을 대표로 파견하여 국가보안법위반 혐의가\n",
            " 추가되었다. 경찰은 12월 18일~20일 사이 서울 경희대학교에서 임종석이 성명 발표를 추진하고 있다는 첩보를 입수했고, 12월 18일 오전 7시 40분 경 가스총과 전자봉으로 무장한 특공조 및 대공과 직원 12명 등 22명의 사복 경찰을 승용차 8대에 나누어 경희대\n",
            "학교에 투입했다. 1989년 12월 18일 오전 8시 15분 경 서울청량리경찰서는 호위 학생 5명과 함께 경희대학교 학생회관 건물 계단을 내려오는 임종석을 발견, 검거해 구속을 집행했다. 임종석은 청량리경찰서에서 약 1시간 동안 조사를 받은 뒤 오전 9시 50분 경 서\n",
            "울 장안동의 서울지방경찰청 공안분실로 인계되었다.\n",
            "--------------------------------------------------\n",
            "ANSWER :  \n",
            "\n",
            "1989년 \n",
            "\n",
            "Untokenized Answer :  1989년\n",
            "\n",
            "real answer :  [{'text': '1989년', 'answer_start': 0}]\n",
            "\n",
            "Question :  임종석을 검거한 장소는 경희대 내 어디인가?\n",
            "--------------------------------------------------\n",
            "Context :  1989년 2월 15일 여의도 농민 폭력 시위를 주도한 혐의(폭력행위등처벌에관한법률위반)으로 지명수배되었다. 1989년 3월 12일 서울지방검찰청 공안부는 임종석의 사전구속영장을 발부받았다. 같은 해 6월 30일 평양축전에 임수경을 대표로 파견하여 국가보안법위반 혐의가\n",
            " 추가되었다. 경찰은 12월 18일~20일 사이 서울 경희대학교에서 임종석이 성명 발표를 추진하고 있다는 첩보를 입수했고, 12월 18일 오전 7시 40분 경 가스총과 전자봉으로 무장한 특공조 및 대공과 직원 12명 등 22명의 사복 경찰을 승용차 8대에 나누어 경희대\n",
            "학교에 투입했다. 1989년 12월 18일 오전 8시 15분 경 서울청량리경찰서는 호위 학생 5명과 함께 경희대학교 학생회관 건물 계단을 내려오는 임종석을 발견, 검거해 구속을 집행했다. 임종석은 청량리경찰서에서 약 1시간 동안 조사를 받은 뒤 오전 9시 50분 경 서\n",
            "울 장안동의 서울지방경찰청 공안분실로 인계되었다.\n",
            "--------------------------------------------------\n",
            "ANSWER :  \n",
            "\n",
            "청 ##량 ##리 ##경 ##찰 ##서 \n",
            "\n",
            "Untokenized Answer :  청량리경찰서\n",
            "\n",
            "real answer :  [{'text': '학생회관 건물 계단', 'answer_start': 365}]\n",
            "\n",
            "Question :  국무회의의 심의를 거쳐야 한다는 헌법 제 몇 조의 내용인가?\n",
            "--------------------------------------------------\n",
            "Context :  \"내각과 장관들이 소외되고 대통령비서실의 권한이 너무 크다\", \"행보가 비서 본연의 역할을 벗어난다\"는 의견이 제기되었다. 대표적인 예가 10차 개헌안 발표이다. 원로 헌법학자인 허영 경희대 석좌교수는 정부의 헌법개정안 준비 과정에 대해 \"청와대 비서실이 아닌 국무회의\n",
            " 중심으로 이뤄졌어야 했다\"고 지적했다. '국무회의의 심의를 거쳐야 한다'(제89조)는 헌법 규정에 충실하지 않았다는 것이다. 그러면서 \"법무부 장관을 제쳐놓고 민정수석이 개정안을 설명하는 게 이해가 안 된다\"고 지적했다. 민정수석은 국회의원에 대해 책임지는 법무부 장\n",
            "관도 아니고, 국민에 대해 책임지는 사람도 아니기 때문에 정당성이 없고, 단지 대통령의 신임이 있을 뿐이라는 것이다. 또한 국무총리 선출 방식에 대한 기자의 질문에 \"문 대통령도 취임 전에 국무총리에게 실질적 권한을 주겠다고 했지만 그러지 못하고 있다. 대통령비서실장만\n",
            "도 못한 권한을 행사하고 있다.\"고 답변했다.\n",
            "--------------------------------------------------\n",
            "ANSWER :  \n",
            "\n",
            "제 ##8 ##9 ##조 \n",
            "\n",
            "Untokenized Answer :  제89조\n",
            "\n",
            "real answer :  [{'text': '제89조', 'answer_start': 192}]\n",
            "\n",
            "Question :  임종석이 1989년 2월 15일에 지명수배 받은 혐의는 어떤 시위를 주도했다는 것인가?\n",
            "--------------------------------------------------\n",
            "Context :  1989년 2월 15일 여의도 농민 폭력 시위를 주도한 혐의(폭력행위등처벌에관한법률위반)으로 지명수배되었다. 1989년 3월 12일 서울지방검찰청 공안부는 임종석의 사전구속영장을 발부받았다. 같은 해 6월 30일 평양축전에 임수경을 대표로 파견하여 국가보안법위반 혐의가\n",
            " 추가되었다. 경찰은 12월 18일~20일 사이 서울 경희대학교에서 임종석이 성명 발표를 추진하고 있다는 첩보를 입수했고, 12월 18일 오전 7시 40분 경 가스총과 전자봉으로 무장한 특공조 및 대공과 직원 12명 등 22명의 사복 경찰을 승용차 8대에 나누어 경희대\n",
            "학교에 투입했다. 1989년 12월 18일 오전 8시 15분 경 서울청량리경찰서는 호위 학생 5명과 함께 경희대학교 학생회관 건물 계단을 내려오는 임종석을 발견, 검거해 구속을 집행했다. 임종석은 청량리경찰서에서 약 1시간 동안 조사를 받은 뒤 오전 9시 50분 경 서\n",
            "울 장안동의 서울지방경찰청 공안분실로 인계되었다.\n",
            "--------------------------------------------------\n",
            "ANSWER :  \n",
            "\n",
            "여 ##의 ##도 농 ##민 폭 ##력 \n",
            "\n",
            "Untokenized Answer :  여의도 농민 폭력\n",
            "\n",
            "real answer :  [{'text': '여의도 농민 폭력 시위', 'answer_start': 13}]\n",
            "\n",
            "Question :  1989년 6월 30일 평양축전에 대표로 파견 된 인물은?\n",
            "--------------------------------------------------\n",
            "Context :  1989년 2월 15일 여의도 농민 폭력 시위를 주도한 혐의(폭력행위등처벌에관한법률위반)으로 지명수배되었다. 1989년 3월 12일 서울지방검찰청 공안부는 임종석의 사전구속영장을 발부받았다. 같은 해 6월 30일 평양축전에 임수경을 대표로 파견하여 국가보안법위반 혐의가\n",
            " 추가되었다. 경찰은 12월 18일~20일 사이 서울 경희대학교에서 임종석이 성명 발표를 추진하고 있다는 첩보를 입수했고, 12월 18일 오전 7시 40분 경 가스총과 전자봉으로 무장한 특공조 및 대공과 직원 12명 등 22명의 사복 경찰을 승용차 8대에 나누어 경희대\n",
            "학교에 투입했다. 1989년 12월 18일 오전 8시 15분 경 서울청량리경찰서는 호위 학생 5명과 함께 경희대학교 학생회관 건물 계단을 내려오는 임종석을 발견, 검거해 구속을 집행했다. 임종석은 청량리경찰서에서 약 1시간 동안 조사를 받은 뒤 오전 9시 50분 경 서\n",
            "울 장안동의 서울지방경찰청 공안분실로 인계되었다.\n",
            "--------------------------------------------------\n",
            "ANSWER :  \n",
            "\n",
            "임 ##수 ##경 \n",
            "\n",
            "Untokenized Answer :  임수경\n",
            "\n",
            "real answer :  [{'text': '임수경', 'answer_start': 125}]\n",
            "\n",
            "Question :  임종석이 조사를 받은 뒤 인계된 곳은 어딘가?\n",
            "--------------------------------------------------\n",
            "Context :  1989년 2월 15일 여의도 농민 폭력 시위를 주도한 혐의(폭력행위등처벌에관한법률위반)으로 지명수배되었다. 1989년 3월 12일 서울지방검찰청 공안부는 임종석의 사전구속영장을 발부받았다. 같은 해 6월 30일 평양축전에 임수경을 대표로 파견하여 국가보안법위반 혐의가\n",
            " 추가되었다. 경찰은 12월 18일~20일 사이 서울 경희대학교에서 임종석이 성명 발표를 추진하고 있다는 첩보를 입수했고, 12월 18일 오전 7시 40분 경 가스총과 전자봉으로 무장한 특공조 및 대공과 직원 12명 등 22명의 사복 경찰을 승용차 8대에 나누어 경희대\n",
            "학교에 투입했다. 1989년 12월 18일 오전 8시 15분 경 서울청량리경찰서는 호위 학생 5명과 함께 경희대학교 학생회관 건물 계단을 내려오는 임종석을 발견, 검거해 구속을 집행했다. 임종석은 청량리경찰서에서 약 1시간 동안 조사를 받은 뒤 오전 9시 50분 경 서\n",
            "울 장안동의 서울지방경찰청 공안분실로 인계되었다.\n",
            "--------------------------------------------------\n",
            "ANSWER :  \n",
            "\n",
            "서울 ##지 ##방 ##경 ##찰 ##청 공 ##안 ##분 ##실 \n",
            "\n",
            "Untokenized Answer :  서울지방경찰청 공안분실\n",
            "\n",
            "real answer :  [{'text': '서울지방경찰청 공안분실', 'answer_start': 457}]\n",
            "\n",
            "Question :  1989년 2월 15일 여의도 농민 폭력 시위를 주도한 혐의로 지명수배된 사람의 이름은?\n",
            "--------------------------------------------------\n",
            "Context :  1989년 2월 15일 여의도 농민 폭력 시위를 주도한 혐의(폭력행위등처벌에관한법률위반)으로 지명수배되었다. 1989년 3월 12일 서울지방검찰청 공안부는 임종석의 사전구속영장을 발부받았다. 같은 해 6월 30일 평양축전에 임수경을 대표로 파견하여 국가보안법위반 혐의가\n",
            " 추가되었다. 경찰은 12월 18일~20일 사이 서울 경희대학교에서 임종석이 성명 발표를 추진하고 있다는 첩보를 입수했고, 12월 18일 오전 7시 40분 경 가스총과 전자봉으로 무장한 특공조 및 대공과 직원 12명 등 22명의 사복 경찰을 승용차 8대에 나누어 경희대\n",
            "학교에 투입했다. 1989년 12월 18일 오전 8시 15분 경 서울청량리경찰서는 호위 학생 5명과 함께 경희대학교 학생회관 건물 계단을 내려오는 임종석을 발견, 검거해 구속을 집행했다. 임종석은 청량리경찰서에서 약 1시간 동안 조사를 받은 뒤 오전 9시 50분 경 서\n",
            "울 장안동의 서울지방경찰청 공안분실로 인계되었다.\n",
            "--------------------------------------------------\n",
            "ANSWER :  \n",
            "\n",
            "임 ##종 ##석 \n",
            "\n",
            "Untokenized Answer :  임종석\n",
            "\n",
            "real answer :  [{'text': '임종석', 'answer_start': 87}]\n",
            "\n",
            "Question :  임종석이 여의도 농민 폭력 시위를 주도한 혐의로 지명수배 된 날은?\n",
            "--------------------------------------------------\n",
            "Context :  1989년 2월 15일 여의도 농민 폭력 시위를 주도한 혐의(폭력행위등처벌에관한법률위반)으로 지명수배되었다. 1989년 3월 12일 서울지방검찰청 공안부는 임종석의 사전구속영장을 발부받았다. 같은 해 6월 30일 평양축전에 임수경을 대표로 파견하여 국가보안법위반 혐의가\n",
            " 추가되었다. 경찰은 12월 18일~20일 사이 서울 경희대학교에서 임종석이 성명 발표를 추진하고 있다는 첩보를 입수했고, 12월 18일 오전 7시 40분 경 가스총과 전자봉으로 무장한 특공조 및 대공과 직원 12명 등 22명의 사복 경찰을 승용차 8대에 나누어 경희대\n",
            "학교에 투입했다. 1989년 12월 18일 오전 8시 15분 경 서울청량리경찰서는 호위 학생 5명과 함께 경희대학교 학생회관 건물 계단을 내려오는 임종석을 발견, 검거해 구속을 집행했다. 임종석은 청량리경찰서에서 약 1시간 동안 조사를 받은 뒤 오전 9시 50분 경 서\n",
            "울 장안동의 서울지방경찰청 공안분실로 인계되었다.\n",
            "--------------------------------------------------\n",
            "ANSWER :  \n",
            "\n",
            "1989년 2월 15일 \n",
            "\n",
            "Untokenized Answer :  1989년 2월 15일\n",
            "\n",
            "real answer :  [{'text': '1989년 2월 15일', 'answer_start': 0}]\n",
            "\n"
          ],
          "name": "stdout"
        }
      ]
    },
    {
      "cell_type": "code",
      "metadata": {
        "id": "Z3cm21eMeUdS",
        "colab_type": "code",
        "colab": {
          "base_uri": "https://localhost:8080/",
          "height": 235
        },
        "outputId": "f3e21b1f-9e01-4c53-87e3-112bd4a3e5c9"
      },
      "source": [
        "# 모형에 질문해보기\n",
        "\n",
        "doc = \"태양계의 5번째 행성이며, 태양계의 행성 중 가장 부피가 크고 무겁다. 반지름은 지구의 11.2배, 부피는 지구의 1300배가 넘는다. 질량은 지구의 318배다. 부피에 비해 질량이 작은 이유는 암석형 행성보다 밀도가 낮은 성분들이 주요 구성성분인 가스형 행성이기 때문이다. 그럼에도 목성의 질량은 다른 태양계 행성들을 합친 것보다도 무겁다. 심지어 그 7개 행성의 질량을 몽땅 다 합쳐도 목성의 절반도 되지 않는다. 태양계에서 태양이 99.86%를 차지하고, 목성은 나머지 0.14% 중에서 약 2/3인 0.095%를 차지한다. 뒤를 이어 토성이 0.029%를 차지하며, 나머지 행성들을 모두 합쳐도 태양계 질량의 0.016% 정도 밖에 되지 않는다.\"\n",
        "question = \"목성의 부피는 지구의 몇배인가?\"\n",
        "\n",
        "predict_letter(question, doc)\n"
      ],
      "execution_count": 46,
      "outputs": [
        {
          "output_type": "stream",
          "text": [
            "Question :  목성의 부피는 지구의 몇배인가?\n",
            "--------------------------------------------------\n",
            "Context :  태양계의 5번째 행성이며, 태양계의 행성 중 가장 부피가 크고 무겁다. 반지름은 지구의 11.2배, 부피는 지구의 1300배가 넘는다. 질량은 지구의 318배다. 부피에 비해 질량이 작은 이유는 암석형 행성보다 밀도가 낮은 성분들이 주요 구성성분인 가스형 행성이기 때문\n",
            "이다. 그럼에도 목성의 질량은 다른 태양계 행성들을 합친 것보다도 무겁다. 심지어 그 7개 행성의 질량을 몽땅 다 합쳐도 목성의 절반도 되지 않는다. 태양계에서 태양이 99.86%를 차지하고, 목성은 나머지 0.14% 중에서 약 2/3인 0.095%를 차지한다. 뒤를 \n",
            "이어 토성이 0.029%를 차지하며, 나머지 행성들을 모두 합쳐도 태양계 질량의 0.016% 정도 밖에 되지 않는다.\n",
            "--------------------------------------------------\n",
            "ANSWER :  \n",
            "\n",
            "1300 ##배 \n",
            "\n",
            "Untokenized Answer :  1300배\n"
          ],
          "name": "stdout"
        }
      ]
    },
    {
      "cell_type": "code",
      "metadata": {
        "id": "8eB4vyHaeiWx",
        "colab_type": "code",
        "colab": {
          "base_uri": "https://localhost:8080/",
          "height": 289
        },
        "outputId": "16694112-c110-4cf5-a579-6786b213e388"
      },
      "source": [
        "# 모형에 질문해보기 2\n",
        "doc = \"사스와 메르스처럼 코로나 바이러스의 보고되지 않은 종에 인한 감염으로 발생하는 호흡기 질환이다. 최초 발생 원인과 전파 경로는 아직 정확히 밝혀지지 않았다.발병 초기에 보고된 불상의 폐병 증상으로 대중적으로는 '우한 폐렴' 등의 키워드로 불렸으며, 현재 세계보건기구(WHO)에서는 Novel coronavirus(2019-nCoV)라는 표현을 사용 중이다(#). 미국, 영국 등 일부 외신에서는 Wuhan coronavirus라는 표현을 사용하기도 한다. 현재 미국 정부는 질병 명칭에는 Wuhan을 넣지 않은 Coronavirus라고만 지칭 중이다.[11] 대한민국 정부에서 잠정적으로 사용하는 질병 명칭은 신종 코로나바이러스감염증이다. 이는 2015년부터 낙인 효과를 우려한 WHO에서 병명에 지역 이름을 넣는 것을 피하도록 한 권고[12](#)에 따른 것이다. 물론 해당 권고는 구속력이 없으며, 정부나 공공 의료기관이 아닌 일반인, 그리고 언론이 우한 폐렴을 사용하는 것에도 문제가 없다. 실제로 외신이나 당사자인 중국 본토에서도 '우한' 혹은 '중국' 명칭을 사용하고 있다. #기사 사태 초반에는 우한시 안에 국한될 것으로 판단하는 이들이 많았으나, 점차 우한 외 후베이성과 인근 지역, 그리고 중국을 벗어나 해외로까지 퍼지면서 상황이 심각해졌다. 우한시의 인구는 약 1,100만 명이며, 하필 맞물린 춘절[13]로 인한 인구 대이동으로 병이 사방으로 퍼질 위험이 있어 중국 현지에 비상이 걸렸다. 게다가 춘절 기간 중 중국인 관광객들이 해외여행을 많이 가다보니 세계 여러 나라에서도 촉각이 곤두서있다. 따라서 춘절 전후가 감염병 확산의 고비라 할 수 있다.\"\n",
        "question = \"주제는?\"\n",
        "\n",
        "predict_letter(question, doc)\n"
      ],
      "execution_count": 54,
      "outputs": [
        {
          "output_type": "stream",
          "text": [
            "Question :  주제는?\n",
            "--------------------------------------------------\n",
            "Context :  사스와 메르스처럼 코로나 바이러스의 보고되지 않은 종에 인한 감염으로 발생하는 호흡기 질환이다. 최초 발생 원인과 전파 경로는 아직 정확히 밝혀지지 않았다.발병 초기에 보고된 불상의 폐병 증상으로 대중적으로는 '우한 폐렴' 등의 키워드로 불렸으며, 현재 세계보건기구(W\n",
            "HO)에서는 Novel coronavirus(2019-nCoV)라는 표현을 사용 중이다(#). 미국, 영국 등 일부 외신에서는 Wuhan coronavirus라는 표현을 사용하기도 한다. 현재 미국 정부는 질병 명칭에는 Wuhan을 넣지 않은 Coronavirus라고만\n",
            " 지칭 중이다.[11] 대한민국 정부에서 잠정적으로 사용하는 질병 명칭은 신종 코로나바이러스감염증이다. 이는 2015년부터 낙인 효과를 우려한 WHO에서 병명에 지역 이름을 넣는 것을 피하도록 한 권고[12](#)에 따른 것이다. 물론 해당 권고는 구속력이 없으며, 정\n",
            "부나 공공 의료기관이 아닌 일반인, 그리고 언론이 우한 폐렴을 사용하는 것에도 문제가 없다. 실제로 외신이나 당사자인 중국 본토에서도 '우한' 혹은 '중국' 명칭을 사용하고 있다. #기사 사태 초반에는 우한시 안에 국한될 것으로 판단하는 이들이 많았으나, 점차 우한 외\n",
            " 후베이성과 인근 지역, 그리고 중국을 벗어나 해외로까지 퍼지면서 상황이 심각해졌다. 우한시의 인구는 약 1,100만 명이며, 하필 맞물린 춘절[13]로 인한 인구 대이동으로 병이 사방으로 퍼질 위험이 있어 중국 현지에 비상이 걸렸다. 게다가 춘절 기간 중 중국인 관광\n",
            "객들이 해외여행을 많이 가다보니 세계 여러 나라에서도 촉각이 곤두서있다. 따라서 춘절 전후가 감염병 확산의 고비라 할 수 있다.\n",
            "--------------------------------------------------\n",
            "ANSWER :  \n",
            "\n",
            "신 ##종 코 ##로 ##나 ##바 ##이 ##러 ##스 ##감 ##염 ##증 \n",
            "\n",
            "Untokenized Answer :  신종 코로나바이러스감염증\n"
          ],
          "name": "stdout"
        }
      ]
    },
    {
      "cell_type": "code",
      "metadata": {
        "id": "bTzvlO2ZfSAr",
        "colab_type": "code",
        "colab": {
          "base_uri": "https://localhost:8080/",
          "height": 289
        },
        "outputId": "33a4799a-dfb8-4704-e3b8-15b7260fee3e"
      },
      "source": [
        "################### 뉴스 기사로 해보기 ###########################################\n",
        "\n",
        "news_IT = pd.read_csv(\"/content/drive/My Drive/data/0418/Article_IT과학.csv\")\n",
        "news_IT.rename(columns={'이데일리 김현아 기자 여기어때의 이메일 유출 관련 공지 출처 여기어때 홈페이지 . 현재 다른 회원 수신자수는 9 19명으로 수정돼 있다. 호텔·모텔 등 숙박앱 ‘여기어때’를 운영하는 위드이노베이션 대표 황재웅 이 관련 법에 따라 개인정보 이용내역을 통지하는 과정에서 회원들의 이메일 주소가 유출되는 사고가 발생했다. 1일 위드이노베이션에 따르면 어제 지난달 31일 회원들에게 개인정보 이용내역을 통지하기 위해 안내 이메일을 발신하던 중 수신인 설정 오류로 다수 회원의 이메일 주소가 유출됐다. 본인 외에 다른 회원 9 19명 이메일 주소가 함께 포함돼 발송된 것이다. 위드이노베이션 관계자는 “유출된 항목은 이메일 주소 1개이며 사실을 확인한 즉시 한국인터넷진흥원에 신고했다”며 “혹시 다른 수신인들의 이메일을 아셨더라도 불법 이용을 금지해달라”고 밝혔다. 이어 “수신인들의 그룹별 명단을 확보했고 메일 일괄 발송시 확인절차를 강화했다”며 “혹시 이번 사건으로 의심 메일을 받는 등 피해가 의심된다면 담당부서로 신고해 달라”고 부연했다.' : 'document', '20190101': '일자'}, inplace=True)\n",
        "news_IT= news_IT[['일자','document']]\n",
        "news_IT.head()\n",
        "news_IT.tail()"
      ],
      "execution_count": 55,
      "outputs": [
        {
          "output_type": "execute_result",
          "data": {
            "text/html": [
              "<div>\n",
              "<style scoped>\n",
              "    .dataframe tbody tr th:only-of-type {\n",
              "        vertical-align: middle;\n",
              "    }\n",
              "\n",
              "    .dataframe tbody tr th {\n",
              "        vertical-align: top;\n",
              "    }\n",
              "\n",
              "    .dataframe thead th {\n",
              "        text-align: right;\n",
              "    }\n",
              "</style>\n",
              "<table border=\"1\" class=\"dataframe\">\n",
              "  <thead>\n",
              "    <tr style=\"text-align: right;\">\n",
              "      <th></th>\n",
              "      <th>일자</th>\n",
              "      <th>document</th>\n",
              "    </tr>\n",
              "  </thead>\n",
              "  <tbody>\n",
              "    <tr>\n",
              "      <th>11395</th>\n",
              "      <td>20190118</td>\n",
              "      <td>메가박스 월드컵경기장점 2층 이데일리 김혜미 기자 엔씨소프트 036570 가 멀티플...</td>\n",
              "    </tr>\n",
              "    <tr>\n",
              "      <th>11396</th>\n",
              "      <td>20190118</td>\n",
              "      <td>이데일리 김현아 기자 미디어연대 공동대표 이석우 조맹기 황우섭 가 바른사회시민회의와...</td>\n",
              "    </tr>\n",
              "    <tr>\n",
              "      <th>11397</th>\n",
              "      <td>20190118</td>\n",
              "      <td>질문 키워드·채택왕·추천Q A 등 확인 가능 이데일리 한광범 기자 네이버는 지식 공...</td>\n",
              "    </tr>\n",
              "    <tr>\n",
              "      <th>11398</th>\n",
              "      <td>20190118</td>\n",
              "      <td>동방사회복지회에 기부금 전달…입양대기 아동 봉사활동 진행 아이뉴스24 김나리 기자 ...</td>\n",
              "    </tr>\n",
              "    <tr>\n",
              "      <th>11399</th>\n",
              "      <td>20190118</td>\n",
              "      <td>서울 여의도 LG 트윈타워에서 모델이 LG Q9을 소개하고 있다. LG전자 제공 2...</td>\n",
              "    </tr>\n",
              "  </tbody>\n",
              "</table>\n",
              "</div>"
            ],
            "text/plain": [
              "             일자                                           document\n",
              "11395  20190118  메가박스 월드컵경기장점 2층 이데일리 김혜미 기자 엔씨소프트 036570 가 멀티플...\n",
              "11396  20190118  이데일리 김현아 기자 미디어연대 공동대표 이석우 조맹기 황우섭 가 바른사회시민회의와...\n",
              "11397  20190118  질문 키워드·채택왕·추천Q A 등 확인 가능 이데일리 한광범 기자 네이버는 지식 공...\n",
              "11398  20190118  동방사회복지회에 기부금 전달…입양대기 아동 봉사활동 진행 아이뉴스24 김나리 기자 ...\n",
              "11399  20190118  서울 여의도 LG 트윈타워에서 모델이 LG Q9을 소개하고 있다. LG전자 제공 2..."
            ]
          },
          "metadata": {
            "tags": []
          },
          "execution_count": 55
        }
      ]
    },
    {
      "cell_type": "code",
      "metadata": {
        "id": "AERRA7sgf9R2",
        "colab_type": "code",
        "colab": {
          "base_uri": "https://localhost:8080/",
          "height": 35
        },
        "outputId": "db76f039-0fa0-4117-804f-eff71c483920"
      },
      "source": [
        "it_1_18 = news_IT[news_IT['일자'] == 20190118]\n",
        "it_1_18 = list(it_1_18['document'])\n",
        "len(it_1_18)"
      ],
      "execution_count": 56,
      "outputs": [
        {
          "output_type": "execute_result",
          "data": {
            "text/plain": [
              "303"
            ]
          },
          "metadata": {
            "tags": []
          },
          "execution_count": 56
        }
      ]
    },
    {
      "cell_type": "code",
      "metadata": {
        "id": "oLq6frrZgF-m",
        "colab_type": "code",
        "colab": {
          "base_uri": "https://localhost:8080/",
          "height": 55
        },
        "outputId": "94de1343-fad8-4d86-9dd1-e3251777a6cf"
      },
      "source": [
        "# ~~ 일보 ~~ 기자 로 시작하는 부분 제거\n",
        "for i in range(len(it_1_18)):\n",
        "  if '기자' in it_1_18[i].split()[:4]:\n",
        "    pos = it_1_18[i].split().index('기자')\n",
        "    it_1_18[i] = ' '.join(it_1_18[i].split()[pos+1:])\n",
        "it_1_18[100]"
      ],
      "execution_count": 63,
      "outputs": [
        {
          "output_type": "execute_result",
          "data": {
            "text/plain": [
              "'블리자드엔터테인먼트는 자사의 액션RPG 디아블로 3 에 신규 16 시즌 을 시작한다. 이번 시즌의 테마는 권위 로 지난 시즌들과는 다르게 플레이 방식을 바꿔줄 최신 강화 효과가 도입된다. 16 시즌 동안 모든 시즌 캐릭터에 왕실 권위의 반지 전설 능력이 적용된다. 왕실 권위의 반지 는 강력한 세트 아이템 효과를 받기 위해 필요한 아이템의 개수를 한 개 감소시켜주는 아이템으로 실제로 많은 플레이스타일의 핵심 아이템 중 하나이다. 플레이어들은 반지를 직접 착용하거나 카나이의 함을 통해 능력을 추출해 사용하곤 하는데 이번 시즌에는 반지를 별도로 획득하지 않아도 전설 효과를 받을 수 있다. 새로운 꾸미기 여정 정벌 등 시즌동안 즐길 수 있는 콘텐츠도 다시 돌아온다. 우선 독점 정복자 세트의 투구와 어깨 부위 모험 테마의 최신 초상화 렘포의 날개 등 새로운 꾸미기 아이템들이 시즌 여정을 통해 획득할 수 있다. 최종봉 기자 konako12 fomos.co.kr 게임 게이머 문화를 전합니다.'"
            ]
          },
          "metadata": {
            "tags": []
          },
          "execution_count": 63
        }
      ]
    },
    {
      "cell_type": "code",
      "metadata": {
        "id": "Q8GEZvrEh0wE",
        "colab_type": "code",
        "colab": {
          "base_uri": "https://localhost:8080/",
          "height": 253
        },
        "outputId": "515c50a7-550b-4e82-fa4b-c06ef929efc5"
      },
      "source": [
        "doc = it_1_18[100]\n",
        "question = \"16시즌의 특징은 무엇인가?\"\n",
        "\n",
        "predict_letter(question, doc)"
      ],
      "execution_count": 66,
      "outputs": [
        {
          "output_type": "stream",
          "text": [
            "Question :  16시즌의 특징은 무엇인가?\n",
            "--------------------------------------------------\n",
            "Context :  블리자드엔터테인먼트는 자사의 액션RPG 디아블로 3 에 신규 16 시즌 을 시작한다. 이번 시즌의 테마는 권위 로 지난 시즌들과는 다르게 플레이 방식을 바꿔줄 최신 강화 효과가 도입된다. 16 시즌 동안 모든 시즌 캐릭터에 왕실 권위의 반지 전설 능력이 적용된다. 왕실\n",
            " 권위의 반지 는 강력한 세트 아이템 효과를 받기 위해 필요한 아이템의 개수를 한 개 감소시켜주는 아이템으로 실제로 많은 플레이스타일의 핵심 아이템 중 하나이다. 플레이어들은 반지를 직접 착용하거나 카나이의 함을 통해 능력을 추출해 사용하곤 하는데 이번 시즌에는 반지를\n",
            " 별도로 획득하지 않아도 전설 효과를 받을 수 있다. 새로운 꾸미기 여정 정벌 등 시즌동안 즐길 수 있는 콘텐츠도 다시 돌아온다. 우선 독점 정복자 세트의 투구와 어깨 부위 모험 테마의 최신 초상화 렘포의 날개 등 새로운 꾸미기 아이템들이 시즌 여정을 통해 획득할 수 \n",
            "있다. 최종봉 기자 konako12 fomos.co.kr 게임 게이머 문화를 전합니다.\n",
            "--------------------------------------------------\n",
            "ANSWER :  \n",
            "\n",
            "권 ##위 \n",
            "\n",
            "Untokenized Answer :  권위\n"
          ],
          "name": "stdout"
        }
      ]
    },
    {
      "cell_type": "code",
      "metadata": {
        "id": "Qs51kBCgiEBA",
        "colab_type": "code",
        "colab": {
          "base_uri": "https://localhost:8080/",
          "height": 469
        },
        "outputId": "737ec890-44f1-4a15-c165-2d469c8b8364"
      },
      "source": [
        "doc = it_1_18[25]\n",
        "question1 = \"주제가 무엇인가?\"\n",
        "question2 = \"이벤트 보상은 무엇을 지급하는가?\"\n",
        "\n",
        "predict_letter(question1, doc)\n",
        "predict_letter(question2, doc)\n"
      ],
      "execution_count": 83,
      "outputs": [
        {
          "output_type": "stream",
          "text": [
            "Question :  주제가 무엇인가?\n",
            "--------------------------------------------------\n",
            "Context :  웹젠 대표 김태영 은 웹게임 ‘뮤템페스트’에 신규 콘텐츠 ‘성물강화’와 ‘병사의혼’을 선보였다. 우선 ‘성물강화’는 캐릭터의 능력치를 높일 수 있는 콘텐츠다. 이용자는 ‘궁니르’ ‘만법의 서’ ‘죽음의 선율’ ‘요괴의 나팔’ ‘판결 천칭’ 등 5가지 새로운 성물을 강화\n",
            "해 더욱 강한 전투력을 갖춘 캐릭터를 육성할 수 있다. ‘병사의혼’도 캐릭터 능력 향상 콘텐츠다. 여분의 아이템을 사용해 ‘아틀란스’ ‘칸투르’ ‘아르카’ 등의 병사의혼을 활성화하면 각각 ‘방어 무시’ ‘데미지 흡수’ ‘중상 효과’ 등의 속성이 캐릭터 능력치에 부여된다\n",
            ". 또 ‘도감 정수’를 사용해 원하는 몬스터 혼을 합성할 수 있는 ‘도감 합성’과 효율적인 사냥에 도움을 주는 ‘마스터 더블 스킬’ 등도 도입됐다. 웹젠은 오는 31일까지 접속 이벤트도 연다. 평일 오후 12시 오후 6시에 접속한 이용자에게 귀속 다이아를 지급하는 내용\n",
            "이다. 또 18일부터 20일 25일부터 27일까지 2차에 걸쳐 ‘다이아 소비 랭킹 이벤트’도 펼쳐진다. 서버별 랭킹 1 3등에게 최대 ‘11급 2옵션 목걸이’ 등이 지급된다.\n",
            "--------------------------------------------------\n",
            "ANSWER :  \n",
            "\n",
            "성 ##물 ##강 ##화 [UNK] 와 [UNK] 병 ##사의 ##혼 \n",
            "\n",
            "Untokenized Answer :  성물강화 [UNK] 와 [UNK] 병사의혼\n",
            "Question :  이벤트 보상은 무엇을 지급하는가?\n",
            "--------------------------------------------------\n",
            "Context :  웹젠 대표 김태영 은 웹게임 ‘뮤템페스트’에 신규 콘텐츠 ‘성물강화’와 ‘병사의혼’을 선보였다. 우선 ‘성물강화’는 캐릭터의 능력치를 높일 수 있는 콘텐츠다. 이용자는 ‘궁니르’ ‘만법의 서’ ‘죽음의 선율’ ‘요괴의 나팔’ ‘판결 천칭’ 등 5가지 새로운 성물을 강화\n",
            "해 더욱 강한 전투력을 갖춘 캐릭터를 육성할 수 있다. ‘병사의혼’도 캐릭터 능력 향상 콘텐츠다. 여분의 아이템을 사용해 ‘아틀란스’ ‘칸투르’ ‘아르카’ 등의 병사의혼을 활성화하면 각각 ‘방어 무시’ ‘데미지 흡수’ ‘중상 효과’ 등의 속성이 캐릭터 능력치에 부여된다\n",
            ". 또 ‘도감 정수’를 사용해 원하는 몬스터 혼을 합성할 수 있는 ‘도감 합성’과 효율적인 사냥에 도움을 주는 ‘마스터 더블 스킬’ 등도 도입됐다. 웹젠은 오는 31일까지 접속 이벤트도 연다. 평일 오후 12시 오후 6시에 접속한 이용자에게 귀속 다이아를 지급하는 내용\n",
            "이다. 또 18일부터 20일 25일부터 27일까지 2차에 걸쳐 ‘다이아 소비 랭킹 이벤트’도 펼쳐진다. 서버별 랭킹 1 3등에게 최대 ‘11급 2옵션 목걸이’ 등이 지급된다.\n",
            "--------------------------------------------------\n",
            "ANSWER :  \n",
            "\n",
            "귀 ##속 다 ##이 ##아 \n",
            "\n",
            "Untokenized Answer :  귀속 다이아\n"
          ],
          "name": "stdout"
        }
      ]
    }
  ]
}