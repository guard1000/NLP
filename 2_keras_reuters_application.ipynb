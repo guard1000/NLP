{
  "nbformat": 4,
  "nbformat_minor": 0,
  "metadata": {
    "colab": {
      "name": "keras_reuters_application.ipynb",
      "provenance": [],
      "mount_file_id": "19vMYPruGKDvDV7nAPSyOo9BvzqSGvvqP",
      "authorship_tag": "ABX9TyORPpvVzP0jG0xpPglfKJr/",
      "include_colab_link": true
    },
    "kernelspec": {
      "name": "python3",
      "display_name": "Python 3"
    }
  },
  "cells": [
    {
      "cell_type": "markdown",
      "metadata": {
        "id": "view-in-github",
        "colab_type": "text"
      },
      "source": [
        "<a href=\"https://colab.research.google.com/github/guard1000/NLP_MCC/blob/master/keras_reuters_application.ipynb\" target=\"_parent\"><img src=\"https://colab.research.google.com/assets/colab-badge.svg\" alt=\"Open In Colab\"/></a>"
      ]
    },
    {
      "cell_type": "code",
      "metadata": {
        "id": "kIVEiLeAGlv8",
        "colab_type": "code",
        "colab": {}
      },
      "source": [
        "# 데이터 불러오기\n",
        "# MLP때 사용한 데이터 - 201701-201704 뉴스 크롤링\n",
        "# dic 안에 X: ~~~ , Y: ~~~ 로 들어있었음 개씩\n",
        "#  X 안에는 56681 길이의 리스트(벡터)가 8419개 있는거고, y는 int로 8419개 있음\n",
        "import json\n",
        "\n",
        "data_json =  json.load(open(\"/content/drive/My Drive/data/data.json\"))"
      ],
      "execution_count": 0,
      "outputs": []
    },
    {
      "cell_type": "code",
      "metadata": {
        "id": "z5IGyXJ7HWWP",
        "colab_type": "code",
        "colab": {
          "base_uri": "https://localhost:8080/",
          "height": 89
        },
        "outputId": "6dcea6d9-be83-4a19-a727-4551eae45907"
      },
      "source": [
        "# data_json 정보 확인\n",
        "print('query 개수:',len(data_json['X']), 'GT개수:', len(data_json['Y']))\n",
        "print('X Y type:', type(data_json['X'][0]), type(data_json['Y'][0]))\n",
        "print(\"data_json['X'][0]의 len:\", len(data_json['X'][0]))\n",
        "print(\"data_json['X'][0]의 내용 앞 10개:\", data_json['X'][0][:10])"
      ],
      "execution_count": 19,
      "outputs": [
        {
          "output_type": "stream",
          "text": [
            "query 개수: 8419 GT개수: 8419\n",
            "X Y type: <class 'list'> <class 'int'>\n",
            "data_json['X'][0]의 len: 56681\n",
            "data_json['X'][0]의 내용 앞 10개: [4, 7, 18, 4, 1, 4, 7, 1, 1, 5]\n"
          ],
          "name": "stdout"
        }
      ]
    },
    {
      "cell_type": "code",
      "metadata": {
        "id": "P_26V_cgKgO-",
        "colab_type": "code",
        "colab": {}
      },
      "source": [
        "# 필요 라이브러리들 소환\n",
        "import numpy as np\n",
        "from tensorflow.keras import models\n",
        "from tensorflow.keras import layers\n",
        "import matplotlib.pyplot as plt\n",
        "from sklearn.model_selection import train_test_split\n",
        "from sklearn import metrics"
      ],
      "execution_count": 0,
      "outputs": []
    },
    {
      "cell_type": "code",
      "metadata": {
        "id": "nj0BfdwLLCuZ",
        "colab_type": "code",
        "colab": {
          "base_uri": "https://localhost:8080/",
          "height": 35
        },
        "outputId": "cd15cbdc-05ba-4bc4-a6fc-d0dade9768fe"
      },
      "source": [
        "# train용, 훈련 검증용, test용 분리\n",
        "x_train, x_test, y_train, y_test = train_test_split(data_json['X'], data_json['Y'])\n",
        "x_train, x_test = np.array(x_train), np.array(x_test)\n",
        "y_train, y_test = np.array(y_train), np.array(y_test)\n",
        "\n",
        "x_val = x_train[:1000]\n",
        "partial_x_train = x_train[1000:]\n",
        "y_val = y_train[:1000]\n",
        "partial_y_train = y_train[1000:]\n",
        "\n",
        "print(len(x_train), len(x_test)) # 6314개와 2105개"
      ],
      "execution_count": 33,
      "outputs": [
        {
          "output_type": "stream",
          "text": [
            "6314 2105\n"
          ],
          "name": "stdout"
        }
      ]
    },
    {
      "cell_type": "code",
      "metadata": {
        "id": "Bw_uglwHNW7s",
        "colab_type": "code",
        "colab": {
          "base_uri": "https://localhost:8080/",
          "height": 269
        },
        "outputId": "14a8dc08-97bc-492e-961c-a97c6ea42cad"
      },
      "source": [
        "# 모델 만들기\n",
        "model = models.Sequential()\n",
        "model.add(layers.Dense(64, activation='relu', input_shape=(56681, )))\n",
        "model.add(layers.Dense(64, activation='relu'))\n",
        "model.add(layers.Dense(6, activation='softmax'))\n",
        "\n",
        "model.summary()"
      ],
      "execution_count": 34,
      "outputs": [
        {
          "output_type": "stream",
          "text": [
            "Model: \"sequential_1\"\n",
            "_________________________________________________________________\n",
            "Layer (type)                 Output Shape              Param #   \n",
            "=================================================================\n",
            "dense_3 (Dense)              (None, 64)                3627648   \n",
            "_________________________________________________________________\n",
            "dense_4 (Dense)              (None, 64)                4160      \n",
            "_________________________________________________________________\n",
            "dense_5 (Dense)              (None, 6)                 390       \n",
            "=================================================================\n",
            "Total params: 3,632,198\n",
            "Trainable params: 3,632,198\n",
            "Non-trainable params: 0\n",
            "_________________________________________________________________\n"
          ],
          "name": "stdout"
        }
      ]
    },
    {
      "cell_type": "code",
      "metadata": {
        "id": "ELmov4E7Opfk",
        "colab_type": "code",
        "colab": {}
      },
      "source": [
        "model.compile(\n",
        "    optimizer='adam',\n",
        "    loss='sparse_categorical_crossentropy',\n",
        "    metrics=['accuracy'],\n",
        ")"
      ],
      "execution_count": 0,
      "outputs": []
    },
    {
      "cell_type": "code",
      "metadata": {
        "id": "_B4M26t6PPRj",
        "colab_type": "code",
        "colab": {
          "base_uri": "https://localhost:8080/",
          "height": 775
        },
        "outputId": "df0922ff-9857-4a95-f32e-d1bd37ad2128"
      },
      "source": [
        "history = model.fit(\n",
        "    partial_x_train, \n",
        "    partial_y_train,\n",
        "    epochs=20,\n",
        "    batch_size=512,\n",
        "    validation_data=(x_val, y_val)\n",
        ")"
      ],
      "execution_count": 36,
      "outputs": [
        {
          "output_type": "stream",
          "text": [
            "Train on 5314 samples, validate on 1000 samples\n",
            "Epoch 1/20\n",
            "5314/5314 [==============================] - 4s 751us/sample - loss: 1.1492 - acc: 0.6972 - val_loss: 0.5488 - val_acc: 0.8750\n",
            "Epoch 2/20\n",
            "5314/5314 [==============================] - 4s 675us/sample - loss: 0.3116 - acc: 0.9351 - val_loss: 0.3690 - val_acc: 0.8890\n",
            "Epoch 3/20\n",
            "5314/5314 [==============================] - 4s 672us/sample - loss: 0.1333 - acc: 0.9780 - val_loss: 0.3610 - val_acc: 0.9000\n",
            "Epoch 4/20\n",
            "5314/5314 [==============================] - 4s 678us/sample - loss: 0.0801 - acc: 0.9880 - val_loss: 0.3494 - val_acc: 0.8980\n",
            "Epoch 5/20\n",
            "5314/5314 [==============================] - 4s 673us/sample - loss: 0.0559 - acc: 0.9930 - val_loss: 0.3824 - val_acc: 0.9030\n",
            "Epoch 6/20\n",
            "5314/5314 [==============================] - 4s 685us/sample - loss: 0.0582 - acc: 0.9921 - val_loss: 0.3699 - val_acc: 0.9080\n",
            "Epoch 7/20\n",
            "5314/5314 [==============================] - 4s 683us/sample - loss: 0.0428 - acc: 0.9945 - val_loss: 0.4047 - val_acc: 0.8990\n",
            "Epoch 8/20\n",
            "5314/5314 [==============================] - 4s 677us/sample - loss: 0.0361 - acc: 0.9940 - val_loss: 0.3897 - val_acc: 0.9070\n",
            "Epoch 9/20\n",
            "5314/5314 [==============================] - 4s 674us/sample - loss: 0.0326 - acc: 0.9944 - val_loss: 0.3815 - val_acc: 0.9080\n",
            "Epoch 10/20\n",
            "5314/5314 [==============================] - 4s 674us/sample - loss: 0.0312 - acc: 0.9949 - val_loss: 0.4067 - val_acc: 0.9090\n",
            "Epoch 11/20\n",
            "5314/5314 [==============================] - 4s 679us/sample - loss: 0.0284 - acc: 0.9944 - val_loss: 0.4226 - val_acc: 0.9040\n",
            "Epoch 12/20\n",
            "5314/5314 [==============================] - 4s 676us/sample - loss: 0.0316 - acc: 0.9949 - val_loss: 0.4393 - val_acc: 0.9040\n",
            "Epoch 13/20\n",
            "5314/5314 [==============================] - 4s 671us/sample - loss: 0.0352 - acc: 0.9945 - val_loss: 0.4181 - val_acc: 0.9070\n",
            "Epoch 14/20\n",
            "5314/5314 [==============================] - 4s 675us/sample - loss: 0.0320 - acc: 0.9953 - val_loss: 0.4376 - val_acc: 0.8990\n",
            "Epoch 15/20\n",
            "5314/5314 [==============================] - 4s 676us/sample - loss: 0.0241 - acc: 0.9951 - val_loss: 0.4593 - val_acc: 0.9040\n",
            "Epoch 16/20\n",
            "5314/5314 [==============================] - 4s 674us/sample - loss: 0.0291 - acc: 0.9947 - val_loss: 0.4587 - val_acc: 0.9080\n",
            "Epoch 17/20\n",
            "5314/5314 [==============================] - 4s 671us/sample - loss: 0.0232 - acc: 0.9945 - val_loss: 0.4441 - val_acc: 0.8980\n",
            "Epoch 18/20\n",
            "5314/5314 [==============================] - 4s 682us/sample - loss: 0.0205 - acc: 0.9947 - val_loss: 0.4392 - val_acc: 0.9080\n",
            "Epoch 19/20\n",
            "5314/5314 [==============================] - 4s 675us/sample - loss: 0.0233 - acc: 0.9951 - val_loss: 0.4507 - val_acc: 0.9030\n",
            "Epoch 20/20\n",
            "5314/5314 [==============================] - 4s 675us/sample - loss: 0.0229 - acc: 0.9951 - val_loss: 0.4554 - val_acc: 0.9000\n"
          ],
          "name": "stdout"
        }
      ]
    },
    {
      "cell_type": "code",
      "metadata": {
        "id": "A1zDrNraRJXQ",
        "colab_type": "code",
        "colab": {}
      },
      "source": [
        "#그래프 그려보고 싶을때\n",
        "def show_graph(history):\n",
        "    history_dict = history.history\n",
        "    accuracy = history_dict['acc']\n",
        "    val_accuracy = history_dict['val_acc']\n",
        "    loss = history_dict['loss']\n",
        "    val_loss = history_dict['val_loss']\n",
        "\n",
        "    epochs = range(1, len(loss) + 1)\n",
        "    \n",
        "    plt.figure(figsize=(16, 1))\n",
        "    \n",
        "    plt.subplot(121)\n",
        "    plt.subplots_adjust(top=2)\n",
        "    plt.plot(epochs, accuracy, 'ro', label='Training accuracy')\n",
        "    plt.plot(epochs, val_accuracy, 'r', label='Validation accuracy')\n",
        "    plt.title('Trainging and validation accuracy')\n",
        "    plt.xlabel('Epochs')\n",
        "    plt.ylabel('Accuracy and Loss')\n",
        "\n",
        "    plt.legend(loc='upper center', bbox_to_anchor=(0.5, -0.1),\n",
        "              fancybox=True, shadow=True, ncol=5)\n",
        "#     plt.legend(bbox_to_anchor=(1, -0.1))\n",
        "\n",
        "    plt.subplot(122)\n",
        "    plt.plot(epochs, loss, 'bo', label='Training loss')\n",
        "    plt.plot(epochs, val_loss, 'b', label='Validation loss')\n",
        "    plt.title('Training and validation loss')\n",
        "    plt.xlabel('Epochs')\n",
        "    plt.ylabel('Loss')\n",
        "    plt.legend(loc='upper center', bbox_to_anchor=(0.5, -0.1),\n",
        "          fancybox=True, shadow=True, ncol=5)\n",
        "#     plt.legend(bbox_to_anchor=(1, 0))\n",
        "\n",
        "    plt.show()"
      ],
      "execution_count": 0,
      "outputs": []
    },
    {
      "cell_type": "code",
      "metadata": {
        "id": "79_9E2Q1RT6x",
        "colab_type": "code",
        "colab": {
          "base_uri": "https://localhost:8080/",
          "height": 238
        },
        "outputId": "e0ca76af-21f1-4448-b672-8797ce218161"
      },
      "source": [
        "# 결과 그래프 표시\n",
        "show_graph(history)"
      ],
      "execution_count": 38,
      "outputs": [
        {
          "output_type": "display_data",
          "data": {
            "image/png": "[encoded data removed]",
            "text/plain": [
              "<Figure size 1152x72 with 2 Axes>"
            ]
          },
          "metadata": {
            "tags": []
          }
        }
      ]
    },
    {
      "cell_type": "code",
      "metadata": {
        "id": "za-VR6kfRX9k",
        "colab_type": "code",
        "colab": {
          "base_uri": "https://localhost:8080/",
          "height": 287
        },
        "outputId": "f5643eda-d452-4dc0-99eb-a81f0e2c205e"
      },
      "source": [
        "answer = [np.argmax(i) for i in predictions]\n",
        "\n",
        "ac_score = metrics.accuracy_score(y_test, answer)\n",
        "cl_report = metrics.classification_report(y_test, answer)\n",
        "print(\"정답률 =\", ac_score)\n",
        "print(\"리포트 =\\n\", cl_report)"
      ],
      "execution_count": 43,
      "outputs": [
        {
          "output_type": "stream",
          "text": [
            "정답률 = 0.9163895486935867\n",
            "리포트 =\n",
            "               precision    recall  f1-score   support\n",
            "\n",
            "           0       0.95      0.95      0.95       368\n",
            "           1       0.92      0.90      0.91       348\n",
            "           2       0.88      0.91      0.90       356\n",
            "           3       0.89      0.92      0.90       342\n",
            "           4       0.94      0.87      0.90       354\n",
            "           5       0.93      0.94      0.94       337\n",
            "\n",
            "    accuracy                           0.92      2105\n",
            "   macro avg       0.92      0.92      0.92      2105\n",
            "weighted avg       0.92      0.92      0.92      2105\n",
            "\n"
          ],
          "name": "stdout"
        }
      ]
    }
  ]
}
