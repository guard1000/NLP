{
  "nbformat": 4,
  "nbformat_minor": 0,
  "metadata": {
    "colab": {
      "name": "1_MLP.ipynb",
      "provenance": []
    },
    "kernelspec": {
      "name": "python3",
      "display_name": "Python 3"
    }
  },
  "cells": [
    {
      "cell_type": "code",
      "metadata": {
        "id": "9yBscEZ6Whz2",
        "colab_type": "code",
        "colab": {
          "base_uri": "https://localhost:8080/",
          "height": 341
        },
        "outputId": "86685636-9997-4542-e402-5fb19210ab7e"
      },
      "source": [
        "'''\n",
        "1\n",
        "MLP(Multi Layer Perceptron) 모델 적용\n",
        "dataset: 20170401 ~ 20170417 각 신문사별 6개 카텍고리 신문기사 10000개.\n",
        "-- word-dic.json : 단어 딕셔너리 - 단어를 벡터로 변환 된 데이터(56681 단어)\n",
        "-- data.json : 각 기사별 단어 출현빈도와 카테고리를 나타내는 데이터\n",
        "'''  \n",
        "\n",
        "from keras.models import Sequential\n",
        "from keras.layers import Dense, Dropout, Activation\n",
        "from keras.wrappers.scikit_learn import KerasClassifier\n",
        "from keras.utils import np_utils\n",
        "from sklearn.model_selection import train_test_split\n",
        "from sklearn import model_selection, metrics\n",
        "import json\n",
        "import numpy as np\n",
        "max_words = 56681 # 입력 단어 수: word-dic.json 파일 참고\n",
        "nb_classes = 6 # 6개 카테고리 - 정치, 경제, 사회, 생활/문화, 세계, IT/과학\n",
        "batch_size = 64\n",
        "nb_epoch = 20\n",
        "\n",
        "# build MLP model\n",
        "def build_model():\n",
        "    model = Sequential()\n",
        "    model.add(Dense(512, input_shape=(max_words,))) # dense : 전결합 신경망, 출력 차원 512, 입력차원 56681\n",
        "    model.add(Activation('relu')) # 활성화 함수\n",
        "    model.add(Dropout(0.5)) #드롭아웃\n",
        "    model.add(Dense(nb_classes)) # 출력차원 : 6\n",
        "    model.add(Activation('softmax'))\n",
        "    model.compile(loss='categorical_crossentropy',\n",
        "        optimizer='adam',\n",
        "        metrics=['accuracy'])\n",
        "    return model\n",
        "\n",
        "# read data\n",
        "data = json.load(open(\"./drive/My Drive/data/data.json\"))\n",
        "X = data[\"X\"] # 텍스트를 나타내는 데이터\n",
        "Y = data[\"Y\"] # 카테고리 데이터\n",
        "\n",
        "# training dataset\n",
        "X_train, X_test, Y_train, Y_test = train_test_split(X, Y) # random data 추출. test_size = default 0.25\n",
        "Y_train = np_utils.to_categorical(Y_train, nb_classes)\n",
        "# print(len(X_train),len(Y_train)) => 6314 6314\n",
        "model = KerasClassifier(\n",
        "    build_fn=build_model,\n",
        "    nb_epoch=nb_epoch,\n",
        "    batch_size=batch_size)\n",
        "model.fit(np.array(X_train),np.array(Y_train))\n",
        "\n",
        "# prediction\n",
        "y = model.predict(np.array(X_test))\n",
        "ac_score = metrics.accuracy_score(Y_test, y)\n",
        "cl_report = metrics.classification_report(Y_test, y)\n",
        "print(\"정답률 =\", ac_score)\n",
        "print(\"리포트 =\\n\", cl_report)\n"
      ],
      "execution_count": 28,
      "outputs": [
        {
          "output_type": "stream",
          "text": [
            "6314 6314\n",
            "Epoch 1/1\n",
            "6314/6314 [==============================] - 47s 7ms/step - loss: 0.5441 - acc: 0.8480\n",
            "정답률 = 0.9083135391923991\n",
            "리포트 =\n",
            "               precision    recall  f1-score   support\n",
            "\n",
            "           0       0.97      0.87      0.92       343\n",
            "           1       0.90      0.92      0.91       346\n",
            "           2       0.87      0.92      0.89       353\n",
            "           3       0.91      0.89      0.90       374\n",
            "           4       0.89      0.94      0.91       363\n",
            "           5       0.93      0.91      0.92       326\n",
            "\n",
            "    accuracy                           0.91      2105\n",
            "   macro avg       0.91      0.91      0.91      2105\n",
            "weighted avg       0.91      0.91      0.91      2105\n",
            "\n"
          ],
          "name": "stdout"
        }
      ]
    },
    {
      "cell_type": "markdown",
      "metadata": {
        "id": "WInCLzIQlakW",
        "colab_type": "text"
      },
      "source": [
        "# 새 섹션"
      ]
    }
  ]
}