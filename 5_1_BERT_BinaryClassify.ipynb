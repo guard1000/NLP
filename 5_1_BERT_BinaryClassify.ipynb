{
  "nbformat": 4,
  "nbformat_minor": 0,
  "metadata": {
    "colab": {
      "name": "5-1_BERT_BinaryClassify.ipynb",
      "provenance": [],
      "mount_file_id": "1jEtQsBHuzz-Evp8VaB-EdbYaiOBv_NTb",
      "authorship_tag": "ABX9TyNKGvh+B2kOv5+trNZyVwSg",
      "include_colab_link": true
    },
    "kernelspec": {
      "name": "python3",
      "display_name": "Python 3"
    },
    "accelerator": "GPU"
  },
  "cells": [
    {
      "cell_type": "markdown",
      "metadata": {
        "id": "view-in-github",
        "colab_type": "text"
      },
      "source": [
        "<a href=\"https://colab.research.google.com/github/guard1000/NLP_MCC/blob/master/5_1_BERT_BinaryClassify.ipynb\" target=\"_parent\"><img src=\"https://colab.research.google.com/assets/colab-badge.svg\" alt=\"Open In Colab\"/></a>"
      ]
    },
    {
      "cell_type": "markdown",
      "metadata": {
        "id": "RzVKp5in6UrW",
        "colab_type": "text"
      },
      "source": [
        "[네이버 영화 후기로 긍/부정 판단]\n",
        "\n",
        "MCC에 앞서 BERT로 이진분류 수행해봄\n",
        "\n",
        "환경: 구글 Colab, GPU HW가속\n",
        "\n",
        "데이터: 네이버 영화평점 데이터 15만건 학습용, 5만건 테스트용\n",
        "\n",
        "\n",
        "[결론]\n",
        "별도의 전처리 없이도 2 epochs 만에 정확도가 88%에 도달\n",
        "\n",
        "--(BiLSTM 이나 어텐션 기법을 사용했을 시 보통 테스트셋에 대한 정확도가 86%) \n",
        "\n",
        "\n",
        "\n",
        "영화 후기 댓글은 길이가 짧으니까 뉴스데이터보단 VoC 데이터에 가까울듯.\n",
        "\n",
        "뉴스데이터 한번 돌려보고 어지간하게 나오면 VoC에 적용하면 높은 F1으로 나올 것 같음\n",
        "\n"
      ]
    },
    {
      "cell_type": "code",
      "metadata": {
        "id": "BoGO3rnKAntL",
        "colab_type": "code",
        "colab": {
          "base_uri": "https://localhost:8080/",
          "height": 99
        },
        "outputId": "58fff291-0337-4753-c537-def4a90c4058"
      },
      "source": [
        "import tensorflow as tf\n",
        "\n",
        "import pandas as pd\n",
        "import numpy as np  \n",
        "import re\n",
        "import pickle\n",
        "\n",
        "import keras as keras\n",
        "from keras.models import load_model\n",
        "from keras import backend as K\n",
        "from keras import Input, Model\n",
        "from keras import optimizers\n",
        "\n",
        "import codecs\n",
        "from tqdm import tqdm\n",
        "import shutil"
      ],
      "execution_count": 1,
      "outputs": [
        {
          "output_type": "display_data",
          "data": {
            "text/html": [
              "<p style=\"color: red;\">\n",
              "The default version of TensorFlow in Colab will soon switch to TensorFlow 2.x.<br>\n",
              "We recommend you <a href=\"https://www.tensorflow.org/guide/migrate\" target=\"_blank\">upgrade</a> now \n",
              "or ensure your notebook will continue to use TensorFlow 1.x via the <code>%tensorflow_version 1.x</code> magic:\n",
              "<a href=\"https://colab.research.google.com/notebooks/tensorflow_version.ipynb\" target=\"_blank\">more info</a>.</p>\n"
            ],
            "text/plain": [
              "<IPython.core.display.HTML object>"
            ]
          },
          "metadata": {
            "tags": []
          }
        },
        {
          "output_type": "stream",
          "text": [
            "Using TensorFlow backend.\n"
          ],
          "name": "stderr"
        }
      ]
    },
    {
      "cell_type": "code",
      "metadata": {
        "id": "ABLcHvFyAsa2",
        "colab_type": "code",
        "colab": {
          "base_uri": "https://localhost:8080/",
          "height": 1000
        },
        "outputId": "b7256b6f-8a79-4b0a-c4f7-e72dd7a4f895"
      },
      "source": [
        "#오늘의 핵심\n",
        "!pip install keras-bert\n",
        "!pip install keras-radam"
      ],
      "execution_count": 2,
      "outputs": [
        {
          "output_type": "stream",
          "text": [
            "Collecting keras-bert\n",
            "  Downloading https://files.pythonhosted.org/packages/2c/0f/cdc886c1018943ea62d3209bc964413d5aa9d0eb7e493abd8545be679294/keras-bert-0.81.0.tar.gz\n",
            "Requirement already satisfied: numpy in /usr/local/lib/python3.6/dist-packages (from keras-bert) (1.18.1)\n",
            "Requirement already satisfied: Keras in /usr/local/lib/python3.6/dist-packages (from keras-bert) (2.2.5)\n",
            "Collecting keras-transformer>=0.30.0\n",
            "  Downloading https://files.pythonhosted.org/packages/54/0c/fede535ac576c03863c44bf2e0bf051fe21f5e10103631b6b6236ae446f3/keras-transformer-0.32.0.tar.gz\n",
            "Requirement already satisfied: keras-applications>=1.0.8 in /usr/local/lib/python3.6/dist-packages (from Keras->keras-bert) (1.0.8)\n",
            "Requirement already satisfied: scipy>=0.14 in /usr/local/lib/python3.6/dist-packages (from Keras->keras-bert) (1.4.1)\n",
            "Requirement already satisfied: pyyaml in /usr/local/lib/python3.6/dist-packages (from Keras->keras-bert) (3.13)\n",
            "Requirement already satisfied: h5py in /usr/local/lib/python3.6/dist-packages (from Keras->keras-bert) (2.8.0)\n",
            "Requirement already satisfied: six>=1.9.0 in /usr/local/lib/python3.6/dist-packages (from Keras->keras-bert) (1.12.0)\n",
            "Requirement already satisfied: keras-preprocessing>=1.1.0 in /usr/local/lib/python3.6/dist-packages (from Keras->keras-bert) (1.1.0)\n",
            "Collecting keras-pos-embd>=0.10.0\n",
            "  Downloading https://files.pythonhosted.org/packages/09/70/b63ed8fc660da2bb6ae29b9895401c628da5740c048c190b5d7107cadd02/keras-pos-embd-0.11.0.tar.gz\n",
            "Collecting keras-multi-head>=0.22.0\n",
            "  Downloading https://files.pythonhosted.org/packages/40/3e/d0a64bb2ac5217928effe4507c26bbd19b86145d16a1948bc2d4f4c6338a/keras-multi-head-0.22.0.tar.gz\n",
            "Collecting keras-layer-normalization>=0.12.0\n",
            "  Downloading https://files.pythonhosted.org/packages/a4/0e/d1078df0494bac9ce1a67954e5380b6e7569668f0f3b50a9531c62c1fc4a/keras-layer-normalization-0.14.0.tar.gz\n",
            "Collecting keras-position-wise-feed-forward>=0.5.0\n",
            "  Downloading https://files.pythonhosted.org/packages/e3/59/f0faa1037c033059e7e9e7758e6c23b4d1c0772cd48de14c4b6fd4033ad5/keras-position-wise-feed-forward-0.6.0.tar.gz\n",
            "Collecting keras-embed-sim>=0.7.0\n",
            "  Downloading https://files.pythonhosted.org/packages/bc/20/735fd53f6896e2af63af47e212601c1b8a7a80d00b6126c388c9d1233892/keras-embed-sim-0.7.0.tar.gz\n",
            "Collecting keras-self-attention==0.41.0\n",
            "  Downloading https://files.pythonhosted.org/packages/1b/1c/01599219bef7266fa43b3316e4f55bcb487734d3bafdc60ffd564f3cfe29/keras-self-attention-0.41.0.tar.gz\n",
            "Building wheels for collected packages: keras-bert, keras-transformer, keras-pos-embd, keras-multi-head, keras-layer-normalization, keras-position-wise-feed-forward, keras-embed-sim, keras-self-attention\n",
            "  Building wheel for keras-bert (setup.py) ... \u001b[?25l\u001b[?25hdone\n",
            "  Created wheel for keras-bert: filename=keras_bert-0.81.0-cp36-none-any.whl size=37913 sha256=b1cdce074486eb4ea9daf3dd027ba1837055e66c42ed1a1c33aff13c7083a526\n",
            "  Stored in directory: /root/.cache/pip/wheels/bd/27/da/ffc2d573aa48b87440ec4f98bc7c992e3a2d899edb2d22ef9e\n",
            "  Building wheel for keras-transformer (setup.py) ... \u001b[?25l\u001b[?25hdone\n",
            "  Created wheel for keras-transformer: filename=keras_transformer-0.32.0-cp36-none-any.whl size=13266 sha256=4b386b20ddc2bdec237022ccd3d6632199b854b6ce1a82e9d963847a0f229ab7\n",
            "  Stored in directory: /root/.cache/pip/wheels/62/f0/ce/82fa5d024d5ef8e263f26a50dcee23820efe245680ce9c922a\n",
            "  Building wheel for keras-pos-embd (setup.py) ... \u001b[?25l\u001b[?25hdone\n",
            "  Created wheel for keras-pos-embd: filename=keras_pos_embd-0.11.0-cp36-none-any.whl size=7554 sha256=5ed549b62638d69507a1d0b65419b9d3d793483c4f4c55b5842871604ad0e28a\n",
            "  Stored in directory: /root/.cache/pip/wheels/5b/a1/a0/ce6b1d49ba1a9a76f592e70cf297b05c96bc9f418146761032\n",
            "  Building wheel for keras-multi-head (setup.py) ... \u001b[?25l\u001b[?25hdone\n",
            "  Created wheel for keras-multi-head: filename=keras_multi_head-0.22.0-cp36-none-any.whl size=15371 sha256=ff3f5e53c013b8daca7d4cce2ae319c10208b5538c26b8b3b99a22af9fc6939f\n",
            "  Stored in directory: /root/.cache/pip/wheels/bb/df/3f/81b36f41b66e6a9cd69224c70a737de2bb6b2f7feb3272c25e\n",
            "  Building wheel for keras-layer-normalization (setup.py) ... \u001b[?25l\u001b[?25hdone\n",
            "  Created wheel for keras-layer-normalization: filename=keras_layer_normalization-0.14.0-cp36-none-any.whl size=5268 sha256=26280e3118764840b53f29084e2fd17615e01924e418b7b1e05c4d0a4989bff6\n",
            "  Stored in directory: /root/.cache/pip/wheels/54/80/22/a638a7d406fd155e507aa33d703e3fa2612b9eb7bb4f4fe667\n",
            "  Building wheel for keras-position-wise-feed-forward (setup.py) ... \u001b[?25l\u001b[?25hdone\n",
            "  Created wheel for keras-position-wise-feed-forward: filename=keras_position_wise_feed_forward-0.6.0-cp36-none-any.whl size=5623 sha256=f4a3ae366c6aabde95047039699911f9451fd9b623023bfa2e50bbe959af775e\n",
            "  Stored in directory: /root/.cache/pip/wheels/39/e2/e2/3514fef126a00574b13bc0b9e23891800158df3a3c19c96e3b\n",
            "  Building wheel for keras-embed-sim (setup.py) ... \u001b[?25l\u001b[?25hdone\n",
            "  Created wheel for keras-embed-sim: filename=keras_embed_sim-0.7.0-cp36-none-any.whl size=4676 sha256=28e350729823a4e85ccf8dcfdebf2dffaa24f3d86e241aac2a41e6013d52a470\n",
            "  Stored in directory: /root/.cache/pip/wheels/d1/bc/b1/b0c45cee4ca2e6c86586b0218ffafe7f0703c6d07fdf049866\n",
            "  Building wheel for keras-self-attention (setup.py) ... \u001b[?25l\u001b[?25hdone\n",
            "  Created wheel for keras-self-attention: filename=keras_self_attention-0.41.0-cp36-none-any.whl size=17288 sha256=7e2fb0d0792c7d5a98cd9fe5f3674ef313b18f6a4e98e4eb60ddc76172e668d2\n",
            "  Stored in directory: /root/.cache/pip/wheels/cc/dc/17/84258b27a04cd38ac91998abe148203720ca696186635db694\n",
            "Successfully built keras-bert keras-transformer keras-pos-embd keras-multi-head keras-layer-normalization keras-position-wise-feed-forward keras-embed-sim keras-self-attention\n",
            "Installing collected packages: keras-pos-embd, keras-self-attention, keras-multi-head, keras-layer-normalization, keras-position-wise-feed-forward, keras-embed-sim, keras-transformer, keras-bert\n",
            "Successfully installed keras-bert-0.81.0 keras-embed-sim-0.7.0 keras-layer-normalization-0.14.0 keras-multi-head-0.22.0 keras-pos-embd-0.11.0 keras-position-wise-feed-forward-0.6.0 keras-self-attention-0.41.0 keras-transformer-0.32.0\n",
            "Collecting keras-radam\n",
            "  Downloading https://files.pythonhosted.org/packages/46/8d/b83ccaa94253fbc920b21981f038393041d92236bb541751b98a66a2ac1d/keras-radam-0.15.0.tar.gz\n",
            "Requirement already satisfied: numpy in /usr/local/lib/python3.6/dist-packages (from keras-radam) (1.18.1)\n",
            "Requirement already satisfied: Keras in /usr/local/lib/python3.6/dist-packages (from keras-radam) (2.2.5)\n",
            "Requirement already satisfied: keras-applications>=1.0.8 in /usr/local/lib/python3.6/dist-packages (from Keras->keras-radam) (1.0.8)\n",
            "Requirement already satisfied: six>=1.9.0 in /usr/local/lib/python3.6/dist-packages (from Keras->keras-radam) (1.12.0)\n",
            "Requirement already satisfied: pyyaml in /usr/local/lib/python3.6/dist-packages (from Keras->keras-radam) (3.13)\n",
            "Requirement already satisfied: scipy>=0.14 in /usr/local/lib/python3.6/dist-packages (from Keras->keras-radam) (1.4.1)\n",
            "Requirement already satisfied: h5py in /usr/local/lib/python3.6/dist-packages (from Keras->keras-radam) (2.8.0)\n",
            "Requirement already satisfied: keras-preprocessing>=1.1.0 in /usr/local/lib/python3.6/dist-packages (from Keras->keras-radam) (1.1.0)\n",
            "Building wheels for collected packages: keras-radam\n",
            "  Building wheel for keras-radam (setup.py) ... \u001b[?25l\u001b[?25hdone\n",
            "  Created wheel for keras-radam: filename=keras_radam-0.15.0-cp36-none-any.whl size=14685 sha256=bba9b5da108420234b190b9ff7494960fcc9c7042f7f503e71a533b23dcf649d\n",
            "  Stored in directory: /root/.cache/pip/wheels/79/a0/c0/670b0a118e8f078539fafec7bd02eba0af921f745660c7f83f\n",
            "Successfully built keras-radam\n",
            "Installing collected packages: keras-radam\n",
            "Successfully installed keras-radam-0.15.0\n"
          ],
          "name": "stdout"
        }
      ]
    },
    {
      "cell_type": "code",
      "metadata": {
        "id": "GglZAlJEA4ng",
        "colab_type": "code",
        "colab": {}
      },
      "source": [
        "# keras_bert의 모듈들 import\n",
        "from keras_bert import load_trained_model_from_checkpoint, load_vocabulary\n",
        "from keras_bert import Tokenizer\n",
        "from keras_bert import AdamWarmup, calc_train_steps\n",
        "\n",
        "from keras_radam import RAdam"
      ],
      "execution_count": 0,
      "outputs": []
    },
    {
      "cell_type": "code",
      "metadata": {
        "id": "AXGhhvUnCVyF",
        "colab_type": "code",
        "colab": {}
      },
      "source": [
        "# 네이버 영화 후기 & 평점 data 불러오기\n",
        "train = pd.read_table(\"/content/drive/My Drive/data/ratings_train.txt\")\n",
        "test = pd.read_table(\"/content/drive/My Drive/data/ratings_test.txt\")"
      ],
      "execution_count": 0,
      "outputs": []
    },
    {
      "cell_type": "code",
      "metadata": {
        "id": "0hwNhu94CpoT",
        "colab_type": "code",
        "colab": {
          "base_uri": "https://localhost:8080/",
          "height": 822
        },
        "outputId": "076fa07b-717c-40dd-f6e3-2085fc5ce18e"
      },
      "source": [
        "train[:20]"
      ],
      "execution_count": 24,
      "outputs": [
        {
          "output_type": "execute_result",
          "data": {
            "text/html": [
              "<div>\n",
              "<style scoped>\n",
              "    .dataframe tbody tr th:only-of-type {\n",
              "        vertical-align: middle;\n",
              "    }\n",
              "\n",
              "    .dataframe tbody tr th {\n",
              "        vertical-align: top;\n",
              "    }\n",
              "\n",
              "    .dataframe thead th {\n",
              "        text-align: right;\n",
              "    }\n",
              "</style>\n",
              "<table border=\"1\" class=\"dataframe\">\n",
              "  <thead>\n",
              "    <tr style=\"text-align: right;\">\n",
              "      <th></th>\n",
              "      <th>id</th>\n",
              "      <th>document</th>\n",
              "      <th>label</th>\n",
              "    </tr>\n",
              "  </thead>\n",
              "  <tbody>\n",
              "    <tr>\n",
              "      <th>0</th>\n",
              "      <td>9976970</td>\n",
              "      <td>아 더빙.. 진짜 짜증나네요 목소리</td>\n",
              "      <td>0</td>\n",
              "    </tr>\n",
              "    <tr>\n",
              "      <th>1</th>\n",
              "      <td>3819312</td>\n",
              "      <td>흠...포스터보고 초딩영화줄....오버연기조차 가볍지 않구나</td>\n",
              "      <td>1</td>\n",
              "    </tr>\n",
              "    <tr>\n",
              "      <th>2</th>\n",
              "      <td>10265843</td>\n",
              "      <td>너무재밓었다그래서보는것을추천한다</td>\n",
              "      <td>0</td>\n",
              "    </tr>\n",
              "    <tr>\n",
              "      <th>3</th>\n",
              "      <td>9045019</td>\n",
              "      <td>교도소 이야기구먼 ..솔직히 재미는 없다..평점 조정</td>\n",
              "      <td>0</td>\n",
              "    </tr>\n",
              "    <tr>\n",
              "      <th>4</th>\n",
              "      <td>6483659</td>\n",
              "      <td>사이몬페그의 익살스런 연기가 돋보였던 영화!스파이더맨에서 늙어보이기만 했던 커스틴 ...</td>\n",
              "      <td>1</td>\n",
              "    </tr>\n",
              "    <tr>\n",
              "      <th>5</th>\n",
              "      <td>5403919</td>\n",
              "      <td>막 걸음마 뗀 3세부터 초등학교 1학년생인 8살용영화.ㅋㅋㅋ...별반개도 아까움.</td>\n",
              "      <td>0</td>\n",
              "    </tr>\n",
              "    <tr>\n",
              "      <th>6</th>\n",
              "      <td>7797314</td>\n",
              "      <td>원작의 긴장감을 제대로 살려내지못했다.</td>\n",
              "      <td>0</td>\n",
              "    </tr>\n",
              "    <tr>\n",
              "      <th>7</th>\n",
              "      <td>9443947</td>\n",
              "      <td>별 반개도 아깝다 욕나온다 이응경 길용우 연기생활이몇년인지..정말 발로해도 그것보단...</td>\n",
              "      <td>0</td>\n",
              "    </tr>\n",
              "    <tr>\n",
              "      <th>8</th>\n",
              "      <td>7156791</td>\n",
              "      <td>액션이 없는데도 재미 있는 몇안되는 영화</td>\n",
              "      <td>1</td>\n",
              "    </tr>\n",
              "    <tr>\n",
              "      <th>9</th>\n",
              "      <td>5912145</td>\n",
              "      <td>왜케 평점이 낮은건데? 꽤 볼만한데.. 헐리우드식 화려함에만 너무 길들여져 있나?</td>\n",
              "      <td>1</td>\n",
              "    </tr>\n",
              "    <tr>\n",
              "      <th>10</th>\n",
              "      <td>9008700</td>\n",
              "      <td>걍인피니트가짱이다.진짜짱이다♥</td>\n",
              "      <td>1</td>\n",
              "    </tr>\n",
              "    <tr>\n",
              "      <th>11</th>\n",
              "      <td>10217543</td>\n",
              "      <td>볼때마다 눈물나서 죽겠다90년대의 향수자극!!허진호는 감성절제멜로의 달인이다~</td>\n",
              "      <td>1</td>\n",
              "    </tr>\n",
              "    <tr>\n",
              "      <th>12</th>\n",
              "      <td>5957425</td>\n",
              "      <td>울면서 손들고 횡단보도 건널때 뛰쳐나올뻔 이범수 연기 드럽게못해</td>\n",
              "      <td>0</td>\n",
              "    </tr>\n",
              "    <tr>\n",
              "      <th>13</th>\n",
              "      <td>8628627</td>\n",
              "      <td>담백하고 깔끔해서 좋다. 신문기사로만 보다 보면 자꾸 잊어버린다. 그들도 사람이었다...</td>\n",
              "      <td>1</td>\n",
              "    </tr>\n",
              "    <tr>\n",
              "      <th>14</th>\n",
              "      <td>9864035</td>\n",
              "      <td>취향은 존중한다지만 진짜 내생에 극장에서 본 영화중 가장 노잼 노감동임 스토리도 어...</td>\n",
              "      <td>0</td>\n",
              "    </tr>\n",
              "    <tr>\n",
              "      <th>15</th>\n",
              "      <td>6852435</td>\n",
              "      <td>ㄱ냥 매번 긴장되고 재밋음ㅠㅠ</td>\n",
              "      <td>1</td>\n",
              "    </tr>\n",
              "    <tr>\n",
              "      <th>16</th>\n",
              "      <td>9143163</td>\n",
              "      <td>참 사람들 웃긴게 바스코가 이기면 락스코라고 까고바비가 이기면 아이돌이라고 깐다.그...</td>\n",
              "      <td>1</td>\n",
              "    </tr>\n",
              "    <tr>\n",
              "      <th>17</th>\n",
              "      <td>4891476</td>\n",
              "      <td>굿바이 레닌 표절인것은 이해하는데 왜 뒤로 갈수록 재미없어지냐</td>\n",
              "      <td>0</td>\n",
              "    </tr>\n",
              "    <tr>\n",
              "      <th>18</th>\n",
              "      <td>7465483</td>\n",
              "      <td>이건 정말 깨알 캐스팅과 질퍽하지않은 산뜻한 내용구성이 잘 버무러진 깨알일드!!♥</td>\n",
              "      <td>1</td>\n",
              "    </tr>\n",
              "    <tr>\n",
              "      <th>19</th>\n",
              "      <td>3989148</td>\n",
              "      <td>약탈자를 위한 변명, 이라. 저놈들은 착한놈들 절대 아닌걸요.</td>\n",
              "      <td>1</td>\n",
              "    </tr>\n",
              "  </tbody>\n",
              "</table>\n",
              "</div>"
            ],
            "text/plain": [
              "          id                                           document  label\n",
              "0    9976970                                아 더빙.. 진짜 짜증나네요 목소리      0\n",
              "1    3819312                  흠...포스터보고 초딩영화줄....오버연기조차 가볍지 않구나      1\n",
              "2   10265843                                  너무재밓었다그래서보는것을추천한다      0\n",
              "3    9045019                      교도소 이야기구먼 ..솔직히 재미는 없다..평점 조정      0\n",
              "4    6483659  사이몬페그의 익살스런 연기가 돋보였던 영화!스파이더맨에서 늙어보이기만 했던 커스틴 ...      1\n",
              "5    5403919      막 걸음마 뗀 3세부터 초등학교 1학년생인 8살용영화.ㅋㅋㅋ...별반개도 아까움.      0\n",
              "6    7797314                              원작의 긴장감을 제대로 살려내지못했다.      0\n",
              "7    9443947  별 반개도 아깝다 욕나온다 이응경 길용우 연기생활이몇년인지..정말 발로해도 그것보단...      0\n",
              "8    7156791                             액션이 없는데도 재미 있는 몇안되는 영화      1\n",
              "9    5912145      왜케 평점이 낮은건데? 꽤 볼만한데.. 헐리우드식 화려함에만 너무 길들여져 있나?      1\n",
              "10   9008700                                   걍인피니트가짱이다.진짜짱이다♥      1\n",
              "11  10217543        볼때마다 눈물나서 죽겠다90년대의 향수자극!!허진호는 감성절제멜로의 달인이다~      1\n",
              "12   5957425                울면서 손들고 횡단보도 건널때 뛰쳐나올뻔 이범수 연기 드럽게못해      0\n",
              "13   8628627  담백하고 깔끔해서 좋다. 신문기사로만 보다 보면 자꾸 잊어버린다. 그들도 사람이었다...      1\n",
              "14   9864035  취향은 존중한다지만 진짜 내생에 극장에서 본 영화중 가장 노잼 노감동임 스토리도 어...      0\n",
              "15   6852435                                   ㄱ냥 매번 긴장되고 재밋음ㅠㅠ      1\n",
              "16   9143163  참 사람들 웃긴게 바스코가 이기면 락스코라고 까고바비가 이기면 아이돌이라고 깐다.그...      1\n",
              "17   4891476                 굿바이 레닌 표절인것은 이해하는데 왜 뒤로 갈수록 재미없어지냐      0\n",
              "18   7465483      이건 정말 깨알 캐스팅과 질퍽하지않은 산뜻한 내용구성이 잘 버무러진 깨알일드!!♥      1\n",
              "19   3989148                 약탈자를 위한 변명, 이라. 저놈들은 착한놈들 절대 아닌걸요.      1"
            ]
          },
          "metadata": {
            "tags": []
          },
          "execution_count": 24
        }
      ]
    },
    {
      "cell_type": "code",
      "metadata": {
        "id": "wxxLp6bJC2VL",
        "colab_type": "code",
        "colab": {}
      },
      "source": [
        "SEQ_LEN = 128      # 문장의 최대 길이. 더 짧으면 0 패딩, 길면 뒤는 잘라냄\n",
        "BATCH_SIZE = 64    # 메모리 초과할까봐 일단 16으로 작게 함. 돌려보고 더 크게 키워도 됨\n",
        "EPOCHS=2           # 에퐄도 학습 더 시켜도 됨\n",
        "LR=1e-5            # Learning Rate 일단 작게 줘봄. 키워도 됨\n",
        "\n",
        "pretrained_path ='/content/drive/My Drive/data/bert'\n",
        "config_path = '/content/drive/My Drive/data/bert/bert_config.json'\n",
        "checkpoint_path = '/content/drive/My Drive/data/bert/bert_model.ckpt'\n",
        "vocab_path = '/content/drive/My Drive/data/bert/vocab.txt'\n",
        "\n",
        "DATA_COLUMN = 'document' # 쿼리\n",
        "LABEL_COLUMN = 'label'   # GT"
      ],
      "execution_count": 0,
      "outputs": []
    },
    {
      "cell_type": "code",
      "metadata": {
        "id": "tHQ4TWH_E1O9",
        "colab_type": "code",
        "colab": {}
      },
      "source": [
        "# token_dict - voacab.txt 단어에 index 추가하는 딕셔너리\n",
        "token_dict = {}\n",
        "with codecs.open(vocab_path, 'r', 'utf8') as reader:\n",
        "    for line in reader:\n",
        "        token = line.strip()\n",
        "        if \"_\" in token:\n",
        "          token = token.replace(\"_\",\"\")\n",
        "          token = \"##\" + token\n",
        "        token_dict[token] = len(token_dict)"
      ],
      "execution_count": 0,
      "outputs": []
    },
    {
      "cell_type": "code",
      "metadata": {
        "id": "GQOAD_cUFYHu",
        "colab_type": "code",
        "colab": {}
      },
      "source": [
        "# inherit_Tokenizer 클래스 - Tokenizer 클래스를 상속 받아옴\n",
        "# _tokenize() 함수 재정의\n",
        "# --원래 클래스를 그대로 사용하면 입력한 문장이 완전 자모분리 되어버림\n",
        "# --완전자모분리 : 인공지능 -> ㅇ ㅣ ㄴ ㄱ ㅗ ㅇ ㅈ ㄴ ㅡ ㅇ\n",
        "\n",
        "class inherit_Tokenizer(Tokenizer):\n",
        "  def _tokenize(self, text):\n",
        "        if not self._cased:\n",
        "            text = text\n",
        "            \n",
        "            text = text.lower()\n",
        "        spaced = ''\n",
        "        for ch in text:\n",
        "            if self._is_punctuation(ch) or self._is_cjk_character(ch):\n",
        "                spaced += ' ' + ch + ' '\n",
        "            elif self._is_space(ch):\n",
        "                spaced += ' '\n",
        "            elif ord(ch) == 0 or ord(ch) == 0xfffd or self._is_control(ch):\n",
        "                continue\n",
        "            else:\n",
        "                spaced += ch\n",
        "        tokens = []\n",
        "        for word in spaced.strip().split():\n",
        "            tokens += self._word_piece_tokenize(word)\n",
        "        return tokens"
      ],
      "execution_count": 0,
      "outputs": []
    },
    {
      "cell_type": "code",
      "metadata": {
        "id": "IYieOsNKGOTt",
        "colab_type": "code",
        "colab": {}
      },
      "source": [
        "tokenizer = inherit_Tokenizer(token_dict)"
      ],
      "execution_count": 0,
      "outputs": []
    },
    {
      "cell_type": "code",
      "metadata": {
        "id": "tD9AhzXRGROb",
        "colab_type": "code",
        "colab": {
          "base_uri": "https://localhost:8080/",
          "height": 269
        },
        "outputId": "5db5c906-95e6-48d8-d0fc-4d884c6afd17"
      },
      "source": [
        "# tokenizer 확인\n",
        "# 버트에선 문장 시작에 [CLS],  문장 끝에 [SEP]이 추가됨\n",
        "tokenizer.tokenize(\"SKT Infra AI/DT 추진Cell 최고야\")"
      ],
      "execution_count": 29,
      "outputs": [
        {
          "output_type": "execute_result",
          "data": {
            "text/plain": [
              "['[CLS]',\n",
              " 'sk',\n",
              " '##t',\n",
              " 'in',\n",
              " '##fra',\n",
              " 'ai',\n",
              " '/',\n",
              " 'dt',\n",
              " '추',\n",
              " '##진',\n",
              " '##cell',\n",
              " '최고',\n",
              " '##야',\n",
              " '[SEP]']"
            ]
          },
          "metadata": {
            "tags": []
          },
          "execution_count": 29
        }
      ]
    },
    {
      "cell_type": "code",
      "metadata": {
        "id": "EEEwAHKT4tv0",
        "colab_type": "code",
        "colab": {}
      },
      "source": [
        "########################## 혹시 넘 길면 잘라서 해봐\n",
        "#train = train[:10000]\n",
        "#test = test[:1000]\n"
      ],
      "execution_count": 0,
      "outputs": []
    },
    {
      "cell_type": "code",
      "metadata": {
        "id": "rLjnFipvGlqI",
        "colab_type": "code",
        "colab": {}
      },
      "source": [
        "# 버트 모형의 입력에 맞게 변형해주는 함수 정의\n",
        "# --tokenizer.encode()로 버트 모형 토큰화 한 후 단어-인덱스에 맞춰 숫자로 바꿔줌\n",
        "def convert_data(data_df):\n",
        "    global tokenizer\n",
        "    indices, targets = [], []\n",
        "    for i in tqdm(range(len(data_df))):\n",
        "        ids, segments = tokenizer.encode(data_df[DATA_COLUMN][i], max_len=SEQ_LEN)\n",
        "        indices.append(ids)\n",
        "        targets.append(data_df[LABEL_COLUMN][i])\n",
        "    items = list(zip(indices, targets))\n",
        "    \n",
        "    indices, targets = zip(*items)\n",
        "    indices = np.array(indices)\n",
        "    return [indices, np.zeros_like(indices)], np.array(targets)\n",
        "\n",
        "def load_data(pandas_dataframe):\n",
        "    data_df = pandas_dataframe\n",
        "    data_df[DATA_COLUMN] = data_df[DATA_COLUMN].astype(str)\n",
        "    data_x, data_y = convert_data(data_df)\n",
        "    return data_x, data_y"
      ],
      "execution_count": 0,
      "outputs": []
    },
    {
      "cell_type": "code",
      "metadata": {
        "id": "QyXiigHjHWg5",
        "colab_type": "code",
        "colab": {
          "base_uri": "https://localhost:8080/",
          "height": 53
        },
        "outputId": "d425e51e-5f7c-4593-92a0-d87a546a18af"
      },
      "source": [
        "# 데이터 셋 분할 - 20만개나 되네...\n",
        "train_x, train_y = load_data(train)\n",
        "test_x, test_y = load_data(test)"
      ],
      "execution_count": 31,
      "outputs": [
        {
          "output_type": "stream",
          "text": [
            "100%|██████████| 150000/150000 [00:19<00:00, 7787.37it/s]\n",
            "100%|██████████| 50000/50000 [00:06<00:00, 7772.24it/s]\n"
          ],
          "name": "stderr"
        }
      ]
    },
    {
      "cell_type": "code",
      "metadata": {
        "id": "OVZqD-Rg4f90",
        "colab_type": "code",
        "colab": {
          "base_uri": "https://localhost:8080/",
          "height": 269
        },
        "outputId": "41d189f3-0c12-4f20-cdde-68794685061f"
      },
      "source": [
        "train_x"
      ],
      "execution_count": 32,
      "outputs": [
        {
          "output_type": "execute_result",
          "data": {
            "text/plain": [
              "[array([[  101,  9519,  9074, ...,     0,     0,     0],\n",
              "        [  101,   100,   119, ...,     0,     0,     0],\n",
              "        [  101,  9004, 32537, ...,     0,     0,     0],\n",
              "        ...,\n",
              "        [  101,  9638, 14153, ...,     0,     0,     0],\n",
              "        [  101,  9751, 97707, ...,     0,     0,     0],\n",
              "        [  101, 48556, 42428, ...,     0,     0,     0]]),\n",
              " array([[0, 0, 0, ..., 0, 0, 0],\n",
              "        [0, 0, 0, ..., 0, 0, 0],\n",
              "        [0, 0, 0, ..., 0, 0, 0],\n",
              "        ...,\n",
              "        [0, 0, 0, ..., 0, 0, 0],\n",
              "        [0, 0, 0, ..., 0, 0, 0],\n",
              "        [0, 0, 0, ..., 0, 0, 0]])]"
            ]
          },
          "metadata": {
            "tags": []
          },
          "execution_count": 32
        }
      ]
    },
    {
      "cell_type": "code",
      "metadata": {
        "id": "SK4H4PjCHaq6",
        "colab_type": "code",
        "colab": {
          "base_uri": "https://localhost:8080/",
          "height": 323
        },
        "outputId": "e69bf855-9a9e-4cdc-8101-5456c668518f"
      },
      "source": [
        "# pre-trained 버트 모델의 인풋:\n",
        "# -- 1) 숫자로 표현된 문장토큰\n",
        "# -- 2) 앞문장인지 뒷문장인지 알려주는 문장 순서 벡터\n",
        "print(len(train_x))\n",
        "print(len(train_x[0]), len(train_x[1])) # 15만개\n",
        "print(len(train_x[0][0]),len(train_x[1][0]))     # SEQ_LEN인 128\n",
        "train_x\n",
        "# train_x [ [ [128개 숫자]가 15만개], [ [128개 숫자]가 15만개] ] ]"
      ],
      "execution_count": 33,
      "outputs": [
        {
          "output_type": "stream",
          "text": [
            "2\n",
            "150000 150000\n",
            "128 128\n"
          ],
          "name": "stdout"
        },
        {
          "output_type": "execute_result",
          "data": {
            "text/plain": [
              "[array([[  101,  9519,  9074, ...,     0,     0,     0],\n",
              "        [  101,   100,   119, ...,     0,     0,     0],\n",
              "        [  101,  9004, 32537, ...,     0,     0,     0],\n",
              "        ...,\n",
              "        [  101,  9638, 14153, ...,     0,     0,     0],\n",
              "        [  101,  9751, 97707, ...,     0,     0,     0],\n",
              "        [  101, 48556, 42428, ...,     0,     0,     0]]),\n",
              " array([[0, 0, 0, ..., 0, 0, 0],\n",
              "        [0, 0, 0, ..., 0, 0, 0],\n",
              "        [0, 0, 0, ..., 0, 0, 0],\n",
              "        ...,\n",
              "        [0, 0, 0, ..., 0, 0, 0],\n",
              "        [0, 0, 0, ..., 0, 0, 0],\n",
              "        [0, 0, 0, ..., 0, 0, 0]])]"
            ]
          },
          "metadata": {
            "tags": []
          },
          "execution_count": 33
        }
      ]
    },
    {
      "cell_type": "code",
      "metadata": {
        "id": "qyT4aC-kONof",
        "colab_type": "code",
        "colab": {}
      },
      "source": [
        "# 버트 모형에 들어갈 인풋은 1)토큰, 2)세그먼트, 3)포지션\n",
        "# 1) 토큰 - 토큰화 된 것이 인덱싱되어 숫자로 변환된 것\n",
        "# 2) 세그먼트 - 앞문장인지 뒷문장인지 알려주는 숫자들\n",
        "#     -- 지금은 그냥 앞문장 뒷문장 구분을 안하기 때문에 모두 0으로 패딩\n",
        "# 3) 포지션 - 단어 순서에 따라서 자동으로 부여\n",
        "\n",
        "def sentence_convert_data(data):\n",
        "    global tokenizer #아까 만들어둔 inherit tokenizer 불러옴\n",
        "    indices = []\n",
        "    for i in tqdm(range(len(data))):\n",
        "        print(tokenizer.tokenize(data[i]))\n",
        "        ids, segments = tokenizer.encode(data[i], max_len=SEQ_LEN)\n",
        "        indices.append(ids)\n",
        "        \n",
        "    items = indices\n",
        "    indices = np.array(indices)\n",
        "    return [indices, np.zeros_like(indices)]\n",
        "\n",
        "def sentence_load_data(sentences):#sentence는 List로 받는다\n",
        "    data_x = sentence_convert_data(sentences)\n",
        "    return data_x"
      ],
      "execution_count": 0,
      "outputs": []
    },
    {
      "cell_type": "code",
      "metadata": {
        "id": "hkLqLKEvS6dP",
        "colab_type": "code",
        "colab": {
          "base_uri": "https://localhost:8080/",
          "height": 901
        },
        "outputId": "7d6ce358-75f2-468a-9dc1-07ef9662a11a"
      },
      "source": [
        "sentence_load_data([\"SKT Infra AI/DT 추진Cell 최고야\", \"케라스 버트 사랑해요\"])"
      ],
      "execution_count": 35,
      "outputs": [
        {
          "output_type": "stream",
          "text": [
            "100%|██████████| 2/2 [00:00<00:00, 1383.57it/s]"
          ],
          "name": "stderr"
        },
        {
          "output_type": "stream",
          "text": [
            "['[CLS]', 'sk', '##t', 'in', '##fra', 'ai', '/', 'dt', '추', '##진', '##cell', '최고', '##야', '[SEP]']\n",
            "['[CLS]', '케', '##라', '##스', '버', '##트', '사', '##랑', '##해', '##요', '[SEP]']\n"
          ],
          "name": "stdout"
        },
        {
          "output_type": "stream",
          "text": [
            "\n"
          ],
          "name": "stderr"
        },
        {
          "output_type": "execute_result",
          "data": {
            "text/plain": [
              "[array([[   101,  66998,  10123,  10106,  31162,  11346,    120,  29169,\n",
              "           9765,  18623, 110300,  83491,  21711,    102,      0,      0,\n",
              "              0,      0,      0,      0,      0,      0,      0,      0,\n",
              "              0,      0,      0,      0,      0,      0,      0,      0,\n",
              "              0,      0,      0,      0,      0,      0,      0,      0,\n",
              "              0,      0,      0,      0,      0,      0,      0,      0,\n",
              "              0,      0,      0,      0,      0,      0,      0,      0,\n",
              "              0,      0,      0,      0,      0,      0,      0,      0,\n",
              "              0,      0,      0,      0,      0,      0,      0,      0,\n",
              "              0,      0,      0,      0,      0,      0,      0,      0,\n",
              "              0,      0,      0,      0,      0,      0,      0,      0,\n",
              "              0,      0,      0,      0,      0,      0,      0,      0,\n",
              "              0,      0,      0,      0,      0,      0,      0,      0,\n",
              "              0,      0,      0,      0,      0,      0,      0,      0,\n",
              "              0,      0,      0,      0,      0,      0,      0,      0,\n",
              "              0,      0,      0,      0,      0,      0,      0,      0],\n",
              "        [   101,   9806,  17342,  12605,   9336,  15184,   9405,  62200,\n",
              "          14523,  48549,    102,      0,      0,      0,      0,      0,\n",
              "              0,      0,      0,      0,      0,      0,      0,      0,\n",
              "              0,      0,      0,      0,      0,      0,      0,      0,\n",
              "              0,      0,      0,      0,      0,      0,      0,      0,\n",
              "              0,      0,      0,      0,      0,      0,      0,      0,\n",
              "              0,      0,      0,      0,      0,      0,      0,      0,\n",
              "              0,      0,      0,      0,      0,      0,      0,      0,\n",
              "              0,      0,      0,      0,      0,      0,      0,      0,\n",
              "              0,      0,      0,      0,      0,      0,      0,      0,\n",
              "              0,      0,      0,      0,      0,      0,      0,      0,\n",
              "              0,      0,      0,      0,      0,      0,      0,      0,\n",
              "              0,      0,      0,      0,      0,      0,      0,      0,\n",
              "              0,      0,      0,      0,      0,      0,      0,      0,\n",
              "              0,      0,      0,      0,      0,      0,      0,      0,\n",
              "              0,      0,      0,      0,      0,      0,      0,      0]]),\n",
              " array([[0, 0, 0, 0, 0, 0, 0, 0, 0, 0, 0, 0, 0, 0, 0, 0, 0, 0, 0, 0, 0, 0,\n",
              "         0, 0, 0, 0, 0, 0, 0, 0, 0, 0, 0, 0, 0, 0, 0, 0, 0, 0, 0, 0, 0, 0,\n",
              "         0, 0, 0, 0, 0, 0, 0, 0, 0, 0, 0, 0, 0, 0, 0, 0, 0, 0, 0, 0, 0, 0,\n",
              "         0, 0, 0, 0, 0, 0, 0, 0, 0, 0, 0, 0, 0, 0, 0, 0, 0, 0, 0, 0, 0, 0,\n",
              "         0, 0, 0, 0, 0, 0, 0, 0, 0, 0, 0, 0, 0, 0, 0, 0, 0, 0, 0, 0, 0, 0,\n",
              "         0, 0, 0, 0, 0, 0, 0, 0, 0, 0, 0, 0, 0, 0, 0, 0, 0, 0],\n",
              "        [0, 0, 0, 0, 0, 0, 0, 0, 0, 0, 0, 0, 0, 0, 0, 0, 0, 0, 0, 0, 0, 0,\n",
              "         0, 0, 0, 0, 0, 0, 0, 0, 0, 0, 0, 0, 0, 0, 0, 0, 0, 0, 0, 0, 0, 0,\n",
              "         0, 0, 0, 0, 0, 0, 0, 0, 0, 0, 0, 0, 0, 0, 0, 0, 0, 0, 0, 0, 0, 0,\n",
              "         0, 0, 0, 0, 0, 0, 0, 0, 0, 0, 0, 0, 0, 0, 0, 0, 0, 0, 0, 0, 0, 0,\n",
              "         0, 0, 0, 0, 0, 0, 0, 0, 0, 0, 0, 0, 0, 0, 0, 0, 0, 0, 0, 0, 0, 0,\n",
              "         0, 0, 0, 0, 0, 0, 0, 0, 0, 0, 0, 0, 0, 0, 0, 0, 0, 0]])]"
            ]
          },
          "metadata": {
            "tags": []
          },
          "execution_count": 35
        }
      ]
    },
    {
      "cell_type": "code",
      "metadata": {
        "id": "MsEFtp2fTFk-",
        "colab_type": "code",
        "colab": {}
      },
      "source": [
        "# Pretrained Model을 로드\n",
        "layer_num = 12\n",
        "model = load_trained_model_from_checkpoint(\n",
        "    config_path,\n",
        "    checkpoint_path,\n",
        "    training=True,\n",
        "    trainable=True,\n",
        "    seq_len=SEQ_LEN,)"
      ],
      "execution_count": 0,
      "outputs": []
    },
    {
      "cell_type": "code",
      "metadata": {
        "id": "ztiDi_ilTjsN",
        "colab_type": "code",
        "colab": {
          "base_uri": "https://localhost:8080/",
          "height": 1000
        },
        "outputId": "9312273a-e0d8-4668-9e00-4e7f39c92b5c"
      },
      "source": [
        "#모델 어캐 생겼냐 - 12 layer\n",
        "model.summary()"
      ],
      "execution_count": 19,
      "outputs": [
        {
          "output_type": "stream",
          "text": [
            "Model: \"model_1\"\n",
            "__________________________________________________________________________________________________\n",
            "Layer (type)                    Output Shape         Param #     Connected to                     \n",
            "==================================================================================================\n",
            "Input-Token (InputLayer)        (None, 128)          0                                            \n",
            "__________________________________________________________________________________________________\n",
            "Input-Segment (InputLayer)      (None, 128)          0                                            \n",
            "__________________________________________________________________________________________________\n",
            "Embedding-Token (TokenEmbedding [(None, 128, 768), ( 91812096    Input-Token[0][0]                \n",
            "__________________________________________________________________________________________________\n",
            "Embedding-Segment (Embedding)   (None, 128, 768)     1536        Input-Segment[0][0]              \n",
            "__________________________________________________________________________________________________\n",
            "Embedding-Token-Segment (Add)   (None, 128, 768)     0           Embedding-Token[0][0]            \n",
            "                                                                 Embedding-Segment[0][0]          \n",
            "__________________________________________________________________________________________________\n",
            "Embedding-Position (PositionEmb (None, 128, 768)     98304       Embedding-Token-Segment[0][0]    \n",
            "__________________________________________________________________________________________________\n",
            "Embedding-Dropout (Dropout)     (None, 128, 768)     0           Embedding-Position[0][0]         \n",
            "__________________________________________________________________________________________________\n",
            "Embedding-Norm (LayerNormalizat (None, 128, 768)     1536        Embedding-Dropout[0][0]          \n",
            "__________________________________________________________________________________________________\n",
            "Encoder-1-MultiHeadSelfAttentio (None, 128, 768)     2362368     Embedding-Norm[0][0]             \n",
            "__________________________________________________________________________________________________\n",
            "Encoder-1-MultiHeadSelfAttentio (None, 128, 768)     0           Encoder-1-MultiHeadSelfAttention[\n",
            "__________________________________________________________________________________________________\n",
            "Encoder-1-MultiHeadSelfAttentio (None, 128, 768)     0           Embedding-Norm[0][0]             \n",
            "                                                                 Encoder-1-MultiHeadSelfAttention-\n",
            "__________________________________________________________________________________________________\n",
            "Encoder-1-MultiHeadSelfAttentio (None, 128, 768)     1536        Encoder-1-MultiHeadSelfAttention-\n",
            "__________________________________________________________________________________________________\n",
            "Encoder-1-FeedForward (FeedForw (None, 128, 768)     4722432     Encoder-1-MultiHeadSelfAttention-\n",
            "__________________________________________________________________________________________________\n",
            "Encoder-1-FeedForward-Dropout ( (None, 128, 768)     0           Encoder-1-FeedForward[0][0]      \n",
            "__________________________________________________________________________________________________\n",
            "Encoder-1-FeedForward-Add (Add) (None, 128, 768)     0           Encoder-1-MultiHeadSelfAttention-\n",
            "                                                                 Encoder-1-FeedForward-Dropout[0][\n",
            "__________________________________________________________________________________________________\n",
            "Encoder-1-FeedForward-Norm (Lay (None, 128, 768)     1536        Encoder-1-FeedForward-Add[0][0]  \n",
            "__________________________________________________________________________________________________\n",
            "Encoder-2-MultiHeadSelfAttentio (None, 128, 768)     2362368     Encoder-1-FeedForward-Norm[0][0] \n",
            "__________________________________________________________________________________________________\n",
            "Encoder-2-MultiHeadSelfAttentio (None, 128, 768)     0           Encoder-2-MultiHeadSelfAttention[\n",
            "__________________________________________________________________________________________________\n",
            "Encoder-2-MultiHeadSelfAttentio (None, 128, 768)     0           Encoder-1-FeedForward-Norm[0][0] \n",
            "                                                                 Encoder-2-MultiHeadSelfAttention-\n",
            "__________________________________________________________________________________________________\n",
            "Encoder-2-MultiHeadSelfAttentio (None, 128, 768)     1536        Encoder-2-MultiHeadSelfAttention-\n",
            "__________________________________________________________________________________________________\n",
            "Encoder-2-FeedForward (FeedForw (None, 128, 768)     4722432     Encoder-2-MultiHeadSelfAttention-\n",
            "__________________________________________________________________________________________________\n",
            "Encoder-2-FeedForward-Dropout ( (None, 128, 768)     0           Encoder-2-FeedForward[0][0]      \n",
            "__________________________________________________________________________________________________\n",
            "Encoder-2-FeedForward-Add (Add) (None, 128, 768)     0           Encoder-2-MultiHeadSelfAttention-\n",
            "                                                                 Encoder-2-FeedForward-Dropout[0][\n",
            "__________________________________________________________________________________________________\n",
            "Encoder-2-FeedForward-Norm (Lay (None, 128, 768)     1536        Encoder-2-FeedForward-Add[0][0]  \n",
            "__________________________________________________________________________________________________\n",
            "Encoder-3-MultiHeadSelfAttentio (None, 128, 768)     2362368     Encoder-2-FeedForward-Norm[0][0] \n",
            "__________________________________________________________________________________________________\n",
            "Encoder-3-MultiHeadSelfAttentio (None, 128, 768)     0           Encoder-3-MultiHeadSelfAttention[\n",
            "__________________________________________________________________________________________________\n",
            "Encoder-3-MultiHeadSelfAttentio (None, 128, 768)     0           Encoder-2-FeedForward-Norm[0][0] \n",
            "                                                                 Encoder-3-MultiHeadSelfAttention-\n",
            "__________________________________________________________________________________________________\n",
            "Encoder-3-MultiHeadSelfAttentio (None, 128, 768)     1536        Encoder-3-MultiHeadSelfAttention-\n",
            "__________________________________________________________________________________________________\n",
            "Encoder-3-FeedForward (FeedForw (None, 128, 768)     4722432     Encoder-3-MultiHeadSelfAttention-\n",
            "__________________________________________________________________________________________________\n",
            "Encoder-3-FeedForward-Dropout ( (None, 128, 768)     0           Encoder-3-FeedForward[0][0]      \n",
            "__________________________________________________________________________________________________\n",
            "Encoder-3-FeedForward-Add (Add) (None, 128, 768)     0           Encoder-3-MultiHeadSelfAttention-\n",
            "                                                                 Encoder-3-FeedForward-Dropout[0][\n",
            "__________________________________________________________________________________________________\n",
            "Encoder-3-FeedForward-Norm (Lay (None, 128, 768)     1536        Encoder-3-FeedForward-Add[0][0]  \n",
            "__________________________________________________________________________________________________\n",
            "Encoder-4-MultiHeadSelfAttentio (None, 128, 768)     2362368     Encoder-3-FeedForward-Norm[0][0] \n",
            "__________________________________________________________________________________________________\n",
            "Encoder-4-MultiHeadSelfAttentio (None, 128, 768)     0           Encoder-4-MultiHeadSelfAttention[\n",
            "__________________________________________________________________________________________________\n",
            "Encoder-4-MultiHeadSelfAttentio (None, 128, 768)     0           Encoder-3-FeedForward-Norm[0][0] \n",
            "                                                                 Encoder-4-MultiHeadSelfAttention-\n",
            "__________________________________________________________________________________________________\n",
            "Encoder-4-MultiHeadSelfAttentio (None, 128, 768)     1536        Encoder-4-MultiHeadSelfAttention-\n",
            "__________________________________________________________________________________________________\n",
            "Encoder-4-FeedForward (FeedForw (None, 128, 768)     4722432     Encoder-4-MultiHeadSelfAttention-\n",
            "__________________________________________________________________________________________________\n",
            "Encoder-4-FeedForward-Dropout ( (None, 128, 768)     0           Encoder-4-FeedForward[0][0]      \n",
            "__________________________________________________________________________________________________\n",
            "Encoder-4-FeedForward-Add (Add) (None, 128, 768)     0           Encoder-4-MultiHeadSelfAttention-\n",
            "                                                                 Encoder-4-FeedForward-Dropout[0][\n",
            "__________________________________________________________________________________________________\n",
            "Encoder-4-FeedForward-Norm (Lay (None, 128, 768)     1536        Encoder-4-FeedForward-Add[0][0]  \n",
            "__________________________________________________________________________________________________\n",
            "Encoder-5-MultiHeadSelfAttentio (None, 128, 768)     2362368     Encoder-4-FeedForward-Norm[0][0] \n",
            "__________________________________________________________________________________________________\n",
            "Encoder-5-MultiHeadSelfAttentio (None, 128, 768)     0           Encoder-5-MultiHeadSelfAttention[\n",
            "__________________________________________________________________________________________________\n",
            "Encoder-5-MultiHeadSelfAttentio (None, 128, 768)     0           Encoder-4-FeedForward-Norm[0][0] \n",
            "                                                                 Encoder-5-MultiHeadSelfAttention-\n",
            "__________________________________________________________________________________________________\n",
            "Encoder-5-MultiHeadSelfAttentio (None, 128, 768)     1536        Encoder-5-MultiHeadSelfAttention-\n",
            "__________________________________________________________________________________________________\n",
            "Encoder-5-FeedForward (FeedForw (None, 128, 768)     4722432     Encoder-5-MultiHeadSelfAttention-\n",
            "__________________________________________________________________________________________________\n",
            "Encoder-5-FeedForward-Dropout ( (None, 128, 768)     0           Encoder-5-FeedForward[0][0]      \n",
            "__________________________________________________________________________________________________\n",
            "Encoder-5-FeedForward-Add (Add) (None, 128, 768)     0           Encoder-5-MultiHeadSelfAttention-\n",
            "                                                                 Encoder-5-FeedForward-Dropout[0][\n",
            "__________________________________________________________________________________________________\n",
            "Encoder-5-FeedForward-Norm (Lay (None, 128, 768)     1536        Encoder-5-FeedForward-Add[0][0]  \n",
            "__________________________________________________________________________________________________\n",
            "Encoder-6-MultiHeadSelfAttentio (None, 128, 768)     2362368     Encoder-5-FeedForward-Norm[0][0] \n",
            "__________________________________________________________________________________________________\n",
            "Encoder-6-MultiHeadSelfAttentio (None, 128, 768)     0           Encoder-6-MultiHeadSelfAttention[\n",
            "__________________________________________________________________________________________________\n",
            "Encoder-6-MultiHeadSelfAttentio (None, 128, 768)     0           Encoder-5-FeedForward-Norm[0][0] \n",
            "                                                                 Encoder-6-MultiHeadSelfAttention-\n",
            "__________________________________________________________________________________________________\n",
            "Encoder-6-MultiHeadSelfAttentio (None, 128, 768)     1536        Encoder-6-MultiHeadSelfAttention-\n",
            "__________________________________________________________________________________________________\n",
            "Encoder-6-FeedForward (FeedForw (None, 128, 768)     4722432     Encoder-6-MultiHeadSelfAttention-\n",
            "__________________________________________________________________________________________________\n",
            "Encoder-6-FeedForward-Dropout ( (None, 128, 768)     0           Encoder-6-FeedForward[0][0]      \n",
            "__________________________________________________________________________________________________\n",
            "Encoder-6-FeedForward-Add (Add) (None, 128, 768)     0           Encoder-6-MultiHeadSelfAttention-\n",
            "                                                                 Encoder-6-FeedForward-Dropout[0][\n",
            "__________________________________________________________________________________________________\n",
            "Encoder-6-FeedForward-Norm (Lay (None, 128, 768)     1536        Encoder-6-FeedForward-Add[0][0]  \n",
            "__________________________________________________________________________________________________\n",
            "Encoder-7-MultiHeadSelfAttentio (None, 128, 768)     2362368     Encoder-6-FeedForward-Norm[0][0] \n",
            "__________________________________________________________________________________________________\n",
            "Encoder-7-MultiHeadSelfAttentio (None, 128, 768)     0           Encoder-7-MultiHeadSelfAttention[\n",
            "__________________________________________________________________________________________________\n",
            "Encoder-7-MultiHeadSelfAttentio (None, 128, 768)     0           Encoder-6-FeedForward-Norm[0][0] \n",
            "                                                                 Encoder-7-MultiHeadSelfAttention-\n",
            "__________________________________________________________________________________________________\n",
            "Encoder-7-MultiHeadSelfAttentio (None, 128, 768)     1536        Encoder-7-MultiHeadSelfAttention-\n",
            "__________________________________________________________________________________________________\n",
            "Encoder-7-FeedForward (FeedForw (None, 128, 768)     4722432     Encoder-7-MultiHeadSelfAttention-\n",
            "__________________________________________________________________________________________________\n",
            "Encoder-7-FeedForward-Dropout ( (None, 128, 768)     0           Encoder-7-FeedForward[0][0]      \n",
            "__________________________________________________________________________________________________\n",
            "Encoder-7-FeedForward-Add (Add) (None, 128, 768)     0           Encoder-7-MultiHeadSelfAttention-\n",
            "                                                                 Encoder-7-FeedForward-Dropout[0][\n",
            "__________________________________________________________________________________________________\n",
            "Encoder-7-FeedForward-Norm (Lay (None, 128, 768)     1536        Encoder-7-FeedForward-Add[0][0]  \n",
            "__________________________________________________________________________________________________\n",
            "Encoder-8-MultiHeadSelfAttentio (None, 128, 768)     2362368     Encoder-7-FeedForward-Norm[0][0] \n",
            "__________________________________________________________________________________________________\n",
            "Encoder-8-MultiHeadSelfAttentio (None, 128, 768)     0           Encoder-8-MultiHeadSelfAttention[\n",
            "__________________________________________________________________________________________________\n",
            "Encoder-8-MultiHeadSelfAttentio (None, 128, 768)     0           Encoder-7-FeedForward-Norm[0][0] \n",
            "                                                                 Encoder-8-MultiHeadSelfAttention-\n",
            "__________________________________________________________________________________________________\n",
            "Encoder-8-MultiHeadSelfAttentio (None, 128, 768)     1536        Encoder-8-MultiHeadSelfAttention-\n",
            "__________________________________________________________________________________________________\n",
            "Encoder-8-FeedForward (FeedForw (None, 128, 768)     4722432     Encoder-8-MultiHeadSelfAttention-\n",
            "__________________________________________________________________________________________________\n",
            "Encoder-8-FeedForward-Dropout ( (None, 128, 768)     0           Encoder-8-FeedForward[0][0]      \n",
            "__________________________________________________________________________________________________\n",
            "Encoder-8-FeedForward-Add (Add) (None, 128, 768)     0           Encoder-8-MultiHeadSelfAttention-\n",
            "                                                                 Encoder-8-FeedForward-Dropout[0][\n",
            "__________________________________________________________________________________________________\n",
            "Encoder-8-FeedForward-Norm (Lay (None, 128, 768)     1536        Encoder-8-FeedForward-Add[0][0]  \n",
            "__________________________________________________________________________________________________\n",
            "Encoder-9-MultiHeadSelfAttentio (None, 128, 768)     2362368     Encoder-8-FeedForward-Norm[0][0] \n",
            "__________________________________________________________________________________________________\n",
            "Encoder-9-MultiHeadSelfAttentio (None, 128, 768)     0           Encoder-9-MultiHeadSelfAttention[\n",
            "__________________________________________________________________________________________________\n",
            "Encoder-9-MultiHeadSelfAttentio (None, 128, 768)     0           Encoder-8-FeedForward-Norm[0][0] \n",
            "                                                                 Encoder-9-MultiHeadSelfAttention-\n",
            "__________________________________________________________________________________________________\n",
            "Encoder-9-MultiHeadSelfAttentio (None, 128, 768)     1536        Encoder-9-MultiHeadSelfAttention-\n",
            "__________________________________________________________________________________________________\n",
            "Encoder-9-FeedForward (FeedForw (None, 128, 768)     4722432     Encoder-9-MultiHeadSelfAttention-\n",
            "__________________________________________________________________________________________________\n",
            "Encoder-9-FeedForward-Dropout ( (None, 128, 768)     0           Encoder-9-FeedForward[0][0]      \n",
            "__________________________________________________________________________________________________\n",
            "Encoder-9-FeedForward-Add (Add) (None, 128, 768)     0           Encoder-9-MultiHeadSelfAttention-\n",
            "                                                                 Encoder-9-FeedForward-Dropout[0][\n",
            "__________________________________________________________________________________________________\n",
            "Encoder-9-FeedForward-Norm (Lay (None, 128, 768)     1536        Encoder-9-FeedForward-Add[0][0]  \n",
            "__________________________________________________________________________________________________\n",
            "Encoder-10-MultiHeadSelfAttenti (None, 128, 768)     2362368     Encoder-9-FeedForward-Norm[0][0] \n",
            "__________________________________________________________________________________________________\n",
            "Encoder-10-MultiHeadSelfAttenti (None, 128, 768)     0           Encoder-10-MultiHeadSelfAttention\n",
            "__________________________________________________________________________________________________\n",
            "Encoder-10-MultiHeadSelfAttenti (None, 128, 768)     0           Encoder-9-FeedForward-Norm[0][0] \n",
            "                                                                 Encoder-10-MultiHeadSelfAttention\n",
            "__________________________________________________________________________________________________\n",
            "Encoder-10-MultiHeadSelfAttenti (None, 128, 768)     1536        Encoder-10-MultiHeadSelfAttention\n",
            "__________________________________________________________________________________________________\n",
            "Encoder-10-FeedForward (FeedFor (None, 128, 768)     4722432     Encoder-10-MultiHeadSelfAttention\n",
            "__________________________________________________________________________________________________\n",
            "Encoder-10-FeedForward-Dropout  (None, 128, 768)     0           Encoder-10-FeedForward[0][0]     \n",
            "__________________________________________________________________________________________________\n",
            "Encoder-10-FeedForward-Add (Add (None, 128, 768)     0           Encoder-10-MultiHeadSelfAttention\n",
            "                                                                 Encoder-10-FeedForward-Dropout[0]\n",
            "__________________________________________________________________________________________________\n",
            "Encoder-10-FeedForward-Norm (La (None, 128, 768)     1536        Encoder-10-FeedForward-Add[0][0] \n",
            "__________________________________________________________________________________________________\n",
            "Encoder-11-MultiHeadSelfAttenti (None, 128, 768)     2362368     Encoder-10-FeedForward-Norm[0][0]\n",
            "__________________________________________________________________________________________________\n",
            "Encoder-11-MultiHeadSelfAttenti (None, 128, 768)     0           Encoder-11-MultiHeadSelfAttention\n",
            "__________________________________________________________________________________________________\n",
            "Encoder-11-MultiHeadSelfAttenti (None, 128, 768)     0           Encoder-10-FeedForward-Norm[0][0]\n",
            "                                                                 Encoder-11-MultiHeadSelfAttention\n",
            "__________________________________________________________________________________________________\n",
            "Encoder-11-MultiHeadSelfAttenti (None, 128, 768)     1536        Encoder-11-MultiHeadSelfAttention\n",
            "__________________________________________________________________________________________________\n",
            "Encoder-11-FeedForward (FeedFor (None, 128, 768)     4722432     Encoder-11-MultiHeadSelfAttention\n",
            "__________________________________________________________________________________________________\n",
            "Encoder-11-FeedForward-Dropout  (None, 128, 768)     0           Encoder-11-FeedForward[0][0]     \n",
            "__________________________________________________________________________________________________\n",
            "Encoder-11-FeedForward-Add (Add (None, 128, 768)     0           Encoder-11-MultiHeadSelfAttention\n",
            "                                                                 Encoder-11-FeedForward-Dropout[0]\n",
            "__________________________________________________________________________________________________\n",
            "Encoder-11-FeedForward-Norm (La (None, 128, 768)     1536        Encoder-11-FeedForward-Add[0][0] \n",
            "__________________________________________________________________________________________________\n",
            "Encoder-12-MultiHeadSelfAttenti (None, 128, 768)     2362368     Encoder-11-FeedForward-Norm[0][0]\n",
            "__________________________________________________________________________________________________\n",
            "Encoder-12-MultiHeadSelfAttenti (None, 128, 768)     0           Encoder-12-MultiHeadSelfAttention\n",
            "__________________________________________________________________________________________________\n",
            "Encoder-12-MultiHeadSelfAttenti (None, 128, 768)     0           Encoder-11-FeedForward-Norm[0][0]\n",
            "                                                                 Encoder-12-MultiHeadSelfAttention\n",
            "__________________________________________________________________________________________________\n",
            "Encoder-12-MultiHeadSelfAttenti (None, 128, 768)     1536        Encoder-12-MultiHeadSelfAttention\n",
            "__________________________________________________________________________________________________\n",
            "Encoder-12-FeedForward (FeedFor (None, 128, 768)     4722432     Encoder-12-MultiHeadSelfAttention\n",
            "__________________________________________________________________________________________________\n",
            "Encoder-12-FeedForward-Dropout  (None, 128, 768)     0           Encoder-12-FeedForward[0][0]     \n",
            "__________________________________________________________________________________________________\n",
            "Encoder-12-FeedForward-Add (Add (None, 128, 768)     0           Encoder-12-MultiHeadSelfAttention\n",
            "                                                                 Encoder-12-FeedForward-Dropout[0]\n",
            "__________________________________________________________________________________________________\n",
            "Encoder-12-FeedForward-Norm (La (None, 128, 768)     1536        Encoder-12-FeedForward-Add[0][0] \n",
            "__________________________________________________________________________________________________\n",
            "MLM-Dense (Dense)               (None, 128, 768)     590592      Encoder-12-FeedForward-Norm[0][0]\n",
            "__________________________________________________________________________________________________\n",
            "MLM-Norm (LayerNormalization)   (None, 128, 768)     1536        MLM-Dense[0][0]                  \n",
            "__________________________________________________________________________________________________\n",
            "Extract (Extract)               (None, 768)          0           Encoder-12-FeedForward-Norm[0][0]\n",
            "__________________________________________________________________________________________________\n",
            "MLM-Sim (EmbeddingSimilarity)   (None, 128, 119547)  119547      MLM-Norm[0][0]                   \n",
            "                                                                 Embedding-Token[0][1]            \n",
            "__________________________________________________________________________________________________\n",
            "Input-Masked (InputLayer)       (None, 128)          0                                            \n",
            "__________________________________________________________________________________________________\n",
            "NSP-Dense (Dense)               (None, 768)          590592      Extract[0][0]                    \n",
            "__________________________________________________________________________________________________\n",
            "MLM (Masked)                    (None, 128, 119547)  0           MLM-Sim[0][0]                    \n",
            "                                                                 Input-Masked[0][0]               \n",
            "__________________________________________________________________________________________________\n",
            "NSP (Dense)                     (None, 2)            1538        NSP-Dense[0][0]                  \n",
            "==================================================================================================\n",
            "Total params: 178,271,741\n",
            "Trainable params: 178,271,741\n",
            "Non-trainable params: 0\n",
            "__________________________________________________________________________________________________\n"
          ],
          "name": "stdout"
        }
      ]
    },
    {
      "cell_type": "code",
      "metadata": {
        "id": "o8Iact_dT4_r",
        "colab_type": "code",
        "colab": {}
      },
      "source": [
        "# 사전학습 모델을 변형해보자\n",
        "# input으로 토큰벡터, 세그먼트만 넣을꺼라서 inputs = model.inputs[:3]\n",
        "# output은 사전학습 모델을 잘라주자. \n",
        "# --(outputs=Dense(1)) 맨 위 3층을 잘라내고 True/False를 알려주는 Dense(1)을 추가해보자\n",
        "# --Dense(1) 로 하면 아웃풋이 하나! 긍정일수록 0, 부정일수록 1\n",
        "# Radam으로 Gradient Descent 해준 후 모델을 return\n",
        "def get_bert_finetuning_model(model):\n",
        "  inputs = model.inputs[:2]\n",
        "  dense = model.layers[-3].output\n",
        "\n",
        "  outputs = keras.layers.Dense(1, activation='sigmoid',kernel_initializer=keras.initializers.TruncatedNormal(stddev=0.02),\n",
        "                              name = 'real_output')(dense)\n",
        "\n",
        "  bert_model = keras.models.Model(inputs, outputs)\n",
        "  bert_model.compile(\n",
        "      optimizer=RAdam(learning_rate=0.00001, weight_decay=0.0025),\n",
        "      loss='binary_crossentropy',\n",
        "      metrics=['accuracy'])\n",
        "  \n",
        "  return bert_model"
      ],
      "execution_count": 0,
      "outputs": []
    },
    {
      "cell_type": "code",
      "metadata": {
        "id": "XG5S-EBsV9Kg",
        "colab_type": "code",
        "colab": {
          "base_uri": "https://localhost:8080/",
          "height": 1000
        },
        "outputId": "4fbdbefb-732f-4e53-8e93-d4557e2b701d"
      },
      "source": [
        "# 모델의 Flow 확인\n",
        "from IPython.display import SVG\n",
        "from keras.utils import model_to_dot\n",
        "\n",
        "SVG(model_to_dot(get_bert_finetuning_model(model), dpi=65).create(prog='dot', format='svg'))"
      ],
      "execution_count": 21,
      "outputs": [
        {
          "output_type": "stream",
          "text": [
            "WARNING:tensorflow:From /usr/local/lib/python3.6/dist-packages/keras/optimizers.py:793: The name tf.train.Optimizer is deprecated. Please use tf.compat.v1.train.Optimizer instead.\n",
            "\n",
            "WARNING:tensorflow:From /usr/local/lib/python3.6/dist-packages/keras/backend/tensorflow_backend.py:3657: The name tf.log is deprecated. Please use tf.math.log instead.\n",
            "\n",
            "WARNING:tensorflow:From /tensorflow-1.15.0/python3.6/tensorflow_core/python/ops/nn_impl.py:183: where (from tensorflow.python.ops.array_ops) is deprecated and will be removed in a future version.\n",
            "Instructions for updating:\n",
            "Use tf.where in 2.0, which has the same broadcast rule as np.where\n"
          ],
          "name": "stdout"
        },
        {
          "output_type": "execute_result",
          "data": {
            "text/plain": [
              "<IPython.core.display.SVG object>"
            ],
            "image/svg+xml": "<svg height=\"6895pt\" viewBox=\"0.00 0.00 549.50 7637.00\" width=\"496pt\" xmlns=\"http://www.w3.org/2000/svg\" xmlns:xlink=\"http://www.w3.org/1999/xlink\">\n<g class=\"graph\" id=\"graph0\" transform=\"scale(.9028 .9028) rotate(0) translate(4 7633)\">\n<title>G</title>\n<polygon fill=\"#ffffff\" points=\"-4,4 -4,-7633 545.5,-7633 545.5,4 -4,4\" stroke=\"transparent\"/>\n<!-- 140688765694136 -->\n<g class=\"node\" id=\"node1\">\n<title>140688765694136</title>\n<polygon fill=\"none\" points=\"110.5,-7592.5 110.5,-7628.5 270.5,-7628.5 270.5,-7592.5 110.5,-7592.5\" stroke=\"#000000\"/>\n<text fill=\"#000000\" font-family=\"Times,serif\" font-size=\"14.00\" text-anchor=\"middle\" x=\"190.5\" y=\"-7606.8\">Input-Token: InputLayer</text>\n</g>\n<!-- 140688782154048 -->\n<g class=\"node\" id=\"node3\">\n<title>140688782154048</title>\n<polygon fill=\"none\" points=\"72,-7519.5 72,-7555.5 309,-7555.5 309,-7519.5 72,-7519.5\" stroke=\"#000000\"/>\n<text fill=\"#000000\" font-family=\"Times,serif\" font-size=\"14.00\" text-anchor=\"middle\" x=\"190.5\" y=\"-7533.8\">Embedding-Token: TokenEmbedding</text>\n</g>\n<!-- 140688765694136&#45;&gt;140688782154048 -->\n<g class=\"edge\" id=\"edge1\">\n<title>140688765694136-&gt;140688782154048</title>\n<path d=\"M190.5,-7592.4551C190.5,-7584.3828 190.5,-7574.6764 190.5,-7565.6817\" fill=\"none\" stroke=\"#000000\"/>\n<polygon fill=\"#000000\" points=\"194.0001,-7565.5903 190.5,-7555.5904 187.0001,-7565.5904 194.0001,-7565.5903\" stroke=\"#000000\"/>\n</g>\n<!-- 140688765697720 -->\n<g class=\"node\" id=\"node2\">\n<title>140688765697720</title>\n<polygon fill=\"none\" points=\"348,-7592.5 348,-7628.5 521,-7628.5 521,-7592.5 348,-7592.5\" stroke=\"#000000\"/>\n<text fill=\"#000000\" font-family=\"Times,serif\" font-size=\"14.00\" text-anchor=\"middle\" x=\"434.5\" y=\"-7606.8\">Input-Segment: InputLayer</text>\n</g>\n<!-- 140688778640688 -->\n<g class=\"node\" id=\"node4\">\n<title>140688778640688</title>\n<polygon fill=\"none\" points=\"327.5,-7519.5 327.5,-7555.5 541.5,-7555.5 541.5,-7519.5 327.5,-7519.5\" stroke=\"#000000\"/>\n<text fill=\"#000000\" font-family=\"Times,serif\" font-size=\"14.00\" text-anchor=\"middle\" x=\"434.5\" y=\"-7533.8\">Embedding-Segment: Embedding</text>\n</g>\n<!-- 140688765697720&#45;&gt;140688778640688 -->\n<g class=\"edge\" id=\"edge2\">\n<title>140688765697720-&gt;140688778640688</title>\n<path d=\"M434.5,-7592.4551C434.5,-7584.3828 434.5,-7574.6764 434.5,-7565.6817\" fill=\"none\" stroke=\"#000000\"/>\n<polygon fill=\"#000000\" points=\"438.0001,-7565.5903 434.5,-7555.5904 431.0001,-7565.5904 438.0001,-7565.5903\" stroke=\"#000000\"/>\n</g>\n<!-- 140688778641136 -->\n<g class=\"node\" id=\"node5\">\n<title>140688778641136</title>\n<polygon fill=\"none\" points=\"206.5,-7446.5 206.5,-7482.5 418.5,-7482.5 418.5,-7446.5 206.5,-7446.5\" stroke=\"#000000\"/>\n<text fill=\"#000000\" font-family=\"Times,serif\" font-size=\"14.00\" text-anchor=\"middle\" x=\"312.5\" y=\"-7460.8\">Embedding-Token-Segment: Add</text>\n</g>\n<!-- 140688782154048&#45;&gt;140688778641136 -->\n<g class=\"edge\" id=\"edge3\">\n<title>140688782154048-&gt;140688778641136</title>\n<path d=\"M220.6573,-7519.4551C236.6407,-7509.8912 256.4579,-7498.0334 273.5882,-7487.7833\" fill=\"none\" stroke=\"#000000\"/>\n<polygon fill=\"#000000\" points=\"275.4828,-7490.7284 282.2668,-7482.5904 271.8885,-7484.7216 275.4828,-7490.7284\" stroke=\"#000000\"/>\n</g>\n<!-- 140688778640688&#45;&gt;140688778641136 -->\n<g class=\"edge\" id=\"edge4\">\n<title>140688778640688-&gt;140688778641136</title>\n<path d=\"M404.3427,-7519.4551C388.3593,-7509.8912 368.5421,-7498.0334 351.4118,-7487.7833\" fill=\"none\" stroke=\"#000000\"/>\n<polygon fill=\"#000000\" points=\"353.1115,-7484.7216 342.7332,-7482.5904 349.5172,-7490.7284 353.1115,-7484.7216\" stroke=\"#000000\"/>\n</g>\n<!-- 140688778640520 -->\n<g class=\"node\" id=\"node6\">\n<title>140688778640520</title>\n<polygon fill=\"none\" points=\"183.5,-7373.5 183.5,-7409.5 441.5,-7409.5 441.5,-7373.5 183.5,-7373.5\" stroke=\"#000000\"/>\n<text fill=\"#000000\" font-family=\"Times,serif\" font-size=\"14.00\" text-anchor=\"middle\" x=\"312.5\" y=\"-7387.8\">Embedding-Position: PositionEmbedding</text>\n</g>\n<!-- 140688778641136&#45;&gt;140688778640520 -->\n<g class=\"edge\" id=\"edge5\">\n<title>140688778641136-&gt;140688778640520</title>\n<path d=\"M312.5,-7446.4551C312.5,-7438.3828 312.5,-7428.6764 312.5,-7419.6817\" fill=\"none\" stroke=\"#000000\"/>\n<polygon fill=\"#000000\" points=\"316.0001,-7419.5903 312.5,-7409.5904 309.0001,-7419.5904 316.0001,-7419.5903\" stroke=\"#000000\"/>\n</g>\n<!-- 140688808775576 -->\n<g class=\"node\" id=\"node7\">\n<title>140688808775576</title>\n<polygon fill=\"none\" points=\"215.5,-7300.5 215.5,-7336.5 409.5,-7336.5 409.5,-7300.5 215.5,-7300.5\" stroke=\"#000000\"/>\n<text fill=\"#000000\" font-family=\"Times,serif\" font-size=\"14.00\" text-anchor=\"middle\" x=\"312.5\" y=\"-7314.8\">Embedding-Dropout: Dropout</text>\n</g>\n<!-- 140688778640520&#45;&gt;140688808775576 -->\n<g class=\"edge\" id=\"edge6\">\n<title>140688778640520-&gt;140688808775576</title>\n<path d=\"M312.5,-7373.4551C312.5,-7365.3828 312.5,-7355.6764 312.5,-7346.6817\" fill=\"none\" stroke=\"#000000\"/>\n<polygon fill=\"#000000\" points=\"316.0001,-7346.5903 312.5,-7336.5904 309.0001,-7346.5904 316.0001,-7346.5903\" stroke=\"#000000\"/>\n</g>\n<!-- 140688756237368 -->\n<g class=\"node\" id=\"node8\">\n<title>140688756237368</title>\n<polygon fill=\"none\" points=\"190,-7227.5 190,-7263.5 435,-7263.5 435,-7227.5 190,-7227.5\" stroke=\"#000000\"/>\n<text fill=\"#000000\" font-family=\"Times,serif\" font-size=\"14.00\" text-anchor=\"middle\" x=\"312.5\" y=\"-7241.8\">Embedding-Norm: LayerNormalization</text>\n</g>\n<!-- 140688808775576&#45;&gt;140688756237368 -->\n<g class=\"edge\" id=\"edge7\">\n<title>140688808775576-&gt;140688756237368</title>\n<path d=\"M312.5,-7300.4551C312.5,-7292.3828 312.5,-7282.6764 312.5,-7273.6817\" fill=\"none\" stroke=\"#000000\"/>\n<polygon fill=\"#000000\" points=\"316.0001,-7273.5903 312.5,-7263.5904 309.0001,-7273.5904 316.0001,-7273.5903\" stroke=\"#000000\"/>\n</g>\n<!-- 140688756333760 -->\n<g class=\"node\" id=\"node9\">\n<title>140688756333760</title>\n<polygon fill=\"none\" points=\"42.5,-7154.5 42.5,-7190.5 384.5,-7190.5 384.5,-7154.5 42.5,-7154.5\" stroke=\"#000000\"/>\n<text fill=\"#000000\" font-family=\"Times,serif\" font-size=\"14.00\" text-anchor=\"middle\" x=\"213.5\" y=\"-7168.8\">Encoder-1-MultiHeadSelfAttention: MultiHeadAttention</text>\n</g>\n<!-- 140688756237368&#45;&gt;140688756333760 -->\n<g class=\"edge\" id=\"edge8\">\n<title>140688756237368-&gt;140688756333760</title>\n<path d=\"M288.0281,-7227.4551C275.4149,-7218.1545 259.8597,-7206.6844 246.2286,-7196.6332\" fill=\"none\" stroke=\"#000000\"/>\n<polygon fill=\"#000000\" points=\"248.1592,-7193.7082 238.0335,-7190.5904 244.0049,-7199.3421 248.1592,-7193.7082\" stroke=\"#000000\"/>\n</g>\n<!-- 140688756935312 -->\n<g class=\"node\" id=\"node11\">\n<title>140688756935312</title>\n<polygon fill=\"none\" points=\"173,-7008.5 173,-7044.5 454,-7044.5 454,-7008.5 173,-7008.5\" stroke=\"#000000\"/>\n<text fill=\"#000000\" font-family=\"Times,serif\" font-size=\"14.00\" text-anchor=\"middle\" x=\"313.5\" y=\"-7022.8\">Encoder-1-MultiHeadSelfAttention-Add: Add</text>\n</g>\n<!-- 140688756237368&#45;&gt;140688756935312 -->\n<g class=\"edge\" id=\"edge10\">\n<title>140688756237368-&gt;140688756935312</title>\n<path d=\"M355.0685,-7227.3804C370.0065,-7218.7 385.1359,-7206.7088 393.5,-7191 401.1793,-7176.5774 400.9885,-7100.2923 390.5,-7081 383.7016,-7068.4953 372.6452,-7058.1998 361.0052,-7050.0548\" fill=\"none\" stroke=\"#000000\"/>\n<polygon fill=\"#000000\" points=\"362.7688,-7047.0266 352.4788,-7044.5031 358.9492,-7052.8927 362.7688,-7047.0266\" stroke=\"#000000\"/>\n</g>\n<!-- 140688756102928 -->\n<g class=\"node\" id=\"node10\">\n<title>140688756102928</title>\n<polygon fill=\"none\" points=\"53,-7081.5 53,-7117.5 382,-7117.5 382,-7081.5 53,-7081.5\" stroke=\"#000000\"/>\n<text fill=\"#000000\" font-family=\"Times,serif\" font-size=\"14.00\" text-anchor=\"middle\" x=\"217.5\" y=\"-7095.8\">Encoder-1-MultiHeadSelfAttention-Dropout: Dropout</text>\n</g>\n<!-- 140688756333760&#45;&gt;140688756102928 -->\n<g class=\"edge\" id=\"edge9\">\n<title>140688756333760-&gt;140688756102928</title>\n<path d=\"M214.4888,-7154.4551C214.9311,-7146.3828 215.4629,-7136.6764 215.9558,-7127.6817\" fill=\"none\" stroke=\"#000000\"/>\n<polygon fill=\"#000000\" points=\"219.4563,-7127.7669 216.5087,-7117.5904 212.4668,-7127.3839 219.4563,-7127.7669\" stroke=\"#000000\"/>\n</g>\n<!-- 140688756102928&#45;&gt;140688756935312 -->\n<g class=\"edge\" id=\"edge11\">\n<title>140688756102928-&gt;140688756935312</title>\n<path d=\"M241.2303,-7081.4551C253.3459,-7072.2422 268.2608,-7060.9006 281.3886,-7050.918\" fill=\"none\" stroke=\"#000000\"/>\n<polygon fill=\"#000000\" points=\"283.8684,-7053.4293 289.7099,-7044.5904 279.6314,-7047.8573 283.8684,-7053.4293\" stroke=\"#000000\"/>\n</g>\n<!-- 140688756760304 -->\n<g class=\"node\" id=\"node12\">\n<title>140688756760304</title>\n<polygon fill=\"none\" points=\"123.5,-6935.5 123.5,-6971.5 503.5,-6971.5 503.5,-6935.5 123.5,-6935.5\" stroke=\"#000000\"/>\n<text fill=\"#000000\" font-family=\"Times,serif\" font-size=\"14.00\" text-anchor=\"middle\" x=\"313.5\" y=\"-6949.8\">Encoder-1-MultiHeadSelfAttention-Norm: LayerNormalization</text>\n</g>\n<!-- 140688756935312&#45;&gt;140688756760304 -->\n<g class=\"edge\" id=\"edge12\">\n<title>140688756935312-&gt;140688756760304</title>\n<path d=\"M313.5,-7008.4551C313.5,-7000.3828 313.5,-6990.6764 313.5,-6981.6817\" fill=\"none\" stroke=\"#000000\"/>\n<polygon fill=\"#000000\" points=\"317.0001,-6981.5903 313.5,-6971.5904 310.0001,-6981.5904 317.0001,-6981.5903\" stroke=\"#000000\"/>\n</g>\n<!-- 140688756792624 -->\n<g class=\"node\" id=\"node13\">\n<title>140688756792624</title>\n<polygon fill=\"none\" points=\"118.5,-6862.5 118.5,-6898.5 360.5,-6898.5 360.5,-6862.5 118.5,-6862.5\" stroke=\"#000000\"/>\n<text fill=\"#000000\" font-family=\"Times,serif\" font-size=\"14.00\" text-anchor=\"middle\" x=\"239.5\" y=\"-6876.8\">Encoder-1-FeedForward: FeedForward</text>\n</g>\n<!-- 140688756760304&#45;&gt;140688756792624 -->\n<g class=\"edge\" id=\"edge13\">\n<title>140688756760304-&gt;140688756792624</title>\n<path d=\"M295.2079,-6935.4551C286.1356,-6926.5054 275.0271,-6915.547 265.1232,-6905.7769\" fill=\"none\" stroke=\"#000000\"/>\n<polygon fill=\"#000000\" points=\"267.4152,-6903.1215 257.8382,-6898.5904 262.4992,-6908.1049 267.4152,-6903.1215\" stroke=\"#000000\"/>\n</g>\n<!-- 140688755886344 -->\n<g class=\"node\" id=\"node15\">\n<title>140688755886344</title>\n<polygon fill=\"none\" points=\"203.5,-6716.5 203.5,-6752.5 423.5,-6752.5 423.5,-6716.5 203.5,-6716.5\" stroke=\"#000000\"/>\n<text fill=\"#000000\" font-family=\"Times,serif\" font-size=\"14.00\" text-anchor=\"middle\" x=\"313.5\" y=\"-6730.8\">Encoder-1-FeedForward-Add: Add</text>\n</g>\n<!-- 140688756760304&#45;&gt;140688755886344 -->\n<g class=\"edge\" id=\"edge15\">\n<title>140688756760304-&gt;140688755886344</title>\n<path d=\"M339.1147,-6935.4444C350.4534,-6925.9752 362.7322,-6913.3575 369.5,-6899 390.3764,-6854.7122 395.6809,-6833.609 375.5,-6789 370.2852,-6777.4728 361.2939,-6767.4147 351.751,-6759.1833\" fill=\"none\" stroke=\"#000000\"/>\n<polygon fill=\"#000000\" points=\"353.6666,-6756.2331 343.676,-6752.7064 349.2868,-6761.6936 353.6666,-6756.2331\" stroke=\"#000000\"/>\n</g>\n<!-- 140688756854008 -->\n<g class=\"node\" id=\"node14\">\n<title>140688756854008</title>\n<polygon fill=\"none\" points=\"99,-6789.5 99,-6825.5 366,-6825.5 366,-6789.5 99,-6789.5\" stroke=\"#000000\"/>\n<text fill=\"#000000\" font-family=\"Times,serif\" font-size=\"14.00\" text-anchor=\"middle\" x=\"232.5\" y=\"-6803.8\">Encoder-1-FeedForward-Dropout: Dropout</text>\n</g>\n<!-- 140688756792624&#45;&gt;140688756854008 -->\n<g class=\"edge\" id=\"edge14\">\n<title>140688756792624-&gt;140688756854008</title>\n<path d=\"M237.7697,-6862.4551C236.9956,-6854.3828 236.0649,-6844.6764 235.2024,-6835.6817\" fill=\"none\" stroke=\"#000000\"/>\n<polygon fill=\"#000000\" points=\"238.6733,-6835.2106 234.2347,-6825.5904 231.7053,-6835.8788 238.6733,-6835.2106\" stroke=\"#000000\"/>\n</g>\n<!-- 140688756854008&#45;&gt;140688755886344 -->\n<g class=\"edge\" id=\"edge16\">\n<title>140688756854008-&gt;140688755886344</title>\n<path d=\"M252.5225,-6789.4551C262.5502,-6780.4177 274.8509,-6769.3319 285.7714,-6759.4899\" fill=\"none\" stroke=\"#000000\"/>\n<polygon fill=\"#000000\" points=\"288.3419,-6761.885 293.4271,-6752.5904 283.6556,-6756.6852 288.3419,-6761.885\" stroke=\"#000000\"/>\n</g>\n<!-- 140688756050968 -->\n<g class=\"node\" id=\"node16\">\n<title>140688756050968</title>\n<polygon fill=\"none\" points=\"154.5,-6643.5 154.5,-6679.5 472.5,-6679.5 472.5,-6643.5 154.5,-6643.5\" stroke=\"#000000\"/>\n<text fill=\"#000000\" font-family=\"Times,serif\" font-size=\"14.00\" text-anchor=\"middle\" x=\"313.5\" y=\"-6657.8\">Encoder-1-FeedForward-Norm: LayerNormalization</text>\n</g>\n<!-- 140688755886344&#45;&gt;140688756050968 -->\n<g class=\"edge\" id=\"edge17\">\n<title>140688755886344-&gt;140688756050968</title>\n<path d=\"M313.5,-6716.4551C313.5,-6708.3828 313.5,-6698.6764 313.5,-6689.6817\" fill=\"none\" stroke=\"#000000\"/>\n<polygon fill=\"#000000\" points=\"317.0001,-6689.5903 313.5,-6679.5904 310.0001,-6689.5904 317.0001,-6689.5903\" stroke=\"#000000\"/>\n</g>\n<!-- 140688756050184 -->\n<g class=\"node\" id=\"node17\">\n<title>140688756050184</title>\n<polygon fill=\"none\" points=\"43.5,-6570.5 43.5,-6606.5 385.5,-6606.5 385.5,-6570.5 43.5,-6570.5\" stroke=\"#000000\"/>\n<text fill=\"#000000\" font-family=\"Times,serif\" font-size=\"14.00\" text-anchor=\"middle\" x=\"214.5\" y=\"-6584.8\">Encoder-2-MultiHeadSelfAttention: MultiHeadAttention</text>\n</g>\n<!-- 140688756050968&#45;&gt;140688756050184 -->\n<g class=\"edge\" id=\"edge18\">\n<title>140688756050968-&gt;140688756050184</title>\n<path d=\"M289.0281,-6643.4551C276.4149,-6634.1545 260.8597,-6622.6844 247.2286,-6612.6332\" fill=\"none\" stroke=\"#000000\"/>\n<polygon fill=\"#000000\" points=\"249.1592,-6609.7082 239.0335,-6606.5904 245.0049,-6615.3421 249.1592,-6609.7082\" stroke=\"#000000\"/>\n</g>\n<!-- 140688755410480 -->\n<g class=\"node\" id=\"node19\">\n<title>140688755410480</title>\n<polygon fill=\"none\" points=\"175,-6424.5 175,-6460.5 456,-6460.5 456,-6424.5 175,-6424.5\" stroke=\"#000000\"/>\n<text fill=\"#000000\" font-family=\"Times,serif\" font-size=\"14.00\" text-anchor=\"middle\" x=\"315.5\" y=\"-6438.8\">Encoder-2-MultiHeadSelfAttention-Add: Add</text>\n</g>\n<!-- 140688756050968&#45;&gt;140688755410480 -->\n<g class=\"edge\" id=\"edge20\">\n<title>140688756050968-&gt;140688755410480</title>\n<path d=\"M356.0685,-6643.3804C371.0065,-6634.7 386.1359,-6622.7088 394.5,-6607 402.5894,-6591.8071 400.2511,-6514.9102 390.5,-6497 383.7494,-6484.601 372.8204,-6474.3006 361.3687,-6466.1162\" fill=\"none\" stroke=\"#000000\"/>\n<polygon fill=\"#000000\" points=\"363.2521,-6463.1654 352.99,-6460.531 359.3694,-6468.9899 363.2521,-6463.1654\" stroke=\"#000000\"/>\n</g>\n<!-- 140688755323848 -->\n<g class=\"node\" id=\"node18\">\n<title>140688755323848</title>\n<polygon fill=\"none\" points=\"53,-6497.5 53,-6533.5 382,-6533.5 382,-6497.5 53,-6497.5\" stroke=\"#000000\"/>\n<text fill=\"#000000\" font-family=\"Times,serif\" font-size=\"14.00\" text-anchor=\"middle\" x=\"217.5\" y=\"-6511.8\">Encoder-2-MultiHeadSelfAttention-Dropout: Dropout</text>\n</g>\n<!-- 140688756050184&#45;&gt;140688755323848 -->\n<g class=\"edge\" id=\"edge19\">\n<title>140688756050184-&gt;140688755323848</title>\n<path d=\"M215.2416,-6570.4551C215.5733,-6562.3828 215.9722,-6552.6764 216.3418,-6543.6817\" fill=\"none\" stroke=\"#000000\"/>\n<polygon fill=\"#000000\" points=\"219.8429,-6543.7257 216.7566,-6533.5904 212.8488,-6543.4382 219.8429,-6543.7257\" stroke=\"#000000\"/>\n</g>\n<!-- 140688755323848&#45;&gt;140688755410480 -->\n<g class=\"edge\" id=\"edge21\">\n<title>140688755323848-&gt;140688755410480</title>\n<path d=\"M241.7247,-6497.4551C254.2105,-6488.1545 269.6086,-6476.6844 283.102,-6466.6332\" fill=\"none\" stroke=\"#000000\"/>\n<polygon fill=\"#000000\" points=\"285.2855,-6469.371 291.2143,-6460.5904 281.1039,-6463.7573 285.2855,-6469.371\" stroke=\"#000000\"/>\n</g>\n<!-- 140688754981800 -->\n<g class=\"node\" id=\"node20\">\n<title>140688754981800</title>\n<polygon fill=\"none\" points=\"125.5,-6351.5 125.5,-6387.5 505.5,-6387.5 505.5,-6351.5 125.5,-6351.5\" stroke=\"#000000\"/>\n<text fill=\"#000000\" font-family=\"Times,serif\" font-size=\"14.00\" text-anchor=\"middle\" x=\"315.5\" y=\"-6365.8\">Encoder-2-MultiHeadSelfAttention-Norm: LayerNormalization</text>\n</g>\n<!-- 140688755410480&#45;&gt;140688754981800 -->\n<g class=\"edge\" id=\"edge22\">\n<title>140688755410480-&gt;140688754981800</title>\n<path d=\"M315.5,-6424.4551C315.5,-6416.3828 315.5,-6406.6764 315.5,-6397.6817\" fill=\"none\" stroke=\"#000000\"/>\n<polygon fill=\"#000000\" points=\"319.0001,-6397.5903 315.5,-6387.5904 312.0001,-6397.5904 319.0001,-6397.5903\" stroke=\"#000000\"/>\n</g>\n<!-- 140688754982696 -->\n<g class=\"node\" id=\"node21\">\n<title>140688754982696</title>\n<polygon fill=\"none\" points=\"113.5,-6278.5 113.5,-6314.5 355.5,-6314.5 355.5,-6278.5 113.5,-6278.5\" stroke=\"#000000\"/>\n<text fill=\"#000000\" font-family=\"Times,serif\" font-size=\"14.00\" text-anchor=\"middle\" x=\"234.5\" y=\"-6292.8\">Encoder-2-FeedForward: FeedForward</text>\n</g>\n<!-- 140688754981800&#45;&gt;140688754982696 -->\n<g class=\"edge\" id=\"edge23\">\n<title>140688754981800-&gt;140688754982696</title>\n<path d=\"M295.4775,-6351.4551C285.4498,-6342.4177 273.1491,-6331.3319 262.2286,-6321.4899\" fill=\"none\" stroke=\"#000000\"/>\n<polygon fill=\"#000000\" points=\"264.3444,-6318.6852 254.5729,-6314.5904 259.6581,-6323.885 264.3444,-6318.6852\" stroke=\"#000000\"/>\n</g>\n<!-- 140688754628088 -->\n<g class=\"node\" id=\"node23\">\n<title>140688754628088</title>\n<polygon fill=\"none\" points=\"199.5,-6132.5 199.5,-6168.5 419.5,-6168.5 419.5,-6132.5 199.5,-6132.5\" stroke=\"#000000\"/>\n<text fill=\"#000000\" font-family=\"Times,serif\" font-size=\"14.00\" text-anchor=\"middle\" x=\"309.5\" y=\"-6146.8\">Encoder-2-FeedForward-Add: Add</text>\n</g>\n<!-- 140688754981800&#45;&gt;140688754628088 -->\n<g class=\"edge\" id=\"edge25\">\n<title>140688754981800-&gt;140688754628088</title>\n<path d=\"M337.3471,-6351.291C347.3936,-6341.6134 358.4097,-6328.8624 364.5,-6315 384.2044,-6270.1498 391.6917,-6249.6329 371.5,-6205 366.2852,-6193.4728 357.2939,-6183.4147 347.751,-6175.1833\" fill=\"none\" stroke=\"#000000\"/>\n<polygon fill=\"#000000\" points=\"349.6666,-6172.2331 339.676,-6168.7064 345.2868,-6177.6936 349.6666,-6172.2331\" stroke=\"#000000\"/>\n</g>\n<!-- 140688754544424 -->\n<g class=\"node\" id=\"node22\">\n<title>140688754544424</title>\n<polygon fill=\"none\" points=\"95,-6205.5 95,-6241.5 362,-6241.5 362,-6205.5 95,-6205.5\" stroke=\"#000000\"/>\n<text fill=\"#000000\" font-family=\"Times,serif\" font-size=\"14.00\" text-anchor=\"middle\" x=\"228.5\" y=\"-6219.8\">Encoder-2-FeedForward-Dropout: Dropout</text>\n</g>\n<!-- 140688754982696&#45;&gt;140688754544424 -->\n<g class=\"edge\" id=\"edge24\">\n<title>140688754982696-&gt;140688754544424</title>\n<path d=\"M233.0169,-6278.4551C232.3534,-6270.3828 231.5556,-6260.6764 230.8163,-6251.6817\" fill=\"none\" stroke=\"#000000\"/>\n<polygon fill=\"#000000\" points=\"234.2944,-6251.27 229.9869,-6241.5904 227.3179,-6251.8435 234.2944,-6251.27\" stroke=\"#000000\"/>\n</g>\n<!-- 140688754544424&#45;&gt;140688754628088 -->\n<g class=\"edge\" id=\"edge26\">\n<title>140688754544424-&gt;140688754628088</title>\n<path d=\"M248.5225,-6205.4551C258.5502,-6196.4177 270.8509,-6185.3319 281.7714,-6175.4899\" fill=\"none\" stroke=\"#000000\"/>\n<polygon fill=\"#000000\" points=\"284.3419,-6177.885 289.4271,-6168.5904 279.6556,-6172.6852 284.3419,-6177.885\" stroke=\"#000000\"/>\n</g>\n<!-- 140688754276672 -->\n<g class=\"node\" id=\"node24\">\n<title>140688754276672</title>\n<polygon fill=\"none\" points=\"150.5,-6059.5 150.5,-6095.5 468.5,-6095.5 468.5,-6059.5 150.5,-6059.5\" stroke=\"#000000\"/>\n<text fill=\"#000000\" font-family=\"Times,serif\" font-size=\"14.00\" text-anchor=\"middle\" x=\"309.5\" y=\"-6073.8\">Encoder-2-FeedForward-Norm: LayerNormalization</text>\n</g>\n<!-- 140688754628088&#45;&gt;140688754276672 -->\n<g class=\"edge\" id=\"edge27\">\n<title>140688754628088-&gt;140688754276672</title>\n<path d=\"M309.5,-6132.4551C309.5,-6124.3828 309.5,-6114.6764 309.5,-6105.6817\" fill=\"none\" stroke=\"#000000\"/>\n<polygon fill=\"#000000\" points=\"313.0001,-6105.5903 309.5,-6095.5904 306.0001,-6105.5904 313.0001,-6105.5903\" stroke=\"#000000\"/>\n</g>\n<!-- 140688754275888 -->\n<g class=\"node\" id=\"node25\">\n<title>140688754275888</title>\n<polygon fill=\"none\" points=\"39.5,-5986.5 39.5,-6022.5 381.5,-6022.5 381.5,-5986.5 39.5,-5986.5\" stroke=\"#000000\"/>\n<text fill=\"#000000\" font-family=\"Times,serif\" font-size=\"14.00\" text-anchor=\"middle\" x=\"210.5\" y=\"-6000.8\">Encoder-3-MultiHeadSelfAttention: MultiHeadAttention</text>\n</g>\n<!-- 140688754276672&#45;&gt;140688754275888 -->\n<g class=\"edge\" id=\"edge28\">\n<title>140688754276672-&gt;140688754275888</title>\n<path d=\"M285.0281,-6059.4551C272.4149,-6050.1545 256.8597,-6038.6844 243.2286,-6028.6332\" fill=\"none\" stroke=\"#000000\"/>\n<polygon fill=\"#000000\" points=\"245.1592,-6025.7082 235.0335,-6022.5904 241.0049,-6031.3421 245.1592,-6025.7082\" stroke=\"#000000\"/>\n</g>\n<!-- 140688754418464 -->\n<g class=\"node\" id=\"node27\">\n<title>140688754418464</title>\n<polygon fill=\"none\" points=\"171,-5840.5 171,-5876.5 452,-5876.5 452,-5840.5 171,-5840.5\" stroke=\"#000000\"/>\n<text fill=\"#000000\" font-family=\"Times,serif\" font-size=\"14.00\" text-anchor=\"middle\" x=\"311.5\" y=\"-5854.8\">Encoder-3-MultiHeadSelfAttention-Add: Add</text>\n</g>\n<!-- 140688754276672&#45;&gt;140688754418464 -->\n<g class=\"edge\" id=\"edge30\">\n<title>140688754276672-&gt;140688754418464</title>\n<path d=\"M352.0685,-6059.3804C367.0065,-6050.7 382.1359,-6038.7088 390.5,-6023 398.5894,-6007.8071 396.2511,-5930.9102 386.5,-5913 379.7494,-5900.601 368.8204,-5890.3006 357.3687,-5882.1162\" fill=\"none\" stroke=\"#000000\"/>\n<polygon fill=\"#000000\" points=\"359.2521,-5879.1654 348.99,-5876.531 355.3694,-5884.9899 359.2521,-5879.1654\" stroke=\"#000000\"/>\n</g>\n<!-- 140688754343216 -->\n<g class=\"node\" id=\"node26\">\n<title>140688754343216</title>\n<polygon fill=\"none\" points=\"49,-5913.5 49,-5949.5 378,-5949.5 378,-5913.5 49,-5913.5\" stroke=\"#000000\"/>\n<text fill=\"#000000\" font-family=\"Times,serif\" font-size=\"14.00\" text-anchor=\"middle\" x=\"213.5\" y=\"-5927.8\">Encoder-3-MultiHeadSelfAttention-Dropout: Dropout</text>\n</g>\n<!-- 140688754275888&#45;&gt;140688754343216 -->\n<g class=\"edge\" id=\"edge29\">\n<title>140688754275888-&gt;140688754343216</title>\n<path d=\"M211.2416,-5986.4551C211.5733,-5978.3828 211.9722,-5968.6764 212.3418,-5959.6817\" fill=\"none\" stroke=\"#000000\"/>\n<polygon fill=\"#000000\" points=\"215.8429,-5959.7257 212.7566,-5949.5904 208.8488,-5959.4382 215.8429,-5959.7257\" stroke=\"#000000\"/>\n</g>\n<!-- 140688754343216&#45;&gt;140688754418464 -->\n<g class=\"edge\" id=\"edge31\">\n<title>140688754343216-&gt;140688754418464</title>\n<path d=\"M237.7247,-5913.4551C250.2105,-5904.1545 265.6086,-5892.6844 279.102,-5882.6332\" fill=\"none\" stroke=\"#000000\"/>\n<polygon fill=\"#000000\" points=\"281.2855,-5885.371 287.2143,-5876.5904 277.1039,-5879.7573 281.2855,-5885.371\" stroke=\"#000000\"/>\n</g>\n<!-- 140688753985856 -->\n<g class=\"node\" id=\"node28\">\n<title>140688753985856</title>\n<polygon fill=\"none\" points=\"121.5,-5767.5 121.5,-5803.5 501.5,-5803.5 501.5,-5767.5 121.5,-5767.5\" stroke=\"#000000\"/>\n<text fill=\"#000000\" font-family=\"Times,serif\" font-size=\"14.00\" text-anchor=\"middle\" x=\"311.5\" y=\"-5781.8\">Encoder-3-MultiHeadSelfAttention-Norm: LayerNormalization</text>\n</g>\n<!-- 140688754418464&#45;&gt;140688753985856 -->\n<g class=\"edge\" id=\"edge32\">\n<title>140688754418464-&gt;140688753985856</title>\n<path d=\"M311.5,-5840.4551C311.5,-5832.3828 311.5,-5822.6764 311.5,-5813.6817\" fill=\"none\" stroke=\"#000000\"/>\n<polygon fill=\"#000000\" points=\"315.0001,-5813.5903 311.5,-5803.5904 308.0001,-5813.5904 315.0001,-5813.5903\" stroke=\"#000000\"/>\n</g>\n<!-- 140688753986752 -->\n<g class=\"node\" id=\"node29\">\n<title>140688753986752</title>\n<polygon fill=\"none\" points=\"109.5,-5694.5 109.5,-5730.5 351.5,-5730.5 351.5,-5694.5 109.5,-5694.5\" stroke=\"#000000\"/>\n<text fill=\"#000000\" font-family=\"Times,serif\" font-size=\"14.00\" text-anchor=\"middle\" x=\"230.5\" y=\"-5708.8\">Encoder-3-FeedForward: FeedForward</text>\n</g>\n<!-- 140688753985856&#45;&gt;140688753986752 -->\n<g class=\"edge\" id=\"edge33\">\n<title>140688753985856-&gt;140688753986752</title>\n<path d=\"M291.4775,-5767.4551C281.4498,-5758.4177 269.1491,-5747.3319 258.2286,-5737.4899\" fill=\"none\" stroke=\"#000000\"/>\n<polygon fill=\"#000000\" points=\"260.3444,-5734.6852 250.5729,-5730.5904 255.6581,-5739.885 260.3444,-5734.6852\" stroke=\"#000000\"/>\n</g>\n<!-- 140688753640168 -->\n<g class=\"node\" id=\"node31\">\n<title>140688753640168</title>\n<polygon fill=\"none\" points=\"195.5,-5548.5 195.5,-5584.5 415.5,-5584.5 415.5,-5548.5 195.5,-5548.5\" stroke=\"#000000\"/>\n<text fill=\"#000000\" font-family=\"Times,serif\" font-size=\"14.00\" text-anchor=\"middle\" x=\"305.5\" y=\"-5562.8\">Encoder-3-FeedForward-Add: Add</text>\n</g>\n<!-- 140688753985856&#45;&gt;140688753640168 -->\n<g class=\"edge\" id=\"edge35\">\n<title>140688753985856-&gt;140688753640168</title>\n<path d=\"M333.3471,-5767.291C343.3936,-5757.6134 354.4097,-5744.8624 360.5,-5731 380.2044,-5686.1498 387.6917,-5665.6329 367.5,-5621 362.2852,-5609.4728 353.2939,-5599.4147 343.751,-5591.1833\" fill=\"none\" stroke=\"#000000\"/>\n<polygon fill=\"#000000\" points=\"345.6666,-5588.2331 335.676,-5584.7064 341.2868,-5593.6936 345.6666,-5588.2331\" stroke=\"#000000\"/>\n</g>\n<!-- 140688753556672 -->\n<g class=\"node\" id=\"node30\">\n<title>140688753556672</title>\n<polygon fill=\"none\" points=\"91,-5621.5 91,-5657.5 358,-5657.5 358,-5621.5 91,-5621.5\" stroke=\"#000000\"/>\n<text fill=\"#000000\" font-family=\"Times,serif\" font-size=\"14.00\" text-anchor=\"middle\" x=\"224.5\" y=\"-5635.8\">Encoder-3-FeedForward-Dropout: Dropout</text>\n</g>\n<!-- 140688753986752&#45;&gt;140688753556672 -->\n<g class=\"edge\" id=\"edge34\">\n<title>140688753986752-&gt;140688753556672</title>\n<path d=\"M229.0169,-5694.4551C228.3534,-5686.3828 227.5556,-5676.6764 226.8163,-5667.6817\" fill=\"none\" stroke=\"#000000\"/>\n<polygon fill=\"#000000\" points=\"230.2944,-5667.27 225.9869,-5657.5904 223.3179,-5667.8435 230.2944,-5667.27\" stroke=\"#000000\"/>\n</g>\n<!-- 140688753556672&#45;&gt;140688753640168 -->\n<g class=\"edge\" id=\"edge36\">\n<title>140688753556672-&gt;140688753640168</title>\n<path d=\"M244.5225,-5621.4551C254.5502,-5612.4177 266.8509,-5601.3319 277.7714,-5591.4899\" fill=\"none\" stroke=\"#000000\"/>\n<polygon fill=\"#000000\" points=\"280.3419,-5593.885 285.4271,-5584.5904 275.6556,-5588.6852 280.3419,-5593.885\" stroke=\"#000000\"/>\n</g>\n<!-- 140688753260024 -->\n<g class=\"node\" id=\"node32\">\n<title>140688753260024</title>\n<polygon fill=\"none\" points=\"146.5,-5475.5 146.5,-5511.5 464.5,-5511.5 464.5,-5475.5 146.5,-5475.5\" stroke=\"#000000\"/>\n<text fill=\"#000000\" font-family=\"Times,serif\" font-size=\"14.00\" text-anchor=\"middle\" x=\"305.5\" y=\"-5489.8\">Encoder-3-FeedForward-Norm: LayerNormalization</text>\n</g>\n<!-- 140688753640168&#45;&gt;140688753260024 -->\n<g class=\"edge\" id=\"edge37\">\n<title>140688753640168-&gt;140688753260024</title>\n<path d=\"M305.5,-5548.4551C305.5,-5540.3828 305.5,-5530.6764 305.5,-5521.6817\" fill=\"none\" stroke=\"#000000\"/>\n<polygon fill=\"#000000\" points=\"309.0001,-5521.5903 305.5,-5511.5904 302.0001,-5521.5904 309.0001,-5521.5903\" stroke=\"#000000\"/>\n</g>\n<!-- 140688753262152 -->\n<g class=\"node\" id=\"node33\">\n<title>140688753262152</title>\n<polygon fill=\"none\" points=\"35.5,-5402.5 35.5,-5438.5 377.5,-5438.5 377.5,-5402.5 35.5,-5402.5\" stroke=\"#000000\"/>\n<text fill=\"#000000\" font-family=\"Times,serif\" font-size=\"14.00\" text-anchor=\"middle\" x=\"206.5\" y=\"-5416.8\">Encoder-4-MultiHeadSelfAttention: MultiHeadAttention</text>\n</g>\n<!-- 140688753260024&#45;&gt;140688753262152 -->\n<g class=\"edge\" id=\"edge38\">\n<title>140688753260024-&gt;140688753262152</title>\n<path d=\"M281.0281,-5475.4551C268.4149,-5466.1545 252.8597,-5454.6844 239.2286,-5444.6332\" fill=\"none\" stroke=\"#000000\"/>\n<polygon fill=\"#000000\" points=\"241.1592,-5441.7082 231.0335,-5438.5904 237.0049,-5447.3421 241.1592,-5441.7082\" stroke=\"#000000\"/>\n</g>\n<!-- 140688753409440 -->\n<g class=\"node\" id=\"node35\">\n<title>140688753409440</title>\n<polygon fill=\"none\" points=\"167,-5256.5 167,-5292.5 448,-5292.5 448,-5256.5 167,-5256.5\" stroke=\"#000000\"/>\n<text fill=\"#000000\" font-family=\"Times,serif\" font-size=\"14.00\" text-anchor=\"middle\" x=\"307.5\" y=\"-5270.8\">Encoder-4-MultiHeadSelfAttention-Add: Add</text>\n</g>\n<!-- 140688753260024&#45;&gt;140688753409440 -->\n<g class=\"edge\" id=\"edge40\">\n<title>140688753260024-&gt;140688753409440</title>\n<path d=\"M348.0685,-5475.3804C363.0065,-5466.7 378.1359,-5454.7088 386.5,-5439 394.5894,-5423.8071 392.2511,-5346.9102 382.5,-5329 375.7494,-5316.601 364.8204,-5306.3006 353.3687,-5298.1162\" fill=\"none\" stroke=\"#000000\"/>\n<polygon fill=\"#000000\" points=\"355.2521,-5295.1654 344.99,-5292.531 351.3694,-5300.9899 355.2521,-5295.1654\" stroke=\"#000000\"/>\n</g>\n<!-- 140688753345704 -->\n<g class=\"node\" id=\"node34\">\n<title>140688753345704</title>\n<polygon fill=\"none\" points=\"45,-5329.5 45,-5365.5 374,-5365.5 374,-5329.5 45,-5329.5\" stroke=\"#000000\"/>\n<text fill=\"#000000\" font-family=\"Times,serif\" font-size=\"14.00\" text-anchor=\"middle\" x=\"209.5\" y=\"-5343.8\">Encoder-4-MultiHeadSelfAttention-Dropout: Dropout</text>\n</g>\n<!-- 140688753262152&#45;&gt;140688753345704 -->\n<g class=\"edge\" id=\"edge39\">\n<title>140688753262152-&gt;140688753345704</title>\n<path d=\"M207.2416,-5402.4551C207.5733,-5394.3828 207.9722,-5384.6764 208.3418,-5375.6817\" fill=\"none\" stroke=\"#000000\"/>\n<polygon fill=\"#000000\" points=\"211.8429,-5375.7257 208.7566,-5365.5904 204.8488,-5375.4382 211.8429,-5375.7257\" stroke=\"#000000\"/>\n</g>\n<!-- 140688753345704&#45;&gt;140688753409440 -->\n<g class=\"edge\" id=\"edge41\">\n<title>140688753345704-&gt;140688753409440</title>\n<path d=\"M233.7247,-5329.4551C246.2105,-5320.1545 261.6086,-5308.6844 275.102,-5298.6332\" fill=\"none\" stroke=\"#000000\"/>\n<polygon fill=\"#000000\" points=\"277.2855,-5301.371 283.2143,-5292.5904 273.1039,-5295.7573 277.2855,-5301.371\" stroke=\"#000000\"/>\n</g>\n<!-- 140688752484136 -->\n<g class=\"node\" id=\"node36\">\n<title>140688752484136</title>\n<polygon fill=\"none\" points=\"117.5,-5183.5 117.5,-5219.5 497.5,-5219.5 497.5,-5183.5 117.5,-5183.5\" stroke=\"#000000\"/>\n<text fill=\"#000000\" font-family=\"Times,serif\" font-size=\"14.00\" text-anchor=\"middle\" x=\"307.5\" y=\"-5197.8\">Encoder-4-MultiHeadSelfAttention-Norm: LayerNormalization</text>\n</g>\n<!-- 140688753409440&#45;&gt;140688752484136 -->\n<g class=\"edge\" id=\"edge42\">\n<title>140688753409440-&gt;140688752484136</title>\n<path d=\"M307.5,-5256.4551C307.5,-5248.3828 307.5,-5238.6764 307.5,-5229.6817\" fill=\"none\" stroke=\"#000000\"/>\n<polygon fill=\"#000000\" points=\"311.0001,-5229.5903 307.5,-5219.5904 304.0001,-5229.5904 311.0001,-5229.5903\" stroke=\"#000000\"/>\n</g>\n<!-- 140688752482904 -->\n<g class=\"node\" id=\"node37\">\n<title>140688752482904</title>\n<polygon fill=\"none\" points=\"105.5,-5110.5 105.5,-5146.5 347.5,-5146.5 347.5,-5110.5 105.5,-5110.5\" stroke=\"#000000\"/>\n<text fill=\"#000000\" font-family=\"Times,serif\" font-size=\"14.00\" text-anchor=\"middle\" x=\"226.5\" y=\"-5124.8\">Encoder-4-FeedForward: FeedForward</text>\n</g>\n<!-- 140688752484136&#45;&gt;140688752482904 -->\n<g class=\"edge\" id=\"edge43\">\n<title>140688752484136-&gt;140688752482904</title>\n<path d=\"M287.4775,-5183.4551C277.4498,-5174.4177 265.1491,-5163.3319 254.2286,-5153.4899\" fill=\"none\" stroke=\"#000000\"/>\n<polygon fill=\"#000000\" points=\"256.3444,-5150.6852 246.5729,-5146.5904 251.6581,-5155.885 256.3444,-5150.6852\" stroke=\"#000000\"/>\n</g>\n<!-- 140688752647584 -->\n<g class=\"node\" id=\"node39\">\n<title>140688752647584</title>\n<polygon fill=\"none\" points=\"191.5,-4964.5 191.5,-5000.5 411.5,-5000.5 411.5,-4964.5 191.5,-4964.5\" stroke=\"#000000\"/>\n<text fill=\"#000000\" font-family=\"Times,serif\" font-size=\"14.00\" text-anchor=\"middle\" x=\"301.5\" y=\"-4978.8\">Encoder-4-FeedForward-Add: Add</text>\n</g>\n<!-- 140688752484136&#45;&gt;140688752647584 -->\n<g class=\"edge\" id=\"edge45\">\n<title>140688752484136-&gt;140688752647584</title>\n<path d=\"M329.3471,-5183.291C339.3936,-5173.6134 350.4097,-5160.8624 356.5,-5147 376.2044,-5102.1498 383.6917,-5081.6329 363.5,-5037 358.2852,-5025.4728 349.2939,-5015.4147 339.751,-5007.1833\" fill=\"none\" stroke=\"#000000\"/>\n<polygon fill=\"#000000\" points=\"341.6666,-5004.2331 331.676,-5000.7064 337.2868,-5009.6936 341.6666,-5004.2331\" stroke=\"#000000\"/>\n</g>\n<!-- 140688752588504 -->\n<g class=\"node\" id=\"node38\">\n<title>140688752588504</title>\n<polygon fill=\"none\" points=\"87,-5037.5 87,-5073.5 354,-5073.5 354,-5037.5 87,-5037.5\" stroke=\"#000000\"/>\n<text fill=\"#000000\" font-family=\"Times,serif\" font-size=\"14.00\" text-anchor=\"middle\" x=\"220.5\" y=\"-5051.8\">Encoder-4-FeedForward-Dropout: Dropout</text>\n</g>\n<!-- 140688752482904&#45;&gt;140688752588504 -->\n<g class=\"edge\" id=\"edge44\">\n<title>140688752482904-&gt;140688752588504</title>\n<path d=\"M225.0169,-5110.4551C224.3534,-5102.3828 223.5556,-5092.6764 222.8163,-5083.6817\" fill=\"none\" stroke=\"#000000\"/>\n<polygon fill=\"#000000\" points=\"226.2944,-5083.27 221.9869,-5073.5904 219.3179,-5083.8435 226.2944,-5083.27\" stroke=\"#000000\"/>\n</g>\n<!-- 140688752588504&#45;&gt;140688752647584 -->\n<g class=\"edge\" id=\"edge46\">\n<title>140688752588504-&gt;140688752647584</title>\n<path d=\"M240.5225,-5037.4551C250.5502,-5028.4177 262.8509,-5017.3319 273.7714,-5007.4899\" fill=\"none\" stroke=\"#000000\"/>\n<polygon fill=\"#000000\" points=\"276.3419,-5009.885 281.4271,-5000.5904 271.6556,-5004.6852 276.3419,-5009.885\" stroke=\"#000000\"/>\n</g>\n<!-- 140688752281136 -->\n<g class=\"node\" id=\"node40\">\n<title>140688752281136</title>\n<polygon fill=\"none\" points=\"142.5,-4891.5 142.5,-4927.5 460.5,-4927.5 460.5,-4891.5 142.5,-4891.5\" stroke=\"#000000\"/>\n<text fill=\"#000000\" font-family=\"Times,serif\" font-size=\"14.00\" text-anchor=\"middle\" x=\"301.5\" y=\"-4905.8\">Encoder-4-FeedForward-Norm: LayerNormalization</text>\n</g>\n<!-- 140688752647584&#45;&gt;140688752281136 -->\n<g class=\"edge\" id=\"edge47\">\n<title>140688752647584-&gt;140688752281136</title>\n<path d=\"M301.5,-4964.4551C301.5,-4956.3828 301.5,-4946.6764 301.5,-4937.6817\" fill=\"none\" stroke=\"#000000\"/>\n<polygon fill=\"#000000\" points=\"305.0001,-4937.5903 301.5,-4927.5904 298.0001,-4937.5904 305.0001,-4937.5903\" stroke=\"#000000\"/>\n</g>\n<!-- 140688752353176 -->\n<g class=\"node\" id=\"node41\">\n<title>140688752353176</title>\n<polygon fill=\"none\" points=\"31.5,-4818.5 31.5,-4854.5 373.5,-4854.5 373.5,-4818.5 31.5,-4818.5\" stroke=\"#000000\"/>\n<text fill=\"#000000\" font-family=\"Times,serif\" font-size=\"14.00\" text-anchor=\"middle\" x=\"202.5\" y=\"-4832.8\">Encoder-5-MultiHeadSelfAttention: MultiHeadAttention</text>\n</g>\n<!-- 140688752281136&#45;&gt;140688752353176 -->\n<g class=\"edge\" id=\"edge48\">\n<title>140688752281136-&gt;140688752353176</title>\n<path d=\"M277.0281,-4891.4551C264.4149,-4882.1545 248.8597,-4870.6844 235.2286,-4860.6332\" fill=\"none\" stroke=\"#000000\"/>\n<polygon fill=\"#000000\" points=\"237.1592,-4857.7082 227.0335,-4854.5904 233.0049,-4863.3421 237.1592,-4857.7082\" stroke=\"#000000\"/>\n</g>\n<!-- 140688751922872 -->\n<g class=\"node\" id=\"node43\">\n<title>140688751922872</title>\n<polygon fill=\"none\" points=\"163,-4672.5 163,-4708.5 444,-4708.5 444,-4672.5 163,-4672.5\" stroke=\"#000000\"/>\n<text fill=\"#000000\" font-family=\"Times,serif\" font-size=\"14.00\" text-anchor=\"middle\" x=\"303.5\" y=\"-4686.8\">Encoder-5-MultiHeadSelfAttention-Add: Add</text>\n</g>\n<!-- 140688752281136&#45;&gt;140688751922872 -->\n<g class=\"edge\" id=\"edge50\">\n<title>140688752281136-&gt;140688751922872</title>\n<path d=\"M344.0685,-4891.3804C359.0065,-4882.7 374.1359,-4870.7088 382.5,-4855 390.5894,-4839.8071 388.2511,-4762.9102 378.5,-4745 371.7494,-4732.601 360.8204,-4722.3006 349.3687,-4714.1162\" fill=\"none\" stroke=\"#000000\"/>\n<polygon fill=\"#000000\" points=\"351.2521,-4711.1654 340.99,-4708.531 347.3694,-4716.9899 351.2521,-4711.1654\" stroke=\"#000000\"/>\n</g>\n<!-- 140688752383480 -->\n<g class=\"node\" id=\"node42\">\n<title>140688752383480</title>\n<polygon fill=\"none\" points=\"41,-4745.5 41,-4781.5 370,-4781.5 370,-4745.5 41,-4745.5\" stroke=\"#000000\"/>\n<text fill=\"#000000\" font-family=\"Times,serif\" font-size=\"14.00\" text-anchor=\"middle\" x=\"205.5\" y=\"-4759.8\">Encoder-5-MultiHeadSelfAttention-Dropout: Dropout</text>\n</g>\n<!-- 140688752353176&#45;&gt;140688752383480 -->\n<g class=\"edge\" id=\"edge49\">\n<title>140688752353176-&gt;140688752383480</title>\n<path d=\"M203.2416,-4818.4551C203.5733,-4810.3828 203.9722,-4800.6764 204.3418,-4791.6817\" fill=\"none\" stroke=\"#000000\"/>\n<polygon fill=\"#000000\" points=\"207.8429,-4791.7257 204.7566,-4781.5904 200.8488,-4791.4382 207.8429,-4791.7257\" stroke=\"#000000\"/>\n</g>\n<!-- 140688752383480&#45;&gt;140688751922872 -->\n<g class=\"edge\" id=\"edge51\">\n<title>140688752383480-&gt;140688751922872</title>\n<path d=\"M229.7247,-4745.4551C242.2105,-4736.1545 257.6086,-4724.6844 271.102,-4714.6332\" fill=\"none\" stroke=\"#000000\"/>\n<polygon fill=\"#000000\" points=\"273.2855,-4717.371 279.2143,-4708.5904 269.1039,-4711.7573 273.2855,-4717.371\" stroke=\"#000000\"/>\n</g>\n<!-- 140688751512824 -->\n<g class=\"node\" id=\"node44\">\n<title>140688751512824</title>\n<polygon fill=\"none\" points=\"113.5,-4599.5 113.5,-4635.5 493.5,-4635.5 493.5,-4599.5 113.5,-4599.5\" stroke=\"#000000\"/>\n<text fill=\"#000000\" font-family=\"Times,serif\" font-size=\"14.00\" text-anchor=\"middle\" x=\"303.5\" y=\"-4613.8\">Encoder-5-MultiHeadSelfAttention-Norm: LayerNormalization</text>\n</g>\n<!-- 140688751922872&#45;&gt;140688751512824 -->\n<g class=\"edge\" id=\"edge52\">\n<title>140688751922872-&gt;140688751512824</title>\n<path d=\"M303.5,-4672.4551C303.5,-4664.3828 303.5,-4654.6764 303.5,-4645.6817\" fill=\"none\" stroke=\"#000000\"/>\n<polygon fill=\"#000000\" points=\"307.0001,-4645.5903 303.5,-4635.5904 300.0001,-4645.5904 307.0001,-4645.5903\" stroke=\"#000000\"/>\n</g>\n<!-- 140688751574880 -->\n<g class=\"node\" id=\"node45\">\n<title>140688751574880</title>\n<polygon fill=\"none\" points=\"101.5,-4526.5 101.5,-4562.5 343.5,-4562.5 343.5,-4526.5 101.5,-4526.5\" stroke=\"#000000\"/>\n<text fill=\"#000000\" font-family=\"Times,serif\" font-size=\"14.00\" text-anchor=\"middle\" x=\"222.5\" y=\"-4540.8\">Encoder-5-FeedForward: FeedForward</text>\n</g>\n<!-- 140688751512824&#45;&gt;140688751574880 -->\n<g class=\"edge\" id=\"edge53\">\n<title>140688751512824-&gt;140688751574880</title>\n<path d=\"M283.4775,-4599.4551C273.4498,-4590.4177 261.1491,-4579.3319 250.2286,-4569.4899\" fill=\"none\" stroke=\"#000000\"/>\n<polygon fill=\"#000000\" points=\"252.3444,-4566.6852 242.5729,-4562.5904 247.6581,-4571.885 252.3444,-4566.6852\" stroke=\"#000000\"/>\n</g>\n<!-- 140688751136384 -->\n<g class=\"node\" id=\"node47\">\n<title>140688751136384</title>\n<polygon fill=\"none\" points=\"187.5,-4380.5 187.5,-4416.5 407.5,-4416.5 407.5,-4380.5 187.5,-4380.5\" stroke=\"#000000\"/>\n<text fill=\"#000000\" font-family=\"Times,serif\" font-size=\"14.00\" text-anchor=\"middle\" x=\"297.5\" y=\"-4394.8\">Encoder-5-FeedForward-Add: Add</text>\n</g>\n<!-- 140688751512824&#45;&gt;140688751136384 -->\n<g class=\"edge\" id=\"edge55\">\n<title>140688751512824-&gt;140688751136384</title>\n<path d=\"M325.3471,-4599.291C335.3936,-4589.6134 346.4097,-4576.8624 352.5,-4563 372.2044,-4518.1498 379.6917,-4497.6329 359.5,-4453 354.2852,-4441.4728 345.2939,-4431.4147 335.751,-4423.1833\" fill=\"none\" stroke=\"#000000\"/>\n<polygon fill=\"#000000\" points=\"337.6666,-4420.2331 327.676,-4416.7064 333.2868,-4425.6936 337.6666,-4420.2331\" stroke=\"#000000\"/>\n</g>\n<!-- 140688751596992 -->\n<g class=\"node\" id=\"node46\">\n<title>140688751596992</title>\n<polygon fill=\"none\" points=\"83,-4453.5 83,-4489.5 350,-4489.5 350,-4453.5 83,-4453.5\" stroke=\"#000000\"/>\n<text fill=\"#000000\" font-family=\"Times,serif\" font-size=\"14.00\" text-anchor=\"middle\" x=\"216.5\" y=\"-4467.8\">Encoder-5-FeedForward-Dropout: Dropout</text>\n</g>\n<!-- 140688751574880&#45;&gt;140688751596992 -->\n<g class=\"edge\" id=\"edge54\">\n<title>140688751574880-&gt;140688751596992</title>\n<path d=\"M221.0169,-4526.4551C220.3534,-4518.3828 219.5556,-4508.6764 218.8163,-4499.6817\" fill=\"none\" stroke=\"#000000\"/>\n<polygon fill=\"#000000\" points=\"222.2944,-4499.27 217.9869,-4489.5904 215.3179,-4499.8435 222.2944,-4499.27\" stroke=\"#000000\"/>\n</g>\n<!-- 140688751596992&#45;&gt;140688751136384 -->\n<g class=\"edge\" id=\"edge56\">\n<title>140688751596992-&gt;140688751136384</title>\n<path d=\"M236.5225,-4453.4551C246.5502,-4444.4177 258.8509,-4433.3319 269.7714,-4423.4899\" fill=\"none\" stroke=\"#000000\"/>\n<polygon fill=\"#000000\" points=\"272.3419,-4425.885 277.4271,-4416.5904 267.6556,-4420.6852 272.3419,-4425.885\" stroke=\"#000000\"/>\n</g>\n<!-- 140688751300560 -->\n<g class=\"node\" id=\"node48\">\n<title>140688751300560</title>\n<polygon fill=\"none\" points=\"138.5,-4307.5 138.5,-4343.5 456.5,-4343.5 456.5,-4307.5 138.5,-4307.5\" stroke=\"#000000\"/>\n<text fill=\"#000000\" font-family=\"Times,serif\" font-size=\"14.00\" text-anchor=\"middle\" x=\"297.5\" y=\"-4321.8\">Encoder-5-FeedForward-Norm: LayerNormalization</text>\n</g>\n<!-- 140688751136384&#45;&gt;140688751300560 -->\n<g class=\"edge\" id=\"edge57\">\n<title>140688751136384-&gt;140688751300560</title>\n<path d=\"M297.5,-4380.4551C297.5,-4372.3828 297.5,-4362.6764 297.5,-4353.6817\" fill=\"none\" stroke=\"#000000\"/>\n<polygon fill=\"#000000\" points=\"301.0001,-4353.5903 297.5,-4343.5904 294.0001,-4353.5904 301.0001,-4353.5903\" stroke=\"#000000\"/>\n</g>\n<!-- 140688751369632 -->\n<g class=\"node\" id=\"node49\">\n<title>140688751369632</title>\n<polygon fill=\"none\" points=\"27.5,-4234.5 27.5,-4270.5 369.5,-4270.5 369.5,-4234.5 27.5,-4234.5\" stroke=\"#000000\"/>\n<text fill=\"#000000\" font-family=\"Times,serif\" font-size=\"14.00\" text-anchor=\"middle\" x=\"198.5\" y=\"-4248.8\">Encoder-6-MultiHeadSelfAttention: MultiHeadAttention</text>\n</g>\n<!-- 140688751300560&#45;&gt;140688751369632 -->\n<g class=\"edge\" id=\"edge58\">\n<title>140688751300560-&gt;140688751369632</title>\n<path d=\"M273.0281,-4307.4551C260.4149,-4298.1545 244.8597,-4286.6844 231.2286,-4276.6332\" fill=\"none\" stroke=\"#000000\"/>\n<polygon fill=\"#000000\" points=\"233.1592,-4273.7082 223.0335,-4270.5904 229.0049,-4279.3421 233.1592,-4273.7082\" stroke=\"#000000\"/>\n</g>\n<!-- 140688750931024 -->\n<g class=\"node\" id=\"node51\">\n<title>140688750931024</title>\n<polygon fill=\"none\" points=\"158,-4088.5 158,-4124.5 439,-4124.5 439,-4088.5 158,-4088.5\" stroke=\"#000000\"/>\n<text fill=\"#000000\" font-family=\"Times,serif\" font-size=\"14.00\" text-anchor=\"middle\" x=\"298.5\" y=\"-4102.8\">Encoder-6-MultiHeadSelfAttention-Add: Add</text>\n</g>\n<!-- 140688751300560&#45;&gt;140688750931024 -->\n<g class=\"edge\" id=\"edge60\">\n<title>140688751300560-&gt;140688750931024</title>\n<path d=\"M340.0685,-4307.3804C355.0065,-4298.7 370.1359,-4286.7088 378.5,-4271 386.1793,-4256.5774 385.9885,-4180.2923 375.5,-4161 368.7016,-4148.4953 357.6452,-4138.1998 346.0052,-4130.0548\" fill=\"none\" stroke=\"#000000\"/>\n<polygon fill=\"#000000\" points=\"347.7688,-4127.0266 337.4788,-4124.5031 343.9492,-4132.8927 347.7688,-4127.0266\" stroke=\"#000000\"/>\n</g>\n<!-- 140688750869696 -->\n<g class=\"node\" id=\"node50\">\n<title>140688750869696</title>\n<polygon fill=\"none\" points=\"38,-4161.5 38,-4197.5 367,-4197.5 367,-4161.5 38,-4161.5\" stroke=\"#000000\"/>\n<text fill=\"#000000\" font-family=\"Times,serif\" font-size=\"14.00\" text-anchor=\"middle\" x=\"202.5\" y=\"-4175.8\">Encoder-6-MultiHeadSelfAttention-Dropout: Dropout</text>\n</g>\n<!-- 140688751369632&#45;&gt;140688750869696 -->\n<g class=\"edge\" id=\"edge59\">\n<title>140688751369632-&gt;140688750869696</title>\n<path d=\"M199.4888,-4234.4551C199.9311,-4226.3828 200.4629,-4216.6764 200.9558,-4207.6817\" fill=\"none\" stroke=\"#000000\"/>\n<polygon fill=\"#000000\" points=\"204.4563,-4207.7669 201.5087,-4197.5904 197.4668,-4207.3839 204.4563,-4207.7669\" stroke=\"#000000\"/>\n</g>\n<!-- 140688750869696&#45;&gt;140688750931024 -->\n<g class=\"edge\" id=\"edge61\">\n<title>140688750869696-&gt;140688750931024</title>\n<path d=\"M226.2303,-4161.4551C238.3459,-4152.2422 253.2608,-4140.9006 266.3886,-4130.918\" fill=\"none\" stroke=\"#000000\"/>\n<polygon fill=\"#000000\" points=\"268.8684,-4133.4293 274.7099,-4124.5904 264.6314,-4127.8573 268.8684,-4133.4293\" stroke=\"#000000\"/>\n</g>\n<!-- 140688750517776 -->\n<g class=\"node\" id=\"node52\">\n<title>140688750517776</title>\n<polygon fill=\"none\" points=\"108.5,-4015.5 108.5,-4051.5 488.5,-4051.5 488.5,-4015.5 108.5,-4015.5\" stroke=\"#000000\"/>\n<text fill=\"#000000\" font-family=\"Times,serif\" font-size=\"14.00\" text-anchor=\"middle\" x=\"298.5\" y=\"-4029.8\">Encoder-6-MultiHeadSelfAttention-Norm: LayerNormalization</text>\n</g>\n<!-- 140688750931024&#45;&gt;140688750517776 -->\n<g class=\"edge\" id=\"edge62\">\n<title>140688750931024-&gt;140688750517776</title>\n<path d=\"M298.5,-4088.4551C298.5,-4080.3828 298.5,-4070.6764 298.5,-4061.6817\" fill=\"none\" stroke=\"#000000\"/>\n<polygon fill=\"#000000\" points=\"302.0001,-4061.5903 298.5,-4051.5904 295.0001,-4061.5904 302.0001,-4061.5903\" stroke=\"#000000\"/>\n</g>\n<!-- 140688750583144 -->\n<g class=\"node\" id=\"node53\">\n<title>140688750583144</title>\n<polygon fill=\"none\" points=\"96.5,-3942.5 96.5,-3978.5 338.5,-3978.5 338.5,-3942.5 96.5,-3942.5\" stroke=\"#000000\"/>\n<text fill=\"#000000\" font-family=\"Times,serif\" font-size=\"14.00\" text-anchor=\"middle\" x=\"217.5\" y=\"-3956.8\">Encoder-6-FeedForward: FeedForward</text>\n</g>\n<!-- 140688750517776&#45;&gt;140688750583144 -->\n<g class=\"edge\" id=\"edge63\">\n<title>140688750517776-&gt;140688750583144</title>\n<path d=\"M278.4775,-4015.4551C268.4498,-4006.4177 256.1491,-3995.3319 245.2286,-3985.4899\" fill=\"none\" stroke=\"#000000\"/>\n<polygon fill=\"#000000\" points=\"247.3444,-3982.6852 237.5729,-3978.5904 242.6581,-3987.885 247.3444,-3982.6852\" stroke=\"#000000\"/>\n</g>\n<!-- 140688750148632 -->\n<g class=\"node\" id=\"node55\">\n<title>140688750148632</title>\n<polygon fill=\"none\" points=\"182.5,-3796.5 182.5,-3832.5 402.5,-3832.5 402.5,-3796.5 182.5,-3796.5\" stroke=\"#000000\"/>\n<text fill=\"#000000\" font-family=\"Times,serif\" font-size=\"14.00\" text-anchor=\"middle\" x=\"292.5\" y=\"-3810.8\">Encoder-6-FeedForward-Add: Add</text>\n</g>\n<!-- 140688750517776&#45;&gt;140688750148632 -->\n<g class=\"edge\" id=\"edge65\">\n<title>140688750517776-&gt;140688750148632</title>\n<path d=\"M320.3471,-4015.291C330.3936,-4005.6134 341.4097,-3992.8624 347.5,-3979 367.2044,-3934.1498 374.6917,-3913.6329 354.5,-3869 349.2852,-3857.4728 340.2939,-3847.4147 330.751,-3839.1833\" fill=\"none\" stroke=\"#000000\"/>\n<polygon fill=\"#000000\" points=\"332.6666,-3836.2331 322.676,-3832.7064 328.2868,-3841.6936 332.6666,-3836.2331\" stroke=\"#000000\"/>\n</g>\n<!-- 140688750091400 -->\n<g class=\"node\" id=\"node54\">\n<title>140688750091400</title>\n<polygon fill=\"none\" points=\"78,-3869.5 78,-3905.5 345,-3905.5 345,-3869.5 78,-3869.5\" stroke=\"#000000\"/>\n<text fill=\"#000000\" font-family=\"Times,serif\" font-size=\"14.00\" text-anchor=\"middle\" x=\"211.5\" y=\"-3883.8\">Encoder-6-FeedForward-Dropout: Dropout</text>\n</g>\n<!-- 140688750583144&#45;&gt;140688750091400 -->\n<g class=\"edge\" id=\"edge64\">\n<title>140688750583144-&gt;140688750091400</title>\n<path d=\"M216.0169,-3942.4551C215.3534,-3934.3828 214.5556,-3924.6764 213.8163,-3915.6817\" fill=\"none\" stroke=\"#000000\"/>\n<polygon fill=\"#000000\" points=\"217.2944,-3915.27 212.9869,-3905.5904 210.3179,-3915.8435 217.2944,-3915.27\" stroke=\"#000000\"/>\n</g>\n<!-- 140688750091400&#45;&gt;140688750148632 -->\n<g class=\"edge\" id=\"edge66\">\n<title>140688750091400-&gt;140688750148632</title>\n<path d=\"M231.5225,-3869.4551C241.5502,-3860.4177 253.8509,-3849.3319 264.7714,-3839.4899\" fill=\"none\" stroke=\"#000000\"/>\n<polygon fill=\"#000000\" points=\"267.3419,-3841.885 272.4271,-3832.5904 262.6556,-3836.6852 267.3419,-3841.885\" stroke=\"#000000\"/>\n</g>\n<!-- 140688750305120 -->\n<g class=\"node\" id=\"node56\">\n<title>140688750305120</title>\n<polygon fill=\"none\" points=\"133.5,-3723.5 133.5,-3759.5 451.5,-3759.5 451.5,-3723.5 133.5,-3723.5\" stroke=\"#000000\"/>\n<text fill=\"#000000\" font-family=\"Times,serif\" font-size=\"14.00\" text-anchor=\"middle\" x=\"292.5\" y=\"-3737.8\">Encoder-6-FeedForward-Norm: LayerNormalization</text>\n</g>\n<!-- 140688750148632&#45;&gt;140688750305120 -->\n<g class=\"edge\" id=\"edge67\">\n<title>140688750148632-&gt;140688750305120</title>\n<path d=\"M292.5,-3796.4551C292.5,-3788.3828 292.5,-3778.6764 292.5,-3769.6817\" fill=\"none\" stroke=\"#000000\"/>\n<polygon fill=\"#000000\" points=\"296.0001,-3769.5903 292.5,-3759.5904 289.0001,-3769.5904 296.0001,-3769.5903\" stroke=\"#000000\"/>\n</g>\n<!-- 140688750304336 -->\n<g class=\"node\" id=\"node57\">\n<title>140688750304336</title>\n<polygon fill=\"none\" points=\"22.5,-3650.5 22.5,-3686.5 364.5,-3686.5 364.5,-3650.5 22.5,-3650.5\" stroke=\"#000000\"/>\n<text fill=\"#000000\" font-family=\"Times,serif\" font-size=\"14.00\" text-anchor=\"middle\" x=\"193.5\" y=\"-3664.8\">Encoder-7-MultiHeadSelfAttention: MultiHeadAttention</text>\n</g>\n<!-- 140688750305120&#45;&gt;140688750304336 -->\n<g class=\"edge\" id=\"edge68\">\n<title>140688750305120-&gt;140688750304336</title>\n<path d=\"M268.0281,-3723.4551C255.4149,-3714.1545 239.8597,-3702.6844 226.2286,-3692.6332\" fill=\"none\" stroke=\"#000000\"/>\n<polygon fill=\"#000000\" points=\"228.1592,-3689.7082 218.0335,-3686.5904 224.0049,-3695.3421 228.1592,-3689.7082\" stroke=\"#000000\"/>\n</g>\n<!-- 140688749930984 -->\n<g class=\"node\" id=\"node59\">\n<title>140688749930984</title>\n<polygon fill=\"none\" points=\"153,-3504.5 153,-3540.5 434,-3540.5 434,-3504.5 153,-3504.5\" stroke=\"#000000\"/>\n<text fill=\"#000000\" font-family=\"Times,serif\" font-size=\"14.00\" text-anchor=\"middle\" x=\"293.5\" y=\"-3518.8\">Encoder-7-MultiHeadSelfAttention-Add: Add</text>\n</g>\n<!-- 140688750305120&#45;&gt;140688749930984 -->\n<g class=\"edge\" id=\"edge70\">\n<title>140688750305120-&gt;140688749930984</title>\n<path d=\"M335.0685,-3723.3804C350.0065,-3714.7 365.1359,-3702.7088 373.5,-3687 381.1793,-3672.5774 380.9885,-3596.2923 370.5,-3577 363.7016,-3564.4953 352.6452,-3554.1998 341.0052,-3546.0548\" fill=\"none\" stroke=\"#000000\"/>\n<polygon fill=\"#000000\" points=\"342.7688,-3543.0266 332.4788,-3540.5031 338.9492,-3548.8927 342.7688,-3543.0266\" stroke=\"#000000\"/>\n</g>\n<!-- 140688749853944 -->\n<g class=\"node\" id=\"node58\">\n<title>140688749853944</title>\n<polygon fill=\"none\" points=\"33,-3577.5 33,-3613.5 362,-3613.5 362,-3577.5 33,-3577.5\" stroke=\"#000000\"/>\n<text fill=\"#000000\" font-family=\"Times,serif\" font-size=\"14.00\" text-anchor=\"middle\" x=\"197.5\" y=\"-3591.8\">Encoder-7-MultiHeadSelfAttention-Dropout: Dropout</text>\n</g>\n<!-- 140688750304336&#45;&gt;140688749853944 -->\n<g class=\"edge\" id=\"edge69\">\n<title>140688750304336-&gt;140688749853944</title>\n<path d=\"M194.4888,-3650.4551C194.9311,-3642.3828 195.4629,-3632.6764 195.9558,-3623.6817\" fill=\"none\" stroke=\"#000000\"/>\n<polygon fill=\"#000000\" points=\"199.4563,-3623.7669 196.5087,-3613.5904 192.4668,-3623.3839 199.4563,-3623.7669\" stroke=\"#000000\"/>\n</g>\n<!-- 140688749853944&#45;&gt;140688749930984 -->\n<g class=\"edge\" id=\"edge71\">\n<title>140688749853944-&gt;140688749930984</title>\n<path d=\"M221.2303,-3577.4551C233.3459,-3568.2422 248.2608,-3556.9006 261.3886,-3546.918\" fill=\"none\" stroke=\"#000000\"/>\n<polygon fill=\"#000000\" points=\"263.8684,-3549.4293 269.7099,-3540.5904 259.6314,-3543.8573 263.8684,-3549.4293\" stroke=\"#000000\"/>\n</g>\n<!-- 140688749502192 -->\n<g class=\"node\" id=\"node60\">\n<title>140688749502192</title>\n<polygon fill=\"none\" points=\"103.5,-3431.5 103.5,-3467.5 483.5,-3467.5 483.5,-3431.5 103.5,-3431.5\" stroke=\"#000000\"/>\n<text fill=\"#000000\" font-family=\"Times,serif\" font-size=\"14.00\" text-anchor=\"middle\" x=\"293.5\" y=\"-3445.8\">Encoder-7-MultiHeadSelfAttention-Norm: LayerNormalization</text>\n</g>\n<!-- 140688749930984&#45;&gt;140688749502192 -->\n<g class=\"edge\" id=\"edge72\">\n<title>140688749930984-&gt;140688749502192</title>\n<path d=\"M293.5,-3504.4551C293.5,-3496.3828 293.5,-3486.6764 293.5,-3477.6817\" fill=\"none\" stroke=\"#000000\"/>\n<polygon fill=\"#000000\" points=\"297.0001,-3477.5903 293.5,-3467.5904 290.0001,-3477.5904 297.0001,-3477.5903\" stroke=\"#000000\"/>\n</g>\n<!-- 140688749522112 -->\n<g class=\"node\" id=\"node61\">\n<title>140688749522112</title>\n<polygon fill=\"none\" points=\"91.5,-3358.5 91.5,-3394.5 333.5,-3394.5 333.5,-3358.5 91.5,-3358.5\" stroke=\"#000000\"/>\n<text fill=\"#000000\" font-family=\"Times,serif\" font-size=\"14.00\" text-anchor=\"middle\" x=\"212.5\" y=\"-3372.8\">Encoder-7-FeedForward: FeedForward</text>\n</g>\n<!-- 140688749502192&#45;&gt;140688749522112 -->\n<g class=\"edge\" id=\"edge73\">\n<title>140688749502192-&gt;140688749522112</title>\n<path d=\"M273.4775,-3431.4551C263.4498,-3422.4177 251.1491,-3411.3319 240.2286,-3401.4899\" fill=\"none\" stroke=\"#000000\"/>\n<polygon fill=\"#000000\" points=\"242.3444,-3398.6852 232.5729,-3394.5904 237.6581,-3403.885 242.3444,-3398.6852\" stroke=\"#000000\"/>\n</g>\n<!-- 140688749148592 -->\n<g class=\"node\" id=\"node63\">\n<title>140688749148592</title>\n<polygon fill=\"none\" points=\"177.5,-3212.5 177.5,-3248.5 397.5,-3248.5 397.5,-3212.5 177.5,-3212.5\" stroke=\"#000000\"/>\n<text fill=\"#000000\" font-family=\"Times,serif\" font-size=\"14.00\" text-anchor=\"middle\" x=\"287.5\" y=\"-3226.8\">Encoder-7-FeedForward-Add: Add</text>\n</g>\n<!-- 140688749502192&#45;&gt;140688749148592 -->\n<g class=\"edge\" id=\"edge75\">\n<title>140688749502192-&gt;140688749148592</title>\n<path d=\"M315.3471,-3431.291C325.3936,-3421.6134 336.4097,-3408.8624 342.5,-3395 362.2044,-3350.1498 369.6917,-3329.6329 349.5,-3285 344.2852,-3273.4728 335.2939,-3263.4147 325.751,-3255.1833\" fill=\"none\" stroke=\"#000000\"/>\n<polygon fill=\"#000000\" points=\"327.6666,-3252.2331 317.676,-3248.7064 323.2868,-3257.6936 327.6666,-3252.2331\" stroke=\"#000000\"/>\n</g>\n<!-- 140688749067456 -->\n<g class=\"node\" id=\"node62\">\n<title>140688749067456</title>\n<polygon fill=\"none\" points=\"73,-3285.5 73,-3321.5 340,-3321.5 340,-3285.5 73,-3285.5\" stroke=\"#000000\"/>\n<text fill=\"#000000\" font-family=\"Times,serif\" font-size=\"14.00\" text-anchor=\"middle\" x=\"206.5\" y=\"-3299.8\">Encoder-7-FeedForward-Dropout: Dropout</text>\n</g>\n<!-- 140688749522112&#45;&gt;140688749067456 -->\n<g class=\"edge\" id=\"edge74\">\n<title>140688749522112-&gt;140688749067456</title>\n<path d=\"M211.0169,-3358.4551C210.3534,-3350.3828 209.5556,-3340.6764 208.8163,-3331.6817\" fill=\"none\" stroke=\"#000000\"/>\n<polygon fill=\"#000000\" points=\"212.2944,-3331.27 207.9869,-3321.5904 205.3179,-3331.8435 212.2944,-3331.27\" stroke=\"#000000\"/>\n</g>\n<!-- 140688749067456&#45;&gt;140688749148592 -->\n<g class=\"edge\" id=\"edge76\">\n<title>140688749067456-&gt;140688749148592</title>\n<path d=\"M226.5225,-3285.4551C236.5502,-3276.4177 248.8509,-3265.3319 259.7714,-3255.4899\" fill=\"none\" stroke=\"#000000\"/>\n<polygon fill=\"#000000\" points=\"262.3419,-3257.885 267.4271,-3248.5904 257.6556,-3252.6852 262.3419,-3257.885\" stroke=\"#000000\"/>\n</g>\n<!-- 140688748801272 -->\n<g class=\"node\" id=\"node64\">\n<title>140688748801272</title>\n<polygon fill=\"none\" points=\"128.5,-3139.5 128.5,-3175.5 446.5,-3175.5 446.5,-3139.5 128.5,-3139.5\" stroke=\"#000000\"/>\n<text fill=\"#000000\" font-family=\"Times,serif\" font-size=\"14.00\" text-anchor=\"middle\" x=\"287.5\" y=\"-3153.8\">Encoder-7-FeedForward-Norm: LayerNormalization</text>\n</g>\n<!-- 140688749148592&#45;&gt;140688748801272 -->\n<g class=\"edge\" id=\"edge77\">\n<title>140688749148592-&gt;140688748801272</title>\n<path d=\"M287.5,-3212.4551C287.5,-3204.3828 287.5,-3194.6764 287.5,-3185.6817\" fill=\"none\" stroke=\"#000000\"/>\n<polygon fill=\"#000000\" points=\"291.0001,-3185.5903 287.5,-3175.5904 284.0001,-3185.5904 291.0001,-3185.5903\" stroke=\"#000000\"/>\n</g>\n<!-- 140688748800488 -->\n<g class=\"node\" id=\"node65\">\n<title>140688748800488</title>\n<polygon fill=\"none\" points=\"17.5,-3066.5 17.5,-3102.5 359.5,-3102.5 359.5,-3066.5 17.5,-3066.5\" stroke=\"#000000\"/>\n<text fill=\"#000000\" font-family=\"Times,serif\" font-size=\"14.00\" text-anchor=\"middle\" x=\"188.5\" y=\"-3080.8\">Encoder-8-MultiHeadSelfAttention: MultiHeadAttention</text>\n</g>\n<!-- 140688748801272&#45;&gt;140688748800488 -->\n<g class=\"edge\" id=\"edge78\">\n<title>140688748801272-&gt;140688748800488</title>\n<path d=\"M263.0281,-3139.4551C250.4149,-3130.1545 234.8597,-3118.6844 221.2286,-3108.6332\" fill=\"none\" stroke=\"#000000\"/>\n<polygon fill=\"#000000\" points=\"223.1592,-3105.7082 213.0335,-3102.5904 219.0049,-3111.3421 223.1592,-3105.7082\" stroke=\"#000000\"/>\n</g>\n<!-- 140688748951424 -->\n<g class=\"node\" id=\"node67\">\n<title>140688748951424</title>\n<polygon fill=\"none\" points=\"149,-2920.5 149,-2956.5 430,-2956.5 430,-2920.5 149,-2920.5\" stroke=\"#000000\"/>\n<text fill=\"#000000\" font-family=\"Times,serif\" font-size=\"14.00\" text-anchor=\"middle\" x=\"289.5\" y=\"-2934.8\">Encoder-8-MultiHeadSelfAttention-Add: Add</text>\n</g>\n<!-- 140688748801272&#45;&gt;140688748951424 -->\n<g class=\"edge\" id=\"edge80\">\n<title>140688748801272-&gt;140688748951424</title>\n<path d=\"M330.0685,-3139.3804C345.0065,-3130.7 360.1359,-3118.7088 368.5,-3103 376.5894,-3087.8071 374.2511,-3010.9102 364.5,-2993 357.7494,-2980.601 346.8204,-2970.3006 335.3687,-2962.1162\" fill=\"none\" stroke=\"#000000\"/>\n<polygon fill=\"#000000\" points=\"337.2521,-2959.1654 326.99,-2956.531 333.3694,-2964.9899 337.2521,-2959.1654\" stroke=\"#000000\"/>\n</g>\n<!-- 140688748858056 -->\n<g class=\"node\" id=\"node66\">\n<title>140688748858056</title>\n<polygon fill=\"none\" points=\"27,-2993.5 27,-3029.5 356,-3029.5 356,-2993.5 27,-2993.5\" stroke=\"#000000\"/>\n<text fill=\"#000000\" font-family=\"Times,serif\" font-size=\"14.00\" text-anchor=\"middle\" x=\"191.5\" y=\"-3007.8\">Encoder-8-MultiHeadSelfAttention-Dropout: Dropout</text>\n</g>\n<!-- 140688748800488&#45;&gt;140688748858056 -->\n<g class=\"edge\" id=\"edge79\">\n<title>140688748800488-&gt;140688748858056</title>\n<path d=\"M189.2416,-3066.4551C189.5733,-3058.3828 189.9722,-3048.6764 190.3418,-3039.6817\" fill=\"none\" stroke=\"#000000\"/>\n<polygon fill=\"#000000\" points=\"193.8429,-3039.7257 190.7566,-3029.5904 186.8488,-3039.4382 193.8429,-3039.7257\" stroke=\"#000000\"/>\n</g>\n<!-- 140688748858056&#45;&gt;140688748951424 -->\n<g class=\"edge\" id=\"edge81\">\n<title>140688748858056-&gt;140688748951424</title>\n<path d=\"M215.7247,-2993.4551C228.2105,-2984.1545 243.6086,-2972.6844 257.102,-2962.6332\" fill=\"none\" stroke=\"#000000\"/>\n<polygon fill=\"#000000\" points=\"259.2855,-2965.371 265.2143,-2956.5904 255.1039,-2959.7573 259.2855,-2965.371\" stroke=\"#000000\"/>\n</g>\n<!-- 140688747994472 -->\n<g class=\"node\" id=\"node68\">\n<title>140688747994472</title>\n<polygon fill=\"none\" points=\"99.5,-2847.5 99.5,-2883.5 479.5,-2883.5 479.5,-2847.5 99.5,-2847.5\" stroke=\"#000000\"/>\n<text fill=\"#000000\" font-family=\"Times,serif\" font-size=\"14.00\" text-anchor=\"middle\" x=\"289.5\" y=\"-2861.8\">Encoder-8-MultiHeadSelfAttention-Norm: LayerNormalization</text>\n</g>\n<!-- 140688748951424&#45;&gt;140688747994472 -->\n<g class=\"edge\" id=\"edge82\">\n<title>140688748951424-&gt;140688747994472</title>\n<path d=\"M289.5,-2920.4551C289.5,-2912.3828 289.5,-2902.6764 289.5,-2893.6817\" fill=\"none\" stroke=\"#000000\"/>\n<polygon fill=\"#000000\" points=\"293.0001,-2893.5903 289.5,-2883.5904 286.0001,-2893.5904 293.0001,-2893.5903\" stroke=\"#000000\"/>\n</g>\n<!-- 140688748030664 -->\n<g class=\"node\" id=\"node69\">\n<title>140688748030664</title>\n<polygon fill=\"none\" points=\"87.5,-2774.5 87.5,-2810.5 329.5,-2810.5 329.5,-2774.5 87.5,-2774.5\" stroke=\"#000000\"/>\n<text fill=\"#000000\" font-family=\"Times,serif\" font-size=\"14.00\" text-anchor=\"middle\" x=\"208.5\" y=\"-2788.8\">Encoder-8-FeedForward: FeedForward</text>\n</g>\n<!-- 140688747994472&#45;&gt;140688748030664 -->\n<g class=\"edge\" id=\"edge83\">\n<title>140688747994472-&gt;140688748030664</title>\n<path d=\"M269.4775,-2847.4551C259.4498,-2838.4177 247.1491,-2827.3319 236.2286,-2817.4899\" fill=\"none\" stroke=\"#000000\"/>\n<polygon fill=\"#000000\" points=\"238.3444,-2814.6852 228.5729,-2810.5904 233.6581,-2819.885 238.3444,-2814.6852\" stroke=\"#000000\"/>\n</g>\n<!-- 140688748181320 -->\n<g class=\"node\" id=\"node71\">\n<title>140688748181320</title>\n<polygon fill=\"none\" points=\"173.5,-2628.5 173.5,-2664.5 393.5,-2664.5 393.5,-2628.5 173.5,-2628.5\" stroke=\"#000000\"/>\n<text fill=\"#000000\" font-family=\"Times,serif\" font-size=\"14.00\" text-anchor=\"middle\" x=\"283.5\" y=\"-2642.8\">Encoder-8-FeedForward-Add: Add</text>\n</g>\n<!-- 140688747994472&#45;&gt;140688748181320 -->\n<g class=\"edge\" id=\"edge85\">\n<title>140688747994472-&gt;140688748181320</title>\n<path d=\"M311.3471,-2847.291C321.3936,-2837.6134 332.4097,-2824.8624 338.5,-2811 358.2044,-2766.1498 365.6917,-2745.6329 345.5,-2701 340.2852,-2689.4728 331.2939,-2679.4147 321.751,-2671.1833\" fill=\"none\" stroke=\"#000000\"/>\n<polygon fill=\"#000000\" points=\"323.6666,-2668.2331 313.676,-2664.7064 319.2868,-2673.6936 323.6666,-2668.2331\" stroke=\"#000000\"/>\n</g>\n<!-- 140688748087952 -->\n<g class=\"node\" id=\"node70\">\n<title>140688748087952</title>\n<polygon fill=\"none\" points=\"69,-2701.5 69,-2737.5 336,-2737.5 336,-2701.5 69,-2701.5\" stroke=\"#000000\"/>\n<text fill=\"#000000\" font-family=\"Times,serif\" font-size=\"14.00\" text-anchor=\"middle\" x=\"202.5\" y=\"-2715.8\">Encoder-8-FeedForward-Dropout: Dropout</text>\n</g>\n<!-- 140688748030664&#45;&gt;140688748087952 -->\n<g class=\"edge\" id=\"edge84\">\n<title>140688748030664-&gt;140688748087952</title>\n<path d=\"M207.0169,-2774.4551C206.3534,-2766.3828 205.5556,-2756.6764 204.8163,-2747.6817\" fill=\"none\" stroke=\"#000000\"/>\n<polygon fill=\"#000000\" points=\"208.2944,-2747.27 203.9869,-2737.5904 201.3179,-2747.8435 208.2944,-2747.27\" stroke=\"#000000\"/>\n</g>\n<!-- 140688748087952&#45;&gt;140688748181320 -->\n<g class=\"edge\" id=\"edge86\">\n<title>140688748087952-&gt;140688748181320</title>\n<path d=\"M222.5225,-2701.4551C232.5502,-2692.4177 244.8509,-2681.3319 255.7714,-2671.4899\" fill=\"none\" stroke=\"#000000\"/>\n<polygon fill=\"#000000\" points=\"258.3419,-2673.885 263.4271,-2664.5904 253.6556,-2668.6852 258.3419,-2673.885\" stroke=\"#000000\"/>\n</g>\n<!-- 140688747817616 -->\n<g class=\"node\" id=\"node72\">\n<title>140688747817616</title>\n<polygon fill=\"none\" points=\"124.5,-2555.5 124.5,-2591.5 442.5,-2591.5 442.5,-2555.5 124.5,-2555.5\" stroke=\"#000000\"/>\n<text fill=\"#000000\" font-family=\"Times,serif\" font-size=\"14.00\" text-anchor=\"middle\" x=\"283.5\" y=\"-2569.8\">Encoder-8-FeedForward-Norm: LayerNormalization</text>\n</g>\n<!-- 140688748181320&#45;&gt;140688747817616 -->\n<g class=\"edge\" id=\"edge87\">\n<title>140688748181320-&gt;140688747817616</title>\n<path d=\"M283.5,-2628.4551C283.5,-2620.3828 283.5,-2610.6764 283.5,-2601.6817\" fill=\"none\" stroke=\"#000000\"/>\n<polygon fill=\"#000000\" points=\"287.0001,-2601.5903 283.5,-2591.5904 280.0001,-2601.5904 287.0001,-2601.5903\" stroke=\"#000000\"/>\n</g>\n<!-- 140688747816832 -->\n<g class=\"node\" id=\"node73\">\n<title>140688747816832</title>\n<polygon fill=\"none\" points=\"13.5,-2482.5 13.5,-2518.5 355.5,-2518.5 355.5,-2482.5 13.5,-2482.5\" stroke=\"#000000\"/>\n<text fill=\"#000000\" font-family=\"Times,serif\" font-size=\"14.00\" text-anchor=\"middle\" x=\"184.5\" y=\"-2496.8\">Encoder-9-MultiHeadSelfAttention: MultiHeadAttention</text>\n</g>\n<!-- 140688747817616&#45;&gt;140688747816832 -->\n<g class=\"edge\" id=\"edge88\">\n<title>140688747817616-&gt;140688747816832</title>\n<path d=\"M259.0281,-2555.4551C246.4149,-2546.1545 230.8597,-2534.6844 217.2286,-2524.6332\" fill=\"none\" stroke=\"#000000\"/>\n<polygon fill=\"#000000\" points=\"219.1592,-2521.7082 209.0335,-2518.5904 215.0049,-2527.3421 219.1592,-2521.7082\" stroke=\"#000000\"/>\n</g>\n<!-- 140688747443312 -->\n<g class=\"node\" id=\"node75\">\n<title>140688747443312</title>\n<polygon fill=\"none\" points=\"145,-2336.5 145,-2372.5 426,-2372.5 426,-2336.5 145,-2336.5\" stroke=\"#000000\"/>\n<text fill=\"#000000\" font-family=\"Times,serif\" font-size=\"14.00\" text-anchor=\"middle\" x=\"285.5\" y=\"-2350.8\">Encoder-9-MultiHeadSelfAttention-Add: Add</text>\n</g>\n<!-- 140688747817616&#45;&gt;140688747443312 -->\n<g class=\"edge\" id=\"edge90\">\n<title>140688747817616-&gt;140688747443312</title>\n<path d=\"M326.0685,-2555.3804C341.0065,-2546.7 356.1359,-2534.7088 364.5,-2519 372.5894,-2503.8071 370.2511,-2426.9102 360.5,-2409 353.7494,-2396.601 342.8204,-2386.3006 331.3687,-2378.1162\" fill=\"none\" stroke=\"#000000\"/>\n<polygon fill=\"#000000\" points=\"333.2521,-2375.1654 322.99,-2372.531 329.3694,-2380.9899 333.2521,-2375.1654\" stroke=\"#000000\"/>\n</g>\n<!-- 140688747888200 -->\n<g class=\"node\" id=\"node74\">\n<title>140688747888200</title>\n<polygon fill=\"none\" points=\"23,-2409.5 23,-2445.5 352,-2445.5 352,-2409.5 23,-2409.5\" stroke=\"#000000\"/>\n<text fill=\"#000000\" font-family=\"Times,serif\" font-size=\"14.00\" text-anchor=\"middle\" x=\"187.5\" y=\"-2423.8\">Encoder-9-MultiHeadSelfAttention-Dropout: Dropout</text>\n</g>\n<!-- 140688747816832&#45;&gt;140688747888200 -->\n<g class=\"edge\" id=\"edge89\">\n<title>140688747816832-&gt;140688747888200</title>\n<path d=\"M185.2416,-2482.4551C185.5733,-2474.3828 185.9722,-2464.6764 186.3418,-2455.6817\" fill=\"none\" stroke=\"#000000\"/>\n<polygon fill=\"#000000\" points=\"189.8429,-2455.7257 186.7566,-2445.5904 182.8488,-2455.4382 189.8429,-2455.7257\" stroke=\"#000000\"/>\n</g>\n<!-- 140688747888200&#45;&gt;140688747443312 -->\n<g class=\"edge\" id=\"edge91\">\n<title>140688747888200-&gt;140688747443312</title>\n<path d=\"M211.7247,-2409.4551C224.2105,-2400.1545 239.6086,-2388.6844 253.102,-2378.6332\" fill=\"none\" stroke=\"#000000\"/>\n<polygon fill=\"#000000\" points=\"255.2855,-2381.371 261.2143,-2372.5904 251.1039,-2375.7573 255.2855,-2381.371\" stroke=\"#000000\"/>\n</g>\n<!-- 140688747018952 -->\n<g class=\"node\" id=\"node76\">\n<title>140688747018952</title>\n<polygon fill=\"none\" points=\"95.5,-2263.5 95.5,-2299.5 475.5,-2299.5 475.5,-2263.5 95.5,-2263.5\" stroke=\"#000000\"/>\n<text fill=\"#000000\" font-family=\"Times,serif\" font-size=\"14.00\" text-anchor=\"middle\" x=\"285.5\" y=\"-2277.8\">Encoder-9-MultiHeadSelfAttention-Norm: LayerNormalization</text>\n</g>\n<!-- 140688747443312&#45;&gt;140688747018952 -->\n<g class=\"edge\" id=\"edge92\">\n<title>140688747443312-&gt;140688747018952</title>\n<path d=\"M285.5,-2336.4551C285.5,-2328.3828 285.5,-2318.6764 285.5,-2309.6817\" fill=\"none\" stroke=\"#000000\"/>\n<polygon fill=\"#000000\" points=\"289.0001,-2309.5903 285.5,-2299.5904 282.0001,-2309.5904 289.0001,-2309.5903\" stroke=\"#000000\"/>\n</g>\n<!-- 140688747019848 -->\n<g class=\"node\" id=\"node77\">\n<title>140688747019848</title>\n<polygon fill=\"none\" points=\"83.5,-2190.5 83.5,-2226.5 325.5,-2226.5 325.5,-2190.5 83.5,-2190.5\" stroke=\"#000000\"/>\n<text fill=\"#000000\" font-family=\"Times,serif\" font-size=\"14.00\" text-anchor=\"middle\" x=\"204.5\" y=\"-2204.8\">Encoder-9-FeedForward: FeedForward</text>\n</g>\n<!-- 140688747018952&#45;&gt;140688747019848 -->\n<g class=\"edge\" id=\"edge93\">\n<title>140688747018952-&gt;140688747019848</title>\n<path d=\"M265.4775,-2263.4551C255.4498,-2254.4177 243.1491,-2243.3319 232.2286,-2233.4899\" fill=\"none\" stroke=\"#000000\"/>\n<polygon fill=\"#000000\" points=\"234.3444,-2230.6852 224.5729,-2226.5904 229.6581,-2235.885 234.3444,-2230.6852\" stroke=\"#000000\"/>\n</g>\n<!-- 140688746665016 -->\n<g class=\"node\" id=\"node79\">\n<title>140688746665016</title>\n<polygon fill=\"none\" points=\"169.5,-2044.5 169.5,-2080.5 389.5,-2080.5 389.5,-2044.5 169.5,-2044.5\" stroke=\"#000000\"/>\n<text fill=\"#000000\" font-family=\"Times,serif\" font-size=\"14.00\" text-anchor=\"middle\" x=\"279.5\" y=\"-2058.8\">Encoder-9-FeedForward-Add: Add</text>\n</g>\n<!-- 140688747018952&#45;&gt;140688746665016 -->\n<g class=\"edge\" id=\"edge95\">\n<title>140688747018952-&gt;140688746665016</title>\n<path d=\"M307.3471,-2263.291C317.3936,-2253.6134 328.4097,-2240.8624 334.5,-2227 354.2044,-2182.1498 361.6917,-2161.6329 341.5,-2117 336.2852,-2105.4728 327.2939,-2095.4147 317.751,-2087.1833\" fill=\"none\" stroke=\"#000000\"/>\n<polygon fill=\"#000000\" points=\"319.6666,-2084.2331 309.676,-2080.7064 315.2868,-2089.6936 319.6666,-2084.2331\" stroke=\"#000000\"/>\n</g>\n<!-- 140688747109960 -->\n<g class=\"node\" id=\"node78\">\n<title>140688747109960</title>\n<polygon fill=\"none\" points=\"65,-2117.5 65,-2153.5 332,-2153.5 332,-2117.5 65,-2117.5\" stroke=\"#000000\"/>\n<text fill=\"#000000\" font-family=\"Times,serif\" font-size=\"14.00\" text-anchor=\"middle\" x=\"198.5\" y=\"-2131.8\">Encoder-9-FeedForward-Dropout: Dropout</text>\n</g>\n<!-- 140688747019848&#45;&gt;140688747109960 -->\n<g class=\"edge\" id=\"edge94\">\n<title>140688747019848-&gt;140688747109960</title>\n<path d=\"M203.0169,-2190.4551C202.3534,-2182.3828 201.5556,-2172.6764 200.8163,-2163.6817\" fill=\"none\" stroke=\"#000000\"/>\n<polygon fill=\"#000000\" points=\"204.2944,-2163.27 199.9869,-2153.5904 197.3179,-2163.8435 204.2944,-2163.27\" stroke=\"#000000\"/>\n</g>\n<!-- 140688747109960&#45;&gt;140688746665016 -->\n<g class=\"edge\" id=\"edge96\">\n<title>140688747109960-&gt;140688746665016</title>\n<path d=\"M218.5225,-2117.4551C228.5502,-2108.4177 240.8509,-2097.3319 251.7714,-2087.4899\" fill=\"none\" stroke=\"#000000\"/>\n<polygon fill=\"#000000\" points=\"254.3419,-2089.885 259.4271,-2080.5904 249.6556,-2084.6852 254.3419,-2089.885\" stroke=\"#000000\"/>\n</g>\n<!-- 140688746829864 -->\n<g class=\"node\" id=\"node80\">\n<title>140688746829864</title>\n<polygon fill=\"none\" points=\"120.5,-1971.5 120.5,-2007.5 438.5,-2007.5 438.5,-1971.5 120.5,-1971.5\" stroke=\"#000000\"/>\n<text fill=\"#000000\" font-family=\"Times,serif\" font-size=\"14.00\" text-anchor=\"middle\" x=\"279.5\" y=\"-1985.8\">Encoder-9-FeedForward-Norm: LayerNormalization</text>\n</g>\n<!-- 140688746665016&#45;&gt;140688746829864 -->\n<g class=\"edge\" id=\"edge97\">\n<title>140688746665016-&gt;140688746829864</title>\n<path d=\"M279.5,-2044.4551C279.5,-2036.3828 279.5,-2026.6764 279.5,-2017.6817\" fill=\"none\" stroke=\"#000000\"/>\n<polygon fill=\"#000000\" points=\"283.0001,-2017.5903 279.5,-2007.5904 276.0001,-2017.5904 283.0001,-2017.5903\" stroke=\"#000000\"/>\n</g>\n<!-- 140688746829080 -->\n<g class=\"node\" id=\"node81\">\n<title>140688746829080</title>\n<polygon fill=\"none\" points=\"3.5,-1898.5 3.5,-1934.5 353.5,-1934.5 353.5,-1898.5 3.5,-1898.5\" stroke=\"#000000\"/>\n<text fill=\"#000000\" font-family=\"Times,serif\" font-size=\"14.00\" text-anchor=\"middle\" x=\"178.5\" y=\"-1912.8\">Encoder-10-MultiHeadSelfAttention: MultiHeadAttention</text>\n</g>\n<!-- 140688746829864&#45;&gt;140688746829080 -->\n<g class=\"edge\" id=\"edge98\">\n<title>140688746829864-&gt;140688746829080</title>\n<path d=\"M254.5337,-1971.4551C241.6658,-1962.1545 225.7962,-1950.6844 211.8898,-1940.6332\" fill=\"none\" stroke=\"#000000\"/>\n<polygon fill=\"#000000\" points=\"213.6841,-1937.6116 203.5291,-1934.5904 209.5836,-1943.2849 213.6841,-1937.6116\" stroke=\"#000000\"/>\n</g>\n<!-- 140688746426264 -->\n<g class=\"node\" id=\"node83\">\n<title>140688746426264</title>\n<polygon fill=\"none\" points=\"137,-1752.5 137,-1788.5 426,-1788.5 426,-1752.5 137,-1752.5\" stroke=\"#000000\"/>\n<text fill=\"#000000\" font-family=\"Times,serif\" font-size=\"14.00\" text-anchor=\"middle\" x=\"281.5\" y=\"-1766.8\">Encoder-10-MultiHeadSelfAttention-Add: Add</text>\n</g>\n<!-- 140688746829864&#45;&gt;140688746426264 -->\n<g class=\"edge\" id=\"edge100\">\n<title>140688746829864-&gt;140688746426264</title>\n<path d=\"M323.5299,-1971.3618C338.6906,-1962.7299 353.9854,-1950.7771 362.5,-1935 370.6814,-1919.8405 368.4328,-1842.9762 358.5,-1825 351.6163,-1812.542 340.5325,-1802.2616 328.8935,-1794.116\" fill=\"none\" stroke=\"#000000\"/>\n<polygon fill=\"#000000\" points=\"330.6612,-1791.0903 320.3726,-1788.5614 326.8385,-1796.9544 330.6612,-1791.0903\" stroke=\"#000000\"/>\n</g>\n<!-- 140688746899496 -->\n<g class=\"node\" id=\"node82\">\n<title>140688746899496</title>\n<polygon fill=\"none\" points=\"13.5,-1825.5 13.5,-1861.5 349.5,-1861.5 349.5,-1825.5 13.5,-1825.5\" stroke=\"#000000\"/>\n<text fill=\"#000000\" font-family=\"Times,serif\" font-size=\"14.00\" text-anchor=\"middle\" x=\"181.5\" y=\"-1839.8\">Encoder-10-MultiHeadSelfAttention-Dropout: Dropout</text>\n</g>\n<!-- 140688746829080&#45;&gt;140688746899496 -->\n<g class=\"edge\" id=\"edge99\">\n<title>140688746829080-&gt;140688746899496</title>\n<path d=\"M179.2416,-1898.4551C179.5733,-1890.3828 179.9722,-1880.6764 180.3418,-1871.6817\" fill=\"none\" stroke=\"#000000\"/>\n<polygon fill=\"#000000\" points=\"183.8429,-1871.7257 180.7566,-1861.5904 176.8488,-1871.4382 183.8429,-1871.7257\" stroke=\"#000000\"/>\n</g>\n<!-- 140688746899496&#45;&gt;140688746426264 -->\n<g class=\"edge\" id=\"edge101\">\n<title>140688746899496-&gt;140688746426264</title>\n<path d=\"M206.2191,-1825.4551C218.9597,-1816.1545 234.6721,-1804.6844 248.4408,-1794.6332\" fill=\"none\" stroke=\"#000000\"/>\n<polygon fill=\"#000000\" points=\"250.7055,-1797.3134 256.7187,-1788.5904 246.5781,-1791.6596 250.7055,-1797.3134\" stroke=\"#000000\"/>\n</g>\n<!-- 140688746020480 -->\n<g class=\"node\" id=\"node84\">\n<title>140688746020480</title>\n<polygon fill=\"none\" points=\"88,-1679.5 88,-1715.5 475,-1715.5 475,-1679.5 88,-1679.5\" stroke=\"#000000\"/>\n<text fill=\"#000000\" font-family=\"Times,serif\" font-size=\"14.00\" text-anchor=\"middle\" x=\"281.5\" y=\"-1693.8\">Encoder-10-MultiHeadSelfAttention-Norm: LayerNormalization</text>\n</g>\n<!-- 140688746426264&#45;&gt;140688746020480 -->\n<g class=\"edge\" id=\"edge102\">\n<title>140688746426264-&gt;140688746020480</title>\n<path d=\"M281.5,-1752.4551C281.5,-1744.3828 281.5,-1734.6764 281.5,-1725.6817\" fill=\"none\" stroke=\"#000000\"/>\n<polygon fill=\"#000000\" points=\"285.0001,-1725.5903 281.5,-1715.5904 278.0001,-1725.5904 285.0001,-1725.5903\" stroke=\"#000000\"/>\n</g>\n<!-- 140688746019808 -->\n<g class=\"node\" id=\"node85\">\n<title>140688746019808</title>\n<polygon fill=\"none\" points=\"74,-1606.5 74,-1642.5 323,-1642.5 323,-1606.5 74,-1606.5\" stroke=\"#000000\"/>\n<text fill=\"#000000\" font-family=\"Times,serif\" font-size=\"14.00\" text-anchor=\"middle\" x=\"198.5\" y=\"-1620.8\">Encoder-10-FeedForward: FeedForward</text>\n</g>\n<!-- 140688746020480&#45;&gt;140688746019808 -->\n<g class=\"edge\" id=\"edge103\">\n<title>140688746020480-&gt;140688746019808</title>\n<path d=\"M260.9831,-1679.4551C250.608,-1670.3299 237.8584,-1659.1165 226.5877,-1649.2036\" fill=\"none\" stroke=\"#000000\"/>\n<polygon fill=\"#000000\" points=\"228.8889,-1646.5665 219.0685,-1642.5904 224.2659,-1651.8228 228.8889,-1646.5665\" stroke=\"#000000\"/>\n</g>\n<!-- 140688745652064 -->\n<g class=\"node\" id=\"node87\">\n<title>140688745652064</title>\n<polygon fill=\"none\" points=\"162,-1460.5 162,-1496.5 389,-1496.5 389,-1460.5 162,-1460.5\" stroke=\"#000000\"/>\n<text fill=\"#000000\" font-family=\"Times,serif\" font-size=\"14.00\" text-anchor=\"middle\" x=\"275.5\" y=\"-1474.8\">Encoder-10-FeedForward-Add: Add</text>\n</g>\n<!-- 140688746020480&#45;&gt;140688745652064 -->\n<g class=\"edge\" id=\"edge105\">\n<title>140688746020480-&gt;140688745652064</title>\n<path d=\"M303.7102,-1679.3371C313.9414,-1669.6709 325.1891,-1656.916 331.5,-1643 351.745,-1598.358 360.0543,-1577.5004 339.5,-1533 334.0436,-1521.1867 324.6242,-1510.9911 314.6643,-1502.7193\" fill=\"none\" stroke=\"#000000\"/>\n<polygon fill=\"#000000\" points=\"316.678,-1499.8521 306.6262,-1496.5038 312.396,-1505.3897 316.678,-1499.8521\" stroke=\"#000000\"/>\n</g>\n<!-- 140688746106384 -->\n<g class=\"node\" id=\"node86\">\n<title>140688746106384</title>\n<polygon fill=\"none\" points=\"55,-1533.5 55,-1569.5 330,-1569.5 330,-1533.5 55,-1533.5\" stroke=\"#000000\"/>\n<text fill=\"#000000\" font-family=\"Times,serif\" font-size=\"14.00\" text-anchor=\"middle\" x=\"192.5\" y=\"-1547.8\">Encoder-10-FeedForward-Dropout: Dropout</text>\n</g>\n<!-- 140688746019808&#45;&gt;140688746106384 -->\n<g class=\"edge\" id=\"edge104\">\n<title>140688746019808-&gt;140688746106384</title>\n<path d=\"M197.0169,-1606.4551C196.3534,-1598.3828 195.5556,-1588.6764 194.8163,-1579.6817\" fill=\"none\" stroke=\"#000000\"/>\n<polygon fill=\"#000000\" points=\"198.2944,-1579.27 193.9869,-1569.5904 191.3179,-1579.8435 198.2944,-1579.27\" stroke=\"#000000\"/>\n</g>\n<!-- 140688746106384&#45;&gt;140688745652064 -->\n<g class=\"edge\" id=\"edge106\">\n<title>140688746106384-&gt;140688745652064</title>\n<path d=\"M213.0169,-1533.4551C223.392,-1524.3299 236.1416,-1513.1165 247.4123,-1503.2036\" fill=\"none\" stroke=\"#000000\"/>\n<polygon fill=\"#000000\" points=\"249.7341,-1505.8228 254.9315,-1496.5904 245.1111,-1500.5665 249.7341,-1505.8228\" stroke=\"#000000\"/>\n</g>\n<!-- 140688755674920 -->\n<g class=\"node\" id=\"node88\">\n<title>140688755674920</title>\n<polygon fill=\"none\" points=\"112.5,-1387.5 112.5,-1423.5 438.5,-1423.5 438.5,-1387.5 112.5,-1387.5\" stroke=\"#000000\"/>\n<text fill=\"#000000\" font-family=\"Times,serif\" font-size=\"14.00\" text-anchor=\"middle\" x=\"275.5\" y=\"-1401.8\">Encoder-10-FeedForward-Norm: LayerNormalization</text>\n</g>\n<!-- 140688745652064&#45;&gt;140688755674920 -->\n<g class=\"edge\" id=\"edge107\">\n<title>140688745652064-&gt;140688755674920</title>\n<path d=\"M275.5,-1460.4551C275.5,-1452.3828 275.5,-1442.6764 275.5,-1433.6817\" fill=\"none\" stroke=\"#000000\"/>\n<polygon fill=\"#000000\" points=\"279.0001,-1433.5903 275.5,-1423.5904 272.0001,-1433.5904 279.0001,-1433.5903\" stroke=\"#000000\"/>\n</g>\n<!-- 140688755674080 -->\n<g class=\"node\" id=\"node89\">\n<title>140688755674080</title>\n<polygon fill=\"none\" points=\"0,-1314.5 0,-1350.5 349,-1350.5 349,-1314.5 0,-1314.5\" stroke=\"#000000\"/>\n<text fill=\"#000000\" font-family=\"Times,serif\" font-size=\"14.00\" text-anchor=\"middle\" x=\"174.5\" y=\"-1328.8\">Encoder-11-MultiHeadSelfAttention: MultiHeadAttention</text>\n</g>\n<!-- 140688755674920&#45;&gt;140688755674080 -->\n<g class=\"edge\" id=\"edge108\">\n<title>140688755674920-&gt;140688755674080</title>\n<path d=\"M250.5337,-1387.4551C237.6658,-1378.1545 221.7962,-1366.6844 207.8898,-1356.6332\" fill=\"none\" stroke=\"#000000\"/>\n<polygon fill=\"#000000\" points=\"209.6841,-1353.6116 199.5291,-1350.5904 205.5836,-1359.2849 209.6841,-1353.6116\" stroke=\"#000000\"/>\n</g>\n<!-- 140688745840592 -->\n<g class=\"node\" id=\"node91\">\n<title>140688745840592</title>\n<polygon fill=\"none\" points=\"133.5,-1168.5 133.5,-1204.5 421.5,-1204.5 421.5,-1168.5 133.5,-1168.5\" stroke=\"#000000\"/>\n<text fill=\"#000000\" font-family=\"Times,serif\" font-size=\"14.00\" text-anchor=\"middle\" x=\"277.5\" y=\"-1182.8\">Encoder-11-MultiHeadSelfAttention-Add: Add</text>\n</g>\n<!-- 140688755674920&#45;&gt;140688745840592 -->\n<g class=\"edge\" id=\"edge110\">\n<title>140688755674920-&gt;140688745840592</title>\n<path d=\"M319.5299,-1387.3618C334.6906,-1378.7299 349.9854,-1366.7771 358.5,-1351 366.6814,-1335.8405 364.4328,-1258.9762 354.5,-1241 347.6163,-1228.542 336.5325,-1218.2616 324.8935,-1210.116\" fill=\"none\" stroke=\"#000000\"/>\n<polygon fill=\"#000000\" points=\"326.6612,-1207.0903 316.3726,-1204.5614 322.8385,-1212.9544 326.6612,-1207.0903\" stroke=\"#000000\"/>\n</g>\n<!-- 140688745780784 -->\n<g class=\"node\" id=\"node90\">\n<title>140688745780784</title>\n<polygon fill=\"none\" points=\"10,-1241.5 10,-1277.5 345,-1277.5 345,-1241.5 10,-1241.5\" stroke=\"#000000\"/>\n<text fill=\"#000000\" font-family=\"Times,serif\" font-size=\"14.00\" text-anchor=\"middle\" x=\"177.5\" y=\"-1255.8\">Encoder-11-MultiHeadSelfAttention-Dropout: Dropout</text>\n</g>\n<!-- 140688755674080&#45;&gt;140688745780784 -->\n<g class=\"edge\" id=\"edge109\">\n<title>140688755674080-&gt;140688745780784</title>\n<path d=\"M175.2416,-1314.4551C175.5733,-1306.3828 175.9722,-1296.6764 176.3418,-1287.6817\" fill=\"none\" stroke=\"#000000\"/>\n<polygon fill=\"#000000\" points=\"179.8429,-1287.7257 176.7566,-1277.5904 172.8488,-1287.4382 179.8429,-1287.7257\" stroke=\"#000000\"/>\n</g>\n<!-- 140688745780784&#45;&gt;140688745840592 -->\n<g class=\"edge\" id=\"edge111\">\n<title>140688745780784-&gt;140688745840592</title>\n<path d=\"M202.2191,-1241.4551C214.9597,-1232.1545 230.6721,-1220.6844 244.4408,-1210.6332\" fill=\"none\" stroke=\"#000000\"/>\n<polygon fill=\"#000000\" points=\"246.7055,-1213.3134 252.7187,-1204.5904 242.5781,-1207.6596 246.7055,-1213.3134\" stroke=\"#000000\"/>\n</g>\n<!-- 140688744918544 -->\n<g class=\"node\" id=\"node92\">\n<title>140688744918544</title>\n<polygon fill=\"none\" points=\"84.5,-1095.5 84.5,-1131.5 470.5,-1131.5 470.5,-1095.5 84.5,-1095.5\" stroke=\"#000000\"/>\n<text fill=\"#000000\" font-family=\"Times,serif\" font-size=\"14.00\" text-anchor=\"middle\" x=\"277.5\" y=\"-1109.8\">Encoder-11-MultiHeadSelfAttention-Norm: LayerNormalization</text>\n</g>\n<!-- 140688745840592&#45;&gt;140688744918544 -->\n<g class=\"edge\" id=\"edge112\">\n<title>140688745840592-&gt;140688744918544</title>\n<path d=\"M277.5,-1168.4551C277.5,-1160.3828 277.5,-1150.6764 277.5,-1141.6817\" fill=\"none\" stroke=\"#000000\"/>\n<polygon fill=\"#000000\" points=\"281.0001,-1141.5903 277.5,-1131.5904 274.0001,-1141.5904 281.0001,-1141.5903\" stroke=\"#000000\"/>\n</g>\n<!-- 140688744917312 -->\n<g class=\"node\" id=\"node93\">\n<title>140688744917312</title>\n<polygon fill=\"none\" points=\"77.5,-1022.5 77.5,-1058.5 325.5,-1058.5 325.5,-1022.5 77.5,-1022.5\" stroke=\"#000000\"/>\n<text fill=\"#000000\" font-family=\"Times,serif\" font-size=\"14.00\" text-anchor=\"middle\" x=\"201.5\" y=\"-1036.8\">Encoder-11-FeedForward: FeedForward</text>\n</g>\n<!-- 140688744918544&#45;&gt;140688744917312 -->\n<g class=\"edge\" id=\"edge113\">\n<title>140688744918544-&gt;140688744917312</title>\n<path d=\"M258.7135,-1095.4551C249.3961,-1086.5054 237.9873,-1075.547 227.8157,-1065.7769\" fill=\"none\" stroke=\"#000000\"/>\n<polygon fill=\"#000000\" points=\"229.9704,-1062.9935 220.3338,-1058.5904 225.1212,-1068.0419 229.9704,-1062.9935\" stroke=\"#000000\"/>\n</g>\n<!-- 140688745058256 -->\n<g class=\"node\" id=\"node95\">\n<title>140688745058256</title>\n<polygon fill=\"none\" points=\"163,-876.5 163,-912.5 390,-912.5 390,-876.5 163,-876.5\" stroke=\"#000000\"/>\n<text fill=\"#000000\" font-family=\"Times,serif\" font-size=\"14.00\" text-anchor=\"middle\" x=\"276.5\" y=\"-890.8\">Encoder-11-FeedForward-Add: Add</text>\n</g>\n<!-- 140688744918544&#45;&gt;140688745058256 -->\n<g class=\"edge\" id=\"edge115\">\n<title>140688744918544-&gt;140688745058256</title>\n<path d=\"M303.8634,-1095.2916C315.3206,-1085.8699 327.6647,-1073.3358 334.5,-1059 355.572,-1014.8049 361.0306,-993.4492 340.5,-949 335.0436,-937.1867 325.6242,-926.9911 315.6643,-918.7193\" fill=\"none\" stroke=\"#000000\"/>\n<polygon fill=\"#000000\" points=\"317.678,-915.8521 307.6262,-912.5038 313.396,-921.3897 317.678,-915.8521\" stroke=\"#000000\"/>\n</g>\n<!-- 140688745010624 -->\n<g class=\"node\" id=\"node94\">\n<title>140688745010624</title>\n<polygon fill=\"none\" points=\"57.5,-949.5 57.5,-985.5 331.5,-985.5 331.5,-949.5 57.5,-949.5\" stroke=\"#000000\"/>\n<text fill=\"#000000\" font-family=\"Times,serif\" font-size=\"14.00\" text-anchor=\"middle\" x=\"194.5\" y=\"-963.8\">Encoder-11-FeedForward-Dropout: Dropout</text>\n</g>\n<!-- 140688744917312&#45;&gt;140688745010624 -->\n<g class=\"edge\" id=\"edge114\">\n<title>140688744917312-&gt;140688745010624</title>\n<path d=\"M199.7697,-1022.4551C198.9956,-1014.3828 198.0649,-1004.6764 197.2024,-995.6817\" fill=\"none\" stroke=\"#000000\"/>\n<polygon fill=\"#000000\" points=\"200.6733,-995.2106 196.2347,-985.5904 193.7053,-995.8788 200.6733,-995.2106\" stroke=\"#000000\"/>\n</g>\n<!-- 140688745010624&#45;&gt;140688745058256 -->\n<g class=\"edge\" id=\"edge116\">\n<title>140688745010624-&gt;140688745058256</title>\n<path d=\"M214.7697,-949.4551C224.9212,-940.4177 237.3738,-929.3319 248.4291,-919.4899\" fill=\"none\" stroke=\"#000000\"/>\n<polygon fill=\"#000000\" points=\"251.0375,-921.8539 256.1793,-912.5904 246.383,-916.6255 251.0375,-921.8539\" stroke=\"#000000\"/>\n</g>\n<!-- 140688744711560 -->\n<g class=\"node\" id=\"node96\">\n<title>140688744711560</title>\n<polygon fill=\"none\" points=\"114,-803.5 114,-839.5 439,-839.5 439,-803.5 114,-803.5\" stroke=\"#000000\"/>\n<text fill=\"#000000\" font-family=\"Times,serif\" font-size=\"14.00\" text-anchor=\"middle\" x=\"276.5\" y=\"-817.8\">Encoder-11-FeedForward-Norm: LayerNormalization</text>\n</g>\n<!-- 140688745058256&#45;&gt;140688744711560 -->\n<g class=\"edge\" id=\"edge117\">\n<title>140688745058256-&gt;140688744711560</title>\n<path d=\"M276.5,-876.4551C276.5,-868.3828 276.5,-858.6764 276.5,-849.6817\" fill=\"none\" stroke=\"#000000\"/>\n<polygon fill=\"#000000\" points=\"280.0001,-849.5903 276.5,-839.5904 273.0001,-849.5904 280.0001,-849.5903\" stroke=\"#000000\"/>\n</g>\n<!-- 140688744771368 -->\n<g class=\"node\" id=\"node97\">\n<title>140688744771368</title>\n<polygon fill=\"none\" points=\".5,-730.5 .5,-766.5 350.5,-766.5 350.5,-730.5 .5,-730.5\" stroke=\"#000000\"/>\n<text fill=\"#000000\" font-family=\"Times,serif\" font-size=\"14.00\" text-anchor=\"middle\" x=\"175.5\" y=\"-744.8\">Encoder-12-MultiHeadSelfAttention: MultiHeadAttention</text>\n</g>\n<!-- 140688744711560&#45;&gt;140688744771368 -->\n<g class=\"edge\" id=\"edge118\">\n<title>140688744711560-&gt;140688744771368</title>\n<path d=\"M251.5337,-803.4551C238.6658,-794.1545 222.7962,-782.6844 208.8898,-772.6332\" fill=\"none\" stroke=\"#000000\"/>\n<polygon fill=\"#000000\" points=\"210.6841,-769.6116 200.5291,-766.5904 206.5836,-775.2849 210.6841,-769.6116\" stroke=\"#000000\"/>\n</g>\n<!-- 140688744336800 -->\n<g class=\"node\" id=\"node99\">\n<title>140688744336800</title>\n<polygon fill=\"none\" points=\"134,-584.5 134,-620.5 423,-620.5 423,-584.5 134,-584.5\" stroke=\"#000000\"/>\n<text fill=\"#000000\" font-family=\"Times,serif\" font-size=\"14.00\" text-anchor=\"middle\" x=\"278.5\" y=\"-598.8\">Encoder-12-MultiHeadSelfAttention-Add: Add</text>\n</g>\n<!-- 140688744711560&#45;&gt;140688744336800 -->\n<g class=\"edge\" id=\"edge120\">\n<title>140688744711560-&gt;140688744336800</title>\n<path d=\"M320.5299,-803.3618C335.6906,-794.7299 350.9854,-782.7771 359.5,-767 367.6814,-751.8405 365.4328,-674.9762 355.5,-657 348.6163,-644.542 337.5325,-634.2616 325.8935,-626.116\" fill=\"none\" stroke=\"#000000\"/>\n<polygon fill=\"#000000\" points=\"327.6612,-623.0903 317.3726,-620.5614 323.8385,-628.9544 327.6612,-623.0903\" stroke=\"#000000\"/>\n</g>\n<!-- 140688744797408 -->\n<g class=\"node\" id=\"node98\">\n<title>140688744797408</title>\n<polygon fill=\"none\" points=\"10.5,-657.5 10.5,-693.5 346.5,-693.5 346.5,-657.5 10.5,-657.5\" stroke=\"#000000\"/>\n<text fill=\"#000000\" font-family=\"Times,serif\" font-size=\"14.00\" text-anchor=\"middle\" x=\"178.5\" y=\"-671.8\">Encoder-12-MultiHeadSelfAttention-Dropout: Dropout</text>\n</g>\n<!-- 140688744771368&#45;&gt;140688744797408 -->\n<g class=\"edge\" id=\"edge119\">\n<title>140688744771368-&gt;140688744797408</title>\n<path d=\"M176.2416,-730.4551C176.5733,-722.3828 176.9722,-712.6764 177.3418,-703.6817\" fill=\"none\" stroke=\"#000000\"/>\n<polygon fill=\"#000000\" points=\"180.8429,-703.7257 177.7566,-693.5904 173.8488,-703.4382 180.8429,-703.7257\" stroke=\"#000000\"/>\n</g>\n<!-- 140688744797408&#45;&gt;140688744336800 -->\n<g class=\"edge\" id=\"edge121\">\n<title>140688744797408-&gt;140688744336800</title>\n<path d=\"M203.2191,-657.4551C215.9597,-648.1545 231.6721,-636.6844 245.4408,-626.6332\" fill=\"none\" stroke=\"#000000\"/>\n<polygon fill=\"#000000\" points=\"247.7055,-629.3134 253.7187,-620.5904 243.5781,-623.6596 247.7055,-629.3134\" stroke=\"#000000\"/>\n</g>\n<!-- 140688743931632 -->\n<g class=\"node\" id=\"node100\">\n<title>140688743931632</title>\n<polygon fill=\"none\" points=\"85,-511.5 85,-547.5 472,-547.5 472,-511.5 85,-511.5\" stroke=\"#000000\"/>\n<text fill=\"#000000\" font-family=\"Times,serif\" font-size=\"14.00\" text-anchor=\"middle\" x=\"278.5\" y=\"-525.8\">Encoder-12-MultiHeadSelfAttention-Norm: LayerNormalization</text>\n</g>\n<!-- 140688744336800&#45;&gt;140688743931632 -->\n<g class=\"edge\" id=\"edge122\">\n<title>140688744336800-&gt;140688743931632</title>\n<path d=\"M278.5,-584.4551C278.5,-576.3828 278.5,-566.6764 278.5,-557.6817\" fill=\"none\" stroke=\"#000000\"/>\n<polygon fill=\"#000000\" points=\"282.0001,-557.5903 278.5,-547.5904 275.0001,-557.5904 282.0001,-557.5903\" stroke=\"#000000\"/>\n</g>\n<!-- 140688743980840 -->\n<g class=\"node\" id=\"node101\">\n<title>140688743980840</title>\n<polygon fill=\"none\" points=\"71,-438.5 71,-474.5 320,-474.5 320,-438.5 71,-438.5\" stroke=\"#000000\"/>\n<text fill=\"#000000\" font-family=\"Times,serif\" font-size=\"14.00\" text-anchor=\"middle\" x=\"195.5\" y=\"-452.8\">Encoder-12-FeedForward: FeedForward</text>\n</g>\n<!-- 140688743931632&#45;&gt;140688743980840 -->\n<g class=\"edge\" id=\"edge123\">\n<title>140688743931632-&gt;140688743980840</title>\n<path d=\"M257.9831,-511.4551C247.608,-502.3299 234.8584,-491.1165 223.5877,-481.2036\" fill=\"none\" stroke=\"#000000\"/>\n<polygon fill=\"#000000\" points=\"225.8889,-478.5665 216.0685,-474.5904 221.2659,-483.8228 225.8889,-478.5665\" stroke=\"#000000\"/>\n</g>\n<!-- 140688743558504 -->\n<g class=\"node\" id=\"node103\">\n<title>140688743558504</title>\n<polygon fill=\"none\" points=\"159,-292.5 159,-328.5 386,-328.5 386,-292.5 159,-292.5\" stroke=\"#000000\"/>\n<text fill=\"#000000\" font-family=\"Times,serif\" font-size=\"14.00\" text-anchor=\"middle\" x=\"272.5\" y=\"-306.8\">Encoder-12-FeedForward-Add: Add</text>\n</g>\n<!-- 140688743931632&#45;&gt;140688743558504 -->\n<g class=\"edge\" id=\"edge125\">\n<title>140688743931632-&gt;140688743558504</title>\n<path d=\"M300.7102,-511.3371C310.9414,-501.6709 322.1891,-488.916 328.5,-475 348.745,-430.358 357.0543,-409.5004 336.5,-365 331.0436,-353.1867 321.6242,-342.9911 311.6643,-334.7193\" fill=\"none\" stroke=\"#000000\"/>\n<polygon fill=\"#000000\" points=\"313.678,-331.8521 303.6262,-328.5038 309.396,-337.3897 313.678,-331.8521\" stroke=\"#000000\"/>\n</g>\n<!-- 140688744023152 -->\n<g class=\"node\" id=\"node102\">\n<title>140688744023152</title>\n<polygon fill=\"none\" points=\"52,-365.5 52,-401.5 327,-401.5 327,-365.5 52,-365.5\" stroke=\"#000000\"/>\n<text fill=\"#000000\" font-family=\"Times,serif\" font-size=\"14.00\" text-anchor=\"middle\" x=\"189.5\" y=\"-379.8\">Encoder-12-FeedForward-Dropout: Dropout</text>\n</g>\n<!-- 140688743980840&#45;&gt;140688744023152 -->\n<g class=\"edge\" id=\"edge124\">\n<title>140688743980840-&gt;140688744023152</title>\n<path d=\"M194.0169,-438.4551C193.3534,-430.3828 192.5556,-420.6764 191.8163,-411.6817\" fill=\"none\" stroke=\"#000000\"/>\n<polygon fill=\"#000000\" points=\"195.2944,-411.27 190.9869,-401.5904 188.3179,-411.8435 195.2944,-411.27\" stroke=\"#000000\"/>\n</g>\n<!-- 140688744023152&#45;&gt;140688743558504 -->\n<g class=\"edge\" id=\"edge126\">\n<title>140688744023152-&gt;140688743558504</title>\n<path d=\"M210.0169,-365.4551C220.392,-356.3299 233.1416,-345.1165 244.4123,-335.2036\" fill=\"none\" stroke=\"#000000\"/>\n<polygon fill=\"#000000\" points=\"246.7341,-337.8228 251.9315,-328.5904 242.1111,-332.5665 246.7341,-337.8228\" stroke=\"#000000\"/>\n</g>\n<!-- 140688743726496 -->\n<g class=\"node\" id=\"node104\">\n<title>140688743726496</title>\n<polygon fill=\"none\" points=\"109.5,-219.5 109.5,-255.5 435.5,-255.5 435.5,-219.5 109.5,-219.5\" stroke=\"#000000\"/>\n<text fill=\"#000000\" font-family=\"Times,serif\" font-size=\"14.00\" text-anchor=\"middle\" x=\"272.5\" y=\"-233.8\">Encoder-12-FeedForward-Norm: LayerNormalization</text>\n</g>\n<!-- 140688743558504&#45;&gt;140688743726496 -->\n<g class=\"edge\" id=\"edge127\">\n<title>140688743558504-&gt;140688743726496</title>\n<path d=\"M272.5,-292.4551C272.5,-284.3828 272.5,-274.6764 272.5,-265.6817\" fill=\"none\" stroke=\"#000000\"/>\n<polygon fill=\"#000000\" points=\"276.0001,-265.5903 272.5,-255.5904 269.0001,-265.5904 276.0001,-265.5903\" stroke=\"#000000\"/>\n</g>\n<!-- 140688743481296 -->\n<g class=\"node\" id=\"node105\">\n<title>140688743481296</title>\n<polygon fill=\"none\" points=\"220,-146.5 220,-182.5 325,-182.5 325,-146.5 220,-146.5\" stroke=\"#000000\"/>\n<text fill=\"#000000\" font-family=\"Times,serif\" font-size=\"14.00\" text-anchor=\"middle\" x=\"272.5\" y=\"-160.8\">Extract: Extract</text>\n</g>\n<!-- 140688743726496&#45;&gt;140688743481296 -->\n<g class=\"edge\" id=\"edge128\">\n<title>140688743726496-&gt;140688743481296</title>\n<path d=\"M272.5,-219.4551C272.5,-211.3828 272.5,-201.6764 272.5,-192.6817\" fill=\"none\" stroke=\"#000000\"/>\n<polygon fill=\"#000000\" points=\"276.0001,-192.5903 272.5,-182.5904 269.0001,-192.5904 276.0001,-192.5903\" stroke=\"#000000\"/>\n</g>\n<!-- 140688743064744 -->\n<g class=\"node\" id=\"node106\">\n<title>140688743064744</title>\n<polygon fill=\"none\" points=\"209.5,-73.5 209.5,-109.5 335.5,-109.5 335.5,-73.5 209.5,-73.5\" stroke=\"#000000\"/>\n<text fill=\"#000000\" font-family=\"Times,serif\" font-size=\"14.00\" text-anchor=\"middle\" x=\"272.5\" y=\"-87.8\">NSP-Dense: Dense</text>\n</g>\n<!-- 140688743481296&#45;&gt;140688743064744 -->\n<g class=\"edge\" id=\"edge129\">\n<title>140688743481296-&gt;140688743064744</title>\n<path d=\"M272.5,-146.4551C272.5,-138.3828 272.5,-128.6764 272.5,-119.6817\" fill=\"none\" stroke=\"#000000\"/>\n<polygon fill=\"#000000\" points=\"276.0001,-119.5903 272.5,-109.5904 269.0001,-119.5904 276.0001,-119.5903\" stroke=\"#000000\"/>\n</g>\n<!-- 140688765791816 -->\n<g class=\"node\" id=\"node107\">\n<title>140688765791816</title>\n<polygon fill=\"none\" points=\"210,-.5 210,-36.5 335,-36.5 335,-.5 210,-.5\" stroke=\"#000000\"/>\n<text fill=\"#000000\" font-family=\"Times,serif\" font-size=\"14.00\" text-anchor=\"middle\" x=\"272.5\" y=\"-14.8\">real_output: Dense</text>\n</g>\n<!-- 140688743064744&#45;&gt;140688765791816 -->\n<g class=\"edge\" id=\"edge130\">\n<title>140688743064744-&gt;140688765791816</title>\n<path d=\"M272.5,-73.4551C272.5,-65.3828 272.5,-55.6764 272.5,-46.6817\" fill=\"none\" stroke=\"#000000\"/>\n<polygon fill=\"#000000\" points=\"276.0001,-46.5903 272.5,-36.5904 269.0001,-46.5904 276.0001,-46.5903\" stroke=\"#000000\"/>\n</g>\n</g>\n</svg>"
          },
          "metadata": {
            "tags": []
          },
          "execution_count": 21
        }
      ]
    },
    {
      "cell_type": "code",
      "metadata": {
        "id": "1xgQgqu8WH0y",
        "colab_type": "code",
        "colab": {
          "base_uri": "https://localhost:8080/",
          "height": 127
        },
        "outputId": "665f4215-d646-47a7-cb22-8d3b1d7a61c8"
      },
      "source": [
        "# bert_model을 get_bert_finetuning_model함수로 불러오고\n",
        "# bert_model.fit으로 파인튜닝\n",
        "# 실시간 정확도 체크- validation_data = (test_x, test_y)\n",
        "sess = K.get_session()\n",
        "uninitialized_variables = set([i.decode('ascii') for i in sess.run(tf.report_uninitialized_variables())])\n",
        "init = tf.variables_initializer([v for v in tf.global_variables() if v.name.split(':')[0] in uninitialized_variables])\n",
        "sess.run(init)\n",
        "\n",
        "bert_model = get_bert_finetuning_model(model)\n",
        "history = bert_model.fit(train_x, train_y, epochs=2, batch_size=32, verbose = 1, validation_data=(test_x, test_y), shuffle=True)\n",
        "\n",
        "bert_model.save_weights(\"/content/drive/My Drive/data/bert/bert.h5\")\n"
      ],
      "execution_count": 38,
      "outputs": [
        {
          "output_type": "stream",
          "text": [
            "Train on 150000 samples, validate on 50000 samples\n",
            "Epoch 1/2\n",
            "150000/150000 [==============================] - 4963s 33ms/step - loss: 0.3820 - acc: 0.8232 - val_loss: 0.3149 - val_acc: 0.8646\n",
            "Epoch 2/2\n",
            "150000/150000 [==============================] - 4954s 33ms/step - loss: 0.2785 - acc: 0.8817 - val_loss: 0.2880 - val_acc: 0.8765\n"
          ],
          "name": "stdout"
        }
      ]
    },
    {
      "cell_type": "code",
      "metadata": {
        "id": "0Q_i5og7XSzT",
        "colab_type": "code",
        "colab": {}
      },
      "source": [
        "# 모델 로드\n",
        "bert_model = get_bert_finetuning_model(model)\n",
        "bert_model.load_weights(\"/content/drive/My Drive/data/bert/bert.h5\")"
      ],
      "execution_count": 0,
      "outputs": []
    },
    {
      "cell_type": "code",
      "metadata": {
        "id": "Mob0N6Cg53JN",
        "colab_type": "code",
        "colab": {}
      },
      "source": [
        "# 테스트 데이터를 버트 모형에 넣을 수 있게 해주는 predict_convert_data 함수\n",
        "# convert_data 함수와 다른 점 : test 데이터이므로 label은 고려하지 않음\n",
        "def predict_convert_data(data_df):\n",
        "    global tokenizer\n",
        "    indices = []\n",
        "    for i in tqdm(range(len(data_df))):\n",
        "        ids, segments = tokenizer.encode(data_df[DATA_COLUMN][i], max_len=SEQ_LEN)\n",
        "        indices.append(ids)\n",
        "        \n",
        "    items = indices\n",
        "    indices = np.array(indices)\n",
        "    return [indices, np.zeros_like(indices)]\n",
        "\n",
        "def predict_load_data(x): #Pandas Dataframe을 인풋으로 받는다\n",
        "    data_df = x\n",
        "    data_df[DATA_COLUMN] = data_df[DATA_COLUMN].astype(str)\n",
        "    data_x = predict_convert_data(data_df)\n",
        "    return data_x"
      ],
      "execution_count": 0,
      "outputs": []
    },
    {
      "cell_type": "code",
      "metadata": {
        "id": "BL94Gb-N56Eb",
        "colab_type": "code",
        "colab": {
          "base_uri": "https://localhost:8080/",
          "height": 287
        },
        "outputId": "d199e3fc-8159-483b-fd34-90517cfdec59"
      },
      "source": [
        "test_set = predict_load_data(test)\n",
        "test_set"
      ],
      "execution_count": 41,
      "outputs": [
        {
          "output_type": "stream",
          "text": [
            "100%|██████████| 50000/50000 [00:05<00:00, 8687.36it/s]\n"
          ],
          "name": "stderr"
        },
        {
          "output_type": "execute_result",
          "data": {
            "text/plain": [
              "[array([[  101,  8911,   100, ...,     0,     0,     0],\n",
              "        [  101,   175, 54998, ...,     0,     0,     0],\n",
              "        [  101,  9303, 21711, ...,     0,     0,     0],\n",
              "        ...,\n",
              "        [  101,  8924, 67527, ...,     0,     0,     0],\n",
              "        [  101,  9666, 14423, ...,     0,     0,     0],\n",
              "        [  101,  9246, 32537, ...,     0,     0,     0]]),\n",
              " array([[0, 0, 0, ..., 0, 0, 0],\n",
              "        [0, 0, 0, ..., 0, 0, 0],\n",
              "        [0, 0, 0, ..., 0, 0, 0],\n",
              "        ...,\n",
              "        [0, 0, 0, ..., 0, 0, 0],\n",
              "        [0, 0, 0, ..., 0, 0, 0],\n",
              "        [0, 0, 0, ..., 0, 0, 0]])]"
            ]
          },
          "metadata": {
            "tags": []
          },
          "execution_count": 41
        }
      ]
    },
    {
      "cell_type": "code",
      "metadata": {
        "id": "u1njiz5757ME",
        "colab_type": "code",
        "colab": {
          "base_uri": "https://localhost:8080/",
          "height": 143
        },
        "outputId": "484d52dd-71e4-44eb-ecf5-f2c58c5ac5ad"
      },
      "source": [
        "# 테스트 셋으로 예측\n",
        "preds = bert_model.predict(test_set)\n",
        "preds"
      ],
      "execution_count": 42,
      "outputs": [
        {
          "output_type": "execute_result",
          "data": {
            "text/plain": [
              "array([[0.9489363 ],\n",
              "       [0.75163645],\n",
              "       [0.5094843 ],\n",
              "       ...,\n",
              "       [0.09614214],\n",
              "       [0.00762698],\n",
              "       [0.38541776]], dtype=float32)"
            ]
          },
          "metadata": {
            "tags": []
          },
          "execution_count": 42
        }
      ]
    },
    {
      "cell_type": "code",
      "metadata": {
        "id": "0zpRIVg96EMW",
        "colab_type": "code",
        "colab": {
          "base_uri": "https://localhost:8080/",
          "height": 179
        },
        "outputId": "8c1ab4a2-42ac-4e75-8156-bacbba22136d"
      },
      "source": [
        "from sklearn.metrics import classification_report\n",
        "y_true = test['label']\n",
        "# F1 Score 확인\n",
        "print(classification_report(y_true, np.round(preds,0)))"
      ],
      "execution_count": 43,
      "outputs": [
        {
          "output_type": "stream",
          "text": [
            "              precision    recall  f1-score   support\n",
            "\n",
            "           0       0.89      0.86      0.87     24827\n",
            "           1       0.86      0.90      0.88     25173\n",
            "\n",
            "    accuracy                           0.88     50000\n",
            "   macro avg       0.88      0.88      0.88     50000\n",
            "weighted avg       0.88      0.88      0.88     50000\n",
            "\n"
          ],
          "name": "stdout"
        }
      ]
    }
  ]
}